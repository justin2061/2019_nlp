{
 "cells": [
  {
   "cell_type": "code",
   "execution_count": 1,
   "metadata": {},
   "outputs": [
    {
     "name": "stdout",
     "output_type": "stream",
     "text": [
      "Requirement already up-to-date: google-auth in /opt/conda/lib/python3.7/site-packages (1.24.0)\n",
      "Requirement already satisfied, skipping upgrade: setuptools>=40.3.0 in /opt/conda/lib/python3.7/site-packages (from google-auth) (47.3.1.post20200616)\n",
      "Requirement already satisfied, skipping upgrade: pyasn1-modules>=0.2.1 in /opt/conda/lib/python3.7/site-packages (from google-auth) (0.2.8)\n",
      "Requirement already satisfied, skipping upgrade: six>=1.9.0 in /opt/conda/lib/python3.7/site-packages (from google-auth) (1.15.0)\n",
      "Requirement already satisfied, skipping upgrade: cachetools<5.0,>=2.0.0 in /opt/conda/lib/python3.7/site-packages (from google-auth) (4.1.0)\n",
      "Requirement already satisfied, skipping upgrade: rsa<5,>=3.1.4; python_version >= \"3.6\" in /opt/conda/lib/python3.7/site-packages (from google-auth) (4.6)\n",
      "Requirement already satisfied, skipping upgrade: pyasn1<0.5.0,>=0.4.6 in /opt/conda/lib/python3.7/site-packages (from pyasn1-modules>=0.2.1->google-auth) (0.4.8)\n"
     ]
    }
   ],
   "source": [
    "!pip install --upgrade google-auth "
   ]
  },
  {
   "cell_type": "code",
   "execution_count": 2,
   "metadata": {},
   "outputs": [
    {
     "name": "stdout",
     "output_type": "stream",
     "text": [
      "Requirement already up-to-date: absl-py in /opt/conda/lib/python3.7/site-packages (0.11.0)\r\n",
      "Requirement already satisfied, skipping upgrade: six in /opt/conda/lib/python3.7/site-packages (from absl-py) (1.15.0)\r\n"
     ]
    }
   ],
   "source": [
    "!pip install --upgrade absl-py"
   ]
  },
  {
   "cell_type": "code",
   "execution_count": 3,
   "metadata": {},
   "outputs": [
    {
     "name": "stdout",
     "output_type": "stream",
     "text": [
      "Requirement already up-to-date: protobuf in /opt/conda/lib/python3.7/site-packages (3.14.0)\r\n",
      "Requirement already satisfied, skipping upgrade: six>=1.9 in /opt/conda/lib/python3.7/site-packages (from protobuf) (1.15.0)\r\n"
     ]
    }
   ],
   "source": [
    "!pip install --upgrade protobuf"
   ]
  },
  {
   "cell_type": "code",
   "execution_count": 4,
   "metadata": {},
   "outputs": [],
   "source": [
    "!pip install --upgrade -q tensorflow"
   ]
  },
  {
   "cell_type": "code",
   "execution_count": 5,
   "metadata": {},
   "outputs": [],
   "source": [
    "# A dependency of the preprocessing for BERT inputs\n",
    "!pip install -q tensorflow-text"
   ]
  },
  {
   "cell_type": "code",
   "execution_count": 6,
   "metadata": {},
   "outputs": [],
   "source": [
    "!pip install -q tf-models-official"
   ]
  },
  {
   "cell_type": "code",
   "execution_count": 7,
   "metadata": {},
   "outputs": [],
   "source": [
    "import tensorflow as tf\n",
    "import tensorflow_text\n",
    "import tensorflow_hub as hub"
   ]
  },
  {
   "cell_type": "code",
   "execution_count": 8,
   "metadata": {},
   "outputs": [],
   "source": [
    "tokenizer = hub.load(\n",
    "    'https://code.aliyun.com/qhduan/bert_v4/raw/500019068f2c715d4b344c3e2216cef280a7f800/bert_tokenizer_chinese.tar.gz'\n",
    ")"
   ]
  },
  {
   "cell_type": "code",
   "execution_count": 9,
   "metadata": {},
   "outputs": [
    {
     "data": {
      "text/plain": [
       "<tensorflow.python.saved_model.load.Loader._recreate_base_user_object.<locals>._UserObject at 0x7fc29c748450>"
      ]
     },
     "execution_count": 9,
     "metadata": {},
     "output_type": "execute_result"
    }
   ],
   "source": [
    "tokenizer"
   ]
  },
  {
   "cell_type": "code",
   "execution_count": 10,
   "metadata": {},
   "outputs": [],
   "source": [
    "albert = hub.load(\n",
    "    'https://code.aliyun.com/qhduan/bert_v4/raw/500019068f2c715d4b344c3e2216cef280a7f800/albert_tiny.tar.gz'\n",
    ")"
   ]
  },
  {
   "cell_type": "code",
   "execution_count": 11,
   "metadata": {},
   "outputs": [
    {
     "name": "stdout",
     "output_type": "stream",
     "text": [
      "WARNING:tensorflow:5 out of the last 5 calls to <function recreate_function.<locals>.restored_function_body at 0x7fc29c758170> triggered tf.function retracing. Tracing is expensive and the excessive number of tracings could be due to (1) creating @tf.function repeatedly in a loop, (2) passing tensors with different shapes, (3) passing Python objects instead of tensors. For (1), please define your @tf.function outside of the loop. For (2), @tf.function has experimental_relax_shapes=True option that relaxes argument shapes that can avoid unnecessary retracing. For (3), please refer to https://www.tensorflow.org/guide/function#controlling_retracing and https://www.tensorflow.org/api_docs/python/tf/function for  more details.\n"
     ]
    },
    {
     "name": "stderr",
     "output_type": "stream",
     "text": [
      "WARNING:tensorflow:5 out of the last 5 calls to <function recreate_function.<locals>.restored_function_body at 0x7fc29c758170> triggered tf.function retracing. Tracing is expensive and the excessive number of tracings could be due to (1) creating @tf.function repeatedly in a loop, (2) passing tensors with different shapes, (3) passing Python objects instead of tensors. For (1), please define your @tf.function outside of the loop. For (2), @tf.function has experimental_relax_shapes=True option that relaxes argument shapes that can avoid unnecessary retracing. For (3), please refer to https://www.tensorflow.org/guide/function#controlling_retracing and https://www.tensorflow.org/api_docs/python/tf/function for  more details.\n"
     ]
    },
    {
     "name": "stdout",
     "output_type": "stream",
     "text": [
      "WARNING:tensorflow:6 out of the last 6 calls to <function recreate_function.<locals>.restored_function_body at 0x7fc294e87f80> triggered tf.function retracing. Tracing is expensive and the excessive number of tracings could be due to (1) creating @tf.function repeatedly in a loop, (2) passing tensors with different shapes, (3) passing Python objects instead of tensors. For (1), please define your @tf.function outside of the loop. For (2), @tf.function has experimental_relax_shapes=True option that relaxes argument shapes that can avoid unnecessary retracing. For (3), please refer to https://www.tensorflow.org/guide/function#controlling_retracing and https://www.tensorflow.org/api_docs/python/tf/function for  more details.\n"
     ]
    },
    {
     "name": "stderr",
     "output_type": "stream",
     "text": [
      "WARNING:tensorflow:6 out of the last 6 calls to <function recreate_function.<locals>.restored_function_body at 0x7fc294e87f80> triggered tf.function retracing. Tracing is expensive and the excessive number of tracings could be due to (1) creating @tf.function repeatedly in a loop, (2) passing tensors with different shapes, (3) passing Python objects instead of tensors. For (1), please define your @tf.function outside of the loop. For (2), @tf.function has experimental_relax_shapes=True option that relaxes argument shapes that can avoid unnecessary retracing. For (3), please refer to https://www.tensorflow.org/guide/function#controlling_retracing and https://www.tensorflow.org/api_docs/python/tf/function for  more details.\n"
     ]
    }
   ],
   "source": [
    "out = albert(tokenizer(['你好']))"
   ]
  },
  {
   "cell_type": "code",
   "execution_count": 12,
   "metadata": {
    "jupyter": {
     "outputs_hidden": true
    }
   },
   "outputs": [
    {
     "data": {
      "text/plain": [
       "{'sequence_output': <tf.Tensor: shape=(1, 2, 312), dtype=float32, numpy=\n",
       " array([[[ 7.33715475e-01, -7.20572650e-01,  4.15653765e-01,\n",
       "           5.23570850e-02,  3.98861319e-02,  7.85249993e-02,\n",
       "           7.95624256e-01, -5.55125475e-01, -1.42330432e+00,\n",
       "           1.34107754e-01,  2.49635339e-01, -4.13607389e-01,\n",
       "          -9.09700394e-01, -1.75745285e+00, -1.25018692e+00,\n",
       "           4.09901619e-01, -2.81636417e-01,  1.46800458e-01,\n",
       "           3.74855608e-01, -4.27004158e-01,  7.11121559e-01,\n",
       "          -2.26847202e-01,  5.06151974e-01,  1.00076705e-01,\n",
       "          -3.53587061e-01,  2.95837283e-01, -3.37562680e-01,\n",
       "          -9.72694829e-02, -2.91678369e-01, -1.17791247e+00,\n",
       "           1.06728113e+00,  6.04827881e-01,  2.32241750e-01,\n",
       "           8.05636644e-01,  1.79337010e-01,  1.16546011e+00,\n",
       "          -1.73346031e+00, -1.70589745e-01, -1.84808180e-01,\n",
       "          -6.19936347e-01,  1.57373667e-01,  6.38421416e-01,\n",
       "           5.00105202e-01,  4.56167281e-01,  2.58985817e-01,\n",
       "          -5.30238926e-01,  2.16744161e+00,  9.43767875e-02,\n",
       "           3.06421489e-01, -5.64755738e-01, -8.00806820e-01,\n",
       "          -1.02016345e-01,  1.35829079e+00,  8.03809941e-01,\n",
       "           1.94411170e+00, -3.35305512e-01,  1.01313543e+00,\n",
       "          -1.20946312e+00,  8.64465714e-01,  5.71504116e-01,\n",
       "           9.63985920e-02,  4.73717868e-01, -1.52150214e+00,\n",
       "          -7.41483644e-02,  5.26705146e-01, -4.19329345e-01,\n",
       "          -1.46768308e+00, -5.74068189e-01,  2.47246847e-01,\n",
       "          -6.59156144e-01,  5.89294016e-01,  1.37720180e+00,\n",
       "          -1.81798398e-01,  6.77464724e-01,  1.78003699e-01,\n",
       "           3.06198025e+00,  1.40890515e+00,  4.27713126e-01,\n",
       "           7.43030787e-01, -4.57041442e-01,  3.54059935e-02,\n",
       "          -5.57778120e-01, -5.28085947e-01,  3.65373254e-01,\n",
       "           1.03298344e-01, -6.21652961e-01, -1.03725255e+00,\n",
       "           6.61711171e-02, -9.07656789e-01,  1.78452089e-01,\n",
       "           4.55715626e-01,  1.55367821e-01,  6.73771262e-01,\n",
       "           4.69621390e-01,  1.29365516e+00, -6.54325932e-02,\n",
       "           4.68366683e-01, -7.88209140e-01, -1.61751580e+00,\n",
       "          -5.80758750e-01, -9.70116854e-01, -3.18779171e-01,\n",
       "          -6.41633153e-01,  1.27660942e+00, -3.43550593e-02,\n",
       "           1.87979341e-01,  9.50665951e-01,  1.43026747e-03,\n",
       "          -1.43681526e+00, -1.07526496e-01, -3.15157741e-01,\n",
       "          -3.08796346e-01,  1.60803413e+00,  7.68883005e-02,\n",
       "           6.51013434e-01, -1.16946959e+00,  4.66924340e-01,\n",
       "           5.52679539e-01,  1.89820975e-01, -8.15211535e-02,\n",
       "           4.25388396e-01, -1.00413039e-01, -5.02245843e-01,\n",
       "           4.98041511e-01, -8.92242014e-01,  3.93754154e-01,\n",
       "           8.06738019e-01, -1.27144194e+00, -1.36959827e+00,\n",
       "           5.27061999e-01, -5.09387016e-01, -3.45140696e-02,\n",
       "          -6.77303612e-01,  5.70023358e-01, -1.76939535e+00,\n",
       "          -2.82182455e-01, -3.18496019e-01, -7.94169679e-02,\n",
       "          -5.08447528e-01, -5.61382651e-01, -4.07350123e-01,\n",
       "           2.25851566e-01,  6.79115534e-01,  2.48362869e-01,\n",
       "          -6.74838603e-01,  9.48717117e-01, -2.75955439e-01,\n",
       "          -5.55689991e-01, -1.33615565e+00, -2.61499137e-02,\n",
       "          -2.06138194e-03,  3.05160075e-01,  6.48648500e-01,\n",
       "          -4.97648358e-01, -8.64963889e-01,  1.18105765e-02,\n",
       "           7.02273905e-01, -7.48006463e-01,  1.06158800e-01,\n",
       "          -7.76847363e-01, -1.25571918e+00, -1.57343626e-01,\n",
       "          -4.66653228e-01, -1.08055615e+00,  2.69665718e-01,\n",
       "           2.07700729e-01, -5.21083653e-01,  4.66908664e-01,\n",
       "           7.89609551e-01,  8.21381211e-01,  8.00317943e-01,\n",
       "           3.11064214e-01,  3.79821897e-01,  9.42042410e-01,\n",
       "          -1.43865019e-01,  4.65101838e-01, -8.68099108e-02,\n",
       "           6.12307787e-01,  7.71095276e-01,  3.36868584e-01,\n",
       "           2.38090485e-01,  5.87405302e-02,  6.33719087e-01,\n",
       "          -5.90345562e-01,  6.83165565e-02, -4.90435436e-02,\n",
       "           1.95890561e-01,  3.55087280e-01, -1.46069825e+00,\n",
       "           6.46827638e-01, -6.79255188e-01, -1.73624194e+00,\n",
       "           8.34855363e-02, -2.87127137e-01,  6.68500245e-01,\n",
       "           2.24862978e-01, -1.09789181e+00, -1.63114473e-01,\n",
       "          -1.00701821e+00,  8.14244151e-01, -5.42993546e-02,\n",
       "           1.06108940e+00, -6.27202570e-01, -8.24930072e-01,\n",
       "           1.88623250e-01, -7.23284841e-01, -5.89741588e-01,\n",
       "          -2.05194801e-01,  1.60939228e-02, -7.65561700e-01,\n",
       "          -1.36091280e+00,  5.83977878e-01,  8.15633416e-01,\n",
       "          -1.63754448e-03, -3.63687515e-01, -1.22885361e-01,\n",
       "           7.83511177e-02,  3.82975601e-02, -5.96944392e-02,\n",
       "           7.79704869e-01, -5.41789651e-01, -2.62270629e-01,\n",
       "          -1.68762177e-01, -3.22167397e-01,  7.10111558e-01,\n",
       "           7.04856455e-01, -4.21487331e-01,  7.51219273e-01,\n",
       "          -2.50390410e-01, -2.06995010e+00,  1.11294353e+00,\n",
       "          -8.05564672e-02, -8.93701613e-01, -8.45376730e-01,\n",
       "           4.49950814e-01,  1.48511279e+00,  4.71691430e-01,\n",
       "          -2.59352565e-01, -8.11205089e-01,  5.21550477e-01,\n",
       "           5.40336072e-01, -7.63187051e-01,  1.44053891e-01,\n",
       "           2.95318544e-01, -4.20487702e-01,  4.76786733e-01,\n",
       "          -1.07564315e-01,  3.35779369e-01,  2.58729994e-01,\n",
       "           7.75513053e-02,  5.91487736e-02, -7.14148402e-01,\n",
       "           2.17308968e-01, -5.29174566e-01,  2.13576615e-01,\n",
       "          -5.82432210e-01,  1.12655914e+00, -9.10681635e-02,\n",
       "          -1.99624956e-01, -7.32567906e-01, -3.29880714e-02,\n",
       "          -4.22223389e-01,  6.15173727e-02, -8.65458310e-01,\n",
       "          -8.48720908e-01,  6.26551569e-01,  4.66872126e-01,\n",
       "          -2.26933658e-01,  5.31674385e-01, -7.18687296e-01,\n",
       "           7.29226470e-01,  2.94581890e-01,  7.17276752e-01,\n",
       "           7.47473001e-01, -9.27525163e-01, -9.48518515e-02,\n",
       "           8.16028535e-01, -9.72512007e-01, -4.14338052e-01,\n",
       "           8.24860215e-01, -1.29415467e-01,  2.08055407e-01,\n",
       "           9.41780269e-01, -1.02114964e+00,  4.67508465e-01,\n",
       "          -4.48240578e-01, -6.02974743e-03, -3.78413320e-01,\n",
       "          -1.80144534e-01, -2.73614585e-01, -1.15531600e+00,\n",
       "           5.75151555e-02,  1.16143942e+00,  1.66032702e-01,\n",
       "           3.96486759e-01,  5.28220892e-01, -7.65139997e-01,\n",
       "          -1.42017376e+00,  3.20212960e-01,  7.73066163e-01,\n",
       "          -2.41103508e-02, -9.89596248e-01,  2.94374377e-01,\n",
       "           9.53601003e-01,  5.03646791e-01,  1.09311318e+00,\n",
       "          -3.69824708e-01, -2.64798775e-02,  2.86501646e-02,\n",
       "           1.65220213e+00, -7.46045828e-01, -1.97742343e-01],\n",
       "         [ 5.92854768e-02, -6.74133599e-01,  7.64724314e-01,\n",
       "          -8.38197708e-01, -1.10172546e+00,  6.02916539e-01,\n",
       "          -6.20315254e-01, -4.37462866e-01, -4.01116043e-01,\n",
       "          -5.48610538e-02,  2.65735298e-01, -3.13800961e-01,\n",
       "          -8.75008404e-01, -9.31925237e-01, -2.09107667e-01,\n",
       "          -2.66037345e-01, -8.01058635e-02,  1.74094021e-01,\n",
       "           5.88869989e-01, -1.39467013e+00,  7.45576918e-01,\n",
       "          -6.15231059e-02, -4.93355989e-02, -6.71035200e-02,\n",
       "          -1.75798923e-01, -6.50781274e-01, -1.33774787e-01,\n",
       "          -2.74782240e-01, -8.98288071e-01, -4.84857917e-01,\n",
       "           8.65507126e-01,  1.05657957e-01, -1.57380298e-01,\n",
       "           4.21107590e-01, -6.88995242e-01, -5.98267138e-01,\n",
       "          -8.26568246e-01,  8.79587412e-01,  1.58931799e-02,\n",
       "          -4.26797211e-01,  1.10946631e+00, -1.99408427e-01,\n",
       "          -6.86346650e-01,  8.16313684e-01, -5.61340116e-02,\n",
       "           2.53695309e-01,  1.76163185e+00, -7.95935512e-01,\n",
       "          -9.41703469e-02, -7.76609242e-01, -6.33873820e-01,\n",
       "          -1.34100151e+00,  5.05565107e-01,  1.38035297e-01,\n",
       "           8.82102072e-01, -1.19593167e+00,  3.65865640e-02,\n",
       "          -2.99198627e-01,  3.33870828e-01,  6.78581119e-01,\n",
       "          -1.12987328e+00,  3.70758057e-01,  8.72258544e-01,\n",
       "           5.02805173e-01,  3.58320683e-01,  3.35751891e-01,\n",
       "           1.56226754e-03, -4.57815588e-01,  8.98905814e-01,\n",
       "          -1.06094193e+00,  6.96410656e-01, -1.80405140e-01,\n",
       "          -3.96800637e-01, -5.05992770e-01, -2.09904641e-01,\n",
       "           3.51074147e+00,  5.97621739e-01, -4.77004319e-01,\n",
       "           1.29205966e+00, -9.48786199e-01,  7.08373606e-01,\n",
       "          -3.56567428e-02, -9.81123507e-01, -2.32426858e+00,\n",
       "          -6.73158884e-01, -4.47176814e-01,  1.61448687e-01,\n",
       "          -2.05451369e-01, -1.64019966e+00,  1.15222478e+00,\n",
       "          -1.51579320e-01,  4.49463397e-01,  6.43784821e-01,\n",
       "          -6.81787491e-01,  5.10356188e-01, -4.08888519e-01,\n",
       "           2.45388955e-01,  6.79405034e-03, -3.65916729e-01,\n",
       "           5.43627441e-01, -7.12552667e-01,  1.69193745e-02,\n",
       "           2.17202023e-01,  3.80074024e-01,  3.83155406e-01,\n",
       "          -1.05874225e-01,  9.25017357e-01, -5.86070657e-01,\n",
       "          -2.44535756e+00, -3.45242992e-02,  5.89669764e-01,\n",
       "          -6.19378269e-01,  7.81680644e-01, -1.69792831e+00,\n",
       "           7.11548030e-01, -4.86675948e-01,  1.09294391e+00,\n",
       "           1.75590888e-02, -5.55067807e-02,  7.12020874e-01,\n",
       "           7.35045254e-01, -4.33649600e-01, -4.72158760e-01,\n",
       "           4.30745751e-01, -5.39231718e-01, -5.63933030e-02,\n",
       "           3.94730568e-02, -9.77481961e-01, -8.87633502e-01,\n",
       "           1.14071906e+00, -1.62697703e-01,  6.99945018e-02,\n",
       "          -1.77800030e-01,  1.72969019e+00, -4.90267932e-01,\n",
       "           5.77241719e-01, -1.01516342e+00,  6.40881509e-02,\n",
       "          -1.24174356e+00, -8.67121935e-01, -1.67503327e-01,\n",
       "           2.64079809e-01, -4.19846833e-01,  1.32291269e+00,\n",
       "          -6.14121854e-01, -1.50918245e+00, -3.94189864e-01,\n",
       "          -9.67059731e-02, -1.07494962e+00,  1.77976191e-01,\n",
       "           3.29798460e-01,  6.91314995e-01,  4.33428943e-01,\n",
       "          -1.49812803e-01, -9.67408866e-02,  6.65629148e-01,\n",
       "           4.26920325e-01, -8.03101540e-01,  1.83844790e-01,\n",
       "           4.02287811e-01, -1.32969663e-01,  2.47774243e-01,\n",
       "          -2.21051306e-01, -7.43543655e-02,  2.01017812e-01,\n",
       "           1.89883590e-01, -4.78180826e-01,  6.13298640e-02,\n",
       "          -4.22254562e-01,  9.92366672e-03,  3.65131527e-01,\n",
       "          -2.60530829e-01,  2.12305576e-01,  3.59843642e-01,\n",
       "          -1.02835789e-01, -6.75246716e-01, -2.62577385e-01,\n",
       "           1.11092830e+00, -1.43972963e-01,  9.30915594e-01,\n",
       "           2.55701125e-01,  2.09237427e-01, -1.54162645e-01,\n",
       "           4.18055922e-01,  5.76497912e-02,  3.43558282e-01,\n",
       "           1.28453225e-01,  3.24446648e-01,  3.26193422e-02,\n",
       "           9.43220258e-01,  3.02713573e-01, -3.41874003e-01,\n",
       "           2.05997205e+00, -5.12823939e-01,  4.18398589e-01,\n",
       "           5.93234956e-01, -2.66577750e-02,  1.36748329e-01,\n",
       "          -7.99069047e-01,  2.26290375e-01, -6.09328806e-01,\n",
       "           3.70651156e-01, -1.49129331e+00,  3.69811058e-01,\n",
       "           5.03735662e-01, -2.78364867e-03, -5.86666316e-02,\n",
       "           1.52462363e-01, -8.45097423e-01, -7.67650127e-01,\n",
       "           4.82883155e-02, -3.21249902e-01,  4.45870280e-01,\n",
       "          -4.72207099e-01, -9.10574675e-01,  6.75472543e-02,\n",
       "          -8.94181430e-01, -7.39787579e-01,  1.68701261e-01,\n",
       "          -3.12026106e-02, -7.84941018e-01, -3.34824145e-01,\n",
       "           2.08038762e-01,  6.54722035e-01,  1.14422858e+00,\n",
       "          -1.46601349e-03, -4.90458906e-01,  7.09049165e-01,\n",
       "          -7.34833837e-01, -8.62999499e-01,  1.23678625e+00,\n",
       "          -9.98933792e-01, -2.22856820e-01,  6.61615670e-01,\n",
       "           3.54355723e-01,  9.68034148e-01,  3.90368365e-02,\n",
       "           8.96506011e-02, -4.88288611e-01,  4.52135056e-01,\n",
       "           1.15877867e+00,  1.21675074e+00,  5.45529783e-01,\n",
       "          -1.23351067e-01,  7.64902979e-02, -8.55869353e-02,\n",
       "           1.67598045e+00,  8.04698825e-01,  1.26633775e+00,\n",
       "          -2.78081715e-01,  5.30773163e-01,  2.77497560e-01,\n",
       "           6.96922064e-01, -5.31051755e-01, -7.36217201e-01,\n",
       "          -1.20424107e-01,  4.83030677e-01, -1.16622508e+00,\n",
       "           3.23475838e-01,  7.65790999e-01, -1.27680033e-01,\n",
       "          -1.69773370e-01, -5.53824008e-01, -3.42973948e-01,\n",
       "          -2.42711902e-01,  1.80609912e-01,  7.68080652e-01,\n",
       "          -4.80719090e-01,  7.85222948e-01, -2.79895216e-01,\n",
       "           4.95922685e-01,  9.91911829e-01,  6.44836962e-01,\n",
       "           9.24990177e-01,  1.70891672e-01, -4.07483876e-01,\n",
       "          -7.84606561e-02,  1.35335863e-01, -4.59268659e-01,\n",
       "           8.48101497e-01,  2.12016940e-01,  2.58156657e-01,\n",
       "           7.81658947e-01,  1.62868261e-01,  1.07810557e+00,\n",
       "          -1.11045647e+00,  3.15106004e-01, -9.33404490e-02,\n",
       "           1.16942406e+00,  8.75927091e-01, -2.19206959e-01,\n",
       "           7.67620280e-04, -3.44083160e-01,  5.71631432e-01,\n",
       "           1.82642639e-01, -5.12442112e-01, -3.19064617e-01,\n",
       "          -6.17455304e-01,  7.93916345e-01,  6.64017081e-01,\n",
       "          -5.47058761e-01, -1.08544672e+00, -3.69110316e-01,\n",
       "          -1.33791566e-01, -4.32229131e-01, -6.06223345e-02,\n",
       "          -7.96900988e-01, -5.58069646e-01,  1.05827034e-01,\n",
       "           7.49428809e-01, -1.48982155e+00, -9.13302302e-01]]],\n",
       "       dtype=float32)>,\n",
       " 'pooled_output': <tf.Tensor: shape=(1, 312), dtype=float32, numpy=\n",
       " array([[ 9.97694850e-01, -8.06972444e-01,  5.54048836e-01,\n",
       "          6.82475626e-01, -5.85427701e-01, -4.75501478e-01,\n",
       "         -1.65914640e-01,  3.15564312e-02,  8.45137656e-01,\n",
       "         -8.01114142e-01, -9.99356449e-01, -3.09111714e-01,\n",
       "          9.99295056e-01, -9.22129095e-01,  9.92580771e-01,\n",
       "          9.99752462e-01,  9.58445549e-01,  9.99814987e-01,\n",
       "          9.99970496e-01,  4.10672933e-01, -1.31741911e-01,\n",
       "          9.97253299e-01, -9.60790515e-01, -9.97110307e-01,\n",
       "          5.04274786e-01,  2.64064968e-01, -9.54064131e-01,\n",
       "          9.86726403e-01, -9.99091148e-01,  8.28569770e-01,\n",
       "          9.83543873e-01, -1.33558929e-01,  9.98841703e-01,\n",
       "          9.67339694e-01,  9.98867333e-01,  9.16883230e-01,\n",
       "         -9.90572989e-01, -2.96225902e-02, -9.97980297e-01,\n",
       "          2.11710453e-01,  1.94977984e-01, -5.33371031e-01,\n",
       "          1.97667971e-01, -3.25063765e-01, -3.42274457e-01,\n",
       "          9.95688617e-01,  2.40009159e-01, -7.69853652e-01,\n",
       "          9.96441662e-01, -9.99984503e-01, -5.36283106e-02,\n",
       "          9.99926746e-01,  9.99278724e-01, -9.95987535e-01,\n",
       "          4.09035176e-01, -5.45175731e-01, -3.48776251e-01,\n",
       "         -7.98479933e-03, -8.96576285e-01, -5.06371371e-02,\n",
       "         -2.76396573e-01, -9.99818981e-01,  3.22239339e-01,\n",
       "         -9.99743998e-01, -4.47915077e-01, -9.99933362e-01,\n",
       "         -6.72000721e-02,  3.64328921e-01,  9.92042720e-01,\n",
       "          9.85992730e-01, -8.69182229e-01,  4.31595176e-01,\n",
       "          1.82646975e-01,  3.62535030e-01,  9.66526508e-01,\n",
       "         -9.72714424e-01,  8.77532482e-01,  7.31930584e-02,\n",
       "          6.41759783e-02,  9.88220632e-01, -9.97461438e-01,\n",
       "          9.99327540e-01, -9.68463361e-01,  9.72531378e-01,\n",
       "          2.81892359e-01,  9.99938190e-01, -3.42813462e-01,\n",
       "         -1.40291214e-01,  9.97671962e-01,  9.85705495e-01,\n",
       "         -9.34379518e-01, -9.85179394e-02,  8.37648451e-01,\n",
       "         -3.59337509e-01,  8.51914287e-01,  9.39080477e-01,\n",
       "         -6.73941731e-01,  9.84585106e-01,  9.54886794e-01,\n",
       "         -3.81358355e-01,  8.65146101e-01,  9.95987535e-01,\n",
       "          9.96053636e-01, -8.84238958e-01, -2.54410148e-01,\n",
       "          3.28031182e-01,  9.98607278e-01,  9.60547328e-01,\n",
       "          9.94367540e-01,  8.43540013e-01, -9.99947548e-01,\n",
       "          9.98551846e-01, -2.32155677e-02,  9.82038021e-01,\n",
       "          9.37439740e-01, -9.16896880e-01, -8.99771452e-01,\n",
       "         -2.91084021e-01, -3.57302934e-01, -9.92140710e-01,\n",
       "          6.00756645e-01,  9.04592752e-01, -9.25933421e-01,\n",
       "         -7.90154159e-01, -1.43674225e-01, -7.14880645e-01,\n",
       "          8.95797908e-01,  1.29340023e-01,  9.80928719e-01,\n",
       "         -9.28413272e-02,  9.99962151e-01,  3.74343365e-01,\n",
       "         -2.58961804e-02,  9.99793649e-01,  9.93708611e-01,\n",
       "         -9.99931812e-01, -9.69245553e-01,  8.30320194e-02,\n",
       "         -3.49036723e-01,  8.56835008e-01, -9.99197543e-01,\n",
       "          3.84326220e-01,  9.99789238e-01,  5.93291670e-02,\n",
       "         -9.99998510e-01,  9.94279206e-01, -9.99990106e-01,\n",
       "          7.20890164e-01,  1.67698234e-01,  2.99012542e-01,\n",
       "          1.78534225e-01, -4.13485676e-01, -5.67434765e-02,\n",
       "         -9.99998152e-01, -9.99561906e-01,  2.07285494e-01,\n",
       "          9.99985933e-01,  9.94759917e-01,  5.93535066e-01,\n",
       "          9.98663187e-01, -2.49997571e-01, -5.28304338e-01,\n",
       "          9.93830383e-01,  9.49728072e-01,  1.57987084e-02,\n",
       "         -9.99657154e-01, -9.98355150e-01,  7.97333866e-02,\n",
       "          8.60154331e-01, -3.17229703e-02,  9.78144944e-01,\n",
       "          9.99978721e-01, -3.70182931e-01, -9.79335368e-01,\n",
       "          9.69765604e-01, -9.86911178e-01, -9.98925209e-01,\n",
       "         -1.49412647e-01, -8.86127055e-01, -2.26838976e-01,\n",
       "         -9.99919891e-01, -2.35821009e-01,  9.99588907e-01,\n",
       "         -9.99357224e-01,  2.40691647e-01, -9.92617965e-01,\n",
       "         -4.93666232e-01, -5.08001089e-01, -3.85408908e-01,\n",
       "         -9.90717113e-01, -9.93154705e-01, -8.34162757e-02,\n",
       "         -9.34839547e-01, -9.36027706e-01, -9.99849141e-01,\n",
       "          4.66960371e-01, -9.98374343e-01, -9.99938428e-01,\n",
       "         -9.97205496e-01, -9.99801755e-01,  9.07293916e-01,\n",
       "         -4.70801257e-03, -9.30461884e-01,  3.47425550e-01,\n",
       "          3.09050232e-01, -2.57121146e-01, -6.50306821e-01,\n",
       "          9.81652081e-01,  9.27648842e-01, -9.87010121e-01,\n",
       "         -5.77569306e-02,  9.99994874e-01,  9.89558756e-01,\n",
       "         -4.48116601e-01, -1.02654204e-01, -2.40989551e-02,\n",
       "         -5.74519813e-01, -9.95609522e-01, -9.83265042e-01,\n",
       "          9.99735773e-01, -9.84558463e-01, -1.51720583e-01,\n",
       "          9.94782746e-01,  9.87448454e-01, -8.09362903e-02,\n",
       "         -9.99997616e-01,  9.22406495e-01,  7.34006464e-01,\n",
       "         -2.53188878e-01,  4.22600135e-02,  9.66031790e-01,\n",
       "         -3.80693972e-01,  9.91927803e-01,  9.99984503e-01,\n",
       "          9.81867790e-01, -5.07496536e-01,  9.99889910e-01,\n",
       "         -9.94609535e-01, -9.99980569e-01, -1.78572461e-01,\n",
       "          9.99787629e-01, -8.41453895e-02,  3.20559621e-01,\n",
       "         -5.92825711e-02,  7.61654601e-03,  9.96037185e-01,\n",
       "          9.97987688e-01, -9.99870241e-01, -6.93929149e-03,\n",
       "         -1.15825936e-01, -9.25499141e-01, -7.70363286e-02,\n",
       "          2.04957113e-01,  9.90240872e-01, -9.85810399e-01,\n",
       "          3.31758261e-01,  9.56798941e-02, -9.99589741e-01,\n",
       "          9.48574901e-01,  9.87517953e-01, -2.27448270e-01,\n",
       "          1.98284492e-01,  9.99465942e-01, -3.54706138e-01,\n",
       "          9.61462319e-01, -5.52756488e-01,  9.99995708e-01,\n",
       "         -1.80144403e-02,  9.96102750e-01,  9.92727041e-01,\n",
       "         -7.39755332e-01,  2.07120273e-02,  1.90717831e-01,\n",
       "          3.96095753e-01, -2.95402914e-01,  5.08219339e-02,\n",
       "          9.40885842e-01, -9.66133773e-01,  9.92654800e-01,\n",
       "          9.76026833e-01, -1.73199221e-01, -9.84068274e-01,\n",
       "          9.44785297e-01, -9.97677207e-01, -9.99956250e-01,\n",
       "          9.16001797e-01, -5.97946346e-05, -2.41782099e-01,\n",
       "         -2.68237203e-01,  9.93074417e-01,  1.47696296e-02,\n",
       "          9.99817610e-01,  9.94034588e-01,  7.43985832e-01,\n",
       "          9.97263253e-01,  5.75141348e-02,  9.99561727e-01,\n",
       "          9.96963859e-01,  9.98154759e-01,  9.99137402e-01,\n",
       "          9.38209236e-01,  9.99750257e-01,  9.99781907e-01,\n",
       "          9.98900533e-01,  9.99410808e-01,  3.86122674e-01,\n",
       "          9.48323429e-01,  3.54432493e-01, -5.21713674e-01,\n",
       "         -9.99614000e-01,  9.99625266e-01, -9.98031318e-01]], dtype=float32)>}"
      ]
     },
     "execution_count": 12,
     "metadata": {},
     "output_type": "execute_result"
    }
   ],
   "source": [
    "out"
   ]
  },
  {
   "cell_type": "code",
   "execution_count": 13,
   "metadata": {},
   "outputs": [],
   "source": [
    "#assert out['sequence_output'].shape == (1, 2, 312)"
   ]
  },
  {
   "cell_type": "markdown",
   "metadata": {},
   "source": [
    "### BERT 分類模型"
   ]
  },
  {
   "cell_type": "code",
   "execution_count": 14,
   "metadata": {},
   "outputs": [],
   "source": [
    "x = [\n",
    "    ['天氣好'],\n",
    "    ['天氣差'],\n",
    "    ['下雨'],\n",
    "    ['晴天'],\n",
    "    ['雨'],\n",
    "    ['晴'],\n",
    "]\n",
    "y = [\n",
    "    1, 0, 0, 1, 0, 1\n",
    "]"
   ]
  },
  {
   "cell_type": "code",
   "execution_count": 15,
   "metadata": {},
   "outputs": [
    {
     "data": {
      "text/plain": [
       "([['天氣好'], ['天氣差'], ['下雨'], ['晴天'], ['雨'], ['晴']], [1, 0, 0, 1, 0, 1])"
      ]
     },
     "execution_count": 15,
     "metadata": {},
     "output_type": "execute_result"
    }
   ],
   "source": [
    "x,y"
   ]
  },
  {
   "cell_type": "code",
   "execution_count": 16,
   "metadata": {},
   "outputs": [],
   "source": [
    "tx = tf.constant(x)\n",
    "ty = tf.constant(tf.keras.utils.to_categorical(y, 2))"
   ]
  },
  {
   "cell_type": "code",
   "execution_count": 17,
   "metadata": {},
   "outputs": [
    {
     "data": {
      "text/plain": [
       "(<tf.Tensor: shape=(6, 1), dtype=string, numpy=\n",
       " array([[b'\\xe5\\xa4\\xa9\\xe6\\xb0\\xa3\\xe5\\xa5\\xbd'],\n",
       "        [b'\\xe5\\xa4\\xa9\\xe6\\xb0\\xa3\\xe5\\xb7\\xae'],\n",
       "        [b'\\xe4\\xb8\\x8b\\xe9\\x9b\\xa8'],\n",
       "        [b'\\xe6\\x99\\xb4\\xe5\\xa4\\xa9'],\n",
       "        [b'\\xe9\\x9b\\xa8'],\n",
       "        [b'\\xe6\\x99\\xb4']], dtype=object)>,\n",
       " <tf.Tensor: shape=(6, 2), dtype=float32, numpy=\n",
       " array([[0., 1.],\n",
       "        [1., 0.],\n",
       "        [1., 0.],\n",
       "        [0., 1.],\n",
       "        [1., 0.],\n",
       "        [0., 1.]], dtype=float32)>)"
      ]
     },
     "execution_count": 17,
     "metadata": {},
     "output_type": "execute_result"
    }
   ],
   "source": [
    "tx,ty"
   ]
  },
  {
   "cell_type": "code",
   "execution_count": 18,
   "metadata": {},
   "outputs": [
    {
     "name": "stdout",
     "output_type": "stream",
     "text": [
      "WARNING:tensorflow:7 out of the last 7 calls to <function recreate_function.<locals>.restored_function_body at 0x7fc269c7f320> triggered tf.function retracing. Tracing is expensive and the excessive number of tracings could be due to (1) creating @tf.function repeatedly in a loop, (2) passing tensors with different shapes, (3) passing Python objects instead of tensors. For (1), please define your @tf.function outside of the loop. For (2), @tf.function has experimental_relax_shapes=True option that relaxes argument shapes that can avoid unnecessary retracing. For (3), please refer to https://www.tensorflow.org/guide/function#controlling_retracing and https://www.tensorflow.org/api_docs/python/tf/function for  more details.\n"
     ]
    },
    {
     "name": "stderr",
     "output_type": "stream",
     "text": [
      "WARNING:tensorflow:7 out of the last 7 calls to <function recreate_function.<locals>.restored_function_body at 0x7fc269c7f320> triggered tf.function retracing. Tracing is expensive and the excessive number of tracings could be due to (1) creating @tf.function repeatedly in a loop, (2) passing tensors with different shapes, (3) passing Python objects instead of tensors. For (1), please define your @tf.function outside of the loop. For (2), @tf.function has experimental_relax_shapes=True option that relaxes argument shapes that can avoid unnecessary retracing. For (3), please refer to https://www.tensorflow.org/guide/function#controlling_retracing and https://www.tensorflow.org/api_docs/python/tf/function for  more details.\n"
     ]
    },
    {
     "name": "stdout",
     "output_type": "stream",
     "text": [
      "WARNING:tensorflow:8 out of the last 8 calls to <function recreate_function.<locals>.restored_function_body at 0x7fc269c7f9e0> triggered tf.function retracing. Tracing is expensive and the excessive number of tracings could be due to (1) creating @tf.function repeatedly in a loop, (2) passing tensors with different shapes, (3) passing Python objects instead of tensors. For (1), please define your @tf.function outside of the loop. For (2), @tf.function has experimental_relax_shapes=True option that relaxes argument shapes that can avoid unnecessary retracing. For (3), please refer to https://www.tensorflow.org/guide/function#controlling_retracing and https://www.tensorflow.org/api_docs/python/tf/function for  more details.\n"
     ]
    },
    {
     "name": "stderr",
     "output_type": "stream",
     "text": [
      "WARNING:tensorflow:8 out of the last 8 calls to <function recreate_function.<locals>.restored_function_body at 0x7fc269c7f9e0> triggered tf.function retracing. Tracing is expensive and the excessive number of tracings could be due to (1) creating @tf.function repeatedly in a loop, (2) passing tensors with different shapes, (3) passing Python objects instead of tensors. For (1), please define your @tf.function outside of the loop. For (2), @tf.function has experimental_relax_shapes=True option that relaxes argument shapes that can avoid unnecessary retracing. For (3), please refer to https://www.tensorflow.org/guide/function#controlling_retracing and https://www.tensorflow.org/api_docs/python/tf/function for  more details.\n"
     ]
    }
   ],
   "source": [
    "bert = hub.KerasLayer(\n",
    "            'https://code.aliyun.com/qhduan/bert_v4/raw/500019068f2c715d4b344c3e2216cef280a7f800/albert_large.tar.gz', \n",
    "            trainable=True,\n",
    "            output_key='pooled_output'\n",
    "            )"
   ]
  },
  {
   "cell_type": "code",
   "execution_count": 19,
   "metadata": {},
   "outputs": [],
   "source": [
    "inputs = tf.keras.layers.Input(shape=(None,), dtype=tf.string)"
   ]
  },
  {
   "cell_type": "code",
   "execution_count": 20,
   "metadata": {},
   "outputs": [],
   "source": [
    "m = inputs"
   ]
  },
  {
   "cell_type": "code",
   "execution_count": 21,
   "metadata": {},
   "outputs": [],
   "source": [
    "m = bert(inputs)"
   ]
  },
  {
   "cell_type": "code",
   "execution_count": 22,
   "metadata": {},
   "outputs": [],
   "source": [
    "m = tf.keras.layers.Masking()(m)"
   ]
  },
  {
   "cell_type": "code",
   "execution_count": 23,
   "metadata": {},
   "outputs": [],
   "source": [
    "#m = tf.keras.layers.Bidirectional(tf.keras.layers.LSTM(128, ))(m)"
   ]
  },
  {
   "cell_type": "code",
   "execution_count": 24,
   "metadata": {},
   "outputs": [],
   "source": [
    "m = tf.keras.layers.Dense(2, activation='softmax')(m)"
   ]
  },
  {
   "cell_type": "code",
   "execution_count": 25,
   "metadata": {},
   "outputs": [],
   "source": [
    "model = tf.keras.Model(inputs=inputs, outputs=m)"
   ]
  },
  {
   "cell_type": "code",
   "execution_count": 26,
   "metadata": {},
   "outputs": [],
   "source": [
    "model.compile(loss='categorical_crossentropy')"
   ]
  },
  {
   "cell_type": "code",
   "execution_count": null,
   "metadata": {},
   "outputs": [
    {
     "name": "stdout",
     "output_type": "stream",
     "text": [
      "Epoch 1/10\n"
     ]
    }
   ],
   "source": [
    "model.fit(tx, ty, epochs=10, batch_size=2)"
   ]
  },
  {
   "cell_type": "code",
   "execution_count": null,
   "metadata": {},
   "outputs": [],
   "source": [
    "logits = model.predict(tx)"
   ]
  },
  {
   "cell_type": "code",
   "execution_count": null,
   "metadata": {},
   "outputs": [],
   "source": [
    "pred = logits.argmax(-1).tolist()"
   ]
  },
  {
   "cell_type": "code",
   "execution_count": null,
   "metadata": {},
   "outputs": [],
   "source": [
    "pred, y"
   ]
  },
  {
   "cell_type": "code",
   "execution_count": null,
   "metadata": {},
   "outputs": [],
   "source": []
  }
 ],
 "metadata": {
  "kernelspec": {
   "display_name": "Python 3",
   "language": "python",
   "name": "python3"
  },
  "language_info": {
   "codemirror_mode": {
    "name": "ipython",
    "version": 3
   },
   "file_extension": ".py",
   "mimetype": "text/x-python",
   "name": "python",
   "nbconvert_exporter": "python",
   "pygments_lexer": "ipython3",
   "version": "3.7.6"
  }
 },
 "nbformat": 4,
 "nbformat_minor": 4
}
