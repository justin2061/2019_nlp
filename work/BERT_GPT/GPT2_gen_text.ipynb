{
 "cells": [
  {
   "cell_type": "code",
   "execution_count": 1,
   "id": "aa9b352e-31bb-42c2-abe1-653d367220f6",
   "metadata": {},
   "outputs": [
    {
     "name": "stderr",
     "output_type": "stream",
     "text": [
      "2022-12-23 11:56:54.019860: I tensorflow/core/util/util.cc:169] oneDNN custom operations are on. You may see slightly different numerical results due to floating-point round-off errors from different computation orders. To turn them off, set the environment variable `TF_ENABLE_ONEDNN_OPTS=0`.\n",
      "2022-12-23 11:56:54.027824: W tensorflow/stream_executor/platform/default/dso_loader.cc:64] Could not load dynamic library 'libcudart.so.11.0'; dlerror: libcudart.so.11.0: cannot open shared object file: No such file or directory\n",
      "2022-12-23 11:56:54.027842: I tensorflow/stream_executor/cuda/cudart_stub.cc:29] Ignore above cudart dlerror if you do not have a GPU set up on your machine.\n"
     ]
    }
   ],
   "source": [
    "from transformers import pipeline, set_seed"
   ]
  },
  {
   "cell_type": "code",
   "execution_count": 2,
   "id": "5b43e6c6-5104-4efc-92ab-fc3941c63365",
   "metadata": {},
   "outputs": [
    {
     "data": {
      "application/vnd.jupyter.widget-view+json": {
       "model_id": "75dfde6c5ba348ffa381d963194561b6",
       "version_major": 2,
       "version_minor": 0
      },
      "text/plain": [
       "Downloading:   0%|          | 0.00/1.36M [00:00<?, ?B/s]"
      ]
     },
     "metadata": {},
     "output_type": "display_data"
    }
   ],
   "source": [
    "generator = pipeline('text-generation', model='gpt2')\n",
    "set_seed(42)"
   ]
  },
  {
   "cell_type": "code",
   "execution_count": 3,
   "id": "94dc13a1-0d9f-4d62-86b5-398579f17bdf",
   "metadata": {},
   "outputs": [],
   "source": [
    "text = \"Hello, I'm a language model,\""
   ]
  },
  {
   "cell_type": "code",
   "execution_count": 4,
   "id": "dc6ec52f-337a-48c9-83a8-dd4d4e541d3a",
   "metadata": {},
   "outputs": [
    {
     "name": "stderr",
     "output_type": "stream",
     "text": [
      "Setting `pad_token_id` to `eos_token_id`:50256 for open-end generation.\n"
     ]
    }
   ],
   "source": [
    "response = generator(text, max_length=300, num_return_sequences=5)"
   ]
  },
  {
   "cell_type": "code",
   "execution_count": 5,
   "id": "c66893c1-5419-4f48-8d01-29d6ff62e8fa",
   "metadata": {},
   "outputs": [
    {
     "name": "stdout",
     "output_type": "stream",
     "text": [
      "response: [{'generated_text': 'Hello, I\\'m a language model, I\\'m writing a new language for you. But first, I\\'d like to tell you about the language itself. It is not the Python, but rather: Python is the open source language, inspired by Python\\'s community. In other words, it offers much of what makes the C language so unique, much of what made Python its primary competitor in open source communities.\\n\\nLet\\'s take a cursory tour of the whole open source language. There are very few projects built on top of Python, many other projects built on top of Python provide some very interesting tools, and Python is often perceived as the new Google for languages, Google for the language, or Google for the people and software. So why might it be that all of those other languages would be different (and thus \"different\") if the language wasn\\'t so much open source and its community was so much more open to you?\\n\\nTo put it plainly: If I had a choice, I could say \"Python, Python is probably what I\\'m writing, but Python is not the best tool for me for something that has already been open sourced\", but if I were to continue to use Python, I would have to go out into the world, find a language that was \"better than Python\" and then work with it. If you can get away with it, I would certainly work with it and share that knowledge so that everyone can use it.\\n\\nThis is not to'}, {'generated_text': \"Hello, I'm a language model, and I'm trying to be as expressive as possible. In order to be expressive, it is necessary to know how to represent our language. In order to know how to express a model, though, my code must always need an operator that can represent a particular expression. Thus, my language needs to be expressed as a class or type or function. The problem is that we don't have the ability to declare an anonymous function but as a virtual function or a string that's just a function call function that can hold a given value.\\n\\nWe know this problem is problematic because we don't have a way to represent expressions. We can't use an anonymous function like operator overloading or using a string to represent a string and only an anonymous function can do so. But I want to explain some of how things can go wrong.\\n\\nAs we discussed earlier, in an anonymous function we want to avoid the risk of the operator overloading. But overloading can be an unpleasant experience. Overloading can make your code less expressive because it means you can't express it in a more expressive way. We're starting to get it. Overloading in my language is like showing your first real file using some special syntax you don't find used in text files. Overloading in code writing is like a class or type of expression, making things worse by making them difficult to understand and understand.\\n\\nAll we want to do is show the operator overloading\"}, {'generated_text': 'Hello, I\\'m a language model, so I don\\'t get much of a license anymore, but I\\'m probably more familiar with other languages on that front, and the compiler that comes with them was just sort of a mess.\\n\\nPorter: So, what\\'s your process for fixing what you find in the compile time? What are some tips that you can use to get the most out of the language, and if any of you have been in that position, what are some things you would change?\\n\\nJohn: I would change my code a little bit. I believe that a lot of the time the language is too slow in execution, and on things like the stack or things like that. So I would add things the same way I would fix something in a lot of cases. I would change a lot of the things so that I could sort of get that stuff fixed (laughter). So, for instance, I would look at an array of integers and the first number one is an array of integers of the form\\n\\n{ 2, 7, 18, 19 }\\n\\nthat [{ 2, 13, 19, 30 }] is a string\\n\\n{ 3, 5, 14, 19 }\\n\\nand we would start from a range, and change every value from 1 to 9. That would be very simple. So when I\\'m writing code like that, you can say, \"A string of integers is a string,\" but if I want to take'}, {'generated_text': \"Hello, I'm a language model, a functional model... It's not me, it's me!\\n\\nI won't bore you with how it works.\\n\\nYou hear me when you write to me.\\n\\nWell, I'm gonna try to get your attention, though.\\n\\nYou're going to try to convince me...\\n\\n- You're gonna be an object of fascination?! No! - I'm a simple little monster!\\n\\n- Your...\\n\\nYou're, uh... a... a... something that my little little monster's been working on for...\\n\\nYour.\\n\\n- I think I guess it's time for a quick break. - Well, why not take a break from a little talk about... what?\\n\\n- The story you're writing, too? - But, no... I don't know what that's all about. You can imagine, you just said we're going to start a new chapter together.\\n\\nYou think so? I'm actually excited about the idea of sharing it with you.\\n\\nIt makes things more interesting together!\\n\\n- (pause) - Of course! It's the end of something!\\n\\nLet's talk about...\\n\\nWhat does that mean to you, right?\\n\\nI was... thinking about that, wasn't quite sure if it was a human or animal, but... well, I think it had a very human meaning.\\n\\nAnd let me\"}, {'generated_text': 'Hello, I\\'m a language model, not an object model.\\n\\nIn a nutshell, I need to give language model a set of properties that I could use to describe a specific type of language. This means I need to specify the semantics for a particular data structure based on its initial structure – such as the name of a text field in the language.\\n\\nAn object model represents the syntax of a language\\'s grammar. This means that it is a collection of structures and structures within a language that could be added and removed without breaking the language syntax. For example, \"myField\" would contain the name of a field. That means that this would represent everything from the codebase for a new language to the language code.\\n\\nIn practice, though, the semantics of every structure in a language must be encapsulated in the language model. For that, I created the following objects:\\n\\ntype AbstractBoundedListType = OO ListBoundedRecord struct { String [] string, Double [] boolean } { int keyValue int end // (Default value is 1 to be exact) type Item = Record ( \"myItem\" ) type MyObject = Record ( \"myObject\" ) type KeyValue = Record ( \"keyValue\" ) type ItemType = Record ( \"keyType\" ) type KeyStruct = Record ( \"Key\" ) }\\n\\nNow, as you may have guessed, a language model has three important properties. First, I define the type that'}]\n"
     ]
    }
   ],
   "source": [
    "print(f'response: {response}')"
   ]
  },
  {
   "cell_type": "code",
   "execution_count": 6,
   "id": "4dc6959f-3fb8-4b68-a4d5-6fcc7c037bd5",
   "metadata": {},
   "outputs": [],
   "source": [
    "text = \"對於去陽明山泡溫泉,稍微介紹一下\""
   ]
  },
  {
   "cell_type": "code",
   "execution_count": 7,
   "id": "29047a77-d071-409b-937a-42b134fc4558",
   "metadata": {},
   "outputs": [
    {
     "name": "stderr",
     "output_type": "stream",
     "text": [
      "Setting `pad_token_id` to `eos_token_id`:50256 for open-end generation.\n"
     ]
    },
    {
     "name": "stdout",
     "output_type": "stream",
     "text": [
      "response: [{'generated_text': '對於去陽明山泡溫泉,稍微介紹一下一其部是仮田込推中有部年環在具人多以梅核也大该攻虑的盾的或造一样,好法是比了没有多时是得泪兵部錯右给错一对迦户。\\n\\nTranslated by: Bellyache\\n\\n\\nPrevious Chapter | Index | Next Chapter'}, {'generated_text': '對於去陽明山泡溫泉,稍微介紹一下,陛下恩级了人都能伋去。\\n\\n主要紹拳陛下:\\n\\n\"I believe that the best plan is to just go out in the field and train.\"\\n\\n除刿是一个用百變巴,但讲话视人涅一时而百對於地议體沢强。\\n\\nThe only way that one can achieve the best plans is to train.\\n\\n一个用百變巴總,用百人着打徹的教在后样陣个黑知人的苦频公起认人。\\n\\nEven if there are two great schemes, it does not matter if one is successful or not.\\n\\n虽然肥是主要紹点真的人样。\\n\\nThis is simply an example from one'}, {'generated_text': '對於去陽明山泡溫泉,稍微介紹一下故华笑化囘等与我差亏的抁火露图小露去座到高格巴的路内里向村找算关行。 \"解谈激安全向解一直江这个了的指在,黙在幻移我已经并非下四来不行可以我没问题。这一个主佔们在此寻非去没问並刂盾尌不死者们总角会一样的谷身误逻揭和的有情。我死者关人加以外予一挎教的大着黙里君向'}, {'generated_text': '對於去陽明山泡溫泉,稍微介紹一下右注。\\n\\n注 is also called \"Wangwuwu.\" It was found in a sacred place, \"Cult of the True One.\" According to this temple, it contains the following scriptures:\\n\\n\"The day of truth, day of truth and day of truth. Day of truth, day of truth and day of truth. \"1 Blessed is the day that there will be a great rain. Day of truth and day of truth.\" This day can not be taken out of sight, so to reach the true and the false one it cannot be seen, so to walk in the light of day, so to take a journey which requires a great distance.\\n\\nThe spiritual name 全国注溫前 is the second of these scriptures, and is used to denote such a moment or day, in which there is silence or utter silence.\\n\\nThe day of truth was once called 晅月. Today it is called 日月. Although the day of truth will be revealed as 体人以月, it will be in the most visible sense of the word. If the day of truth are to be revealed as 人以月, then it will be by means of \"the end that'}, {'generated_text': '對於去陽明山泡溫泉,稍微介紹一下差短真正,翼介經無非於预常动月書鲕商,一下缂却鏇總和鏑之闇,恞常師上破族,就最也广也,白一幾的事点着黨,並变差靚深主诂的旀强,宁卢卽并最九京,似义四术有的那里,所以可能里移到门召,案关到典的事点着黨,也有比戏明对了寺过应的感觉治服秒抶,得在真情结绑们。\\n\\nTrans'}]\n"
     ]
    }
   ],
   "source": [
    "response = generator(text, max_length=300, num_return_sequences=5)\n",
    "print(f'response: {response}')"
   ]
  },
  {
   "cell_type": "code",
   "execution_count": null,
   "id": "e61c7475-c71e-45fe-9372-7196a0aee22d",
   "metadata": {},
   "outputs": [],
   "source": []
  }
 ],
 "metadata": {
  "kernelspec": {
   "display_name": "Python 3 (ipykernel)",
   "language": "python",
   "name": "python3"
  },
  "language_info": {
   "codemirror_mode": {
    "name": "ipython",
    "version": 3
   },
   "file_extension": ".py",
   "mimetype": "text/x-python",
   "name": "python",
   "nbconvert_exporter": "python",
   "pygments_lexer": "ipython3",
   "version": "3.10.8"
  }
 },
 "nbformat": 4,
 "nbformat_minor": 5
}
