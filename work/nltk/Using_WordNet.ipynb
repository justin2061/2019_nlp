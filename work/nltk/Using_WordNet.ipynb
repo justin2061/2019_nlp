{
 "cells": [
  {
   "cell_type": "code",
   "execution_count": 1,
   "metadata": {},
   "outputs": [],
   "source": [
    "!pip install -q nltk"
   ]
  },
  {
   "cell_type": "markdown",
   "metadata": {},
   "source": [
    "WordNet 的維基百科說明： https://zh.wikipedia.org/wiki/WordNet"
   ]
  },
  {
   "cell_type": "code",
   "execution_count": 9,
   "metadata": {},
   "outputs": [
    {
     "name": "stdout",
     "output_type": "stream",
     "text": [
      "/bin/bash: line 0: cd: ../nltk_data/corpora/: No such file or directory\n"
     ]
    }
   ],
   "source": [
    "#先刪掉之前下載的wordnet 檔案\n",
    "!cd ../nltk_data/corpora/ && ls -la"
   ]
  },
  {
   "cell_type": "code",
   "execution_count": 8,
   "metadata": {},
   "outputs": [],
   "source": [
    "!rm -rf ../nltk_data/corpora/"
   ]
  },
  {
   "cell_type": "code",
   "execution_count": 6,
   "metadata": {},
   "outputs": [
    {
     "name": "stdout",
     "output_type": "stream",
     "text": [
      "total 16\n",
      "drwxr-sr-x 3 jovyan users 4096 Nov 18 12:02 .\n",
      "drwsrwsr-x 1 jovyan users 4096 Nov 18 12:02 ..\n",
      "drwxr-sr-x 2 jovyan users 4096 Nov 18 12:02 corpora\n"
     ]
    }
   ],
   "source": [
    "!ls -la ../nltk_data"
   ]
  },
  {
   "cell_type": "code",
   "execution_count": 2,
   "metadata": {},
   "outputs": [],
   "source": [
    "import nltk"
   ]
  },
  {
   "cell_type": "code",
   "execution_count": 3,
   "metadata": {},
   "outputs": [
    {
     "name": "stderr",
     "output_type": "stream",
     "text": [
      "[nltk_data] Downloading package wordnet to /home/jovyan/nltk_data...\n"
     ]
    },
    {
     "data": {
      "text/plain": [
       "True"
      ]
     },
     "execution_count": 3,
     "metadata": {},
     "output_type": "execute_result"
    }
   ],
   "source": [
    "nltk.download('wordnet')"
   ]
  },
  {
   "cell_type": "code",
   "execution_count": 4,
   "metadata": {},
   "outputs": [
    {
     "name": "stderr",
     "output_type": "stream",
     "text": [
      "[nltk_data] Downloading package omw-1.4 to /home/jovyan/nltk_data...\n",
      "[nltk_data] Downloading package omw to /home/jovyan/nltk_data...\n"
     ]
    },
    {
     "data": {
      "text/plain": [
       "True"
      ]
     },
     "execution_count": 4,
     "metadata": {},
     "output_type": "execute_result"
    }
   ],
   "source": [
    "#下載 open multilingual wordnet \n",
    "nltk.download('omw-1.4')\n",
    "nltk.download('omw')"
   ]
  },
  {
   "cell_type": "code",
   "execution_count": 5,
   "metadata": {},
   "outputs": [
    {
     "name": "stdout",
     "output_type": "stream",
     "text": [
      "total 48M\n",
      "drwxr-sr-x 2 jovyan users 4.0K Nov 18 12:02 .\n",
      "drwxr-sr-x 3 jovyan users 4.0K Nov 18 12:02 ..\n",
      "-rw-r--r-- 1 jovyan users  26M Nov 18 12:02 omw-1.4.zip\n",
      "-rw-r--r-- 1 jovyan users  12M Nov 18 12:02 omw.zip\n",
      "-rw-r--r-- 1 jovyan users  11M Nov 18 12:02 wordnet.zip\n"
     ]
    }
   ],
   "source": [
    "#觀察下載的corpora\n",
    "!ls -lah /home/jovyan/nltk_data/corpora"
   ]
  },
  {
   "cell_type": "code",
   "execution_count": 8,
   "metadata": {},
   "outputs": [],
   "source": [
    "from nltk.corpus import wordnet as wn"
   ]
  },
  {
   "cell_type": "code",
   "execution_count": 9,
   "metadata": {},
   "outputs": [],
   "source": [
    "wn.ensure_loaded()"
   ]
  },
  {
   "cell_type": "code",
   "execution_count": 11,
   "metadata": {},
   "outputs": [
    {
     "data": {
      "text/plain": [
       "dict_keys(['eng', 'als', 'arb', 'bul', 'cmn', 'dan', 'ell', 'fin', 'fra', 'heb', 'hrv', 'isl', 'ita', 'ita_iwn', 'jpn', 'cat', 'eus', 'glg', 'spa', 'ind', 'zsm', 'nld', 'nno', 'nob', 'pol', 'por', 'ron', 'lit', 'slk', 'slv', 'swe', 'tha'])"
      ]
     },
     "execution_count": 11,
     "metadata": {},
     "output_type": "execute_result"
    }
   ],
   "source": [
    "#列出所有支援的語系\n",
    "wn.langs()"
   ]
  },
  {
   "cell_type": "code",
   "execution_count": 12,
   "metadata": {},
   "outputs": [
    {
     "name": "stdout",
     "output_type": "stream",
     "text": [
      "total 60152\n",
      "drwxr-sr-x 3 jovyan users     4096 Nov 18 11:55 .\n",
      "drwxr-sr-x 5 jovyan users     4096 Sep  2 16:19 ..\n",
      "-rw-r--r-- 1 jovyan users 26634772 Nov 18 11:55 omw-1.4.zip\n",
      "-rw-r--r-- 1 jovyan users 12110409 Nov 18 11:55 omw.zip\n",
      "drwxr-sr-x 2 jovyan users     4096 Sep  2 16:55 wordnet_ic\n",
      "-rw-r--r-- 1 jovyan users 12056682 Sep  2 16:55 wordnet_ic.zip\n",
      "-rw-r--r-- 1 jovyan users 10775600 Sep  2 16:56 wordnet.zip\n"
     ]
    }
   ],
   "source": [
    "!cd ../nltk_data/corpora/ && ls -la"
   ]
  },
  {
   "cell_type": "code",
   "execution_count": 12,
   "metadata": {
    "scrolled": true,
    "tags": []
   },
   "outputs": [
    {
     "name": "stdout",
     "output_type": "stream",
     "text": [
      "Archive:  omw-1.4.zip\n",
      "   creating: omw-1.4/\n",
      "   creating: omw-1.4/fin/\n",
      "  inflating: omw-1.4/fin/LICENSE     \n",
      "  inflating: omw-1.4/fin/citation.bib  \n",
      "  inflating: omw-1.4/fin/wn-data-fin.tab  \n",
      "   creating: omw-1.4/heb/\n",
      "  inflating: omw-1.4/heb/LICENSE     \n",
      "  inflating: omw-1.4/heb/citation.bib  \n",
      "  inflating: omw-1.4/heb/README      \n",
      "  inflating: omw-1.4/heb/wn-data-heb.tab  \n",
      "   creating: omw-1.4/slv/\n",
      "  inflating: omw-1.4/slv/LICENSE     \n",
      "  inflating: omw-1.4/slv/citation.bib  \n",
      "  inflating: omw-1.4/slv/README      \n",
      "  inflating: omw-1.4/slv/wn-data-slv.tab  \n",
      "   creating: omw-1.4/ita/\n",
      "  inflating: omw-1.4/ita/LICENSE     \n",
      "  inflating: omw-1.4/ita/citation.bib  \n",
      "  inflating: omw-1.4/ita/wn-data-ita.tab  \n",
      " extracting: omw-1.4/ita/README      \n",
      "   creating: omw-1.4/nor/\n",
      "  inflating: omw-1.4/nor/LICENSE     \n",
      "  inflating: omw-1.4/nor/citation.bib  \n",
      "  inflating: omw-1.4/nor/README      \n",
      "  inflating: omw-1.4/nor/wn-data-nno.tab  \n",
      "  inflating: omw-1.4/nor/wn-data-nob.tab  \n",
      "   creating: omw-1.4/als/\n",
      "  inflating: omw-1.4/als/wn-data-als.tab  \n",
      "  inflating: omw-1.4/als/LICENSE     \n",
      "  inflating: omw-1.4/als/citation.bib  \n",
      "  inflating: omw-1.4/als/README      \n",
      "   creating: omw-1.4/pol/\n",
      "  inflating: omw-1.4/pol/LICENSE     \n",
      "  inflating: omw-1.4/pol/citation.bib  \n",
      "  inflating: omw-1.4/pol/wn-data-pol.tab  \n",
      "   creating: omw-1.4/hrv/\n",
      " extracting: omw-1.4/hrv/LICENSE     \n",
      "  inflating: omw-1.4/hrv/citation.bib  \n",
      "  inflating: omw-1.4/hrv/wn-data-hrv.tab  \n",
      "  inflating: omw-1.4/hrv/README      \n",
      "  inflating: omw-1.4/citation.bib    \n",
      "   creating: omw-1.4/iwn/\n",
      "  inflating: omw-1.4/iwn/LICENSE     \n",
      "  inflating: omw-1.4/iwn/citation.bib  \n",
      "  inflating: omw-1.4/iwn/wn-data-ita.tab  \n",
      "  inflating: omw-1.4/iwn/README      \n",
      "   creating: omw-1.4/nld/\n",
      "  inflating: omw-1.4/nld/LICENSE     \n",
      "  inflating: omw-1.4/nld/wn-data-nld.tab  \n",
      "  inflating: omw-1.4/nld/citation.bib  \n",
      "   creating: omw-1.4/ron/\n",
      "  inflating: omw-1.4/ron/LICENSE     \n",
      "  inflating: omw-1.4/ron/citation.bib  \n",
      "  inflating: omw-1.4/ron/wn-data-ron.tab  \n",
      "  inflating: omw-1.4/ron/README      \n",
      "   creating: omw-1.4/arb/\n",
      "  inflating: omw-1.4/arb/LICENSE     \n",
      "  inflating: omw-1.4/arb/citation.bib  \n",
      "  inflating: omw-1.4/arb/README      \n",
      "  inflating: omw-1.4/arb/wn-data-arb.tab  \n",
      "   creating: omw-1.4/isl/\n",
      "  inflating: omw-1.4/isl/LICENSE     \n",
      "  inflating: omw-1.4/isl/citation.bib  \n",
      "  inflating: omw-1.4/isl/README      \n",
      "  inflating: omw-1.4/isl/wn-data-isl.tab  \n",
      "   creating: omw-1.4/swe/\n",
      "  inflating: omw-1.4/swe/LICENSE     \n",
      "  inflating: omw-1.4/swe/citation.bib  \n",
      "  inflating: omw-1.4/swe/README      \n",
      "  inflating: omw-1.4/swe/wn-data-swe.tab  \n",
      "   creating: omw-1.4/por/\n",
      "  inflating: omw-1.4/por/LICENSE     \n",
      "  inflating: omw-1.4/por/citation.bib  \n",
      "  inflating: omw-1.4/por/wn-data-por.tab  \n",
      "  inflating: omw-1.4/por/README      \n",
      "  inflating: omw-1.4/README          \n",
      "   creating: omw-1.4/cow/\n",
      "  inflating: omw-1.4/cow/wn-data-cmn.tab  \n",
      "  inflating: omw-1.4/cow/LICENSE     \n",
      "  inflating: omw-1.4/cow/citation.bib  \n",
      "   creating: omw-1.4/jpn/\n",
      "  inflating: omw-1.4/jpn/LICENSE     \n",
      "  inflating: omw-1.4/jpn/citation.bib  \n",
      "  inflating: omw-1.4/jpn/README      \n",
      "  inflating: omw-1.4/jpn/wn-data-jpn.tab  \n",
      "   creating: omw-1.4/dan/\n",
      "  inflating: omw-1.4/dan/LICENSE     \n",
      "  inflating: omw-1.4/dan/citation.bib  \n",
      "  inflating: omw-1.4/dan/wn-data-dan.tab  \n",
      "   creating: omw-1.4/slk/\n",
      "  inflating: omw-1.4/slk/LICENSE     \n",
      "  inflating: omw-1.4/slk/citation.bib  \n",
      "  inflating: omw-1.4/slk/wn-data-slk.tab  \n",
      "  inflating: omw-1.4/slk/wn-data-lit.tab  \n",
      "  inflating: omw-1.4/slk/README      \n",
      "   creating: omw-1.4/bul/\n",
      "  inflating: omw-1.4/bul/LICENSE     \n",
      "  inflating: omw-1.4/bul/citation.bib  \n",
      "  inflating: omw-1.4/bul/wn-data-bul.tab  \n",
      "  inflating: omw-1.4/bul/README      \n",
      "   creating: omw-1.4/mcr/\n",
      "  inflating: omw-1.4/mcr/LICENSE     \n",
      "  inflating: omw-1.4/mcr/citation.bib  \n",
      "  inflating: omw-1.4/mcr/wn-data-eus.tab  \n",
      "  inflating: omw-1.4/mcr/wn-data-cat.tab  \n",
      "  inflating: omw-1.4/mcr/wn-data-glg.tab  \n",
      "  inflating: omw-1.4/mcr/wn-data-spa.tab  \n",
      "   creating: omw-1.4/ell/\n",
      "  inflating: omw-1.4/ell/LICENSE     \n",
      "  inflating: omw-1.4/ell/wn-data-ell.tab  \n",
      "  inflating: omw-1.4/ell/README      \n",
      "   creating: omw-1.4/msa/\n",
      "  inflating: omw-1.4/msa/LICENSE     \n",
      "  inflating: omw-1.4/msa/citation.bib  \n",
      "  inflating: omw-1.4/msa/wn-data-zsm.tab  \n",
      "  inflating: omw-1.4/msa/wn-data-ind.tab  \n",
      "  inflating: omw-1.4/msa/README      \n",
      "   creating: omw-1.4/fra/\n",
      "  inflating: omw-1.4/fra/LICENSE     \n",
      "  inflating: omw-1.4/fra/citation.bib  \n",
      "  inflating: omw-1.4/fra/wn-data-fra.tab  \n",
      "   creating: omw-1.4/tha/\n",
      "  inflating: omw-1.4/tha/LICENSE     \n",
      "  inflating: omw-1.4/tha/citation.bib  \n",
      "  inflating: omw-1.4/tha/wn-data-tha.tab  \n"
     ]
    }
   ],
   "source": [
    "!cd ../nltk_data/corpora/ && unzip omw-1.4.zip"
   ]
  },
  {
   "cell_type": "code",
   "execution_count": 14,
   "metadata": {},
   "outputs": [
    {
     "name": "stdout",
     "output_type": "stream",
     "text": [
      "total 128\n",
      "drwxr-sr-x 27 jovyan users  4096 Dec  9  2021 .\n",
      "drwxr-sr-x  4 jovyan users  4096 Nov 18 11:53 ..\n",
      "drwxr-sr-x  2 jovyan users  4096 Dec  5  2021 als\n",
      "drwxr-sr-x  2 jovyan users  4096 Dec  5  2021 arb\n",
      "drwxr-sr-x  2 jovyan users  4096 Dec  5  2021 bul\n",
      "-rw-r--r--  1 jovyan users 13562 Dec  5  2021 citation.bib\n",
      "drwxr-sr-x  2 jovyan users  4096 Dec  5  2021 cow\n",
      "drwxr-sr-x  2 jovyan users  4096 Dec  5  2021 dan\n",
      "drwxr-sr-x  2 jovyan users  4096 Dec  5  2021 ell\n",
      "drwxr-sr-x  2 jovyan users  4096 Dec  5  2021 fin\n",
      "drwxr-sr-x  2 jovyan users  4096 Dec  5  2021 fra\n",
      "drwxr-sr-x  2 jovyan users  4096 Dec  5  2021 heb\n",
      "drwxr-sr-x  2 jovyan users  4096 Dec  5  2021 hrv\n",
      "drwxr-sr-x  2 jovyan users  4096 Dec  5  2021 isl\n",
      "drwxr-sr-x  2 jovyan users  4096 Dec  5  2021 ita\n",
      "drwxr-sr-x  2 jovyan users  4096 Dec  5  2021 iwn\n",
      "drwxr-sr-x  2 jovyan users  4096 Dec  5  2021 jpn\n",
      "drwxr-sr-x  2 jovyan users  4096 Dec  5  2021 mcr\n",
      "drwxr-sr-x  2 jovyan users  4096 Dec  5  2021 msa\n",
      "drwxr-sr-x  2 jovyan users  4096 Dec  5  2021 nld\n",
      "drwxr-sr-x  2 jovyan users  4096 Dec  5  2021 nor\n",
      "drwxr-sr-x  2 jovyan users  4096 Dec  5  2021 pol\n",
      "drwxr-sr-x  2 jovyan users  4096 Dec  5  2021 por\n",
      "-rw-r--r--  1 jovyan users  2214 Dec  5  2021 README\n",
      "drwxr-sr-x  2 jovyan users  4096 Dec  5  2021 ron\n",
      "drwxr-sr-x  2 jovyan users  4096 Dec  5  2021 slk\n",
      "drwxr-sr-x  2 jovyan users  4096 Dec  5  2021 slv\n",
      "drwxr-sr-x  2 jovyan users  4096 Dec  5  2021 swe\n",
      "drwxr-sr-x  2 jovyan users  4096 Dec  5  2021 tha\n"
     ]
    }
   ],
   "source": [
    "!ls -la ../nltk_data/corpora/omw-1.4"
   ]
  },
  {
   "cell_type": "code",
   "execution_count": 18,
   "metadata": {},
   "outputs": [
    {
     "name": "stdout",
     "output_type": "stream",
     "text": [
      "head: cannot open '../nltk_data/corpora/omw/qcn/wn-data-qcn.tab' for reading: No such file or directory\n"
     ]
    }
   ],
   "source": [
    "!head -10 ../nltk_data/corpora/omw/qcn/wn-data-qcn.tab"
   ]
  },
  {
   "cell_type": "code",
   "execution_count": 15,
   "metadata": {},
   "outputs": [
    {
     "data": {
      "text/plain": [
       "[Synset('adding_machine.n.01'),\n",
       " Synset('calculator.n.02'),\n",
       " Synset('computer.n.01')]"
      ]
     },
     "execution_count": 15,
     "metadata": {},
     "output_type": "execute_result"
    }
   ],
   "source": [
    "wn.synsets('计算机', lang='cmn')"
   ]
  },
  {
   "cell_type": "code",
   "execution_count": 16,
   "metadata": {},
   "outputs": [
    {
     "ename": "WordNetError",
     "evalue": "Language is not supported.",
     "output_type": "error",
     "traceback": [
      "\u001b[0;31m---------------------------------------------------------------------------\u001b[0m",
      "\u001b[0;31mWordNetError\u001b[0m                              Traceback (most recent call last)",
      "Input \u001b[0;32mIn [16]\u001b[0m, in \u001b[0;36m<cell line: 1>\u001b[0;34m()\u001b[0m\n\u001b[0;32m----> 1\u001b[0m \u001b[43mwn\u001b[49m\u001b[38;5;241;43m.\u001b[39;49m\u001b[43msynsets\u001b[49m\u001b[43m(\u001b[49m\u001b[38;5;124;43m'\u001b[39;49m\u001b[38;5;124;43m呼吸\u001b[39;49m\u001b[38;5;124;43m'\u001b[39;49m\u001b[43m,\u001b[49m\u001b[43m \u001b[49m\u001b[43mlang\u001b[49m\u001b[38;5;241;43m=\u001b[39;49m\u001b[38;5;124;43m'\u001b[39;49m\u001b[38;5;124;43mqcn\u001b[39;49m\u001b[38;5;124;43m'\u001b[39;49m\u001b[43m)\u001b[49m\n",
      "File \u001b[0;32m/opt/conda/lib/python3.9/site-packages/nltk/corpus/reader/wordnet.py:1708\u001b[0m, in \u001b[0;36mWordNetCorpusReader.synsets\u001b[0;34m(self, lemma, pos, lang, check_exceptions)\u001b[0m\n\u001b[1;32m   1700\u001b[0m     \u001b[38;5;28;01mreturn\u001b[39;00m [\n\u001b[1;32m   1701\u001b[0m         get_synset(p, offset)\n\u001b[1;32m   1702\u001b[0m         \u001b[38;5;28;01mfor\u001b[39;00m p \u001b[38;5;129;01min\u001b[39;00m pos\n\u001b[1;32m   1703\u001b[0m         \u001b[38;5;28;01mfor\u001b[39;00m form \u001b[38;5;129;01min\u001b[39;00m \u001b[38;5;28mself\u001b[39m\u001b[38;5;241m.\u001b[39m_morphy(lemma, p, check_exceptions)\n\u001b[1;32m   1704\u001b[0m         \u001b[38;5;28;01mfor\u001b[39;00m offset \u001b[38;5;129;01min\u001b[39;00m index[form]\u001b[38;5;241m.\u001b[39mget(p, [])\n\u001b[1;32m   1705\u001b[0m     ]\n\u001b[1;32m   1707\u001b[0m \u001b[38;5;28;01melse\u001b[39;00m:\n\u001b[0;32m-> 1708\u001b[0m     \u001b[38;5;28;43mself\u001b[39;49m\u001b[38;5;241;43m.\u001b[39;49m\u001b[43m_load_lang_data\u001b[49m\u001b[43m(\u001b[49m\u001b[43mlang\u001b[49m\u001b[43m)\u001b[49m\n\u001b[1;32m   1709\u001b[0m     synset_list \u001b[38;5;241m=\u001b[39m []\n\u001b[1;32m   1710\u001b[0m     \u001b[38;5;28;01mif\u001b[39;00m lemma \u001b[38;5;129;01min\u001b[39;00m \u001b[38;5;28mself\u001b[39m\u001b[38;5;241m.\u001b[39m_lang_data[lang][\u001b[38;5;241m1\u001b[39m]:\n",
      "File \u001b[0;32m/opt/conda/lib/python3.9/site-packages/nltk/corpus/reader/wordnet.py:1274\u001b[0m, in \u001b[0;36mWordNetCorpusReader._load_lang_data\u001b[0;34m(self, lang)\u001b[0m\n\u001b[1;32m   1271\u001b[0m     \u001b[38;5;28;01mreturn\u001b[39;00m\n\u001b[1;32m   1273\u001b[0m \u001b[38;5;28;01mif\u001b[39;00m lang \u001b[38;5;129;01mnot\u001b[39;00m \u001b[38;5;129;01min\u001b[39;00m \u001b[38;5;28mself\u001b[39m\u001b[38;5;241m.\u001b[39mlangs():\n\u001b[0;32m-> 1274\u001b[0m     \u001b[38;5;28;01mraise\u001b[39;00m WordNetError(\u001b[38;5;124m\"\u001b[39m\u001b[38;5;124mLanguage is not supported.\u001b[39m\u001b[38;5;124m\"\u001b[39m)\n\u001b[1;32m   1276\u001b[0m \u001b[38;5;28;01mwith\u001b[39;00m \u001b[38;5;28mself\u001b[39m\u001b[38;5;241m.\u001b[39m_omw_reader\u001b[38;5;241m.\u001b[39mopen(\n\u001b[1;32m   1277\u001b[0m     \u001b[38;5;124mf\u001b[39m\u001b[38;5;124m\"\u001b[39m\u001b[38;5;132;01m{\u001b[39;00m\u001b[38;5;28mself\u001b[39m\u001b[38;5;241m.\u001b[39mprovenances[lang]\u001b[38;5;132;01m}\u001b[39;00m\u001b[38;5;124m/wn-data-\u001b[39m\u001b[38;5;132;01m{\u001b[39;00mlang\u001b[38;5;241m.\u001b[39msplit(\u001b[38;5;124m'\u001b[39m\u001b[38;5;124m_\u001b[39m\u001b[38;5;124m'\u001b[39m)[\u001b[38;5;241m0\u001b[39m]\u001b[38;5;132;01m}\u001b[39;00m\u001b[38;5;124m.tab\u001b[39m\u001b[38;5;124m\"\u001b[39m\n\u001b[1;32m   1278\u001b[0m ) \u001b[38;5;28;01mas\u001b[39;00m fp:\n\u001b[1;32m   1279\u001b[0m     \u001b[38;5;28mself\u001b[39m\u001b[38;5;241m.\u001b[39mcustom_lemmas(fp, lang)\n",
      "\u001b[0;31mWordNetError\u001b[0m: Language is not supported."
     ]
    }
   ],
   "source": [
    "wn.synsets('呼吸', lang='qcn')"
   ]
  },
  {
   "cell_type": "markdown",
   "metadata": {},
   "source": [
    "### 查詢car"
   ]
  },
  {
   "cell_type": "code",
   "execution_count": null,
   "metadata": {},
   "outputs": [],
   "source": [
    "wn.synsets('car')"
   ]
  },
  {
   "cell_type": "markdown",
   "metadata": {},
   "source": [
    "這裡輸出了五個不同的synset (同義詞集合), 表示car 有五種不同的意思(不同的同義詞群組)"
   ]
  },
  {
   "cell_type": "code",
   "execution_count": null,
   "metadata": {},
   "outputs": [],
   "source": [
    "car = wn.synset('car.n.01')"
   ]
  },
  {
   "cell_type": "code",
   "execution_count": null,
   "metadata": {},
   "outputs": [],
   "source": [
    "car.definition()"
   ]
  },
  {
   "cell_type": "code",
   "execution_count": null,
   "metadata": {},
   "outputs": [],
   "source": [
    "car_2 = wn.synset('car.n.02')"
   ]
  },
  {
   "cell_type": "code",
   "execution_count": null,
   "metadata": {},
   "outputs": [],
   "source": [
    "car_2.definition()"
   ]
  },
  {
   "cell_type": "code",
   "execution_count": null,
   "metadata": {},
   "outputs": [],
   "source": [
    "car.lemma_names()"
   ]
  },
  {
   "cell_type": "markdown",
   "metadata": {},
   "source": [
    "利用lemma_name 可以了解 car 這個字，把auto, automobile, machine, motocar 定義為同義詞"
   ]
  },
  {
   "cell_type": "markdown",
   "metadata": {},
   "source": [
    "### 接下來看 \"上位詞\""
   ]
  },
  {
   "cell_type": "code",
   "execution_count": null,
   "metadata": {},
   "outputs": [],
   "source": [
    "car.hypernym_paths()[0]"
   ]
  },
  {
   "cell_type": "markdown",
   "metadata": {},
   "source": [
    "愈往上，愈抽象；愈往下，愈具體。"
   ]
  },
  {
   "cell_type": "markdown",
   "metadata": {},
   "source": [
    "接下來看 Wrodnet的詞意相似度"
   ]
  },
  {
   "cell_type": "code",
   "execution_count": null,
   "metadata": {},
   "outputs": [],
   "source": [
    "car = wn.synset('car.n.01')"
   ]
  },
  {
   "cell_type": "code",
   "execution_count": null,
   "metadata": {},
   "outputs": [],
   "source": [
    "novel = wn.synset('novel.n.01')"
   ]
  },
  {
   "cell_type": "code",
   "execution_count": null,
   "metadata": {},
   "outputs": [],
   "source": [
    "dog = wn.synset('dog.n.01')"
   ]
  },
  {
   "cell_type": "code",
   "execution_count": null,
   "metadata": {},
   "outputs": [],
   "source": [
    "motorcycle = wn.synset('motorcycle.n.01')"
   ]
  },
  {
   "cell_type": "code",
   "execution_count": null,
   "metadata": {},
   "outputs": [],
   "source": [
    "car.path_similarity(novel)"
   ]
  },
  {
   "cell_type": "code",
   "execution_count": null,
   "metadata": {},
   "outputs": [],
   "source": [
    "car.path_similarity(dog)"
   ]
  },
  {
   "cell_type": "code",
   "execution_count": null,
   "metadata": {},
   "outputs": [],
   "source": [
    "car.path_similarity(motorcycle)"
   ]
  },
  {
   "cell_type": "code",
   "execution_count": null,
   "metadata": {},
   "outputs": [],
   "source": [
    "cat = wn.synset('cat.n.01')"
   ]
  },
  {
   "cell_type": "code",
   "execution_count": null,
   "metadata": {},
   "outputs": [],
   "source": [
    "car.path_similarity(cat)"
   ]
  },
  {
   "cell_type": "code",
   "execution_count": null,
   "metadata": {},
   "outputs": [],
   "source": [
    "covid-19 = wn.synset('covid-19')"
   ]
  },
  {
   "cell_type": "markdown",
   "metadata": {},
   "source": [
    "### 分詞"
   ]
  },
  {
   "cell_type": "code",
   "execution_count": null,
   "metadata": {},
   "outputs": [],
   "source": [
    "from nltk.tokenize import word_tokenize"
   ]
  },
  {
   "cell_type": "code",
   "execution_count": null,
   "metadata": {},
   "outputs": [],
   "source": [
    "# https://www.space.com/norad-tracks-santa-claus-trip-to-international-space-station\n",
    "string = \"NORAD regularly tracks Santa's trip around the world each Christmas, but this year is a bit different.\""
   ]
  },
  {
   "cell_type": "code",
   "execution_count": null,
   "metadata": {},
   "outputs": [],
   "source": [
    "nltk.download('punkt')"
   ]
  },
  {
   "cell_type": "code",
   "execution_count": null,
   "metadata": {},
   "outputs": [],
   "source": [
    "word_tokenize(string)"
   ]
  },
  {
   "cell_type": "markdown",
   "metadata": {},
   "source": [
    "### 詞性"
   ]
  },
  {
   "cell_type": "markdown",
   "metadata": {},
   "source": [
    "##### 詞性說明: https://www.ling.upenn.edu/courses/Fall_2003/ling001/penn_treebank_pos.html"
   ]
  },
  {
   "cell_type": "code",
   "execution_count": null,
   "metadata": {},
   "outputs": [],
   "source": [
    "from nltk import pos_tag"
   ]
  },
  {
   "cell_type": "code",
   "execution_count": null,
   "metadata": {},
   "outputs": [],
   "source": [
    "nltk.download('averaged_perceptron_tagger')"
   ]
  },
  {
   "cell_type": "code",
   "execution_count": null,
   "metadata": {},
   "outputs": [],
   "source": [
    "pos_tag(word_tokenize(string))"
   ]
  },
  {
   "cell_type": "markdown",
   "metadata": {},
   "source": [
    "### 做 stemming"
   ]
  },
  {
   "cell_type": "code",
   "execution_count": null,
   "metadata": {},
   "outputs": [],
   "source": [
    "from nltk.stem.porter import PorterStemmer"
   ]
  },
  {
   "cell_type": "code",
   "execution_count": null,
   "metadata": {},
   "outputs": [],
   "source": [
    "porter = PorterStemmer()"
   ]
  },
  {
   "cell_type": "code",
   "execution_count": null,
   "metadata": {},
   "outputs": [],
   "source": [
    "[porter.stem(word) for word in word_tokenize(string)]"
   ]
  },
  {
   "cell_type": "code",
   "execution_count": null,
   "metadata": {},
   "outputs": [],
   "source": [
    "pos_tag([porter.stem(word) for word in word_tokenize(string)])"
   ]
  },
  {
   "cell_type": "markdown",
   "metadata": {},
   "source": [
    "### 分句"
   ]
  },
  {
   "cell_type": "code",
   "execution_count": null,
   "metadata": {},
   "outputs": [],
   "source": [
    "strs = \"NORAD regularly tracks Santa's trip around the world each Christmas, but this year is a bit different. On Wednesday (Dec. 23), the Federal Aviation Administration gave Santa and his reindeer-powered sleigh an official commercial space license for launches and landings\""
   ]
  },
  {
   "cell_type": "code",
   "execution_count": null,
   "metadata": {},
   "outputs": [],
   "source": [
    "from nltk.tokenize import sent_tokenize"
   ]
  },
  {
   "cell_type": "code",
   "execution_count": null,
   "metadata": {},
   "outputs": [],
   "source": [
    "sent_tokenize(strs)"
   ]
  },
  {
   "cell_type": "code",
   "execution_count": null,
   "metadata": {},
   "outputs": [],
   "source": []
  }
 ],
 "metadata": {
  "kernelspec": {
   "display_name": "Python 3 (ipykernel)",
   "language": "python",
   "name": "python3"
  },
  "language_info": {
   "codemirror_mode": {
    "name": "ipython",
    "version": 3
   },
   "file_extension": ".py",
   "mimetype": "text/x-python",
   "name": "python",
   "nbconvert_exporter": "python",
   "pygments_lexer": "ipython3",
   "version": "3.9.10"
  }
 },
 "nbformat": 4,
 "nbformat_minor": 4
}
