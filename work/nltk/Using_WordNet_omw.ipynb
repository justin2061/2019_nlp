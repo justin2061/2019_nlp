{
 "cells": [
  {
   "cell_type": "code",
   "execution_count": 1,
   "metadata": {},
   "outputs": [],
   "source": [
    "!pip install -q nltk"
   ]
  },
  {
   "cell_type": "markdown",
   "metadata": {},
   "source": [
    "WordNet 的維基百科說明： https://zh.wikipedia.org/wiki/WordNet"
   ]
  },
  {
   "cell_type": "code",
   "execution_count": 2,
   "metadata": {
    "scrolled": true,
    "tags": []
   },
   "outputs": [
    {
     "name": "stdout",
     "output_type": "stream",
     "text": [
      "total 52\n",
      "drwxr-sr-x 12 jovyan users 4096 Dec 23 11:38 .\n",
      "drwsrws---  1 jovyan users 4096 Dec 23 11:36 ..\n",
      "drwxr-sr-x  3 jovyan users 4096 Dec 23 11:37 chunkers\n",
      "drwxr-sr-x 73 jovyan users 4096 Dec 23 11:38 corpora\n",
      "drwxr-sr-x  7 jovyan users 4096 Dec 23 11:38 grammars\n",
      "drwxr-sr-x  3 jovyan users 4096 Dec 23 11:38 help\n",
      "drwxr-sr-x  4 jovyan users 4096 Dec 23 11:37 misc\n",
      "drwxr-sr-x  6 jovyan users 4096 Dec 23 11:38 models\n",
      "drwxr-sr-x  2 jovyan users 4096 Dec 23 11:38 sentiment\n",
      "drwxr-sr-x  4 jovyan users 4096 Dec 23 11:38 stemmers\n",
      "drwxr-sr-x  6 jovyan users 4096 Dec 23 11:38 taggers\n",
      "drwxr-sr-x  3 jovyan users 4096 Dec 23 11:37 tokenizers\n"
     ]
    }
   ],
   "source": [
    "!ls -la /home/jovyan/nltk_data"
   ]
  },
  {
   "cell_type": "code",
   "execution_count": 3,
   "metadata": {
    "scrolled": true,
    "tags": []
   },
   "outputs": [
    {
     "name": "stdout",
     "output_type": "stream",
     "text": [
      "total 582068\n",
      "drwxr-sr-x 73 jovyan users     4096 Dec 23 11:38 .\n",
      "drwxr-sr-x 12 jovyan users     4096 Dec 23 11:38 ..\n",
      "drwxr-sr-x  2 jovyan users     4096 Dec 23 11:36 abc\n",
      "-rw-r--r--  1 jovyan users  1487851 Dec 23 11:36 abc.zip\n",
      "drwxr-sr-x  2 jovyan users     4096 Dec 23 11:36 alpino\n",
      "-rw-r--r--  1 jovyan users  2797255 Dec 23 11:36 alpino.zip\n",
      "-rw-r--r--  1 jovyan users   222952 Dec 23 11:36 bcp47.zip\n",
      "drwxr-sr-x  2 jovyan users     4096 Dec 23 11:36 biocreative_ppi\n",
      "-rw-r--r--  1 jovyan users   223566 Dec 23 11:36 biocreative_ppi.zip\n",
      "drwxr-sr-x  2 jovyan users    12288 Dec 23 11:36 brown\n",
      "drwxr-sr-x  2 jovyan users    16384 Dec 23 11:36 brown_tei\n",
      "-rw-r--r--  1 jovyan users  8737738 Dec 23 11:36 brown_tei.zip\n",
      "-rw-r--r--  1 jovyan users  3314357 Dec 23 11:36 brown.zip\n",
      "drwxr-sr-x  2 jovyan users    57344 Dec 23 11:36 cess_cat\n",
      "-rw-r--r--  1 jovyan users  5396688 Dec 23 11:36 cess_cat.zip\n",
      "drwxr-sr-x  2 jovyan users    20480 Dec 23 11:36 cess_esp\n",
      "-rw-r--r--  1 jovyan users  2220392 Dec 23 11:36 cess_esp.zip\n",
      "drwxr-sr-x  2 jovyan users     4096 Dec 23 11:36 chat80\n",
      "-rw-r--r--  1 jovyan users    19209 Dec 23 11:36 chat80.zip\n",
      "drwxr-sr-x  2 jovyan users     4096 Dec 23 11:36 city_database\n",
      "-rw-r--r--  1 jovyan users     1708 Dec 23 11:36 city_database.zip\n",
      "drwxr-sr-x  2 jovyan users     4096 Dec 23 11:36 cmudict\n",
      "-rw-r--r--  1 jovyan users   896069 Dec 23 11:36 cmudict.zip\n",
      "drwxr-sr-x  2 jovyan users     4096 Dec 23 11:36 comparative_sentences\n",
      "-rw-r--r--  1 jovyan users   279121 Dec 23 11:36 comparative_sentences.zip\n",
      "-rw-r--r--  1 jovyan users 11904518 Dec 23 11:36 comtrans.zip\n",
      "drwxr-sr-x  2 jovyan users     4096 Dec 23 11:36 conll2000\n",
      "-rw-r--r--  1 jovyan users   756607 Dec 23 11:36 conll2000.zip\n",
      "drwxr-sr-x  2 jovyan users     4096 Dec 23 11:36 conll2002\n",
      "-rw-r--r--  1 jovyan users  1867449 Dec 23 11:36 conll2002.zip\n",
      "-rw-r--r--  1 jovyan users  1242958 Dec 23 11:36 conll2007.zip\n",
      "drwxr-sr-x  2 jovyan users    20480 Dec 23 11:36 crubadan\n",
      "-rw-r--r--  1 jovyan users  5288655 Dec 23 11:36 crubadan.zip\n",
      "drwxr-sr-x  2 jovyan users     4096 Dec 23 11:36 dependency_treebank\n",
      "-rw-r--r--  1 jovyan users   457429 Dec 23 11:36 dependency_treebank.zip\n",
      "drwxr-sr-x  2 jovyan users     4096 Dec 23 11:36 dolch\n",
      "-rw-r--r--  1 jovyan users     2116 Dec 23 11:36 dolch.zip\n",
      "drwxr-sr-x 13 jovyan users     4096 Dec 23 11:36 europarl_raw\n",
      "-rw-r--r--  1 jovyan users 12594977 Dec 23 11:36 europarl_raw.zip\n",
      "-rw-r--r--  1 jovyan users 11251284 Dec 23 11:36 extended_omw.zip\n",
      "drwxr-sr-x  2 jovyan users     4096 Dec 23 11:36 floresta\n",
      "-rw-r--r--  1 jovyan users  1882021 Dec 23 11:36 floresta.zip\n",
      "drwxr-sr-x  7 jovyan users     4096 Dec 23 11:36 framenet_v15\n",
      "-rw-r--r--  1 jovyan users 69337891 Dec 23 11:36 framenet_v15.zip\n",
      "drwxr-sr-x  8 jovyan users     4096 Dec 23 11:37 framenet_v17\n",
      "-rw-r--r--  1 jovyan users 99207152 Dec 23 11:37 framenet_v17.zip\n",
      "drwxr-sr-x  2 jovyan users     4096 Dec 23 11:37 gazetteers\n",
      "-rw-r--r--  1 jovyan users     8265 Dec 23 11:37 gazetteers.zip\n",
      "drwxr-sr-x  2 jovyan users     4096 Dec 23 11:37 genesis\n",
      "-rw-r--r--  1 jovyan users   473239 Dec 23 11:37 genesis.zip\n",
      "drwxr-sr-x  2 jovyan users     4096 Dec 23 11:37 gutenberg\n",
      "-rw-r--r--  1 jovyan users  4251829 Dec 23 11:37 gutenberg.zip\n",
      "drwxr-sr-x  2 jovyan users     4096 Dec 23 11:37 ieer\n",
      "-rw-r--r--  1 jovyan users   166156 Dec 23 11:37 ieer.zip\n",
      "drwxr-sr-x  2 jovyan users     4096 Dec 23 11:37 inaugural\n",
      "-rw-r--r--  1 jovyan users   346476 Dec 23 11:37 inaugural.zip\n",
      "drwxr-sr-x  2 jovyan users     4096 Dec 23 11:37 indian\n",
      "-rw-r--r--  1 jovyan users   199187 Dec 23 11:37 indian.zip\n",
      "-rw-r--r--  1 jovyan users 16531215 Dec 23 11:37 jeita.zip\n",
      "drwxr-sr-x  2 jovyan users     4096 Dec 23 11:37 kimmo\n",
      "-rw-r--r--  1 jovyan users   186958 Dec 23 11:37 kimmo.zip\n",
      "-rw-r--r--  1 jovyan users  8760788 Dec 23 11:37 knbc.zip\n",
      "drwxr-sr-x  2 jovyan users     4096 Dec 23 11:37 lin_thesaurus\n",
      "-rw-r--r--  1 jovyan users 89154019 Dec 23 11:37 lin_thesaurus.zip\n",
      "-rw-r--r--  1 jovyan users  6151774 Dec 23 11:37 machado.zip\n",
      "drwxr-sr-x  2 jovyan users     4096 Dec 23 11:37 mac_morpho\n",
      "-rw-r--r--  1 jovyan users  3013904 Dec 23 11:37 mac_morpho.zip\n",
      "-rw-r--r--  1 jovyan users  1602143 Dec 23 11:37 masc_tagged.zip\n",
      "drwxr-sr-x  4 jovyan users     4096 Dec 23 11:37 movie_reviews\n",
      "-rw-r--r--  1 jovyan users  4004848 Dec 23 11:37 movie_reviews.zip\n",
      "drwxr-sr-x  3 jovyan users     4096 Dec 23 11:37 mte_teip5\n",
      "-rw-r--r--  1 jovyan users 14800561 Dec 23 11:37 mte_teip5.zip\n",
      "drwxr-sr-x  2 jovyan users     4096 Dec 23 11:37 names\n",
      "-rw-r--r--  1 jovyan users    21326 Dec 23 11:37 names.zip\n",
      "-rw-r--r--  1 jovyan users  6728397 Dec 23 11:37 nombank.1.0.zip\n",
      "drwxr-sr-x  2 jovyan users     4096 Dec 23 11:37 nonbreaking_prefixes\n",
      "-rw-r--r--  1 jovyan users    25437 Dec 23 11:37 nonbreaking_prefixes.zip\n",
      "drwxr-sr-x  2 jovyan users     4096 Dec 23 11:37 nps_chat\n",
      "-rw-r--r--  1 jovyan users   301366 Dec 23 11:37 nps_chat.zip\n",
      "-rw-r--r--  1 jovyan users 26634772 Dec 23 11:37 omw-1.4.zip\n",
      "-rw-r--r--  1 jovyan users 12110409 Dec 23 11:37 omw.zip\n",
      "drwxr-sr-x  2 jovyan users     4096 Dec 23 11:37 opinion_lexicon\n",
      "-rw-r--r--  1 jovyan users    24947 Dec 23 11:37 opinion_lexicon.zip\n",
      "-rw-r--r--  1 jovyan users  2861668 Dec 23 11:37 panlex_swadesh.zip\n",
      "drwxr-sr-x  2 jovyan users     4096 Dec 23 11:37 paradigms\n",
      "-rw-r--r--  1 jovyan users    24902 Dec 23 11:37 paradigms.zip\n",
      "drwxr-sr-x  2 jovyan users     4096 Dec 23 11:37 pe08\n",
      "-rw-r--r--  1 jovyan users    80735 Dec 23 11:37 pe08.zip\n",
      "drwxr-sr-x  2 jovyan users    20480 Dec 23 11:37 pil\n",
      "-rw-r--r--  1 jovyan users  1510205 Dec 23 11:37 pil.zip\n",
      "drwxr-sr-x  2 jovyan users     4096 Dec 23 11:37 pl196x\n",
      "-rw-r--r--  1 jovyan users  7051453 Dec 23 11:37 pl196x.zip\n",
      "drwxr-sr-x  2 jovyan users     4096 Dec 23 11:37 ppattach\n",
      "-rw-r--r--  1 jovyan users   781714 Dec 23 11:37 ppattach.zip\n",
      "drwxr-sr-x  2 jovyan users     4096 Dec 23 11:37 problem_reports\n",
      "-rw-r--r--  1 jovyan users  1032942 Dec 23 11:37 problem_reports.zip\n",
      "drwxr-sr-x  2 jovyan users     4096 Dec 23 11:37 product_reviews_1\n",
      "-rw-r--r--  1 jovyan users   141287 Dec 23 11:37 product_reviews_1.zip\n",
      "drwxr-sr-x  2 jovyan users     4096 Dec 23 11:37 product_reviews_2\n",
      "-rw-r--r--  1 jovyan users   170698 Dec 23 11:37 product_reviews_2.zip\n",
      "-rw-r--r--  1 jovyan users  5323498 Dec 23 11:37 propbank.zip\n",
      "drwxr-sr-x  2 jovyan users     4096 Dec 23 11:37 pros_cons\n",
      "-rw-r--r--  1 jovyan users   746276 Dec 23 11:37 pros_cons.zip\n",
      "drwxr-sr-x  2 jovyan users     4096 Dec 23 11:37 ptb\n",
      "-rw-r--r--  1 jovyan users     6289 Dec 23 11:37 ptb.zip\n",
      "drwxr-sr-x  2 jovyan users     4096 Dec 23 11:37 qc\n",
      "-rw-r--r--  1 jovyan users   125456 Dec 23 11:37 qc.zip\n",
      "-rw-r--r--  1 jovyan users  6378691 Dec 23 11:37 reuters.zip\n",
      "drwxr-sr-x  2 jovyan users     4096 Dec 23 11:37 rte\n",
      "-rw-r--r--  1 jovyan users   386303 Dec 23 11:37 rte.zip\n",
      "-rw-r--r--  1 jovyan users  4397021 Dec 23 11:38 semcor.zip\n",
      "drwxr-sr-x  2 jovyan users     4096 Dec 23 11:38 senseval\n",
      "-rw-r--r--  1 jovyan users  2151350 Dec 23 11:38 senseval.zip\n",
      "drwxr-sr-x  2 jovyan users     4096 Dec 23 11:38 sentence_polarity\n",
      "-rw-r--r--  1 jovyan users   490256 Dec 23 11:38 sentence_polarity.zip\n",
      "drwxr-sr-x  2 jovyan users     4096 Dec 23 11:38 sentiwordnet\n",
      "-rw-r--r--  1 jovyan users  4686546 Dec 23 11:38 sentiwordnet.zip\n",
      "drwxr-sr-x  2 jovyan users     4096 Dec 23 11:38 shakespeare\n",
      "-rw-r--r--  1 jovyan users   475458 Dec 23 11:38 shakespeare.zip\n",
      "drwxr-sr-x  2 jovyan users     4096 Dec 23 11:38 sinica_treebank\n",
      "-rw-r--r--  1 jovyan users   906706 Dec 23 11:38 sinica_treebank.zip\n",
      "drwxr-sr-x  2 jovyan users     4096 Dec 23 11:38 smultron\n",
      "-rw-r--r--  1 jovyan users   166207 Dec 23 11:38 smultron.zip\n",
      "drwxr-sr-x  2 jovyan users     4096 Dec 23 11:38 state_union\n",
      "-rw-r--r--  1 jovyan users   808757 Dec 23 11:38 state_union.zip\n",
      "drwxr-sr-x  2 jovyan users     4096 Dec 23 11:38 stopwords\n",
      "-rw-r--r--  1 jovyan users    34276 Dec 23 11:38 stopwords.zip\n",
      "drwxr-sr-x  2 jovyan users     4096 Dec 23 11:38 subjectivity\n",
      "-rw-r--r--  1 jovyan users   521628 Dec 23 11:38 subjectivity.zip\n",
      "drwxr-sr-x  2 jovyan users     4096 Dec 23 11:38 swadesh\n",
      "-rw-r--r--  1 jovyan users    22828 Dec 23 11:38 swadesh.zip\n",
      "drwxr-sr-x  2 jovyan users     4096 Dec 23 11:38 switchboard\n",
      "-rw-r--r--  1 jovyan users   791161 Dec 23 11:38 switchboard.zip\n",
      "drwxr-sr-x 18 jovyan users     4096 Dec 23 11:38 timit\n",
      "-rw-r--r--  1 jovyan users 22251869 Dec 23 11:38 timit.zip\n",
      "drwxr-sr-x  4 jovyan users     4096 Dec 23 11:38 toolbox\n",
      "-rw-r--r--  1 jovyan users   250616 Dec 23 11:38 toolbox.zip\n",
      "drwxr-sr-x  6 jovyan users     4096 Dec 23 11:38 treebank\n",
      "-rw-r--r--  1 jovyan users  1740034 Dec 23 11:38 treebank.zip\n",
      "drwxr-sr-x  2 jovyan users     4096 Dec 23 11:38 twitter_samples\n",
      "-rw-r--r--  1 jovyan users 16007673 Dec 23 11:38 twitter_samples.zip\n",
      "drwxr-sr-x  2 jovyan users    20480 Dec 23 11:38 udhr\n",
      "drwxr-sr-x  2 jovyan users    12288 Dec 23 11:38 udhr2\n",
      "-rw-r--r--  1 jovyan users  1653975 Dec 23 11:38 udhr2.zip\n",
      "-rw-r--r--  1 jovyan users  1170177 Dec 23 11:38 udhr.zip\n",
      "drwxr-sr-x  2 jovyan users     4096 Dec 23 11:38 unicode_samples\n",
      "-rw-r--r--  1 jovyan users     1212 Dec 23 11:38 unicode_samples.zip\n",
      "-rw-r--r--  1 jovyan users 25908853 Dec 23 11:38 universal_treebanks_v20.zip\n",
      "drwxr-sr-x  2 jovyan users    12288 Dec 23 11:38 verbnet\n",
      "drwxr-sr-x  2 jovyan users    16384 Dec 23 11:38 verbnet3\n",
      "-rw-r--r--  1 jovyan users   482025 Dec 23 11:38 verbnet3.zip\n",
      "-rw-r--r--  1 jovyan users   323661 Dec 23 11:38 verbnet.zip\n",
      "drwxr-sr-x  2 jovyan users     4096 Dec 23 11:38 webtext\n",
      "-rw-r--r--  1 jovyan users   646297 Dec 23 11:38 webtext.zip\n",
      "-rw-r--r--  1 jovyan users 11332750 Dec 23 11:38 wordnet2021.zip\n",
      "-rw-r--r--  1 jovyan users 11058667 Dec 23 11:38 wordnet31.zip\n",
      "drwxr-sr-x  2 jovyan users     4096 Dec 23 11:38 wordnet_ic\n",
      "-rw-r--r--  1 jovyan users 12056682 Dec 23 11:38 wordnet_ic.zip\n",
      "-rw-r--r--  1 jovyan users 10775600 Dec 23 11:38 wordnet.zip\n",
      "drwxr-sr-x  2 jovyan users     4096 Dec 23 11:38 words\n",
      "-rw-r--r--  1 jovyan users   757777 Dec 23 11:38 words.zip\n",
      "drwxr-sr-x  2 jovyan users     4096 Dec 23 11:38 ycoe\n",
      "-rw-r--r--  1 jovyan users      477 Dec 23 11:38 ycoe.zip\n"
     ]
    }
   ],
   "source": [
    "#觀察下載的wordnet 檔案\n",
    "!ls -la /home/jovyan/nltk_data/corpora"
   ]
  },
  {
   "cell_type": "code",
   "execution_count": 4,
   "metadata": {},
   "outputs": [],
   "source": [
    "import nltk"
   ]
  },
  {
   "cell_type": "code",
   "execution_count": 5,
   "metadata": {},
   "outputs": [
    {
     "name": "stderr",
     "output_type": "stream",
     "text": [
      "[nltk_data] Downloading package wordnet to /home/jovyan/nltk_data...\n",
      "[nltk_data]   Package wordnet is already up-to-date!\n"
     ]
    },
    {
     "data": {
      "text/plain": [
       "True"
      ]
     },
     "execution_count": 5,
     "metadata": {},
     "output_type": "execute_result"
    }
   ],
   "source": [
    "nltk.download('wordnet')"
   ]
  },
  {
   "cell_type": "code",
   "execution_count": 6,
   "metadata": {},
   "outputs": [
    {
     "name": "stderr",
     "output_type": "stream",
     "text": [
      "[nltk_data] Downloading package omw-1.4 to /home/jovyan/nltk_data...\n",
      "[nltk_data]   Package omw-1.4 is already up-to-date!\n",
      "[nltk_data] Downloading package omw to /home/jovyan/nltk_data...\n",
      "[nltk_data]   Package omw is already up-to-date!\n"
     ]
    },
    {
     "data": {
      "text/plain": [
       "True"
      ]
     },
     "execution_count": 6,
     "metadata": {},
     "output_type": "execute_result"
    }
   ],
   "source": [
    "#下載 open multilingual wordnet \n",
    "nltk.download('omw-1.4')\n",
    "nltk.download('omw')"
   ]
  },
  {
   "cell_type": "code",
   "execution_count": 7,
   "metadata": {
    "scrolled": true,
    "tags": []
   },
   "outputs": [
    {
     "name": "stdout",
     "output_type": "stream",
     "text": [
      "total 569M\n",
      "drwxr-sr-x 73 jovyan users  4.0K Dec 23 11:38 .\n",
      "drwxr-sr-x 12 jovyan users  4.0K Dec 23 11:38 ..\n",
      "drwxr-sr-x  2 jovyan users  4.0K Dec 23 11:36 abc\n",
      "-rw-r--r--  1 jovyan users  1.5M Dec 23 11:36 abc.zip\n",
      "drwxr-sr-x  2 jovyan users  4.0K Dec 23 11:36 alpino\n",
      "-rw-r--r--  1 jovyan users  2.7M Dec 23 11:36 alpino.zip\n",
      "-rw-r--r--  1 jovyan users  218K Dec 23 11:36 bcp47.zip\n",
      "drwxr-sr-x  2 jovyan users  4.0K Dec 23 11:36 biocreative_ppi\n",
      "-rw-r--r--  1 jovyan users  219K Dec 23 11:36 biocreative_ppi.zip\n",
      "drwxr-sr-x  2 jovyan users   12K Dec 23 11:36 brown\n",
      "drwxr-sr-x  2 jovyan users   16K Dec 23 11:36 brown_tei\n",
      "-rw-r--r--  1 jovyan users  8.4M Dec 23 11:36 brown_tei.zip\n",
      "-rw-r--r--  1 jovyan users  3.2M Dec 23 11:36 brown.zip\n",
      "drwxr-sr-x  2 jovyan users   56K Dec 23 11:36 cess_cat\n",
      "-rw-r--r--  1 jovyan users  5.2M Dec 23 11:36 cess_cat.zip\n",
      "drwxr-sr-x  2 jovyan users   20K Dec 23 11:36 cess_esp\n",
      "-rw-r--r--  1 jovyan users  2.2M Dec 23 11:36 cess_esp.zip\n",
      "drwxr-sr-x  2 jovyan users  4.0K Dec 23 11:36 chat80\n",
      "-rw-r--r--  1 jovyan users   19K Dec 23 11:36 chat80.zip\n",
      "drwxr-sr-x  2 jovyan users  4.0K Dec 23 11:36 city_database\n",
      "-rw-r--r--  1 jovyan users  1.7K Dec 23 11:36 city_database.zip\n",
      "drwxr-sr-x  2 jovyan users  4.0K Dec 23 11:36 cmudict\n",
      "-rw-r--r--  1 jovyan users  876K Dec 23 11:36 cmudict.zip\n",
      "drwxr-sr-x  2 jovyan users  4.0K Dec 23 11:36 comparative_sentences\n",
      "-rw-r--r--  1 jovyan users  273K Dec 23 11:36 comparative_sentences.zip\n",
      "-rw-r--r--  1 jovyan users   12M Dec 23 11:36 comtrans.zip\n",
      "drwxr-sr-x  2 jovyan users  4.0K Dec 23 11:36 conll2000\n",
      "-rw-r--r--  1 jovyan users  739K Dec 23 11:36 conll2000.zip\n",
      "drwxr-sr-x  2 jovyan users  4.0K Dec 23 11:36 conll2002\n",
      "-rw-r--r--  1 jovyan users  1.8M Dec 23 11:36 conll2002.zip\n",
      "-rw-r--r--  1 jovyan users  1.2M Dec 23 11:36 conll2007.zip\n",
      "drwxr-sr-x  2 jovyan users   20K Dec 23 11:36 crubadan\n",
      "-rw-r--r--  1 jovyan users  5.1M Dec 23 11:36 crubadan.zip\n",
      "drwxr-sr-x  2 jovyan users  4.0K Dec 23 11:36 dependency_treebank\n",
      "-rw-r--r--  1 jovyan users  447K Dec 23 11:36 dependency_treebank.zip\n",
      "drwxr-sr-x  2 jovyan users  4.0K Dec 23 11:36 dolch\n",
      "-rw-r--r--  1 jovyan users  2.1K Dec 23 11:36 dolch.zip\n",
      "drwxr-sr-x 13 jovyan users  4.0K Dec 23 11:36 europarl_raw\n",
      "-rw-r--r--  1 jovyan users   13M Dec 23 11:36 europarl_raw.zip\n",
      "-rw-r--r--  1 jovyan users   11M Dec 23 11:36 extended_omw.zip\n",
      "drwxr-sr-x  2 jovyan users  4.0K Dec 23 11:36 floresta\n",
      "-rw-r--r--  1 jovyan users  1.8M Dec 23 11:36 floresta.zip\n",
      "drwxr-sr-x  7 jovyan users  4.0K Dec 23 11:36 framenet_v15\n",
      "-rw-r--r--  1 jovyan users   67M Dec 23 11:36 framenet_v15.zip\n",
      "drwxr-sr-x  8 jovyan users  4.0K Dec 23 11:37 framenet_v17\n",
      "-rw-r--r--  1 jovyan users   95M Dec 23 11:37 framenet_v17.zip\n",
      "drwxr-sr-x  2 jovyan users  4.0K Dec 23 11:37 gazetteers\n",
      "-rw-r--r--  1 jovyan users  8.1K Dec 23 11:37 gazetteers.zip\n",
      "drwxr-sr-x  2 jovyan users  4.0K Dec 23 11:37 genesis\n",
      "-rw-r--r--  1 jovyan users  463K Dec 23 11:37 genesis.zip\n",
      "drwxr-sr-x  2 jovyan users  4.0K Dec 23 11:37 gutenberg\n",
      "-rw-r--r--  1 jovyan users  4.1M Dec 23 11:37 gutenberg.zip\n",
      "drwxr-sr-x  2 jovyan users  4.0K Dec 23 11:37 ieer\n",
      "-rw-r--r--  1 jovyan users  163K Dec 23 11:37 ieer.zip\n",
      "drwxr-sr-x  2 jovyan users  4.0K Dec 23 11:37 inaugural\n",
      "-rw-r--r--  1 jovyan users  339K Dec 23 11:37 inaugural.zip\n",
      "drwxr-sr-x  2 jovyan users  4.0K Dec 23 11:37 indian\n",
      "-rw-r--r--  1 jovyan users  195K Dec 23 11:37 indian.zip\n",
      "-rw-r--r--  1 jovyan users   16M Dec 23 11:37 jeita.zip\n",
      "drwxr-sr-x  2 jovyan users  4.0K Dec 23 11:37 kimmo\n",
      "-rw-r--r--  1 jovyan users  183K Dec 23 11:37 kimmo.zip\n",
      "-rw-r--r--  1 jovyan users  8.4M Dec 23 11:37 knbc.zip\n",
      "drwxr-sr-x  2 jovyan users  4.0K Dec 23 11:37 lin_thesaurus\n",
      "-rw-r--r--  1 jovyan users   86M Dec 23 11:37 lin_thesaurus.zip\n",
      "-rw-r--r--  1 jovyan users  5.9M Dec 23 11:37 machado.zip\n",
      "drwxr-sr-x  2 jovyan users  4.0K Dec 23 11:37 mac_morpho\n",
      "-rw-r--r--  1 jovyan users  2.9M Dec 23 11:37 mac_morpho.zip\n",
      "-rw-r--r--  1 jovyan users  1.6M Dec 23 11:37 masc_tagged.zip\n",
      "drwxr-sr-x  4 jovyan users  4.0K Dec 23 11:37 movie_reviews\n",
      "-rw-r--r--  1 jovyan users  3.9M Dec 23 11:37 movie_reviews.zip\n",
      "drwxr-sr-x  3 jovyan users  4.0K Dec 23 11:37 mte_teip5\n",
      "-rw-r--r--  1 jovyan users   15M Dec 23 11:37 mte_teip5.zip\n",
      "drwxr-sr-x  2 jovyan users  4.0K Dec 23 11:37 names\n",
      "-rw-r--r--  1 jovyan users   21K Dec 23 11:37 names.zip\n",
      "-rw-r--r--  1 jovyan users  6.5M Dec 23 11:37 nombank.1.0.zip\n",
      "drwxr-sr-x  2 jovyan users  4.0K Dec 23 11:37 nonbreaking_prefixes\n",
      "-rw-r--r--  1 jovyan users   25K Dec 23 11:37 nonbreaking_prefixes.zip\n",
      "drwxr-sr-x  2 jovyan users  4.0K Dec 23 11:37 nps_chat\n",
      "-rw-r--r--  1 jovyan users  295K Dec 23 11:37 nps_chat.zip\n",
      "-rw-r--r--  1 jovyan users   26M Dec 23 11:37 omw-1.4.zip\n",
      "-rw-r--r--  1 jovyan users   12M Dec 23 11:37 omw.zip\n",
      "drwxr-sr-x  2 jovyan users  4.0K Dec 23 11:37 opinion_lexicon\n",
      "-rw-r--r--  1 jovyan users   25K Dec 23 11:37 opinion_lexicon.zip\n",
      "-rw-r--r--  1 jovyan users  2.8M Dec 23 11:37 panlex_swadesh.zip\n",
      "drwxr-sr-x  2 jovyan users  4.0K Dec 23 11:37 paradigms\n",
      "-rw-r--r--  1 jovyan users   25K Dec 23 11:37 paradigms.zip\n",
      "drwxr-sr-x  2 jovyan users  4.0K Dec 23 11:37 pe08\n",
      "-rw-r--r--  1 jovyan users   79K Dec 23 11:37 pe08.zip\n",
      "drwxr-sr-x  2 jovyan users   20K Dec 23 11:37 pil\n",
      "-rw-r--r--  1 jovyan users  1.5M Dec 23 11:37 pil.zip\n",
      "drwxr-sr-x  2 jovyan users  4.0K Dec 23 11:37 pl196x\n",
      "-rw-r--r--  1 jovyan users  6.8M Dec 23 11:37 pl196x.zip\n",
      "drwxr-sr-x  2 jovyan users  4.0K Dec 23 11:37 ppattach\n",
      "-rw-r--r--  1 jovyan users  764K Dec 23 11:37 ppattach.zip\n",
      "drwxr-sr-x  2 jovyan users  4.0K Dec 23 11:37 problem_reports\n",
      "-rw-r--r--  1 jovyan users 1009K Dec 23 11:37 problem_reports.zip\n",
      "drwxr-sr-x  2 jovyan users  4.0K Dec 23 11:37 product_reviews_1\n",
      "-rw-r--r--  1 jovyan users  138K Dec 23 11:37 product_reviews_1.zip\n",
      "drwxr-sr-x  2 jovyan users  4.0K Dec 23 11:37 product_reviews_2\n",
      "-rw-r--r--  1 jovyan users  167K Dec 23 11:37 product_reviews_2.zip\n",
      "-rw-r--r--  1 jovyan users  5.1M Dec 23 11:37 propbank.zip\n",
      "drwxr-sr-x  2 jovyan users  4.0K Dec 23 11:37 pros_cons\n",
      "-rw-r--r--  1 jovyan users  729K Dec 23 11:37 pros_cons.zip\n",
      "drwxr-sr-x  2 jovyan users  4.0K Dec 23 11:37 ptb\n",
      "-rw-r--r--  1 jovyan users  6.2K Dec 23 11:37 ptb.zip\n",
      "drwxr-sr-x  2 jovyan users  4.0K Dec 23 11:37 qc\n",
      "-rw-r--r--  1 jovyan users  123K Dec 23 11:37 qc.zip\n",
      "-rw-r--r--  1 jovyan users  6.1M Dec 23 11:37 reuters.zip\n",
      "drwxr-sr-x  2 jovyan users  4.0K Dec 23 11:37 rte\n",
      "-rw-r--r--  1 jovyan users  378K Dec 23 11:37 rte.zip\n",
      "-rw-r--r--  1 jovyan users  4.2M Dec 23 11:38 semcor.zip\n",
      "drwxr-sr-x  2 jovyan users  4.0K Dec 23 11:38 senseval\n",
      "-rw-r--r--  1 jovyan users  2.1M Dec 23 11:38 senseval.zip\n",
      "drwxr-sr-x  2 jovyan users  4.0K Dec 23 11:38 sentence_polarity\n",
      "-rw-r--r--  1 jovyan users  479K Dec 23 11:38 sentence_polarity.zip\n",
      "drwxr-sr-x  2 jovyan users  4.0K Dec 23 11:38 sentiwordnet\n",
      "-rw-r--r--  1 jovyan users  4.5M Dec 23 11:38 sentiwordnet.zip\n",
      "drwxr-sr-x  2 jovyan users  4.0K Dec 23 11:38 shakespeare\n",
      "-rw-r--r--  1 jovyan users  465K Dec 23 11:38 shakespeare.zip\n",
      "drwxr-sr-x  2 jovyan users  4.0K Dec 23 11:38 sinica_treebank\n",
      "-rw-r--r--  1 jovyan users  886K Dec 23 11:38 sinica_treebank.zip\n",
      "drwxr-sr-x  2 jovyan users  4.0K Dec 23 11:38 smultron\n",
      "-rw-r--r--  1 jovyan users  163K Dec 23 11:38 smultron.zip\n",
      "drwxr-sr-x  2 jovyan users  4.0K Dec 23 11:38 state_union\n",
      "-rw-r--r--  1 jovyan users  790K Dec 23 11:38 state_union.zip\n",
      "drwxr-sr-x  2 jovyan users  4.0K Dec 23 11:38 stopwords\n",
      "-rw-r--r--  1 jovyan users   34K Dec 23 11:38 stopwords.zip\n",
      "drwxr-sr-x  2 jovyan users  4.0K Dec 23 11:38 subjectivity\n",
      "-rw-r--r--  1 jovyan users  510K Dec 23 11:38 subjectivity.zip\n",
      "drwxr-sr-x  2 jovyan users  4.0K Dec 23 11:38 swadesh\n",
      "-rw-r--r--  1 jovyan users   23K Dec 23 11:38 swadesh.zip\n",
      "drwxr-sr-x  2 jovyan users  4.0K Dec 23 11:38 switchboard\n",
      "-rw-r--r--  1 jovyan users  773K Dec 23 11:38 switchboard.zip\n",
      "drwxr-sr-x 18 jovyan users  4.0K Dec 23 11:38 timit\n",
      "-rw-r--r--  1 jovyan users   22M Dec 23 11:38 timit.zip\n",
      "drwxr-sr-x  4 jovyan users  4.0K Dec 23 11:38 toolbox\n",
      "-rw-r--r--  1 jovyan users  245K Dec 23 11:38 toolbox.zip\n",
      "drwxr-sr-x  6 jovyan users  4.0K Dec 23 11:38 treebank\n",
      "-rw-r--r--  1 jovyan users  1.7M Dec 23 11:38 treebank.zip\n",
      "drwxr-sr-x  2 jovyan users  4.0K Dec 23 11:38 twitter_samples\n",
      "-rw-r--r--  1 jovyan users   16M Dec 23 11:38 twitter_samples.zip\n",
      "drwxr-sr-x  2 jovyan users   20K Dec 23 11:38 udhr\n",
      "drwxr-sr-x  2 jovyan users   12K Dec 23 11:38 udhr2\n",
      "-rw-r--r--  1 jovyan users  1.6M Dec 23 11:38 udhr2.zip\n",
      "-rw-r--r--  1 jovyan users  1.2M Dec 23 11:38 udhr.zip\n",
      "drwxr-sr-x  2 jovyan users  4.0K Dec 23 11:38 unicode_samples\n",
      "-rw-r--r--  1 jovyan users  1.2K Dec 23 11:38 unicode_samples.zip\n",
      "-rw-r--r--  1 jovyan users   25M Dec 23 11:38 universal_treebanks_v20.zip\n",
      "drwxr-sr-x  2 jovyan users   12K Dec 23 11:38 verbnet\n",
      "drwxr-sr-x  2 jovyan users   16K Dec 23 11:38 verbnet3\n",
      "-rw-r--r--  1 jovyan users  471K Dec 23 11:38 verbnet3.zip\n",
      "-rw-r--r--  1 jovyan users  317K Dec 23 11:38 verbnet.zip\n",
      "drwxr-sr-x  2 jovyan users  4.0K Dec 23 11:38 webtext\n",
      "-rw-r--r--  1 jovyan users  632K Dec 23 11:38 webtext.zip\n",
      "-rw-r--r--  1 jovyan users   11M Dec 23 11:38 wordnet2021.zip\n",
      "-rw-r--r--  1 jovyan users   11M Dec 23 11:38 wordnet31.zip\n",
      "drwxr-sr-x  2 jovyan users  4.0K Dec 23 11:38 wordnet_ic\n",
      "-rw-r--r--  1 jovyan users   12M Dec 23 11:38 wordnet_ic.zip\n",
      "-rw-r--r--  1 jovyan users   11M Dec 23 11:38 wordnet.zip\n",
      "drwxr-sr-x  2 jovyan users  4.0K Dec 23 11:38 words\n",
      "-rw-r--r--  1 jovyan users  741K Dec 23 11:38 words.zip\n",
      "drwxr-sr-x  2 jovyan users  4.0K Dec 23 11:38 ycoe\n",
      "-rw-r--r--  1 jovyan users   477 Dec 23 11:38 ycoe.zip\n"
     ]
    }
   ],
   "source": [
    "#觀察下載的corpora\n",
    "!ls -lah /home/jovyan/nltk_data/corpora"
   ]
  },
  {
   "cell_type": "code",
   "execution_count": 8,
   "metadata": {},
   "outputs": [],
   "source": [
    "from nltk.corpus import wordnet as wn"
   ]
  },
  {
   "cell_type": "code",
   "execution_count": 9,
   "metadata": {},
   "outputs": [],
   "source": [
    "wn.ensure_loaded()"
   ]
  },
  {
   "cell_type": "code",
   "execution_count": 10,
   "metadata": {},
   "outputs": [
    {
     "data": {
      "text/plain": [
       "['eng']"
      ]
     },
     "execution_count": 10,
     "metadata": {},
     "output_type": "execute_result"
    }
   ],
   "source": [
    "#列出所有支援的語系\n",
    "wn.langs()"
   ]
  },
  {
   "cell_type": "code",
   "execution_count": 12,
   "metadata": {
    "scrolled": true,
    "tags": []
   },
   "outputs": [
    {
     "name": "stdout",
     "output_type": "stream",
     "text": [
      "Archive:  omw-1.4.zip\n",
      "   creating: omw-1.4/\n",
      "   creating: omw-1.4/fin/\n",
      "  inflating: omw-1.4/fin/LICENSE     \n",
      "  inflating: omw-1.4/fin/citation.bib  \n",
      "  inflating: omw-1.4/fin/wn-data-fin.tab  \n",
      "   creating: omw-1.4/heb/\n",
      "  inflating: omw-1.4/heb/LICENSE     \n",
      "  inflating: omw-1.4/heb/citation.bib  \n",
      "  inflating: omw-1.4/heb/README      \n",
      "  inflating: omw-1.4/heb/wn-data-heb.tab  \n",
      "   creating: omw-1.4/slv/\n",
      "  inflating: omw-1.4/slv/LICENSE     \n",
      "  inflating: omw-1.4/slv/citation.bib  \n",
      "  inflating: omw-1.4/slv/README      \n",
      "  inflating: omw-1.4/slv/wn-data-slv.tab  \n",
      "   creating: omw-1.4/ita/\n",
      "  inflating: omw-1.4/ita/LICENSE     \n",
      "  inflating: omw-1.4/ita/citation.bib  \n",
      "  inflating: omw-1.4/ita/wn-data-ita.tab  \n",
      " extracting: omw-1.4/ita/README      \n",
      "   creating: omw-1.4/nor/\n",
      "  inflating: omw-1.4/nor/LICENSE     \n",
      "  inflating: omw-1.4/nor/citation.bib  \n",
      "  inflating: omw-1.4/nor/README      \n",
      "  inflating: omw-1.4/nor/wn-data-nno.tab  \n",
      "  inflating: omw-1.4/nor/wn-data-nob.tab  \n",
      "   creating: omw-1.4/als/\n",
      "  inflating: omw-1.4/als/wn-data-als.tab  \n",
      "  inflating: omw-1.4/als/LICENSE     \n",
      "  inflating: omw-1.4/als/citation.bib  \n",
      "  inflating: omw-1.4/als/README      \n",
      "   creating: omw-1.4/pol/\n",
      "  inflating: omw-1.4/pol/LICENSE     \n",
      "  inflating: omw-1.4/pol/citation.bib  \n",
      "  inflating: omw-1.4/pol/wn-data-pol.tab  \n",
      "   creating: omw-1.4/hrv/\n",
      " extracting: omw-1.4/hrv/LICENSE     \n",
      "  inflating: omw-1.4/hrv/citation.bib  \n",
      "  inflating: omw-1.4/hrv/wn-data-hrv.tab  \n",
      "  inflating: omw-1.4/hrv/README      \n",
      "  inflating: omw-1.4/citation.bib    \n",
      "   creating: omw-1.4/iwn/\n",
      "  inflating: omw-1.4/iwn/LICENSE     \n",
      "  inflating: omw-1.4/iwn/citation.bib  \n",
      "  inflating: omw-1.4/iwn/wn-data-ita.tab  \n",
      "  inflating: omw-1.4/iwn/README      \n",
      "   creating: omw-1.4/nld/\n",
      "  inflating: omw-1.4/nld/LICENSE     \n",
      "  inflating: omw-1.4/nld/wn-data-nld.tab  \n",
      "  inflating: omw-1.4/nld/citation.bib  \n",
      "   creating: omw-1.4/ron/\n",
      "  inflating: omw-1.4/ron/LICENSE     \n",
      "  inflating: omw-1.4/ron/citation.bib  \n",
      "  inflating: omw-1.4/ron/wn-data-ron.tab  \n",
      "  inflating: omw-1.4/ron/README      \n",
      "   creating: omw-1.4/arb/\n",
      "  inflating: omw-1.4/arb/LICENSE     \n",
      "  inflating: omw-1.4/arb/citation.bib  \n",
      "  inflating: omw-1.4/arb/README      \n",
      "  inflating: omw-1.4/arb/wn-data-arb.tab  \n",
      "   creating: omw-1.4/isl/\n",
      "  inflating: omw-1.4/isl/LICENSE     \n",
      "  inflating: omw-1.4/isl/citation.bib  \n",
      "  inflating: omw-1.4/isl/README      \n",
      "  inflating: omw-1.4/isl/wn-data-isl.tab  \n",
      "   creating: omw-1.4/swe/\n",
      "  inflating: omw-1.4/swe/LICENSE     \n",
      "  inflating: omw-1.4/swe/citation.bib  \n",
      "  inflating: omw-1.4/swe/README      \n",
      "  inflating: omw-1.4/swe/wn-data-swe.tab  \n",
      "   creating: omw-1.4/por/\n",
      "  inflating: omw-1.4/por/LICENSE     \n",
      "  inflating: omw-1.4/por/citation.bib  \n",
      "  inflating: omw-1.4/por/wn-data-por.tab  \n",
      "  inflating: omw-1.4/por/README      \n",
      "  inflating: omw-1.4/README          \n",
      "   creating: omw-1.4/cow/\n",
      "  inflating: omw-1.4/cow/wn-data-cmn.tab  \n",
      "  inflating: omw-1.4/cow/LICENSE     \n",
      "  inflating: omw-1.4/cow/citation.bib  \n",
      "   creating: omw-1.4/jpn/\n",
      "  inflating: omw-1.4/jpn/LICENSE     \n",
      "  inflating: omw-1.4/jpn/citation.bib  \n",
      "  inflating: omw-1.4/jpn/README      \n",
      "  inflating: omw-1.4/jpn/wn-data-jpn.tab  \n",
      "   creating: omw-1.4/dan/\n",
      "  inflating: omw-1.4/dan/LICENSE     \n",
      "  inflating: omw-1.4/dan/citation.bib  \n",
      "  inflating: omw-1.4/dan/wn-data-dan.tab  \n",
      "   creating: omw-1.4/slk/\n",
      "  inflating: omw-1.4/slk/LICENSE     \n",
      "  inflating: omw-1.4/slk/citation.bib  \n",
      "  inflating: omw-1.4/slk/wn-data-slk.tab  \n",
      "  inflating: omw-1.4/slk/wn-data-lit.tab  \n",
      "  inflating: omw-1.4/slk/README      \n",
      "   creating: omw-1.4/bul/\n",
      "  inflating: omw-1.4/bul/LICENSE     \n",
      "  inflating: omw-1.4/bul/citation.bib  \n",
      "  inflating: omw-1.4/bul/wn-data-bul.tab  \n",
      "  inflating: omw-1.4/bul/README      \n",
      "   creating: omw-1.4/mcr/\n",
      "  inflating: omw-1.4/mcr/LICENSE     \n",
      "  inflating: omw-1.4/mcr/citation.bib  \n",
      "  inflating: omw-1.4/mcr/wn-data-eus.tab  \n",
      "  inflating: omw-1.4/mcr/wn-data-cat.tab  \n",
      "  inflating: omw-1.4/mcr/wn-data-glg.tab  \n",
      "  inflating: omw-1.4/mcr/wn-data-spa.tab  \n",
      "   creating: omw-1.4/ell/\n",
      "  inflating: omw-1.4/ell/LICENSE     \n",
      "  inflating: omw-1.4/ell/wn-data-ell.tab  \n",
      "  inflating: omw-1.4/ell/README      \n",
      "   creating: omw-1.4/msa/\n",
      "  inflating: omw-1.4/msa/LICENSE     \n",
      "  inflating: omw-1.4/msa/citation.bib  \n",
      "  inflating: omw-1.4/msa/wn-data-zsm.tab  \n",
      "  inflating: omw-1.4/msa/wn-data-ind.tab  \n",
      "  inflating: omw-1.4/msa/README      \n",
      "   creating: omw-1.4/fra/\n",
      "  inflating: omw-1.4/fra/LICENSE     \n",
      "  inflating: omw-1.4/fra/citation.bib  \n",
      "  inflating: omw-1.4/fra/wn-data-fra.tab  \n",
      "   creating: omw-1.4/tha/\n",
      "  inflating: omw-1.4/tha/LICENSE     \n",
      "  inflating: omw-1.4/tha/citation.bib  \n",
      "  inflating: omw-1.4/tha/wn-data-tha.tab  \n"
     ]
    }
   ],
   "source": [
    "!cd /home/jovyan/nltk_data/corpora && unzip omw-1.4.zip"
   ]
  },
  {
   "cell_type": "code",
   "execution_count": 13,
   "metadata": {},
   "outputs": [
    {
     "name": "stdout",
     "output_type": "stream",
     "text": [
      "total 128\n",
      "drwxr-sr-x 27 jovyan users  4096 Dec  9  2021 .\n",
      "drwxr-sr-x 74 jovyan users  4096 Dec 23 11:42 ..\n",
      "drwxr-sr-x  2 jovyan users  4096 Dec  5  2021 als\n",
      "drwxr-sr-x  2 jovyan users  4096 Dec  5  2021 arb\n",
      "drwxr-sr-x  2 jovyan users  4096 Dec  5  2021 bul\n",
      "-rw-r--r--  1 jovyan users 13562 Dec  5  2021 citation.bib\n",
      "drwxr-sr-x  2 jovyan users  4096 Dec  5  2021 cow\n",
      "drwxr-sr-x  2 jovyan users  4096 Dec  5  2021 dan\n",
      "drwxr-sr-x  2 jovyan users  4096 Dec  5  2021 ell\n",
      "drwxr-sr-x  2 jovyan users  4096 Dec  5  2021 fin\n",
      "drwxr-sr-x  2 jovyan users  4096 Dec  5  2021 fra\n",
      "drwxr-sr-x  2 jovyan users  4096 Dec  5  2021 heb\n",
      "drwxr-sr-x  2 jovyan users  4096 Dec  5  2021 hrv\n",
      "drwxr-sr-x  2 jovyan users  4096 Dec  5  2021 isl\n",
      "drwxr-sr-x  2 jovyan users  4096 Dec  5  2021 ita\n",
      "drwxr-sr-x  2 jovyan users  4096 Dec  5  2021 iwn\n",
      "drwxr-sr-x  2 jovyan users  4096 Dec  5  2021 jpn\n",
      "drwxr-sr-x  2 jovyan users  4096 Dec  5  2021 mcr\n",
      "drwxr-sr-x  2 jovyan users  4096 Dec  5  2021 msa\n",
      "drwxr-sr-x  2 jovyan users  4096 Dec  5  2021 nld\n",
      "drwxr-sr-x  2 jovyan users  4096 Dec  5  2021 nor\n",
      "drwxr-sr-x  2 jovyan users  4096 Dec  5  2021 pol\n",
      "drwxr-sr-x  2 jovyan users  4096 Dec  5  2021 por\n",
      "-rw-r--r--  1 jovyan users  2214 Dec  5  2021 README\n",
      "drwxr-sr-x  2 jovyan users  4096 Dec  5  2021 ron\n",
      "drwxr-sr-x  2 jovyan users  4096 Dec  5  2021 slk\n",
      "drwxr-sr-x  2 jovyan users  4096 Dec  5  2021 slv\n",
      "drwxr-sr-x  2 jovyan users  4096 Dec  5  2021 swe\n",
      "drwxr-sr-x  2 jovyan users  4096 Dec  5  2021 tha\n"
     ]
    }
   ],
   "source": [
    "!ls -la /home/jovyan/nltk_data/corpora/omw-1.4"
   ]
  },
  {
   "cell_type": "code",
   "execution_count": 14,
   "metadata": {},
   "outputs": [
    {
     "name": "stdout",
     "output_type": "stream",
     "text": [
      "head: cannot open '/home/jovyan/nltk_data/corpora/omw/qcn/wn-data-qcn.tab' for reading: No such file or directory\n"
     ]
    }
   ],
   "source": [
    "!head -10 /home/jovyan/nltk_data/corpora/omw/qcn/wn-data-qcn.tab"
   ]
  },
  {
   "cell_type": "code",
   "execution_count": 15,
   "metadata": {},
   "outputs": [
    {
     "data": {
      "text/plain": [
       "[Synset('adding_machine.n.01'),\n",
       " Synset('calculator.n.02'),\n",
       " Synset('computer.n.01')]"
      ]
     },
     "execution_count": 15,
     "metadata": {},
     "output_type": "execute_result"
    }
   ],
   "source": [
    "wn.synsets('计算机', lang='cmn')"
   ]
  },
  {
   "cell_type": "code",
   "execution_count": 16,
   "metadata": {},
   "outputs": [
    {
     "ename": "WordNetError",
     "evalue": "Language is not supported.",
     "output_type": "error",
     "traceback": [
      "\u001b[0;31m---------------------------------------------------------------------------\u001b[0m",
      "\u001b[0;31mWordNetError\u001b[0m                              Traceback (most recent call last)",
      "Cell \u001b[0;32mIn[16], line 1\u001b[0m\n\u001b[0;32m----> 1\u001b[0m \u001b[43mwn\u001b[49m\u001b[38;5;241;43m.\u001b[39;49m\u001b[43msynsets\u001b[49m\u001b[43m(\u001b[49m\u001b[38;5;124;43m'\u001b[39;49m\u001b[38;5;124;43m呼吸\u001b[39;49m\u001b[38;5;124;43m'\u001b[39;49m\u001b[43m,\u001b[49m\u001b[43m \u001b[49m\u001b[43mlang\u001b[49m\u001b[38;5;241;43m=\u001b[39;49m\u001b[38;5;124;43m'\u001b[39;49m\u001b[38;5;124;43mqcn\u001b[39;49m\u001b[38;5;124;43m'\u001b[39;49m\u001b[43m)\u001b[49m\n",
      "File \u001b[0;32m/opt/conda/lib/python3.10/site-packages/nltk/corpus/reader/wordnet.py:1765\u001b[0m, in \u001b[0;36mWordNetCorpusReader.synsets\u001b[0;34m(self, lemma, pos, lang, check_exceptions)\u001b[0m\n\u001b[1;32m   1757\u001b[0m     \u001b[38;5;28;01mreturn\u001b[39;00m [\n\u001b[1;32m   1758\u001b[0m         get_synset(p, offset)\n\u001b[1;32m   1759\u001b[0m         \u001b[38;5;28;01mfor\u001b[39;00m p \u001b[38;5;129;01min\u001b[39;00m pos\n\u001b[1;32m   1760\u001b[0m         \u001b[38;5;28;01mfor\u001b[39;00m form \u001b[38;5;129;01min\u001b[39;00m \u001b[38;5;28mself\u001b[39m\u001b[38;5;241m.\u001b[39m_morphy(lemma, p, check_exceptions)\n\u001b[1;32m   1761\u001b[0m         \u001b[38;5;28;01mfor\u001b[39;00m offset \u001b[38;5;129;01min\u001b[39;00m index[form]\u001b[38;5;241m.\u001b[39mget(p, [])\n\u001b[1;32m   1762\u001b[0m     ]\n\u001b[1;32m   1764\u001b[0m \u001b[38;5;28;01melse\u001b[39;00m:\n\u001b[0;32m-> 1765\u001b[0m     \u001b[38;5;28;43mself\u001b[39;49m\u001b[38;5;241;43m.\u001b[39;49m\u001b[43m_load_lang_data\u001b[49m\u001b[43m(\u001b[49m\u001b[43mlang\u001b[49m\u001b[43m)\u001b[49m\n\u001b[1;32m   1766\u001b[0m     synset_list \u001b[38;5;241m=\u001b[39m []\n\u001b[1;32m   1767\u001b[0m     \u001b[38;5;28;01mif\u001b[39;00m lemma \u001b[38;5;129;01min\u001b[39;00m \u001b[38;5;28mself\u001b[39m\u001b[38;5;241m.\u001b[39m_lang_data[lang][\u001b[38;5;241m1\u001b[39m]:\n",
      "File \u001b[0;32m/opt/conda/lib/python3.10/site-packages/nltk/corpus/reader/wordnet.py:1306\u001b[0m, in \u001b[0;36mWordNetCorpusReader._load_lang_data\u001b[0;34m(self, lang)\u001b[0m\n\u001b[1;32m   1303\u001b[0m     \u001b[38;5;28mself\u001b[39m\u001b[38;5;241m.\u001b[39madd_omw()\n\u001b[1;32m   1305\u001b[0m \u001b[38;5;28;01mif\u001b[39;00m lang \u001b[38;5;129;01mnot\u001b[39;00m \u001b[38;5;129;01min\u001b[39;00m \u001b[38;5;28mself\u001b[39m\u001b[38;5;241m.\u001b[39mlangs():\n\u001b[0;32m-> 1306\u001b[0m     \u001b[38;5;28;01mraise\u001b[39;00m WordNetError(\u001b[38;5;124m\"\u001b[39m\u001b[38;5;124mLanguage is not supported.\u001b[39m\u001b[38;5;124m\"\u001b[39m)\n\u001b[1;32m   1308\u001b[0m \u001b[38;5;28;01mif\u001b[39;00m \u001b[38;5;28mself\u001b[39m\u001b[38;5;241m.\u001b[39m_exomw_reader \u001b[38;5;129;01mand\u001b[39;00m lang \u001b[38;5;129;01mnot\u001b[39;00m \u001b[38;5;129;01min\u001b[39;00m \u001b[38;5;28mself\u001b[39m\u001b[38;5;241m.\u001b[39momw_langs:\n\u001b[1;32m   1309\u001b[0m     reader \u001b[38;5;241m=\u001b[39m \u001b[38;5;28mself\u001b[39m\u001b[38;5;241m.\u001b[39m_exomw_reader\n",
      "\u001b[0;31mWordNetError\u001b[0m: Language is not supported."
     ]
    }
   ],
   "source": [
    "wn.synsets('呼吸', lang='qcn')"
   ]
  },
  {
   "cell_type": "code",
   "execution_count": null,
   "metadata": {},
   "outputs": [],
   "source": []
  }
 ],
 "metadata": {
  "kernelspec": {
   "display_name": "Python 3 (ipykernel)",
   "language": "python",
   "name": "python3"
  },
  "language_info": {
   "codemirror_mode": {
    "name": "ipython",
    "version": 3
   },
   "file_extension": ".py",
   "mimetype": "text/x-python",
   "name": "python",
   "nbconvert_exporter": "python",
   "pygments_lexer": "ipython3",
   "version": "3.10.8"
  }
 },
 "nbformat": 4,
 "nbformat_minor": 4
}
