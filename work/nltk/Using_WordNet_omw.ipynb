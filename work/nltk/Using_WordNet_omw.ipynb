{
 "cells": [
  {
   "cell_type": "code",
   "execution_count": 1,
   "metadata": {},
   "outputs": [],
   "source": [
    "!pip install -q nltk"
   ]
  },
  {
   "cell_type": "markdown",
   "metadata": {},
   "source": [
    "WordNet 的維基百科說明： https://zh.wikipedia.org/wiki/WordNet"
   ]
  },
  {
   "cell_type": "code",
   "execution_count": 2,
   "metadata": {},
   "outputs": [
    {
     "name": "stdout",
     "output_type": "stream",
     "text": [
      "total 24\n",
      "drwxr-sr-x 5 jovyan users 4096 Dec 23 11:01 .\n",
      "drwsrws--- 1 jovyan users 4096 Dec 23 10:51 ..\n",
      "drwxr-sr-x 3 jovyan users 4096 Dec 23 11:01 corpora\n",
      "drwxr-sr-x 3 jovyan users 4096 Dec 23 10:52 taggers\n",
      "drwxr-sr-x 3 jovyan users 4096 Dec 23 10:52 tokenizers\n"
     ]
    }
   ],
   "source": [
    "!ls -la /home/jovyan/nltk_data"
   ]
  },
  {
   "cell_type": "code",
   "execution_count": 3,
   "metadata": {},
   "outputs": [
    {
     "name": "stdout",
     "output_type": "stream",
     "text": [
      "total 48376\n",
      "drwxr-sr-x  3 jovyan users     4096 Dec 23 11:01 .\n",
      "drwxr-sr-x  5 jovyan users     4096 Dec 23 11:01 ..\n",
      "drwxr-sr-x 27 jovyan users     4096 Dec  9  2021 omw-1.4\n",
      "-rw-r--r--  1 jovyan users 26634772 Dec 23 11:01 omw-1.4.zip\n",
      "-rw-r--r--  1 jovyan users 12110409 Dec 23 11:01 omw.zip\n",
      "-rw-r--r--  1 jovyan users 10775600 Dec 23 11:01 wordnet.zip\n"
     ]
    }
   ],
   "source": [
    "#觀察下載的wordnet 檔案\n",
    "!ls -la /home/jovyan/nltk_data/corpora"
   ]
  },
  {
   "cell_type": "code",
   "execution_count": 4,
   "metadata": {},
   "outputs": [],
   "source": [
    "import nltk"
   ]
  },
  {
   "cell_type": "code",
   "execution_count": 5,
   "metadata": {},
   "outputs": [
    {
     "name": "stderr",
     "output_type": "stream",
     "text": [
      "[nltk_data] Downloading package wordnet to /home/jovyan/nltk_data...\n",
      "[nltk_data]   Package wordnet is already up-to-date!\n"
     ]
    },
    {
     "data": {
      "text/plain": [
       "True"
      ]
     },
     "execution_count": 5,
     "metadata": {},
     "output_type": "execute_result"
    }
   ],
   "source": [
    "nltk.download('wordnet')"
   ]
  },
  {
   "cell_type": "code",
   "execution_count": 6,
   "metadata": {},
   "outputs": [
    {
     "name": "stderr",
     "output_type": "stream",
     "text": [
      "[nltk_data] Downloading package omw-1.4 to /home/jovyan/nltk_data...\n",
      "[nltk_data]   Package omw-1.4 is already up-to-date!\n",
      "[nltk_data] Downloading package omw to /home/jovyan/nltk_data...\n",
      "[nltk_data]   Package omw is already up-to-date!\n"
     ]
    },
    {
     "data": {
      "text/plain": [
       "True"
      ]
     },
     "execution_count": 6,
     "metadata": {},
     "output_type": "execute_result"
    }
   ],
   "source": [
    "#下載 open multilingual wordnet \n",
    "nltk.download('omw-1.4')\n",
    "nltk.download('omw')"
   ]
  },
  {
   "cell_type": "code",
   "execution_count": 7,
   "metadata": {},
   "outputs": [
    {
     "name": "stdout",
     "output_type": "stream",
     "text": [
      "total 48M\n",
      "drwxr-sr-x  3 jovyan users 4.0K Dec 23 11:01 .\n",
      "drwxr-sr-x  5 jovyan users 4.0K Dec 23 11:01 ..\n",
      "drwxr-sr-x 27 jovyan users 4.0K Dec  9  2021 omw-1.4\n",
      "-rw-r--r--  1 jovyan users  26M Dec 23 11:01 omw-1.4.zip\n",
      "-rw-r--r--  1 jovyan users  12M Dec 23 11:01 omw.zip\n",
      "-rw-r--r--  1 jovyan users  11M Dec 23 11:01 wordnet.zip\n"
     ]
    }
   ],
   "source": [
    "#觀察下載的corpora\n",
    "!ls -lah /home/jovyan/nltk_data/corpora"
   ]
  },
  {
   "cell_type": "code",
   "execution_count": 8,
   "metadata": {},
   "outputs": [],
   "source": [
    "from nltk.corpus import wordnet as wn"
   ]
  },
  {
   "cell_type": "code",
   "execution_count": 9,
   "metadata": {},
   "outputs": [],
   "source": [
    "wn.ensure_loaded()"
   ]
  },
  {
   "cell_type": "code",
   "execution_count": 10,
   "metadata": {},
   "outputs": [
    {
     "data": {
      "text/plain": [
       "['eng']"
      ]
     },
     "execution_count": 10,
     "metadata": {},
     "output_type": "execute_result"
    }
   ],
   "source": [
    "#列出所有支援的語系\n",
    "wn.langs()"
   ]
  },
  {
   "cell_type": "code",
   "execution_count": 11,
   "metadata": {},
   "outputs": [
    {
     "name": "stdout",
     "output_type": "stream",
     "text": [
      "total 48376\n",
      "drwxr-sr-x  3 jovyan users     4096 Dec 23 11:01 .\n",
      "drwxr-sr-x  5 jovyan users     4096 Dec 23 11:01 ..\n",
      "drwxr-sr-x 27 jovyan users     4096 Dec  9  2021 omw-1.4\n",
      "-rw-r--r--  1 jovyan users 26634772 Dec 23 11:01 omw-1.4.zip\n",
      "-rw-r--r--  1 jovyan users 12110409 Dec 23 11:01 omw.zip\n",
      "-rw-r--r--  1 jovyan users 10775600 Dec 23 11:01 wordnet.zip\n"
     ]
    }
   ],
   "source": [
    "!cd /home/jovyan/nltk_data/corpora && ls -la"
   ]
  },
  {
   "cell_type": "code",
   "execution_count": null,
   "metadata": {
    "scrolled": true,
    "tags": []
   },
   "outputs": [
    {
     "name": "stdout",
     "output_type": "stream",
     "text": [
      "Archive:  omw-1.4.zip\n",
      "replace omw-1.4/fin/LICENSE? [y]es, [n]o, [A]ll, [N]one, [r]ename: "
     ]
    }
   ],
   "source": [
    "!cd /home/jovyan/nltk_data/corpora && unzip omw-1.4.zip"
   ]
  },
  {
   "cell_type": "code",
   "execution_count": null,
   "metadata": {},
   "outputs": [],
   "source": [
    "!ls -la /home/jovyan/nltk_data/corpora/omw-1.4"
   ]
  },
  {
   "cell_type": "code",
   "execution_count": null,
   "metadata": {},
   "outputs": [],
   "source": [
    "!head -10 /home/jovyan/nltk_data/corpora/omw/qcn/wn-data-qcn.tab"
   ]
  },
  {
   "cell_type": "code",
   "execution_count": null,
   "metadata": {},
   "outputs": [],
   "source": [
    "wn.synsets('计算机', lang='cmn')"
   ]
  },
  {
   "cell_type": "code",
   "execution_count": null,
   "metadata": {},
   "outputs": [],
   "source": [
    "wn.synsets('呼吸', lang='qcn')"
   ]
  },
  {
   "cell_type": "code",
   "execution_count": null,
   "metadata": {},
   "outputs": [],
   "source": []
  }
 ],
 "metadata": {
  "kernelspec": {
   "display_name": "Python 3 (ipykernel)",
   "language": "python",
   "name": "python3"
  },
  "language_info": {
   "codemirror_mode": {
    "name": "ipython",
    "version": 3
   },
   "file_extension": ".py",
   "mimetype": "text/x-python",
   "name": "python",
   "nbconvert_exporter": "python",
   "pygments_lexer": "ipython3",
   "version": "3.10.6"
  }
 },
 "nbformat": 4,
 "nbformat_minor": 4
}
