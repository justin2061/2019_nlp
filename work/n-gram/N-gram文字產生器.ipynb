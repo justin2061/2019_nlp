{
 "cells": [
  {
   "cell_type": "code",
   "execution_count": 62,
   "metadata": {},
   "outputs": [],
   "source": [
    "texts = \"三國演義是一本長篇歷史小說，可以說是中國古代長篇章回小說的開山之作，亦是四大名著之一。作者是明朝的羅貫中。故事自黃巾起義起，終於西晉統一。是書陳敘百年，賅括萬事，七實三虛。三國指的是魏，蜀，吳。小說通篇精巧敘述謀略，被譽為中國謀略全書。\""
   ]
  },
  {
   "cell_type": "code",
   "execution_count": 63,
   "metadata": {},
   "outputs": [],
   "source": [
    "n = 2"
   ]
  },
  {
   "cell_type": "code",
   "execution_count": 64,
   "metadata": {},
   "outputs": [
    {
     "data": {
      "text/plain": [
       "118"
      ]
     },
     "execution_count": 64,
     "metadata": {},
     "output_type": "execute_result"
    }
   ],
   "source": [
    "len(texts)"
   ]
  },
  {
   "cell_type": "code",
   "execution_count": 65,
   "metadata": {},
   "outputs": [
    {
     "data": {
      "text/plain": [
       "False"
      ]
     },
     "execution_count": 65,
     "metadata": {},
     "output_type": "execute_result"
    }
   ],
   "source": [
    "len(texts) < n"
   ]
  },
  {
   "cell_type": "code",
   "execution_count": 66,
   "metadata": {},
   "outputs": [],
   "source": [
    "grams = [ (texts[i:i+n]) for i in range(0, len(texts)-(n+1) ) ]"
   ]
  },
  {
   "cell_type": "code",
   "execution_count": 67,
   "metadata": {
    "jupyter": {
     "outputs_hidden": true
    }
   },
   "outputs": [
    {
     "data": {
      "text/plain": [
       "['三國',\n",
       " '國演',\n",
       " '演義',\n",
       " '義是',\n",
       " '是一',\n",
       " '一本',\n",
       " '本長',\n",
       " '長篇',\n",
       " '篇歷',\n",
       " '歷史',\n",
       " '史小',\n",
       " '小說',\n",
       " '說，',\n",
       " '，可',\n",
       " '可以',\n",
       " '以說',\n",
       " '說是',\n",
       " '是中',\n",
       " '中國',\n",
       " '國古',\n",
       " '古代',\n",
       " '代長',\n",
       " '長篇',\n",
       " '篇章',\n",
       " '章回',\n",
       " '回小',\n",
       " '小說',\n",
       " '說的',\n",
       " '的開',\n",
       " '開山',\n",
       " '山之',\n",
       " '之作',\n",
       " '作，',\n",
       " '，亦',\n",
       " '亦是',\n",
       " '是四',\n",
       " '四大',\n",
       " '大名',\n",
       " '名著',\n",
       " '著之',\n",
       " '之一',\n",
       " '一。',\n",
       " '。作',\n",
       " '作者',\n",
       " '者是',\n",
       " '是明',\n",
       " '明朝',\n",
       " '朝的',\n",
       " '的羅',\n",
       " '羅貫',\n",
       " '貫中',\n",
       " '中。',\n",
       " '。故',\n",
       " '故事',\n",
       " '事自',\n",
       " '自黃',\n",
       " '黃巾',\n",
       " '巾起',\n",
       " '起義',\n",
       " '義起',\n",
       " '起，',\n",
       " '，終',\n",
       " '終於',\n",
       " '於西',\n",
       " '西晉',\n",
       " '晉統',\n",
       " '統一',\n",
       " '一。',\n",
       " '。是',\n",
       " '是書',\n",
       " '書陳',\n",
       " '陳敘',\n",
       " '敘百',\n",
       " '百年',\n",
       " '年，',\n",
       " '，賅',\n",
       " '賅括',\n",
       " '括萬',\n",
       " '萬事',\n",
       " '事，',\n",
       " '，七',\n",
       " '七實',\n",
       " '實三',\n",
       " '三虛',\n",
       " '虛。',\n",
       " '。三',\n",
       " '三國',\n",
       " '國指',\n",
       " '指的',\n",
       " '的是',\n",
       " '是魏',\n",
       " '魏，',\n",
       " '，蜀',\n",
       " '蜀，',\n",
       " '，吳',\n",
       " '吳。',\n",
       " '。小',\n",
       " '小說',\n",
       " '說通',\n",
       " '通篇',\n",
       " '篇精',\n",
       " '精巧',\n",
       " '巧敘',\n",
       " '敘述',\n",
       " '述謀',\n",
       " '謀略',\n",
       " '略，',\n",
       " '，被',\n",
       " '被譽',\n",
       " '譽為',\n",
       " '為中',\n",
       " '中國',\n",
       " '國謀',\n",
       " '謀略',\n",
       " '略全']"
      ]
     },
     "execution_count": 67,
     "metadata": {},
     "output_type": "execute_result"
    }
   ],
   "source": [
    "grams"
   ]
  },
  {
   "cell_type": "code",
   "execution_count": 68,
   "metadata": {},
   "outputs": [],
   "source": [
    "memory = {}\n",
    "bigrams = [(grams[i], grams[i+1]) for i in range(0, len(grams)-1)]\n",
    "for bigram in bigrams:\n",
    "    if bigram[0] not in memory:\n",
    "        memory[bigram[0]] = []\n",
    "    memory[bigram[0]].append(bigram[1])"
   ]
  },
  {
   "cell_type": "code",
   "execution_count": 69,
   "metadata": {
    "jupyter": {
     "outputs_hidden": true
    }
   },
   "outputs": [
    {
     "data": {
      "text/plain": [
       "{'三國': ['國演', '國指'],\n",
       " '國演': ['演義'],\n",
       " '演義': ['義是'],\n",
       " '義是': ['是一'],\n",
       " '是一': ['一本'],\n",
       " '一本': ['本長'],\n",
       " '本長': ['長篇'],\n",
       " '長篇': ['篇歷', '篇章'],\n",
       " '篇歷': ['歷史'],\n",
       " '歷史': ['史小'],\n",
       " '史小': ['小說'],\n",
       " '小說': ['說，', '說的', '說通'],\n",
       " '說，': ['，可'],\n",
       " '，可': ['可以'],\n",
       " '可以': ['以說'],\n",
       " '以說': ['說是'],\n",
       " '說是': ['是中'],\n",
       " '是中': ['中國'],\n",
       " '中國': ['國古', '國謀'],\n",
       " '國古': ['古代'],\n",
       " '古代': ['代長'],\n",
       " '代長': ['長篇'],\n",
       " '篇章': ['章回'],\n",
       " '章回': ['回小'],\n",
       " '回小': ['小說'],\n",
       " '說的': ['的開'],\n",
       " '的開': ['開山'],\n",
       " '開山': ['山之'],\n",
       " '山之': ['之作'],\n",
       " '之作': ['作，'],\n",
       " '作，': ['，亦'],\n",
       " '，亦': ['亦是'],\n",
       " '亦是': ['是四'],\n",
       " '是四': ['四大'],\n",
       " '四大': ['大名'],\n",
       " '大名': ['名著'],\n",
       " '名著': ['著之'],\n",
       " '著之': ['之一'],\n",
       " '之一': ['一。'],\n",
       " '一。': ['。作', '。是'],\n",
       " '。作': ['作者'],\n",
       " '作者': ['者是'],\n",
       " '者是': ['是明'],\n",
       " '是明': ['明朝'],\n",
       " '明朝': ['朝的'],\n",
       " '朝的': ['的羅'],\n",
       " '的羅': ['羅貫'],\n",
       " '羅貫': ['貫中'],\n",
       " '貫中': ['中。'],\n",
       " '中。': ['。故'],\n",
       " '。故': ['故事'],\n",
       " '故事': ['事自'],\n",
       " '事自': ['自黃'],\n",
       " '自黃': ['黃巾'],\n",
       " '黃巾': ['巾起'],\n",
       " '巾起': ['起義'],\n",
       " '起義': ['義起'],\n",
       " '義起': ['起，'],\n",
       " '起，': ['，終'],\n",
       " '，終': ['終於'],\n",
       " '終於': ['於西'],\n",
       " '於西': ['西晉'],\n",
       " '西晉': ['晉統'],\n",
       " '晉統': ['統一'],\n",
       " '統一': ['一。'],\n",
       " '。是': ['是書'],\n",
       " '是書': ['書陳'],\n",
       " '書陳': ['陳敘'],\n",
       " '陳敘': ['敘百'],\n",
       " '敘百': ['百年'],\n",
       " '百年': ['年，'],\n",
       " '年，': ['，賅'],\n",
       " '，賅': ['賅括'],\n",
       " '賅括': ['括萬'],\n",
       " '括萬': ['萬事'],\n",
       " '萬事': ['事，'],\n",
       " '事，': ['，七'],\n",
       " '，七': ['七實'],\n",
       " '七實': ['實三'],\n",
       " '實三': ['三虛'],\n",
       " '三虛': ['虛。'],\n",
       " '虛。': ['。三'],\n",
       " '。三': ['三國'],\n",
       " '國指': ['指的'],\n",
       " '指的': ['的是'],\n",
       " '的是': ['是魏'],\n",
       " '是魏': ['魏，'],\n",
       " '魏，': ['，蜀'],\n",
       " '，蜀': ['蜀，'],\n",
       " '蜀，': ['，吳'],\n",
       " '，吳': ['吳。'],\n",
       " '吳。': ['。小'],\n",
       " '。小': ['小說'],\n",
       " '說通': ['通篇'],\n",
       " '通篇': ['篇精'],\n",
       " '篇精': ['精巧'],\n",
       " '精巧': ['巧敘'],\n",
       " '巧敘': ['敘述'],\n",
       " '敘述': ['述謀'],\n",
       " '述謀': ['謀略'],\n",
       " '謀略': ['略，', '略全'],\n",
       " '略，': ['，被'],\n",
       " '，被': ['被譽'],\n",
       " '被譽': ['譽為'],\n",
       " '譽為': ['為中'],\n",
       " '為中': ['中國'],\n",
       " '國謀': ['謀略']}"
      ]
     },
     "execution_count": 69,
     "metadata": {},
     "output_type": "execute_result"
    }
   ],
   "source": [
    "memory"
   ]
  },
  {
   "cell_type": "code",
   "execution_count": 70,
   "metadata": {},
   "outputs": [],
   "source": [
    "import random"
   ]
  },
  {
   "cell_type": "code",
   "execution_count": 79,
   "metadata": {},
   "outputs": [],
   "source": [
    "test = \"三國\""
   ]
  },
  {
   "cell_type": "code",
   "execution_count": 80,
   "metadata": {},
   "outputs": [
    {
     "name": "stdout",
     "output_type": "stream",
     "text": [
      "['國演', '國指']\n"
     ]
    }
   ],
   "source": [
    "next_possible = memory.get(test)\n",
    "print(next_possible)"
   ]
  },
  {
   "cell_type": "code",
   "execution_count": 81,
   "metadata": {},
   "outputs": [
    {
     "data": {
      "text/plain": [
       "['國演']"
      ]
     },
     "execution_count": 81,
     "metadata": {},
     "output_type": "execute_result"
    }
   ],
   "source": [
    "next_word = random.sample(next_possible, 1)\n",
    "next_word"
   ]
  },
  {
   "cell_type": "code",
   "execution_count": 72,
   "metadata": {},
   "outputs": [],
   "source": [
    "def mygenerator(max_n, start_word):\n",
    "    new_words = []\n",
    "    new_words.append(start_word)\n",
    "    next_word = None\n",
    "    if not next_word:        \n",
    "        next_word = start_word\n",
    "    for i in range(max_n):\n",
    "        #print(\"字: \"+next_word)\n",
    "        next_possible = memory.get(next_word)\n",
    "        if next_word not in memory:\n",
    "            next_possible = memory.keys()\n",
    "        #print(\"候選：\")\n",
    "        #print(next_possible)\n",
    "        next_word = random.sample(next_possible, 1)\n",
    "        next_word = next_word[0]\n",
    "        #print(next_word+\" > 選字: \"+next_word[(n-1):])\n",
    "        new_words.append(next_word[(n-1):])\n",
    "        #print(new_words)\n",
    "    return '/'.join(new_words)"
   ]
  },
  {
   "cell_type": "code",
   "execution_count": 73,
   "metadata": {},
   "outputs": [],
   "source": [
    "mystory = mygenerator(100, test)"
   ]
  },
  {
   "cell_type": "code",
   "execution_count": 74,
   "metadata": {},
   "outputs": [
    {
     "data": {
      "text/plain": [
       "'國/長/篇/章/回/小/說/的/開/山/之/作/，/亦/是/四/大/名/著/之/一/。/是/書/陳/敘/百/年/，/賅/括/萬/事/，/七/實/三/虛/。/三/國/演/義/是/一/本/長/篇/章/回/小/說/，/可/以/說/是/中/國/謀/略/全/黃/巾/起/義/起/，/終/於/西/晉/統/一/。/作/者/是/明/朝/的/羅/貫/中/。/故/事/自/黃/巾/起/義/起/，/終/於/西/晉/統/一/。'"
      ]
     },
     "execution_count": 74,
     "metadata": {},
     "output_type": "execute_result"
    }
   ],
   "source": [
    "mystory"
   ]
  },
  {
   "cell_type": "code",
   "execution_count": 75,
   "metadata": {},
   "outputs": [
    {
     "data": {
      "text/plain": [
       "201"
      ]
     },
     "execution_count": 75,
     "metadata": {},
     "output_type": "execute_result"
    }
   ],
   "source": [
    "len(mystory)"
   ]
  },
  {
   "cell_type": "code",
   "execution_count": 76,
   "metadata": {},
   "outputs": [
    {
     "data": {
      "text/plain": [
       "str"
      ]
     },
     "execution_count": 76,
     "metadata": {},
     "output_type": "execute_result"
    }
   ],
   "source": [
    "type(mystory)"
   ]
  },
  {
   "cell_type": "code",
   "execution_count": null,
   "metadata": {},
   "outputs": [],
   "source": []
  },
  {
   "cell_type": "code",
   "execution_count": null,
   "metadata": {},
   "outputs": [],
   "source": []
  }
 ],
 "metadata": {
  "kernelspec": {
   "display_name": "Python 3",
   "language": "python",
   "name": "python3"
  },
  "language_info": {
   "codemirror_mode": {
    "name": "ipython",
    "version": 3
   },
   "file_extension": ".py",
   "mimetype": "text/x-python",
   "name": "python",
   "nbconvert_exporter": "python",
   "pygments_lexer": "ipython3",
   "version": "3.7.6"
  }
 },
 "nbformat": 4,
 "nbformat_minor": 4
}
