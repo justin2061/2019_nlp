{
 "cells": [
  {
   "cell_type": "markdown",
   "metadata": {},
   "source": [
    "## 安裝套件"
   ]
  },
  {
   "cell_type": "code",
   "execution_count": null,
   "metadata": {},
   "outputs": [],
   "source": [
    "!pip install requests"
   ]
  },
  {
   "cell_type": "code",
   "execution_count": null,
   "metadata": {},
   "outputs": [],
   "source": [
    "!pip install feedparser"
   ]
  },
  {
   "cell_type": "code",
   "execution_count": null,
   "metadata": {},
   "outputs": [],
   "source": [
    "!pip install lxml"
   ]
  },
  {
   "cell_type": "code",
   "execution_count": null,
   "metadata": {},
   "outputs": [],
   "source": [
    "!pip install jieba"
   ]
  },
  {
   "cell_type": "markdown",
   "metadata": {},
   "source": [
    "### 下載繁體字的辭典檔"
   ]
  },
  {
   "cell_type": "code",
   "execution_count": null,
   "metadata": {},
   "outputs": [],
   "source": [
    "!wget https://github.com/fxsjy/jieba/raw/master/extra_dict/dict.txt.big -O jieba_data/dict.txt.big"
   ]
  },
  {
   "cell_type": "code",
   "execution_count": null,
   "metadata": {},
   "outputs": [],
   "source": [
    "!pip install wordcloud"
   ]
  },
  {
   "cell_type": "markdown",
   "metadata": {},
   "source": [
    "## 解析 RSS"
   ]
  },
  {
   "cell_type": "code",
   "execution_count": null,
   "metadata": {},
   "outputs": [],
   "source": [
    "import feedparser"
   ]
  },
  {
   "cell_type": "code",
   "execution_count": null,
   "metadata": {},
   "outputs": [],
   "source": [
    "rss_url = \"https://udn.com/rssfeed/news/2/7225?ch=news\""
   ]
  },
  {
   "cell_type": "code",
   "execution_count": null,
   "metadata": {},
   "outputs": [],
   "source": [
    "newsFeed = feedparser.parse(rss_url)\n",
    "newsFeed"
   ]
  },
  {
   "cell_type": "markdown",
   "metadata": {},
   "source": [
    "### 轉成 json 格式，查看 RSS 的內容"
   ]
  },
  {
   "cell_type": "code",
   "execution_count": null,
   "metadata": {},
   "outputs": [],
   "source": [
    "import json\n",
    "print(json.dumps(newsFeed, indent=1, ensure_ascii=False))"
   ]
  },
  {
   "cell_type": "markdown",
   "metadata": {},
   "source": [
    "### 查看每個 entry 的 title, url "
   ]
  },
  {
   "cell_type": "code",
   "execution_count": null,
   "metadata": {},
   "outputs": [],
   "source": [
    "i = 1\n",
    "for e in newsFeed['entries']:\n",
    "    title = e['title']\n",
    "    link_url = e['links'][0]['href']\n",
    "    print(\"%s, %s, %s\"%(i, title, link_url))\n",
    "    i = i + 1"
   ]
  },
  {
   "cell_type": "markdown",
   "metadata": {},
   "source": [
    "### 解析html可以參考 https://lxml.de/lxmlhtml.html"
   ]
  },
  {
   "cell_type": "markdown",
   "metadata": {},
   "source": [
    "## 開始取得文章"
   ]
  },
  {
   "cell_type": "markdown",
   "metadata": {},
   "source": [
    "### 載入 library"
   ]
  },
  {
   "cell_type": "code",
   "execution_count": null,
   "metadata": {},
   "outputs": [],
   "source": [
    "import requests\n",
    "from lxml import etree\n",
    "from io import StringIO\n",
    "import jieba\n",
    "import pandas as pd\n",
    "import time\n",
    "import random\n",
    "from http import cookiejar"
   ]
  },
  {
   "cell_type": "markdown",
   "metadata": {},
   "source": [
    "### 使用繁體辭典"
   ]
  },
  {
   "cell_type": "code",
   "execution_count": null,
   "metadata": {},
   "outputs": [],
   "source": [
    "#指定辭典檔\n",
    "jieba.set_dictionary('jieba_data/dict.txt.big')"
   ]
  },
  {
   "cell_type": "markdown",
   "metadata": {},
   "source": [
    "### 設定 request header"
   ]
  },
  {
   "cell_type": "code",
   "execution_count": null,
   "metadata": {},
   "outputs": [],
   "source": [
    "#設定 request header\n",
    "user_agent = \"Mozilla/5.0 (Windows NT 10.0; Win64; x64) AppleWebKit/537.36 (KHTML, like Gecko) Chrome/63.0.3239.132 Safari/537.36\"\n",
    "my_headers = {\n",
    "    'User-Agent': user_agent,\n",
    "    \"accept\": \"text/html,application/xhtml+xml,application/xml;q=0.9,image/webp,image/apng,*/*;q=0.8\",\n",
    "    \"accept-Language\": \"zh-TW,zh;q=0.9,en-US;q=0.8,en;q=0.7\",\n",
    "    \"accept-encoding\": \"gzip, deflate, br\",\n",
    "    \"Connection\": \"keep-alive\",\n",
    "    \"cache-control\": \"no-cache\",\n",
    "    \"Accept-Charset\": \"UTF8,utf-8;q=0.7,*;q=0.7\"\n",
    "}"
   ]
  },
  {
   "cell_type": "markdown",
   "metadata": {},
   "source": [
    "### 設定 cookie"
   ]
  },
  {
   "cell_type": "code",
   "execution_count": null,
   "metadata": {},
   "outputs": [],
   "source": [
    "#設定 cookie\n",
    "my_cookie = cookiejar.CookieJar()"
   ]
  },
  {
   "cell_type": "markdown",
   "metadata": {},
   "source": [
    "### 先爬文"
   ]
  },
  {
   "cell_type": "code",
   "execution_count": null,
   "metadata": {},
   "outputs": [],
   "source": [
    "#分解動作\n",
    "\n",
    "#爬文\n",
    "each_article_text_list = []\n",
    "for e in newsFeed['entries']:\n",
    "    url = e['links'][0]['href']\n",
    "    print(url)\n",
    "    r = requests.get(url, headers = my_headers, cookies = my_cookie)\n",
    "    if r.status_code == 200:\n",
    "        parse_tree = etree.parse(StringIO(r.text), etree.HTMLParser())\n",
    "        article_elements = parse_tree.xpath('//article//p')\n",
    "        for a_part in article_elements:\n",
    "            if type(a_part.text) is str:\n",
    "                each_article_text_list.append(a_part.text.strip())\n",
    "        sleep_time = random.randint(3,10)\n",
    "        print(\"sleep time: %s sec\"%(sleep_time))\n",
    "        time.sleep(sleep_time)\n",
    "    all_article_text = ''.join(each_article_text_list)\n",
    "all_article_text"
   ]
  },
  {
   "cell_type": "markdown",
   "metadata": {},
   "source": [
    "### 做分詞"
   ]
  },
  {
   "cell_type": "code",
   "execution_count": null,
   "metadata": {},
   "outputs": [],
   "source": [
    "#分詞\n",
    "seg_words_list = jieba.lcut(all_article_text)\n",
    "seg_words_list"
   ]
  },
  {
   "cell_type": "code",
   "execution_count": null,
   "metadata": {},
   "outputs": [],
   "source": [
    "!ls jieba_data"
   ]
  },
  {
   "cell_type": "markdown",
   "metadata": {},
   "source": [
    "### 準備 stop word"
   ]
  },
  {
   "cell_type": "code",
   "execution_count": null,
   "metadata": {},
   "outputs": [],
   "source": [
    "#stop word\n",
    "with open(file='jieba_data/stop_words.txt', mode='r', encoding='utf-8') as file:\n",
    "    stop_words = file.read().split('\\n')\n",
    "stop_words"
   ]
  },
  {
   "cell_type": "markdown",
   "metadata": {},
   "source": [
    "### 準備一個利用stop word過濾後的分詞結果"
   ]
  },
  {
   "cell_type": "code",
   "execution_count": null,
   "metadata": {},
   "outputs": [],
   "source": [
    "#分詞\n",
    "seg_stop_words_list = []\n",
    "seg_words_list = jieba.lcut(all_article_text)\n",
    "for term in seg_words_list:\n",
    "    if term not in stop_words:\n",
    "        seg_stop_words_list.append(term)\n",
    "seg_stop_words_list"
   ]
  },
  {
   "cell_type": "code",
   "execution_count": null,
   "metadata": {},
   "outputs": [],
   "source": [
    "#合併動作 XD\n",
    "each_article_text_list = []\n",
    "seg_words_list = []\n",
    "for e in newsFeed['entries']:\n",
    "    url = e['links'][0]['href']\n",
    "    print(url)\n",
    "    r = requests.get(url, headers = my_headers, cookies = my_cookie)\n",
    "    if r.status_code == 200:\n",
    "        parse_tree = etree.parse(StringIO(r.text), etree.HTMLParser())\n",
    "        article_elements = parse_tree.xpath('//article//p')\n",
    "        for a_part in article_elements:\n",
    "            if type(a_part.text) is str:\n",
    "                term = a_part.text.strip()\n",
    "                if term not in stop_words:\n",
    "                    each_article_text_list.append(term)\n",
    "        all_article_text += ''.join(each_article_text_list)\n",
    "        sleep_time = random.randint(3,10)\n",
    "        print(\"sleep time: %s sec\"%(sleep_time))\n",
    "        time.sleep(sleep_time)\n",
    "seg_words_list = jieba.lcut(all_article_text)\n",
    "seg_df = pd.DataFrame(seg_words_list, columns=['seg_word'])\n",
    "print(seg_df)"
   ]
  },
  {
   "cell_type": "markdown",
   "metadata": {},
   "source": [
    "### 載入繪圖相關的 library"
   ]
  },
  {
   "cell_type": "code",
   "execution_count": null,
   "metadata": {},
   "outputs": [],
   "source": [
    "import matplotlib\n",
    "import matplotlib.pyplot as plt\n",
    "from wordcloud import WordCloud, STOPWORDS, ImageColorGenerator\n",
    "print(matplotlib.matplotlib_fname())"
   ]
  },
  {
   "cell_type": "markdown",
   "metadata": {},
   "source": [
    "### 安裝中文字型"
   ]
  },
  {
   "cell_type": "code",
   "execution_count": null,
   "metadata": {},
   "outputs": [],
   "source": [
    "!ls fonts/*.ttf"
   ]
  },
  {
   "cell_type": "code",
   "execution_count": null,
   "metadata": {},
   "outputs": [],
   "source": [
    "!cat /opt/conda/lib/python3.7/site-packages/matplotlib/mpl-data/matplotlibrc"
   ]
  },
  {
   "cell_type": "markdown",
   "metadata": {},
   "source": [
    "#### 字型檔案是放在 /opt/conda/lib/python3.7/site-packages/matplotlib/mpl-data/fonts/ttf 我們先列出來看一下"
   ]
  },
  {
   "cell_type": "code",
   "execution_count": null,
   "metadata": {},
   "outputs": [],
   "source": [
    "!ls /opt/conda/lib/python3.7/site-packages/matplotlib/mpl-data/fonts/ttf"
   ]
  },
  {
   "cell_type": "markdown",
   "metadata": {},
   "source": [
    "#### 將中文字型檔案放到字型收容的路徑"
   ]
  },
  {
   "cell_type": "code",
   "execution_count": null,
   "metadata": {},
   "outputs": [],
   "source": [
    "!cp fonts/*.ttf /opt/conda/lib/python3.7/site-packages/matplotlib/mpl-data/fonts/ttf "
   ]
  },
  {
   "cell_type": "markdown",
   "metadata": {},
   "source": [
    "#### 檢查一下結果"
   ]
  },
  {
   "cell_type": "code",
   "execution_count": null,
   "metadata": {
    "scrolled": true
   },
   "outputs": [],
   "source": [
    "!ls /opt/conda/lib/python3.7/site-packages/matplotlib/mpl-data/fonts/ttf"
   ]
  },
  {
   "cell_type": "markdown",
   "metadata": {},
   "source": [
    "#### 清除 matplotlib 快取"
   ]
  },
  {
   "cell_type": "code",
   "execution_count": null,
   "metadata": {},
   "outputs": [],
   "source": [
    "print(matplotlib.get_configdir())"
   ]
  },
  {
   "cell_type": "code",
   "execution_count": null,
   "metadata": {},
   "outputs": [],
   "source": [
    "!ls -la /home/jovyan/.config/matplotlib"
   ]
  },
  {
   "cell_type": "code",
   "execution_count": null,
   "metadata": {},
   "outputs": [],
   "source": [
    "print(matplotlib.get_cachedir())"
   ]
  },
  {
   "cell_type": "code",
   "execution_count": null,
   "metadata": {},
   "outputs": [],
   "source": [
    "!rm -rf /home/jovyan/.cache/matplotlib"
   ]
  },
  {
   "cell_type": "code",
   "execution_count": null,
   "metadata": {},
   "outputs": [],
   "source": [
    "#用來顯示中文\n",
    "plt.rcParams['font.sans-serif']=['SimHei']\n",
    "#用來顯示負號\n",
    "plt.rcParams['axes.unicode_minus']=False"
   ]
  },
  {
   "cell_type": "markdown",
   "metadata": {},
   "source": [
    "#### 其他 FAQ 可以參考 https://matplotlib.org/3.1.1/faq/troubleshooting_faq.html"
   ]
  },
  {
   "cell_type": "markdown",
   "metadata": {},
   "source": [
    "### 繪製文字雲 ( wordcloud.generate )"
   ]
  },
  {
   "cell_type": "code",
   "execution_count": null,
   "metadata": {},
   "outputs": [],
   "source": [
    "# wordcloud.generate 參數是吃文字內容，以空白為文字區隔\n",
    "seg_words = ' '.join(seg_words_list)\n",
    "#seg_words"
   ]
  },
  {
   "cell_type": "code",
   "execution_count": null,
   "metadata": {},
   "outputs": [],
   "source": [
    "wordcloud = WordCloud(font_path='fonts/SimHei.ttf').generate(seg_words)\n",
    "plt.imshow(wordcloud, interpolation='bilinear')\n",
    "plt.axis(\"off\")\n",
    "plt.show()"
   ]
  },
  {
   "cell_type": "code",
   "execution_count": null,
   "metadata": {},
   "outputs": [],
   "source": [
    "wordcloud = WordCloud(font_path='fonts/TaipeiSansTCBeta-Regular.ttf').generate(seg_words)\n",
    "plt.imshow(wordcloud, interpolation='bilinear')\n",
    "plt.axis(\"off\")\n",
    "plt.show()"
   ]
  },
  {
   "cell_type": "markdown",
   "metadata": {},
   "source": [
    "### 繪製文字雲 ( wordcloud.generate_from_frequencies )"
   ]
  },
  {
   "cell_type": "code",
   "execution_count": null,
   "metadata": {},
   "outputs": [],
   "source": [
    "# https://docs.python.org/zh-tw/3/library/collections.html\n",
    "# 準備一個沒有經過stop word 處理的 counter\n",
    "from collections import Counter\n",
    "seg_counter = Counter(seg_words_list)\n",
    "seg_counter"
   ]
  },
  {
   "cell_type": "code",
   "execution_count": null,
   "metadata": {},
   "outputs": [],
   "source": [
    "# 準備一個有經過stop word 處理的 counter\n",
    "from collections import Counter\n",
    "seg_stop_counter = Counter(seg_stop_words_list)\n",
    "#seg_stop_counter"
   ]
  },
  {
   "cell_type": "code",
   "execution_count": null,
   "metadata": {},
   "outputs": [],
   "source": [
    "wordcloud = WordCloud(font_path='fonts/TaipeiSansTCBeta-Regular.ttf').generate_from_frequencies(seg_counter)\n",
    "plt.imshow(wordcloud, interpolation='bilinear')\n",
    "plt.axis(\"off\")\n",
    "plt.show()"
   ]
  },
  {
   "cell_type": "code",
   "execution_count": null,
   "metadata": {},
   "outputs": [],
   "source": [
    "wordcloud = WordCloud(font_path='fonts/TaipeiSansTCBeta-Regular.ttf').generate_from_frequencies(seg_stop_counter)\n",
    "plt.imshow(wordcloud, interpolation='bilinear')\n",
    "plt.axis(\"off\")\n",
    "plt.show()"
   ]
  },
  {
   "cell_type": "markdown",
   "metadata": {},
   "source": [
    "### [其他] 用dataframe 處理數據"
   ]
  },
  {
   "cell_type": "code",
   "execution_count": null,
   "metadata": {},
   "outputs": [],
   "source": [
    "seg_df = pd.DataFrame(seg_words_list, columns=['seg_word'])\n",
    "seg_df"
   ]
  },
  {
   "cell_type": "code",
   "execution_count": null,
   "metadata": {},
   "outputs": [],
   "source": [
    "seg_df['count'] = 1\n",
    "seg_freq_df = seg_df.groupby('seg_word').sum()\n",
    "seg_freq_df"
   ]
  },
  {
   "cell_type": "code",
   "execution_count": null,
   "metadata": {},
   "outputs": [],
   "source": [
    "seg_df.groupby('seg_word').sum().plot.bar()\n",
    "plt.xticks(rotation=50)\n",
    "plt.show()"
   ]
  },
  {
   "cell_type": "markdown",
   "metadata": {},
   "source": [
    "### [其他] parse html 小筆記"
   ]
  },
  {
   "cell_type": "code",
   "execution_count": null,
   "metadata": {},
   "outputs": [],
   "source": [
    "import requests\n",
    "from lxml import etree\n",
    "import jieba\n",
    "from io import StringIO\n",
    "import pandas as pd\n",
    "\n",
    "for e in newsFeed['entries']:\n",
    "    url = e['links'][0]['href']\n",
    "    print(url)\n",
    "    r = requests.get(url)\n",
    "    #print(r.status_code == 200)\n",
    "    if r.status_code == 200:\n",
    "        html_tree = etree.HTML(r.text)\n",
    "        print(html_tree)\n",
    "        html_ele = html_tree.xpath('//article//p')\n",
    "        all_ele = [ (ele.text.strip()) for ele in html_ele if type(ele.text) is str ]\n",
    "        all_ele_string = ''.join(all_ele)\n",
    "        seg_words = jieba.lcut(all_ele_string)\n",
    "        seg_df = pd.DataFrame(seg_words, columns=['seg_word'])\n",
    "        seg_df['count'] = 1\n",
    "        print(seg_df)"
   ]
  }
 ],
 "metadata": {
  "kernelspec": {
   "display_name": "Python 3",
   "language": "python",
   "name": "python3"
  },
  "language_info": {
   "codemirror_mode": {
    "name": "ipython",
    "version": 3
   },
   "file_extension": ".py",
   "mimetype": "text/x-python",
   "name": "python",
   "nbconvert_exporter": "python",
   "pygments_lexer": "ipython3",
   "version": "3.7.6"
  }
 },
 "nbformat": 4,
 "nbformat_minor": 2
}
