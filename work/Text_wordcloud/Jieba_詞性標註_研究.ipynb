{
 "cells": [
  {
   "cell_type": "code",
   "execution_count": 1,
   "metadata": {},
   "outputs": [
    {
     "name": "stdout",
     "output_type": "stream",
     "text": [
      "Collecting jieba\n",
      "  Downloading jieba-0.42.1.tar.gz (19.2 MB)\n",
      "\u001b[2K     \u001b[90m━━━━━━━━━━━━━━━━━━━━━━━━━━━━━━━━━━━━━━━━\u001b[0m \u001b[32m19.2/19.2 MB\u001b[0m \u001b[31m12.2 MB/s\u001b[0m eta \u001b[36m0:00:00\u001b[0m00:01\u001b[0m00:01\u001b[0m\n",
      "\u001b[?25h  Preparing metadata (setup.py) ... \u001b[?25ldone\n",
      "\u001b[?25hBuilding wheels for collected packages: jieba\n",
      "  Building wheel for jieba (setup.py) ... \u001b[?25ldone\n",
      "\u001b[?25h  Created wheel for jieba: filename=jieba-0.42.1-py3-none-any.whl size=19314458 sha256=c874460aaa944bf683dfb20e9a8ea7b3c3a051def7b50f9c9fdbe411c9ebddc7\n",
      "  Stored in directory: /home/jovyan/.cache/pip/wheels/fe/aa/79/217233b7c4512e033cb980e378a27a73ff3c5359d2a48740f5\n",
      "Successfully built jieba\n",
      "Installing collected packages: jieba\n",
      "Successfully installed jieba-0.42.1\n"
     ]
    }
   ],
   "source": [
    "!pip install jieba"
   ]
  },
  {
   "cell_type": "code",
   "execution_count": 2,
   "metadata": {},
   "outputs": [],
   "source": [
    "import jieba"
   ]
  },
  {
   "cell_type": "code",
   "execution_count": 3,
   "metadata": {},
   "outputs": [],
   "source": [
    "text = '歐幾里得 西元前三世紀的古希臘數學家 現在被認為是幾何之父'"
   ]
  },
  {
   "cell_type": "code",
   "execution_count": 4,
   "metadata": {},
   "outputs": [],
   "source": [
    "text = \"歐幾里得 西元前三世紀的古希臘數學家 現在被認為是幾何之父 此畫為拉斐爾的作品\""
   ]
  },
  {
   "cell_type": "code",
   "execution_count": 5,
   "metadata": {},
   "outputs": [
    {
     "name": "stdout",
     "output_type": "stream",
     "text": [
      "上個世紀 3 t\n",
      "下世紀 60 t\n",
      "下世紀初 3 t\n",
      "下個世紀 3 t\n",
      "世紀 21100 n\n",
      "世紀之交 75 l\n",
      "世紀互聯 3 j\n",
      "世紀壇 11 n\n",
      "世紀末 980 t\n",
      "世紀東方 3 n\n",
      "世紀永聯 3 nr\n",
      "世紀版 3 n\n",
      "世紀絕症 3 l\n",
      "世紀金輝 3 nr\n",
      "世紀鐘 5 nr\n",
      "中世紀 859 nz\n",
      "中古世紀 3 nz\n",
      "中華世紀壇 11 nz\n",
      "九世紀 3 t\n",
      "二十一世紀出版社 8 nt\n",
      "二十世紀 3 nz\n",
      "八世紀 3 t\n",
      "六世紀 10 t\n",
      "創世紀 3 nz\n",
      "北京中華世紀壇 4 nz\n",
      "北京市二十一世紀實驗學校 6 nt\n",
      "十七世紀 3 nz\n",
      "十世紀 3 t\n",
      "十九世紀 3 nz\n",
      "十五世紀 3 t\n",
      "十八世紀 3 nz\n",
      "十六世紀 3 nz\n",
      "半世紀 35 t\n",
      "半個世紀 3 t\n",
      "幾世紀 3 n\n",
      "整世紀 3 nz\n",
      "新世紀 477 nz\n",
      "本世紀 553 t\n",
      "本世紀內 3 t\n",
      "本世紀初 3 t\n",
      "本世紀末 3 t\n",
      "跨世紀 180 n\n"
     ]
    }
   ],
   "source": [
    "!grep '世紀' jieba_data/dict.txt.big"
   ]
  },
  {
   "cell_type": "code",
   "execution_count": 6,
   "metadata": {},
   "outputs": [
    {
     "name": "stdout",
     "output_type": "stream",
     "text": [
      "ls: cannot access '/tmp/jieba*': No such file or directory\n"
     ]
    }
   ],
   "source": [
    "!ls /tmp/jieba*"
   ]
  },
  {
   "cell_type": "code",
   "execution_count": 7,
   "metadata": {},
   "outputs": [
    {
     "name": "stderr",
     "output_type": "stream",
     "text": [
      "Building prefix dict from the default dictionary ...\n",
      "Dumping model to file cache /tmp/jieba.cache\n",
      "Loading model cost 0.561 seconds.\n",
      "Prefix dict has been built successfully.\n"
     ]
    },
    {
     "name": "stdout",
     "output_type": "stream",
     "text": [
      "歐幾里得, ns\n",
      " , x\n",
      "西元前, t\n",
      "三世, nrt\n",
      "紀, nr\n",
      "的, uj\n",
      "古希臘, ns\n",
      "數學家, n\n",
      " , x\n",
      "現在, t\n",
      "被, p\n",
      "認為, v\n",
      "是, v\n",
      "幾何, r\n",
      "之, u\n",
      "父, n\n",
      " , x\n",
      "此, r\n",
      "畫, v\n",
      "為, p\n",
      "拉斐爾, nr\n",
      "的, uj\n",
      "作品, n\n"
     ]
    }
   ],
   "source": [
    "from jieba import posseg as pseg\n",
    "for w, p in pseg.lcut(text):\n",
    "    print('%s, %s'%(w,p))"
   ]
  },
  {
   "cell_type": "code",
   "execution_count": 8,
   "metadata": {},
   "outputs": [
    {
     "name": "stdout",
     "output_type": "stream",
     "text": [
      "/tmp/jieba.cache\n"
     ]
    }
   ],
   "source": [
    "!ls /tmp/jieba*"
   ]
  },
  {
   "cell_type": "code",
   "execution_count": 9,
   "metadata": {},
   "outputs": [],
   "source": [
    "!rm -f /tmp/jieba*"
   ]
  },
  {
   "cell_type": "code",
   "execution_count": 10,
   "metadata": {},
   "outputs": [],
   "source": [
    "jieba.set_dictionary('jieba_data/dict.txt.big')"
   ]
  },
  {
   "cell_type": "code",
   "execution_count": 11,
   "metadata": {},
   "outputs": [
    {
     "name": "stderr",
     "output_type": "stream",
     "text": [
      "Building prefix dict from /home/jovyan/work/Text_wordcloud/jieba_data/dict.txt.big ...\n",
      "Dumping model to file cache /tmp/jieba.u240ff8c1e70462be159af457c3f6d652.cache\n",
      "Loading model cost 4.474 seconds.\n",
      "Prefix dict has been built successfully.\n"
     ]
    },
    {
     "name": "stdout",
     "output_type": "stream",
     "text": [
      "歐幾里得, x\n",
      " , x\n",
      "西元前, t\n",
      "三, m\n",
      "世紀, x\n",
      "的, uj\n",
      "古希臘, x\n",
      "數學家, x\n",
      " , x\n",
      "現在, x\n",
      "被, p\n",
      "認為, v\n",
      "是, v\n",
      "幾何, x\n",
      "之, u\n",
      "父, n\n",
      " , x\n",
      "此, r\n",
      "畫, v\n",
      "為, p\n",
      "拉斐爾, x\n",
      "的, uj\n",
      "作品, n\n"
     ]
    }
   ],
   "source": [
    "from jieba import posseg as pseg\n",
    "for w, p in pseg.lcut(text):\n",
    "    print('%s, %s'%(w,p))"
   ]
  },
  {
   "cell_type": "code",
   "execution_count": 12,
   "metadata": {},
   "outputs": [],
   "source": [
    "!rm -f /tmp/jieba*"
   ]
  },
  {
   "cell_type": "code",
   "execution_count": 13,
   "metadata": {},
   "outputs": [
    {
     "name": "stdout",
     "output_type": "stream",
     "text": [
      "歐幾里得, x\n",
      " , x\n",
      "西元前, t\n",
      "三, m\n",
      "世紀, x\n",
      "的, uj\n",
      "古希臘, x\n",
      "數學家, x\n",
      " , x\n",
      "現在, x\n",
      "被, p\n",
      "認為, v\n",
      "是, v\n",
      "幾何, x\n",
      "之, u\n",
      "父, n\n",
      " , x\n",
      "此, r\n",
      "畫, v\n",
      "為, p\n",
      "拉斐爾, x\n",
      "的, uj\n",
      "作品, n\n"
     ]
    }
   ],
   "source": [
    "from jieba import posseg as pseg\n",
    "for w, p in pseg.lcut(text):\n",
    "    print('%s, %s'%(w,p))"
   ]
  },
  {
   "cell_type": "code",
   "execution_count": 14,
   "metadata": {},
   "outputs": [],
   "source": [
    "jieba.initialize()"
   ]
  },
  {
   "cell_type": "code",
   "execution_count": 15,
   "metadata": {},
   "outputs": [
    {
     "name": "stdout",
     "output_type": "stream",
     "text": [
      "歐幾里得, x\n",
      " , x\n",
      "西元前, t\n",
      "三, m\n",
      "世紀, x\n",
      "的, uj\n",
      "古希臘, x\n",
      "數學家, x\n",
      " , x\n",
      "現在, x\n",
      "被, p\n",
      "認為, v\n",
      "是, v\n",
      "幾何, x\n",
      "之, u\n",
      "父, n\n",
      " , x\n",
      "此, r\n",
      "畫, v\n",
      "為, p\n",
      "拉斐爾, x\n",
      "的, uj\n",
      "作品, n\n"
     ]
    }
   ],
   "source": [
    "from jieba import posseg as pseg\n",
    "for w, p in pseg.lcut(text):\n",
    "    print('%s, %s'%(w,p))"
   ]
  },
  {
   "cell_type": "code",
   "execution_count": 17,
   "metadata": {},
   "outputs": [
    {
     "name": "stdout",
     "output_type": "stream",
     "text": [
      "--2022-12-23 11:40:03--  https://github.com/fxsjy/jieba/raw/master/extra_dict/dict.txt.big\n",
      "Resolving github.com (github.com)... ::ffff:20.27.177.113, 20.27.177.113\n",
      "Connecting to github.com (github.com)|::ffff:20.27.177.113|:443... connected.\n",
      "HTTP request sent, awaiting response... 302 Found\n",
      "Location: https://raw.githubusercontent.com/fxsjy/jieba/master/extra_dict/dict.txt.big [following]\n",
      "--2022-12-23 11:40:04--  https://raw.githubusercontent.com/fxsjy/jieba/master/extra_dict/dict.txt.big\n",
      "Resolving raw.githubusercontent.com (raw.githubusercontent.com)... 185.199.109.133, 185.199.110.133, 185.199.111.133, ...\n",
      "Connecting to raw.githubusercontent.com (raw.githubusercontent.com)|185.199.109.133|:443... connected.\n",
      "HTTP request sent, awaiting response... 200 OK\n",
      "Length: 8583143 (8.2M) [text/plain]\n",
      "Saving to: ‘jieba_data/dict.txt.small’\n",
      "\n",
      "jieba_data/dict.txt 100%[===================>]   8.18M  10.4MB/s    in 0.8s    \n",
      "\n",
      "2022-12-23 11:40:06 (10.4 MB/s) - ‘jieba_data/dict.txt.small’ saved [8583143/8583143]\n",
      "\n"
     ]
    }
   ],
   "source": [
    "!wget https://github.com/fxsjy/jieba/raw/master/extra_dict/dict.txt.big -O jieba_data/dict.txt.small"
   ]
  },
  {
   "cell_type": "code",
   "execution_count": 18,
   "metadata": {},
   "outputs": [],
   "source": [
    "jieba.set_dictionary('jieba_data/dict.txt.small')"
   ]
  },
  {
   "cell_type": "code",
   "execution_count": 19,
   "metadata": {},
   "outputs": [
    {
     "name": "stderr",
     "output_type": "stream",
     "text": [
      "Building prefix dict from /home/jovyan/work/Text_wordcloud/jieba_data/dict.txt.small ...\n",
      "Dumping model to file cache /tmp/jieba.u592d7d145fa86144c11f97bfbd35f0cb.cache\n",
      "Loading model cost 3.007 seconds.\n",
      "Prefix dict has been built successfully.\n"
     ]
    },
    {
     "name": "stdout",
     "output_type": "stream",
     "text": [
      "歐幾里得, x\n",
      " , x\n",
      "西元前, t\n",
      "三, m\n",
      "世紀, x\n",
      "的, uj\n",
      "古希臘, x\n",
      "數學家, x\n",
      " , x\n",
      "現在, x\n",
      "被, p\n",
      "認為, v\n",
      "是, v\n",
      "幾何, x\n",
      "之, u\n",
      "父, n\n",
      " , x\n",
      "此, r\n",
      "畫, v\n",
      "為, p\n",
      "拉斐爾, x\n",
      "的, uj\n",
      "作品, n\n"
     ]
    }
   ],
   "source": [
    "from jieba import posseg as pseg\n",
    "for w, p in pseg.lcut(text):\n",
    "    print('%s, %s'%(w,p))"
   ]
  },
  {
   "cell_type": "code",
   "execution_count": 20,
   "metadata": {},
   "outputs": [],
   "source": [
    "jieba.set_dictionary('jieba_data/dict.txt.big')"
   ]
  },
  {
   "cell_type": "code",
   "execution_count": 21,
   "metadata": {},
   "outputs": [
    {
     "name": "stderr",
     "output_type": "stream",
     "text": [
      "Building prefix dict from /home/jovyan/work/Text_wordcloud/jieba_data/dict.txt.big ...\n",
      "Dumping model to file cache /tmp/jieba.u240ff8c1e70462be159af457c3f6d652.cache\n",
      "Loading model cost 3.148 seconds.\n",
      "Prefix dict has been built successfully.\n"
     ]
    },
    {
     "name": "stdout",
     "output_type": "stream",
     "text": [
      "歐幾里得, x\n",
      " , x\n",
      "西元前, t\n",
      "三, m\n",
      "世紀, x\n",
      "的, uj\n",
      "古希臘, x\n",
      "數學家, x\n",
      " , x\n",
      "現在, x\n",
      "被, p\n",
      "認為, v\n",
      "是, v\n",
      "幾何, x\n",
      "之, u\n",
      "父, n\n",
      " , x\n",
      "此, r\n",
      "畫, v\n",
      "為, p\n",
      "拉斐爾, x\n",
      "的, uj\n",
      "作品, n\n"
     ]
    }
   ],
   "source": [
    "from jieba import posseg as pseg\n",
    "for w, p in pseg.lcut(text):\n",
    "    print('%s, %s'%(w,p))"
   ]
  },
  {
   "cell_type": "code",
   "execution_count": 22,
   "metadata": {},
   "outputs": [],
   "source": [
    "jieba.set_dictionary('jieba_data/dict.txt.small')"
   ]
  },
  {
   "cell_type": "code",
   "execution_count": 23,
   "metadata": {},
   "outputs": [
    {
     "name": "stderr",
     "output_type": "stream",
     "text": [
      "Building prefix dict from /home/jovyan/work/Text_wordcloud/jieba_data/dict.txt.small ...\n",
      "Loading model from cache /tmp/jieba.u592d7d145fa86144c11f97bfbd35f0cb.cache\n",
      "Loading model cost 1.000 seconds.\n",
      "Prefix dict has been built successfully.\n"
     ]
    },
    {
     "name": "stdout",
     "output_type": "stream",
     "text": [
      "歐幾里得, x\n",
      " , x\n",
      "西元前, t\n",
      "三, m\n",
      "世紀, x\n",
      "的, uj\n",
      "古希臘, x\n",
      "數學家, x\n",
      " , x\n",
      "現在, x\n",
      "被, p\n",
      "認為, v\n",
      "是, v\n",
      "幾何, x\n",
      "之, u\n",
      "父, n\n",
      " , x\n",
      "此, r\n",
      "畫, v\n",
      "為, p\n",
      "拉斐爾, x\n",
      "的, uj\n",
      "作品, n\n"
     ]
    }
   ],
   "source": [
    "from jieba import posseg as pseg\n",
    "for w, p in pseg.lcut(text):\n",
    "    print('%s, %s'%(w,p))"
   ]
  },
  {
   "cell_type": "code",
   "execution_count": 24,
   "metadata": {},
   "outputs": [
    {
     "ename": "Exception",
     "evalue": "jieba: file does not exist: /home/jovyan/work/Text_wordcloud/jieba_data/dict.txt",
     "output_type": "error",
     "traceback": [
      "\u001b[0;31m---------------------------------------------------------------------------\u001b[0m",
      "\u001b[0;31mException\u001b[0m                                 Traceback (most recent call last)",
      "Cell \u001b[0;32mIn[24], line 1\u001b[0m\n\u001b[0;32m----> 1\u001b[0m \u001b[43mjieba\u001b[49m\u001b[38;5;241;43m.\u001b[39;49m\u001b[43mset_dictionary\u001b[49m\u001b[43m(\u001b[49m\u001b[38;5;124;43m'\u001b[39;49m\u001b[38;5;124;43mjieba_data/dict.txt\u001b[39;49m\u001b[38;5;124;43m'\u001b[39;49m\u001b[43m)\u001b[49m\n",
      "File \u001b[0;32m/opt/conda/lib/python3.10/site-packages/jieba/__init__.py:513\u001b[0m, in \u001b[0;36mTokenizer.set_dictionary\u001b[0;34m(self, dictionary_path)\u001b[0m\n\u001b[1;32m    511\u001b[0m abs_path \u001b[38;5;241m=\u001b[39m _get_abs_path(dictionary_path)\n\u001b[1;32m    512\u001b[0m \u001b[38;5;28;01mif\u001b[39;00m \u001b[38;5;129;01mnot\u001b[39;00m os\u001b[38;5;241m.\u001b[39mpath\u001b[38;5;241m.\u001b[39misfile(abs_path):\n\u001b[0;32m--> 513\u001b[0m     \u001b[38;5;28;01mraise\u001b[39;00m \u001b[38;5;167;01mException\u001b[39;00m(\u001b[38;5;124m\"\u001b[39m\u001b[38;5;124mjieba: file does not exist: \u001b[39m\u001b[38;5;124m\"\u001b[39m \u001b[38;5;241m+\u001b[39m abs_path)\n\u001b[1;32m    514\u001b[0m \u001b[38;5;28mself\u001b[39m\u001b[38;5;241m.\u001b[39mdictionary \u001b[38;5;241m=\u001b[39m abs_path\n\u001b[1;32m    515\u001b[0m \u001b[38;5;28mself\u001b[39m\u001b[38;5;241m.\u001b[39minitialized \u001b[38;5;241m=\u001b[39m \u001b[38;5;28;01mFalse\u001b[39;00m\n",
      "\u001b[0;31mException\u001b[0m: jieba: file does not exist: /home/jovyan/work/Text_wordcloud/jieba_data/dict.txt"
     ]
    }
   ],
   "source": [
    "jieba.set_dictionary('jieba_data/dict.txt')"
   ]
  },
  {
   "cell_type": "code",
   "execution_count": 25,
   "metadata": {},
   "outputs": [
    {
     "name": "stdout",
     "output_type": "stream",
     "text": [
      "歐幾里得, x\n",
      " , x\n",
      "西元前, t\n",
      "三, m\n",
      "世紀, x\n",
      "的, uj\n",
      "古希臘, x\n",
      "數學家, x\n",
      " , x\n",
      "現在, x\n",
      "被, p\n",
      "認為, v\n",
      "是, v\n",
      "幾何, x\n",
      "之, u\n",
      "父, n\n",
      " , x\n",
      "此, r\n",
      "畫, v\n",
      "為, p\n",
      "拉斐爾, x\n",
      "的, uj\n",
      "作品, n\n"
     ]
    }
   ],
   "source": [
    "from jieba import posseg as pseg\n",
    "for w, p in pseg.lcut(text):\n",
    "    print('%s, %s'%(w,p))"
   ]
  },
  {
   "cell_type": "code",
   "execution_count": 26,
   "metadata": {},
   "outputs": [],
   "source": [
    "!rm -f /tmp/jieba*"
   ]
  },
  {
   "cell_type": "code",
   "execution_count": 27,
   "metadata": {},
   "outputs": [
    {
     "name": "stdout",
     "output_type": "stream",
     "text": [
      "歐幾里得, x\n",
      " , x\n",
      "西元前, t\n",
      "三, m\n",
      "世紀, x\n",
      "的, uj\n",
      "古希臘, x\n",
      "數學家, x\n",
      " , x\n",
      "現在, x\n",
      "被, p\n",
      "認為, v\n",
      "是, v\n",
      "幾何, x\n",
      "之, u\n",
      "父, n\n",
      " , x\n",
      "此, r\n",
      "畫, v\n",
      "為, p\n",
      "拉斐爾, x\n",
      "的, uj\n",
      "作品, n\n"
     ]
    }
   ],
   "source": [
    "from jieba import posseg as pseg\n",
    "for w, p in pseg.lcut(text):\n",
    "    print('%s, %s'%(w,p))"
   ]
  },
  {
   "cell_type": "code",
   "execution_count": null,
   "metadata": {},
   "outputs": [],
   "source": []
  }
 ],
 "metadata": {
  "kernelspec": {
   "display_name": "Python 3 (ipykernel)",
   "language": "python",
   "name": "python3"
  },
  "language_info": {
   "codemirror_mode": {
    "name": "ipython",
    "version": 3
   },
   "file_extension": ".py",
   "mimetype": "text/x-python",
   "name": "python",
   "nbconvert_exporter": "python",
   "pygments_lexer": "ipython3",
   "version": "3.10.8"
  }
 },
 "nbformat": 4,
 "nbformat_minor": 4
}
