{
 "cells": [
  {
   "cell_type": "code",
   "execution_count": 2,
   "metadata": {},
   "outputs": [
    {
     "name": "stdout",
     "output_type": "stream",
     "text": [
      "Collecting nltk\n",
      "  Downloading nltk-3.5.zip (1.4 MB)\n",
      "\u001b[K     |████████████████████████████████| 1.4 MB 14.0 MB/s eta 0:00:01\n",
      "\u001b[?25hRequirement already satisfied: click in /opt/conda/lib/python3.7/site-packages (from nltk) (7.1.2)\n",
      "Requirement already satisfied: joblib in /opt/conda/lib/python3.7/site-packages (from nltk) (0.15.1)\n",
      "Collecting regex\n",
      "  Downloading regex-2020.11.13-cp37-cp37m-manylinux2014_x86_64.whl (719 kB)\n",
      "\u001b[K     |████████████████████████████████| 719 kB 49.6 MB/s eta 0:00:01\n",
      "\u001b[?25hRequirement already satisfied: tqdm in /opt/conda/lib/python3.7/site-packages (from nltk) (4.46.1)\n",
      "Building wheels for collected packages: nltk\n",
      "  Building wheel for nltk (setup.py) ... \u001b[?25ldone\n",
      "\u001b[?25h  Created wheel for nltk: filename=nltk-3.5-py3-none-any.whl size=1434673 sha256=983ecb0c3bcafc29b32ed652f1eb2deb8d7d79d170c52472ca30a292b89d88a5\n",
      "  Stored in directory: /home/jovyan/.cache/pip/wheels/45/6c/46/a1865e7ba706b3817f5d1b2ff7ce8996aabdd0d03d47ba0266\n",
      "Successfully built nltk\n",
      "Installing collected packages: regex, nltk\n",
      "Successfully installed nltk-3.5 regex-2020.11.13\n"
     ]
    }
   ],
   "source": [
    "!pip install nltk"
   ]
  },
  {
   "cell_type": "code",
   "execution_count": 2,
   "metadata": {
    "collapsed": true,
    "jupyter": {
     "outputs_hidden": true
    }
   },
   "outputs": [
    {
     "name": "stdout",
     "output_type": "stream",
     "text": [
      "total 12282836\n",
      "drwxrwxrwx 18 jovyan users       4096 Jul 24 07:54  .\n",
      "drwsrwsr-x  1 jovyan users       4096 Jul 17 18:15  ..\n",
      "-rw-r--r--  1 jovyan users  304045848 Jun  2 10:38  10layers_12heads_1024len_768embd_full_corpus_16bsize.zip\n",
      "-rw-rw-r--  1 jovyan  1000      19885 May 16 20:15  20newsgroups_BERT.ipynb\n",
      "-rw-r--r--  1 jovyan users      53235 Jul 10 06:52 'A Beginner’s Guide to Word Embedding with Gensim Word2Vec Model.ipynb'\n",
      "-rw-r--r--  1 jovyan users     271621 Jul 17 09:55 'A Beginner’s Guide to Word Embedding with Gensim Word2Vec Model-Ver.2.ipynb'\n",
      "-rw-r--r--  1 jovyan users       2853 Dec  3  2019  attention_layer.py\n",
      "-rw-r--r--  1 jovyan users    1183052 Jun  2 09:50  AttentionSeq2seq.pkl\n",
      "-rw-r--r--  1 jovyan users       3142 Dec  3  2019  attention_seq2seq.py\n",
      "-rw-r--r--  1 jovyan users     121746 May  8 09:56  Attention_train-addition.ipynb\n",
      "-rw-r--r--  1 jovyan users      66635 May  8 10:36  Attention_train-Copy1.ipynb\n",
      "-rw-r--r--  1 jovyan users     859158 Jun  2 11:23  Attention_train.ipynb\n",
      "-rw-r--r--  1 jovyan users    2655629 May  7 11:11  Attention_visualiztion.ipynb\n",
      "-rw-r--r--  1 jovyan users      28759 Dec  5  2019  bertviz_gpt-2_head_view.ipynb\n",
      "-rw-r--r--  1 jovyan users     221794 Dec  5  2019  bertviz_gpt-2_model_view.ipynb\n",
      "-rw-r--r--  1 jovyan users    4899349 Dec  5  2019  bertviz_gpt-2_neuron_view.ipynb\n",
      "drwxr-xr-x  5 jovyan users       4096 Nov 26  2019  bertviz_repo\n",
      "-rw-r--r--  1 jovyan users     988260 May 31 18:58 'Character-level text generation with LSTM (中文).ipynb'\n",
      "-rw-r--r--  1 jovyan users   27073102 Dec 11  2019  cmip6-zarr-consolidated-stores.csv\n",
      "drwxr-xr-x  4 jovyan users       4096 Nov 28  2019  common\n",
      "-rw-rw-r--  1 jovyan users        528 Sep  1  2019  config.json\n",
      "-rw-rw-r--  1 jovyan  1000      22939 May 16 13:05  Copy_of_NLP_with_Bert_for_Sentiment_Analysis.ipynb\n",
      "drwxr-xr-x  4 jovyan users       4096 Jun 30 15:37  dataset\n",
      "drwxr-xr-x  2 jovyan users       4096 Jul  3 07:41  doc\n",
      "-rw-r--r--  1 jovyan users       7372 Jul 16 05:12  ELMo_test.ipynb\n",
      "-rw-r--r--  1 jovyan users       3179 May  8 03:00  gen_addition_data.ipynb\n",
      "-rw-r--r--  1 jovyan users    1972223 Jul 13 09:20  Gensim_word2vec_三國.ipynb\n",
      "-rw-r--r--  1 jovyan users      12039 Jul 13 09:20  Gensim_word2vec_三國-Ver.2.ipynb\n",
      "drwxr-xr-x  8 jovyan users       4096 Jun  2 10:38  GPT2-Chinese\n",
      "-rw-r--r--  1 jovyan users       8578 Nov 27  2019  gpt-2-simple.ipynb\n",
      "-rw-r--r--  1 jovyan users      61887 Dec  5  2019  GPT2_看新聞寫小說-Copy1.ipynb\n",
      "-rw-r--r--  1 jovyan users     873630 Jun  2 10:48  GPT2_看新聞寫小說.ipynb\n",
      "drwxr-xr-x  3 jovyan users       4096 Nov 26  2019  home\n",
      "drwxr-xr-x  2 jovyan users       4096 Jul 22 06:32  .ipynb_checkpoints\n",
      "drwxr-xr-x  2 jovyan users       4096 Jul 18 16:20  jieba_data\n",
      "-rw-r--r--  1 jovyan users 1624651295 Jul 16 00:32  jieba_segment.txt\n",
      "-rw-r--r--  1 jovyan users      14094 May 29 11:24  Keras_demo_1.ipynb\n",
      "-rw-rw-r--  1 jovyan  1000     104346 May 26 09:02  lstm_character_level_text_generation.ipynb\n",
      "drwxr-xr-x  2 jovyan users       4096 May 16 20:14  model\n",
      "drwxr-xr-x  3 jovyan users       4096 Jul 16 04:45  n-gram\n",
      "-rw-r--r--  1 jovyan users       3079 May 19 18:51 'NLP with Bert for Sentiment Analysis.ipynb'\n",
      "-rw-r--r--  1 jovyan users    1707341 Jun  2 11:23  PeekySeq2seq.pkl\n",
      "-rw-r--r--  1 jovyan users       2820 Dec  3  2019  peeky_seq2seq.py\n",
      "-rw-rw-r--  1 jovyan  1000      35480 May 16 14:27  public_IMDb_BERT.ipynb\n",
      "drwxr-xr-x  2 jovyan users       4096 Dec  3  2019  __pycache__\n",
      "-rw-rw-r--  1 jovyan users  369548516 Sep  1  2019  pytorch_model.bin\n",
      "-rw-r--r--  1 jovyan  1000      83347 May 20 18:50  question_answering_with_bert.ipynb\n",
      "-rw-r--r--  1 jovyan users      33096 Jul 22 06:47  README.ipynb\n",
      "drwxrwxr-x 15 jovyan  1000       4096 Jul 19 15:34  ref_examples\n",
      "-rw-r--r--  1 jovyan users      10001 Dec  3  2019  ReLU_function.ipynb\n",
      "-rw-r--r--  1 jovyan users      54351 Nov 28  2019  run_word2vec.ipynb\n",
      "-rw-r--r--  1 jovyan users     751665 Jun  1 18:35  segDone.txt\n",
      "-rw-r--r--  1 jovyan users    1425545 May 19 19:09  segJiebaTestDone.txt\n",
      "-rw-r--r--  1 jovyan users    1152844 Jun  2 10:31  Seq2seq.pkl\n",
      "-rw-r--r--  1 jovyan users       3786 Dec  3  2019  seq2seq.py\n",
      "-rw-r--r--  1 jovyan users      45866 Dec  3  2019  Sigmoid_function.ipynb\n",
      "-rw-r--r--  1 jovyan users      11745 Dec  3  2019  sigmoid.png\n",
      "-rw-r--r--  1 jovyan users       1439 Nov 28  2019  simple_cbow.py\n",
      "-rw-r--r--  1 jovyan users      15827 Nov 28  2019  Softmax_function.ipynb\n",
      "drwxr-xr-x  3 jovyan users       4096 Jul 16 09:59  SpaCy\n",
      "-rw-r--r--  1 jovyan users      17819 Jul 16 09:46  spaCy-ex1.ipynb\n",
      "-rw-r--r--  1 jovyan users      32246 Jul 16 09:46  spaCy-ex2.ipynb\n",
      "drwxr-xr-x  5 jovyan users       4096 Jul 18 16:59  Text_wordcloud\n",
      "drwxr-xr-x  4 jovyan users       4096 Jul 16 03:57  tfhub_modules\n",
      "-rw-r--r--  1 jovyan users    1839430 Nov 28  2019 'Three Kingdoms.txt'\n",
      "-rw-r--r--  1 jovyan users       2236 Dec 12  2019  Untitled1.ipynb\n",
      "-rw-r--r--  1 jovyan users      16196 Jul 24 07:54  Using_WordNet.ipynb\n",
      "drwxr-xr-x  5 jovyan users       4096 Nov 27  2019  venv\n",
      "-rw-rw-r--  1 jovyan users      62801 Aug 28  2019  vocab_small.txt\n",
      "-rw-r--r--  1 jovyan users   59710858 Jul 16 01:07  wiki_word2vec.model\n",
      "-rw-r--r--  1 jovyan users  365390128 Jul 16 01:07  wiki_word2vec.model.trainables.syn1neg.npy\n",
      "-rw-r--r--  1 jovyan users  365390128 Jul 16 01:06  wiki_word2vec.model.wv.vectors.npy\n",
      "-rw-r--r--  1 jovyan users   57972782 Jun  4 21:53  wiki_word2vec_v1.model\n",
      "-rw-r--r--  1 jovyan users       3359 Jul 15 06:45 'Wiki-Word2Vec 模型使用.ipynb'\n",
      "-rw-r--r--  1 jovyan users      15586 Jul 10 06:52  word2vec_demo.ipynb\n",
      "-rw-r--r--  1 jovyan users   32955895 Jun  1 18:36  word2vec.model\n",
      "-rw-r--r--  1 jovyan users      17162 Jan 17  2020  Word2vec_三國演義.ipynb\n",
      "-rw-r--r--  1 jovyan users    1928317 Nov 28  2019  Word2vec_概念說明.ipynb\n",
      "-rw-r--r--  1 jovyan users 2755627438 Jul  5 00:29  zhwiki-latest-pages-meta-current.xml.bz2\n",
      "-rw-r--r--  1 jovyan users 2577038148 Dec  4  2019  zhwiki-latest-pages-meta-current.xml.bz2.202001\n",
      "-rw-r--r--  1 jovyan users 2700752677 Apr 23 12:55  zhwiki-latest-pages-meta-current.xml.bz2.202004\n",
      "-rw-r--r--  1 jovyan users 1313425877 Jul 14 08:46  zhwiki.txt\n",
      "-rw-r--r--  1 jovyan users      61450 Jul 14 09:08 '利用wiki 建立 werd2vec 模型.ipynb'\n",
      "-rw-r--r--  1 jovyan users       1845 Dec  3  2019  相似度計算.ipynb\n",
      "-rw-r--r--  1 jovyan users      10569 Jan 17  2020  神經網路的訊息傳遞.ipynb\n"
     ]
    }
   ],
   "source": [
    "!ls -la"
   ]
  },
  {
   "cell_type": "markdown",
   "metadata": {},
   "source": [
    "WordNet 的維基百科說明： https://zh.wikipedia.org/wiki/WordNet"
   ]
  },
  {
   "cell_type": "code",
   "execution_count": 3,
   "metadata": {},
   "outputs": [],
   "source": [
    "import nltk"
   ]
  },
  {
   "cell_type": "code",
   "execution_count": 14,
   "metadata": {},
   "outputs": [
    {
     "name": "stderr",
     "output_type": "stream",
     "text": [
      "[nltk_data] Downloading package wordnet to /home/jovyan/nltk_data...\n",
      "[nltk_data]   Unzipping corpora/wordnet.zip.\n"
     ]
    },
    {
     "data": {
      "text/plain": [
       "True"
      ]
     },
     "execution_count": 14,
     "metadata": {},
     "output_type": "execute_result"
    }
   ],
   "source": [
    "nltk.download('wordnet')"
   ]
  },
  {
   "cell_type": "code",
   "execution_count": 5,
   "metadata": {},
   "outputs": [],
   "source": [
    "from nltk.corpus import wordnet as wn"
   ]
  },
  {
   "cell_type": "code",
   "execution_count": 6,
   "metadata": {},
   "outputs": [],
   "source": [
    "wn.ensure_loaded()"
   ]
  },
  {
   "cell_type": "markdown",
   "metadata": {},
   "source": [
    "### 查詢car"
   ]
  },
  {
   "cell_type": "code",
   "execution_count": 7,
   "metadata": {},
   "outputs": [
    {
     "data": {
      "text/plain": [
       "[Synset('car.n.01'),\n",
       " Synset('car.n.02'),\n",
       " Synset('car.n.03'),\n",
       " Synset('car.n.04'),\n",
       " Synset('cable_car.n.01')]"
      ]
     },
     "execution_count": 7,
     "metadata": {},
     "output_type": "execute_result"
    }
   ],
   "source": [
    "wn.synsets('car')"
   ]
  },
  {
   "cell_type": "markdown",
   "metadata": {},
   "source": [
    "這裡輸出了五個不同的synset (同義詞集合), 表示car 有五種不同的意思(不同的同義詞群組)"
   ]
  },
  {
   "cell_type": "code",
   "execution_count": 8,
   "metadata": {},
   "outputs": [],
   "source": [
    "car = wn.synset('car.n.01')"
   ]
  },
  {
   "cell_type": "code",
   "execution_count": 9,
   "metadata": {},
   "outputs": [
    {
     "data": {
      "text/plain": [
       "'a motor vehicle with four wheels; usually propelled by an internal combustion engine'"
      ]
     },
     "execution_count": 9,
     "metadata": {},
     "output_type": "execute_result"
    }
   ],
   "source": [
    "car.definition()"
   ]
  },
  {
   "cell_type": "code",
   "execution_count": 10,
   "metadata": {},
   "outputs": [],
   "source": [
    "car_2 = wn.synset('car.n.02')"
   ]
  },
  {
   "cell_type": "code",
   "execution_count": 11,
   "metadata": {},
   "outputs": [
    {
     "data": {
      "text/plain": [
       "'a wheeled vehicle adapted to the rails of railroad'"
      ]
     },
     "execution_count": 11,
     "metadata": {},
     "output_type": "execute_result"
    }
   ],
   "source": [
    "car_2.definition()"
   ]
  },
  {
   "cell_type": "code",
   "execution_count": 12,
   "metadata": {},
   "outputs": [
    {
     "data": {
      "text/plain": [
       "['car', 'auto', 'automobile', 'machine', 'motorcar']"
      ]
     },
     "execution_count": 12,
     "metadata": {},
     "output_type": "execute_result"
    }
   ],
   "source": [
    "car.lemma_names()"
   ]
  },
  {
   "cell_type": "markdown",
   "metadata": {},
   "source": [
    "利用lemma_name 可以了解 car 這個字，把auto, automobile, machine, motocar 定義為同義詞"
   ]
  },
  {
   "cell_type": "markdown",
   "metadata": {},
   "source": [
    "### 接下來看 \"上位詞\""
   ]
  },
  {
   "cell_type": "code",
   "execution_count": 13,
   "metadata": {},
   "outputs": [
    {
     "data": {
      "text/plain": [
       "[Synset('entity.n.01'),\n",
       " Synset('physical_entity.n.01'),\n",
       " Synset('object.n.01'),\n",
       " Synset('whole.n.02'),\n",
       " Synset('artifact.n.01'),\n",
       " Synset('instrumentality.n.03'),\n",
       " Synset('container.n.01'),\n",
       " Synset('wheeled_vehicle.n.01'),\n",
       " Synset('self-propelled_vehicle.n.01'),\n",
       " Synset('motor_vehicle.n.01'),\n",
       " Synset('car.n.01')]"
      ]
     },
     "execution_count": 13,
     "metadata": {},
     "output_type": "execute_result"
    }
   ],
   "source": [
    "car.hypernym_paths()[0]"
   ]
  },
  {
   "cell_type": "markdown",
   "metadata": {},
   "source": [
    "愈往上，愈抽象；愈往下，愈具體。"
   ]
  },
  {
   "cell_type": "markdown",
   "metadata": {},
   "source": [
    "接下來看 Wrodnet的詞意相似度"
   ]
  },
  {
   "cell_type": "code",
   "execution_count": 14,
   "metadata": {},
   "outputs": [],
   "source": [
    "car = wn.synset('car.n.01')"
   ]
  },
  {
   "cell_type": "code",
   "execution_count": 15,
   "metadata": {},
   "outputs": [],
   "source": [
    "novel = wn.synset('novel.n.01')"
   ]
  },
  {
   "cell_type": "code",
   "execution_count": 16,
   "metadata": {},
   "outputs": [],
   "source": [
    "dog = wn.synset('dog.n.01')"
   ]
  },
  {
   "cell_type": "code",
   "execution_count": 17,
   "metadata": {},
   "outputs": [],
   "source": [
    "motorcycle = wn.synset('motorcycle.n.01')"
   ]
  },
  {
   "cell_type": "code",
   "execution_count": 18,
   "metadata": {},
   "outputs": [
    {
     "data": {
      "text/plain": [
       "0.05555555555555555"
      ]
     },
     "execution_count": 18,
     "metadata": {},
     "output_type": "execute_result"
    }
   ],
   "source": [
    "car.path_similarity(novel)"
   ]
  },
  {
   "cell_type": "code",
   "execution_count": 19,
   "metadata": {},
   "outputs": [
    {
     "data": {
      "text/plain": [
       "0.07692307692307693"
      ]
     },
     "execution_count": 19,
     "metadata": {},
     "output_type": "execute_result"
    }
   ],
   "source": [
    "car.path_similarity(dog)"
   ]
  },
  {
   "cell_type": "code",
   "execution_count": 20,
   "metadata": {},
   "outputs": [
    {
     "data": {
      "text/plain": [
       "0.3333333333333333"
      ]
     },
     "execution_count": 20,
     "metadata": {},
     "output_type": "execute_result"
    }
   ],
   "source": [
    "car.path_similarity(motorcycle)"
   ]
  },
  {
   "cell_type": "code",
   "execution_count": 21,
   "metadata": {},
   "outputs": [],
   "source": [
    "cat = wn.synset('cat.n.01')"
   ]
  },
  {
   "cell_type": "code",
   "execution_count": 22,
   "metadata": {},
   "outputs": [
    {
     "data": {
      "text/plain": [
       "0.05555555555555555"
      ]
     },
     "execution_count": 22,
     "metadata": {},
     "output_type": "execute_result"
    }
   ],
   "source": [
    "car.path_similarity(cat)"
   ]
  },
  {
   "cell_type": "code",
   "execution_count": 24,
   "metadata": {},
   "outputs": [
    {
     "ename": "SyntaxError",
     "evalue": "can't assign to operator (<ipython-input-24-1df9728c2ddb>, line 1)",
     "output_type": "error",
     "traceback": [
      "\u001b[0;36m  File \u001b[0;32m\"<ipython-input-24-1df9728c2ddb>\"\u001b[0;36m, line \u001b[0;32m1\u001b[0m\n\u001b[0;31m    covid-19 = wn.synset('covid-19')\u001b[0m\n\u001b[0m                                    ^\u001b[0m\n\u001b[0;31mSyntaxError\u001b[0m\u001b[0;31m:\u001b[0m can't assign to operator\n"
     ]
    }
   ],
   "source": [
    "covid-19 = wn.synset('covid-19')"
   ]
  },
  {
   "cell_type": "markdown",
   "metadata": {},
   "source": [
    "### 分詞"
   ]
  },
  {
   "cell_type": "code",
   "execution_count": 4,
   "metadata": {},
   "outputs": [],
   "source": [
    "from nltk.tokenize import word_tokenize"
   ]
  },
  {
   "cell_type": "code",
   "execution_count": 5,
   "metadata": {},
   "outputs": [],
   "source": [
    "# https://www.space.com/norad-tracks-santa-claus-trip-to-international-space-station\n",
    "string = \"NORAD regularly tracks Santa's trip around the world each Christmas, but this year is a bit different.\""
   ]
  },
  {
   "cell_type": "code",
   "execution_count": 7,
   "metadata": {},
   "outputs": [
    {
     "name": "stderr",
     "output_type": "stream",
     "text": [
      "[nltk_data] Downloading package punkt to /home/jovyan/nltk_data...\n",
      "[nltk_data]   Unzipping tokenizers/punkt.zip.\n"
     ]
    },
    {
     "data": {
      "text/plain": [
       "True"
      ]
     },
     "execution_count": 7,
     "metadata": {},
     "output_type": "execute_result"
    }
   ],
   "source": [
    "nltk.download('punkt')"
   ]
  },
  {
   "cell_type": "code",
   "execution_count": 8,
   "metadata": {},
   "outputs": [
    {
     "data": {
      "text/plain": [
       "['NORAD',\n",
       " 'regularly',\n",
       " 'tracks',\n",
       " 'Santa',\n",
       " \"'s\",\n",
       " 'trip',\n",
       " 'around',\n",
       " 'the',\n",
       " 'world',\n",
       " 'each',\n",
       " 'Christmas',\n",
       " ',',\n",
       " 'but',\n",
       " 'this',\n",
       " 'year',\n",
       " 'is',\n",
       " 'a',\n",
       " 'bit',\n",
       " 'different',\n",
       " '.']"
      ]
     },
     "execution_count": 8,
     "metadata": {},
     "output_type": "execute_result"
    }
   ],
   "source": [
    "word_tokenize(string)"
   ]
  },
  {
   "cell_type": "markdown",
   "metadata": {},
   "source": [
    "### 詞性"
   ]
  },
  {
   "cell_type": "markdown",
   "metadata": {},
   "source": [
    "##### 詞性說明: https://www.ling.upenn.edu/courses/Fall_2003/ling001/penn_treebank_pos.html"
   ]
  },
  {
   "cell_type": "code",
   "execution_count": 12,
   "metadata": {},
   "outputs": [],
   "source": [
    "from nltk import pos_tag"
   ]
  },
  {
   "cell_type": "code",
   "execution_count": 16,
   "metadata": {},
   "outputs": [
    {
     "name": "stderr",
     "output_type": "stream",
     "text": [
      "[nltk_data] Downloading package averaged_perceptron_tagger to\n",
      "[nltk_data]     /home/jovyan/nltk_data...\n",
      "[nltk_data]   Unzipping taggers/averaged_perceptron_tagger.zip.\n"
     ]
    },
    {
     "data": {
      "text/plain": [
       "True"
      ]
     },
     "execution_count": 16,
     "metadata": {},
     "output_type": "execute_result"
    }
   ],
   "source": [
    "nltk.download('averaged_perceptron_tagger')"
   ]
  },
  {
   "cell_type": "code",
   "execution_count": 17,
   "metadata": {},
   "outputs": [
    {
     "data": {
      "text/plain": [
       "[('NORAD', 'NNP'),\n",
       " ('regularly', 'RB'),\n",
       " ('tracks', 'VBZ'),\n",
       " ('Santa', 'NNP'),\n",
       " (\"'s\", 'POS'),\n",
       " ('trip', 'NN'),\n",
       " ('around', 'IN'),\n",
       " ('the', 'DT'),\n",
       " ('world', 'NN'),\n",
       " ('each', 'DT'),\n",
       " ('Christmas', 'NNP'),\n",
       " (',', ','),\n",
       " ('but', 'CC'),\n",
       " ('this', 'DT'),\n",
       " ('year', 'NN'),\n",
       " ('is', 'VBZ'),\n",
       " ('a', 'DT'),\n",
       " ('bit', 'RB'),\n",
       " ('different', 'JJ'),\n",
       " ('.', '.')]"
      ]
     },
     "execution_count": 17,
     "metadata": {},
     "output_type": "execute_result"
    }
   ],
   "source": [
    "pos_tag(word_tokenize(string))"
   ]
  },
  {
   "cell_type": "markdown",
   "metadata": {},
   "source": [
    "### 做 stemming"
   ]
  },
  {
   "cell_type": "code",
   "execution_count": 18,
   "metadata": {},
   "outputs": [],
   "source": [
    "from nltk.stem.porter import PorterStemmer"
   ]
  },
  {
   "cell_type": "code",
   "execution_count": 19,
   "metadata": {},
   "outputs": [],
   "source": [
    "porter = PorterStemmer()"
   ]
  },
  {
   "cell_type": "code",
   "execution_count": 20,
   "metadata": {},
   "outputs": [
    {
     "data": {
      "text/plain": [
       "['norad',\n",
       " 'regularli',\n",
       " 'track',\n",
       " 'santa',\n",
       " \"'s\",\n",
       " 'trip',\n",
       " 'around',\n",
       " 'the',\n",
       " 'world',\n",
       " 'each',\n",
       " 'christma',\n",
       " ',',\n",
       " 'but',\n",
       " 'thi',\n",
       " 'year',\n",
       " 'is',\n",
       " 'a',\n",
       " 'bit',\n",
       " 'differ',\n",
       " '.']"
      ]
     },
     "execution_count": 20,
     "metadata": {},
     "output_type": "execute_result"
    }
   ],
   "source": [
    "[porter.stem(word) for word in word_tokenize(string)]"
   ]
  },
  {
   "cell_type": "code",
   "execution_count": 21,
   "metadata": {},
   "outputs": [
    {
     "data": {
      "text/plain": [
       "[('norad', 'JJ'),\n",
       " ('regularli', 'NN'),\n",
       " ('track', 'NN'),\n",
       " ('santa', 'NN'),\n",
       " (\"'s\", 'POS'),\n",
       " ('trip', 'NN'),\n",
       " ('around', 'IN'),\n",
       " ('the', 'DT'),\n",
       " ('world', 'NN'),\n",
       " ('each', 'DT'),\n",
       " ('christma', 'NN'),\n",
       " (',', ','),\n",
       " ('but', 'CC'),\n",
       " ('thi', 'JJ'),\n",
       " ('year', 'NN'),\n",
       " ('is', 'VBZ'),\n",
       " ('a', 'DT'),\n",
       " ('bit', 'NN'),\n",
       " ('differ', 'NN'),\n",
       " ('.', '.')]"
      ]
     },
     "execution_count": 21,
     "metadata": {},
     "output_type": "execute_result"
    }
   ],
   "source": [
    "pos_tag([porter.stem(word) for word in word_tokenize(string)])"
   ]
  },
  {
   "cell_type": "markdown",
   "metadata": {},
   "source": [
    "### 分句"
   ]
  },
  {
   "cell_type": "code",
   "execution_count": 9,
   "metadata": {},
   "outputs": [],
   "source": [
    "strs = \"NORAD regularly tracks Santa's trip around the world each Christmas, but this year is a bit different. On Wednesday (Dec. 23), the Federal Aviation Administration gave Santa and his reindeer-powered sleigh an official commercial space license for launches and landings\""
   ]
  },
  {
   "cell_type": "code",
   "execution_count": 10,
   "metadata": {},
   "outputs": [],
   "source": [
    "from nltk.tokenize import sent_tokenize"
   ]
  },
  {
   "cell_type": "code",
   "execution_count": 11,
   "metadata": {},
   "outputs": [
    {
     "data": {
      "text/plain": [
       "[\"NORAD regularly tracks Santa's trip around the world each Christmas, but this year is a bit different.\",\n",
       " 'On Wednesday (Dec. 23), the Federal Aviation Administration gave Santa and his reindeer-powered sleigh an official commercial space license for launches and landings']"
      ]
     },
     "execution_count": 11,
     "metadata": {},
     "output_type": "execute_result"
    }
   ],
   "source": [
    "sent_tokenize(strs)"
   ]
  },
  {
   "cell_type": "code",
   "execution_count": null,
   "metadata": {},
   "outputs": [],
   "source": []
  }
 ],
 "metadata": {
  "kernelspec": {
   "display_name": "Python 3",
   "language": "python",
   "name": "python3"
  },
  "language_info": {
   "codemirror_mode": {
    "name": "ipython",
    "version": 3
   },
   "file_extension": ".py",
   "mimetype": "text/x-python",
   "name": "python",
   "nbconvert_exporter": "python",
   "pygments_lexer": "ipython3",
   "version": "3.7.6"
  }
 },
 "nbformat": 4,
 "nbformat_minor": 4
}
