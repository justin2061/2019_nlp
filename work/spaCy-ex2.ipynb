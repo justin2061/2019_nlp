{
 "cells": [
  {
   "cell_type": "markdown",
   "metadata": {},
   "source": [
    "## Install spaCy"
   ]
  },
  {
   "cell_type": "code",
   "execution_count": 1,
   "metadata": {
    "collapsed": true,
    "jupyter": {
     "outputs_hidden": true
    }
   },
   "outputs": [
    {
     "name": "stdout",
     "output_type": "stream",
     "text": [
      "Collecting spacy\n",
      "  Downloading spacy-2.3.5-cp37-cp37m-manylinux2014_x86_64.whl (10.4 MB)\n",
      "\u001b[K     |████████████████████████████████| 10.4 MB 24.0 MB/s eta 0:00:01\n",
      "\u001b[?25hCollecting thinc<7.5.0,>=7.4.1\n",
      "  Downloading thinc-7.4.5-cp37-cp37m-manylinux2014_x86_64.whl (1.0 MB)\n",
      "\u001b[K     |████████████████████████████████| 1.0 MB 51.7 MB/s eta 0:00:01\n",
      "\u001b[?25hCollecting preshed<3.1.0,>=3.0.2\n",
      "  Downloading preshed-3.0.5-cp37-cp37m-manylinux2014_x86_64.whl (126 kB)\n",
      "\u001b[K     |████████████████████████████████| 126 kB 37.2 MB/s eta 0:00:01\n",
      "\u001b[?25hCollecting cymem<2.1.0,>=2.0.2\n",
      "  Downloading cymem-2.0.5-cp37-cp37m-manylinux2014_x86_64.whl (35 kB)\n",
      "Requirement already satisfied, skipping upgrade: tqdm<5.0.0,>=4.38.0 in /opt/conda/lib/python3.7/site-packages (from spacy) (4.46.1)\n",
      "Collecting catalogue<1.1.0,>=0.0.7\n",
      "  Downloading catalogue-1.0.0-py2.py3-none-any.whl (7.7 kB)\n",
      "Collecting murmurhash<1.1.0,>=0.28.0\n",
      "  Downloading murmurhash-1.0.5-cp37-cp37m-manylinux2014_x86_64.whl (20 kB)\n",
      "Collecting srsly<1.1.0,>=1.0.2\n",
      "  Downloading srsly-1.0.5-cp37-cp37m-manylinux2014_x86_64.whl (184 kB)\n",
      "\u001b[K     |████████████████████████████████| 184 kB 56.3 MB/s eta 0:00:01\n",
      "\u001b[?25hCollecting blis<0.8.0,>=0.4.0\n",
      "  Downloading blis-0.7.4-cp37-cp37m-manylinux2014_x86_64.whl (9.8 MB)\n",
      "\u001b[K     |████████████████████████████████| 9.8 MB 24.8 MB/s eta 0:00:01\n",
      "\u001b[?25hRequirement already satisfied, skipping upgrade: setuptools in /opt/conda/lib/python3.7/site-packages (from spacy) (47.3.1.post20200616)\n",
      "Requirement already satisfied, skipping upgrade: numpy>=1.15.0 in /opt/conda/lib/python3.7/site-packages (from spacy) (1.18.5)\n",
      "Collecting plac<1.2.0,>=0.9.6\n",
      "  Downloading plac-1.1.3-py2.py3-none-any.whl (20 kB)\n",
      "Requirement already satisfied, skipping upgrade: requests<3.0.0,>=2.13.0 in /opt/conda/lib/python3.7/site-packages (from spacy) (2.24.0)\n",
      "Collecting wasabi<1.1.0,>=0.4.0\n",
      "  Downloading wasabi-0.8.0-py3-none-any.whl (23 kB)\n",
      "Requirement already satisfied, skipping upgrade: importlib-metadata>=0.20; python_version < \"3.8\" in /opt/conda/lib/python3.7/site-packages (from catalogue<1.1.0,>=0.0.7->spacy) (1.6.1)\n",
      "Requirement already satisfied, skipping upgrade: urllib3!=1.25.0,!=1.25.1,<1.26,>=1.21.1 in /opt/conda/lib/python3.7/site-packages (from requests<3.0.0,>=2.13.0->spacy) (1.25.9)\n",
      "Requirement already satisfied, skipping upgrade: idna<3,>=2.5 in /opt/conda/lib/python3.7/site-packages (from requests<3.0.0,>=2.13.0->spacy) (2.9)\n",
      "Requirement already satisfied, skipping upgrade: chardet<4,>=3.0.2 in /opt/conda/lib/python3.7/site-packages (from requests<3.0.0,>=2.13.0->spacy) (3.0.4)\n",
      "Requirement already satisfied, skipping upgrade: certifi>=2017.4.17 in /opt/conda/lib/python3.7/site-packages (from requests<3.0.0,>=2.13.0->spacy) (2020.4.5.2)\n",
      "Requirement already satisfied, skipping upgrade: zipp>=0.5 in /opt/conda/lib/python3.7/site-packages (from importlib-metadata>=0.20; python_version < \"3.8\"->catalogue<1.1.0,>=0.0.7->spacy) (3.1.0)\n",
      "Installing collected packages: cymem, murmurhash, preshed, catalogue, blis, plac, srsly, wasabi, thinc, spacy\n",
      "Successfully installed blis-0.7.4 catalogue-1.0.0 cymem-2.0.5 murmurhash-1.0.5 plac-1.1.3 preshed-3.0.5 spacy-2.3.5 srsly-1.0.5 thinc-7.4.5 wasabi-0.8.0\n"
     ]
    }
   ],
   "source": [
    "!pip install -U spacy"
   ]
  },
  {
   "cell_type": "code",
   "execution_count": 2,
   "metadata": {
    "collapsed": true,
    "jupyter": {
     "outputs_hidden": true
    }
   },
   "outputs": [
    {
     "name": "stdout",
     "output_type": "stream",
     "text": [
      "Collecting spacy-lookups-data\n",
      "  Downloading spacy_lookups_data-0.3.2.tar.gz (93.8 MB)\n",
      "\u001b[K     |████████████████████████████████| 93.8 MB 60.5 MB/s eta 0:00:01\n",
      "\u001b[?25hRequirement already satisfied, skipping upgrade: setuptools in /opt/conda/lib/python3.7/site-packages (from spacy-lookups-data) (47.3.1.post20200616)\n",
      "Building wheels for collected packages: spacy-lookups-data\n",
      "  Building wheel for spacy-lookups-data (setup.py) ... \u001b[?25ldone\n",
      "\u001b[?25h  Created wheel for spacy-lookups-data: filename=spacy_lookups_data-0.3.2-py2.py3-none-any.whl size=93807572 sha256=22c3f36ad0cdb113ed2b952b967a3647feca32495154a2371eb2e705882e1b96\n",
      "  Stored in directory: /home/jovyan/.cache/pip/wheels/53/c2/ca/b2496a732bb10cc3d4adea066bb3f9f427fb22a4df7aebbd76\n",
      "Successfully built spacy-lookups-data\n",
      "Installing collected packages: spacy-lookups-data\n",
      "Successfully installed spacy-lookups-data-0.3.2\n"
     ]
    }
   ],
   "source": [
    "!pip install -U spacy-lookups-data"
   ]
  },
  {
   "cell_type": "code",
   "execution_count": 3,
   "metadata": {
    "collapsed": true,
    "jupyter": {
     "outputs_hidden": true
    }
   },
   "outputs": [
    {
     "name": "stdout",
     "output_type": "stream",
     "text": [
      "Collecting zh_core_web_sm==2.3.1\n",
      "  Downloading https://github.com/explosion/spacy-models/releases/download/zh_core_web_sm-2.3.1/zh_core_web_sm-2.3.1.tar.gz (47.9 MB)\n",
      "\u001b[K     |████████████████████████████████| 47.9 MB 3.1 MB/s eta 0:00:01    |█▊                              | 2.5 MB 764 kB/s eta 0:01:00     |█▉                              | 2.8 MB 764 kB/s eta 0:00:59     |███▎                            | 4.9 MB 2.0 MB/s eta 0:00:22     |█████▏                          | 7.8 MB 2.0 MB/s eta 0:00:21     |█████▌                          | 8.2 MB 2.0 MB/s eta 0:00:20     |█████████████                   | 19.3 MB 1.2 MB/s eta 0:00:25     |█████████████████████▋          | 32.4 MB 2.8 MB/s eta 0:00:06\n",
      "\u001b[?25hRequirement already satisfied: spacy<2.4.0,>=2.3.0 in /opt/conda/lib/python3.7/site-packages (from zh_core_web_sm==2.3.1) (2.3.5)\n",
      "Requirement already satisfied: jieba in /opt/conda/lib/python3.7/site-packages (from zh_core_web_sm==2.3.1) (0.42.1)\n",
      "Collecting pkuseg>=0.0.22\n",
      "  Downloading pkuseg-0.0.25-cp37-cp37m-manylinux1_x86_64.whl (50.2 MB)\n",
      "\u001b[K     |████████████████████████████████| 50.2 MB 6.7 MB/s eta 0:00:01\n",
      "\u001b[?25hRequirement already satisfied: preshed<3.1.0,>=3.0.2 in /opt/conda/lib/python3.7/site-packages (from spacy<2.4.0,>=2.3.0->zh_core_web_sm==2.3.1) (3.0.5)\n",
      "Requirement already satisfied: tqdm<5.0.0,>=4.38.0 in /opt/conda/lib/python3.7/site-packages (from spacy<2.4.0,>=2.3.0->zh_core_web_sm==2.3.1) (4.46.1)\n",
      "Requirement already satisfied: srsly<1.1.0,>=1.0.2 in /opt/conda/lib/python3.7/site-packages (from spacy<2.4.0,>=2.3.0->zh_core_web_sm==2.3.1) (1.0.5)\n",
      "Requirement already satisfied: wasabi<1.1.0,>=0.4.0 in /opt/conda/lib/python3.7/site-packages (from spacy<2.4.0,>=2.3.0->zh_core_web_sm==2.3.1) (0.8.0)\n",
      "Requirement already satisfied: numpy>=1.15.0 in /opt/conda/lib/python3.7/site-packages (from spacy<2.4.0,>=2.3.0->zh_core_web_sm==2.3.1) (1.18.5)\n",
      "Requirement already satisfied: thinc<7.5.0,>=7.4.1 in /opt/conda/lib/python3.7/site-packages (from spacy<2.4.0,>=2.3.0->zh_core_web_sm==2.3.1) (7.4.5)\n",
      "Requirement already satisfied: cymem<2.1.0,>=2.0.2 in /opt/conda/lib/python3.7/site-packages (from spacy<2.4.0,>=2.3.0->zh_core_web_sm==2.3.1) (2.0.5)\n",
      "Requirement already satisfied: murmurhash<1.1.0,>=0.28.0 in /opt/conda/lib/python3.7/site-packages (from spacy<2.4.0,>=2.3.0->zh_core_web_sm==2.3.1) (1.0.5)\n",
      "Requirement already satisfied: plac<1.2.0,>=0.9.6 in /opt/conda/lib/python3.7/site-packages (from spacy<2.4.0,>=2.3.0->zh_core_web_sm==2.3.1) (1.1.3)\n",
      "Requirement already satisfied: catalogue<1.1.0,>=0.0.7 in /opt/conda/lib/python3.7/site-packages (from spacy<2.4.0,>=2.3.0->zh_core_web_sm==2.3.1) (1.0.0)\n",
      "Requirement already satisfied: blis<0.8.0,>=0.4.0 in /opt/conda/lib/python3.7/site-packages (from spacy<2.4.0,>=2.3.0->zh_core_web_sm==2.3.1) (0.7.4)\n",
      "Requirement already satisfied: requests<3.0.0,>=2.13.0 in /opt/conda/lib/python3.7/site-packages (from spacy<2.4.0,>=2.3.0->zh_core_web_sm==2.3.1) (2.24.0)\n",
      "Requirement already satisfied: setuptools in /opt/conda/lib/python3.7/site-packages (from spacy<2.4.0,>=2.3.0->zh_core_web_sm==2.3.1) (47.3.1.post20200616)\n",
      "Requirement already satisfied: cython in /opt/conda/lib/python3.7/site-packages (from pkuseg>=0.0.22->zh_core_web_sm==2.3.1) (0.29.20)\n",
      "Requirement already satisfied: importlib-metadata>=0.20; python_version < \"3.8\" in /opt/conda/lib/python3.7/site-packages (from catalogue<1.1.0,>=0.0.7->spacy<2.4.0,>=2.3.0->zh_core_web_sm==2.3.1) (1.6.1)\n",
      "Requirement already satisfied: urllib3!=1.25.0,!=1.25.1,<1.26,>=1.21.1 in /opt/conda/lib/python3.7/site-packages (from requests<3.0.0,>=2.13.0->spacy<2.4.0,>=2.3.0->zh_core_web_sm==2.3.1) (1.25.9)\n",
      "Requirement already satisfied: certifi>=2017.4.17 in /opt/conda/lib/python3.7/site-packages (from requests<3.0.0,>=2.13.0->spacy<2.4.0,>=2.3.0->zh_core_web_sm==2.3.1) (2020.4.5.2)\n",
      "Requirement already satisfied: idna<3,>=2.5 in /opt/conda/lib/python3.7/site-packages (from requests<3.0.0,>=2.13.0->spacy<2.4.0,>=2.3.0->zh_core_web_sm==2.3.1) (2.9)\n",
      "Requirement already satisfied: chardet<4,>=3.0.2 in /opt/conda/lib/python3.7/site-packages (from requests<3.0.0,>=2.13.0->spacy<2.4.0,>=2.3.0->zh_core_web_sm==2.3.1) (3.0.4)\n",
      "Requirement already satisfied: zipp>=0.5 in /opt/conda/lib/python3.7/site-packages (from importlib-metadata>=0.20; python_version < \"3.8\"->catalogue<1.1.0,>=0.0.7->spacy<2.4.0,>=2.3.0->zh_core_web_sm==2.3.1) (3.1.0)\n",
      "Building wheels for collected packages: zh-core-web-sm\n",
      "  Building wheel for zh-core-web-sm (setup.py) ... \u001b[?25ldone\n",
      "\u001b[?25h  Created wheel for zh-core-web-sm: filename=zh_core_web_sm-2.3.1-py3-none-any.whl size=47614882 sha256=3f7d1b5b7fdc368dc11f2db2cdfb704cd00aeebcc6801e8d30a102b6aaa264e2\n",
      "  Stored in directory: /tmp/pip-ephem-wheel-cache-5aptxxpf/wheels/c8/48/2e/078df65441318573236d08c6a9183479af840ac6aceb3239c1\n",
      "Successfully built zh-core-web-sm\n",
      "Installing collected packages: pkuseg, zh-core-web-sm\n",
      "Successfully installed pkuseg-0.0.25 zh-core-web-sm-2.3.1\n",
      "\u001b[38;5;2m✔ Download and installation successful\u001b[0m\n",
      "You can now load the model via spacy.load('zh_core_web_sm')\n"
     ]
    }
   ],
   "source": [
    "!python -m spacy download zh_core_web_sm"
   ]
  },
  {
   "cell_type": "markdown",
   "metadata": {},
   "source": [
    "### Part-of-speech tagging"
   ]
  },
  {
   "cell_type": "code",
   "execution_count": 4,
   "metadata": {},
   "outputs": [],
   "source": [
    "import spacy\n",
    "#my_text = \"今年夏天礁溪老爺酒店設計了一系列精彩活動，除了大獲好評的夏日探險季闖關活動，為了吸引民眾振興旅遊市場，更攜手MINI打造夏日暢遊主題房，不但享房型升等「洋式蘭陽平原景觀套房」，入住可免費試駕MINI CooperCountryman運動休旅，預訂平日當季尊榮三天兩夜專案，加購第三晚只需紙本振興三倍券3000元就能再住一晚。\"\n",
    "my_text = \"三倍券還可以買公益彩券及買黃金，業者也會推出相關的優惠活動。\""
   ]
  },
  {
   "cell_type": "code",
   "execution_count": 5,
   "metadata": {},
   "outputs": [
    {
     "name": "stderr",
     "output_type": "stream",
     "text": [
      "Building prefix dict from the default dictionary ...\n",
      "Loading model from cache /tmp/jieba.cache\n",
      "Loading model cost 0.937 seconds.\n",
      "Prefix dict has been built successfully.\n"
     ]
    }
   ],
   "source": [
    "import zh_core_web_sm\n",
    "nlp = zh_core_web_sm.load()"
   ]
  },
  {
   "cell_type": "code",
   "execution_count": 6,
   "metadata": {},
   "outputs": [
    {
     "data": {
      "text/plain": [
       "三倍券還可以買公益彩券及買黃金，業者也會推出相關的優惠活動。"
      ]
     },
     "execution_count": 6,
     "metadata": {},
     "output_type": "execute_result"
    }
   ],
   "source": [
    "#nlp = spacy.load(\"zh_core_web_sm\")\n",
    "doc = nlp(my_text)\n",
    "doc"
   ]
  },
  {
   "cell_type": "code",
   "execution_count": 7,
   "metadata": {
    "scrolled": true
   },
   "outputs": [
    {
     "name": "stdout",
     "output_type": "stream",
     "text": [
      "三\n",
      "倍\n",
      "券還\n",
      "可以\n",
      "買\n",
      "公益\n",
      "彩券\n",
      "及\n",
      "買黃金\n",
      "，\n",
      "業者\n",
      "也\n",
      "會\n",
      "推出\n",
      "相關\n",
      "的\n",
      "優惠\n",
      "活動\n",
      "。\n"
     ]
    }
   ],
   "source": [
    "for token in doc:\n",
    "    print(token.text)"
   ]
  },
  {
   "cell_type": "code",
   "execution_count": 8,
   "metadata": {},
   "outputs": [
    {
     "name": "stdout",
     "output_type": "stream",
     "text": [
      "三 三 NUM CD nummod x True True\n",
      "倍 倍 NUM M mark:clf x True False\n",
      "券還 券還 NOUN NN nsubj xx True False\n",
      "可以 可以 VERB VV aux:modal xx True True\n",
      "買 買 VERB VV ROOT x True False\n",
      "公益 公益 NOUN NN compound:nn xx True False\n",
      "彩券 彩券 NOUN NN conj xx True False\n",
      "及 及 CCONJ CC cc x True True\n",
      "買黃金 買黃金 NOUN NN dobj xxx True False\n",
      "， ， PUNCT PU punct ， False True\n",
      "業者 業者 NOUN NN nsubj xx True False\n",
      "也 也 ADV AD advmod x True True\n",
      "會 會 VERB VV advmod x True False\n",
      "推出 推出 VERB VV conj xx True False\n",
      "相關 相關 NOUN NN amod xx True False\n",
      "的 的 PART DEC mark x True True\n",
      "優惠 優惠 VERB VV compound:nn xx True False\n",
      "活動 活動 NOUN NN dobj xx True False\n",
      "。 。 PUNCT PU punct 。 False True\n"
     ]
    }
   ],
   "source": [
    "for token in doc:\n",
    "    print(token.text, token.lemma_, token.pos_, token.tag_, token.dep_, token.shape_, token.is_alpha, token.is_stop)"
   ]
  },
  {
   "cell_type": "markdown",
   "metadata": {},
   "source": [
    "### 視覺化句子中文字的相依"
   ]
  },
  {
   "cell_type": "code",
   "execution_count": 9,
   "metadata": {},
   "outputs": [],
   "source": [
    "from spacy import displacy"
   ]
  },
  {
   "cell_type": "code",
   "execution_count": 10,
   "metadata": {},
   "outputs": [
    {
     "data": {
      "text/html": [
       "<span class=\"tex2jax_ignore\"><svg xmlns=\"http://www.w3.org/2000/svg\" xmlns:xlink=\"http://www.w3.org/1999/xlink\" xml:lang=\"zh\" id=\"abaeed85100146e8b16a5db82b7fa2e6-0\" class=\"displacy\" width=\"3025\" height=\"574.5\" direction=\"ltr\" style=\"max-width: none; height: 574.5px; color: #000000; background: #ffffff; font-family: Arial; direction: ltr\">\n",
       "<text class=\"displacy-token\" fill=\"currentColor\" text-anchor=\"middle\" y=\"484.5\">\n",
       "    <tspan class=\"displacy-word\" fill=\"currentColor\" x=\"50\">三</tspan>\n",
       "    <tspan class=\"displacy-tag\" dy=\"2em\" fill=\"currentColor\" x=\"50\">NUM</tspan>\n",
       "</text>\n",
       "\n",
       "<text class=\"displacy-token\" fill=\"currentColor\" text-anchor=\"middle\" y=\"484.5\">\n",
       "    <tspan class=\"displacy-word\" fill=\"currentColor\" x=\"225\">倍</tspan>\n",
       "    <tspan class=\"displacy-tag\" dy=\"2em\" fill=\"currentColor\" x=\"225\">NUM</tspan>\n",
       "</text>\n",
       "\n",
       "<text class=\"displacy-token\" fill=\"currentColor\" text-anchor=\"middle\" y=\"484.5\">\n",
       "    <tspan class=\"displacy-word\" fill=\"currentColor\" x=\"400\">券還</tspan>\n",
       "    <tspan class=\"displacy-tag\" dy=\"2em\" fill=\"currentColor\" x=\"400\">NOUN</tspan>\n",
       "</text>\n",
       "\n",
       "<text class=\"displacy-token\" fill=\"currentColor\" text-anchor=\"middle\" y=\"484.5\">\n",
       "    <tspan class=\"displacy-word\" fill=\"currentColor\" x=\"575\">可以</tspan>\n",
       "    <tspan class=\"displacy-tag\" dy=\"2em\" fill=\"currentColor\" x=\"575\">VERB</tspan>\n",
       "</text>\n",
       "\n",
       "<text class=\"displacy-token\" fill=\"currentColor\" text-anchor=\"middle\" y=\"484.5\">\n",
       "    <tspan class=\"displacy-word\" fill=\"currentColor\" x=\"750\">買</tspan>\n",
       "    <tspan class=\"displacy-tag\" dy=\"2em\" fill=\"currentColor\" x=\"750\">VERB</tspan>\n",
       "</text>\n",
       "\n",
       "<text class=\"displacy-token\" fill=\"currentColor\" text-anchor=\"middle\" y=\"484.5\">\n",
       "    <tspan class=\"displacy-word\" fill=\"currentColor\" x=\"925\">公益</tspan>\n",
       "    <tspan class=\"displacy-tag\" dy=\"2em\" fill=\"currentColor\" x=\"925\">NOUN</tspan>\n",
       "</text>\n",
       "\n",
       "<text class=\"displacy-token\" fill=\"currentColor\" text-anchor=\"middle\" y=\"484.5\">\n",
       "    <tspan class=\"displacy-word\" fill=\"currentColor\" x=\"1100\">彩券</tspan>\n",
       "    <tspan class=\"displacy-tag\" dy=\"2em\" fill=\"currentColor\" x=\"1100\">NOUN</tspan>\n",
       "</text>\n",
       "\n",
       "<text class=\"displacy-token\" fill=\"currentColor\" text-anchor=\"middle\" y=\"484.5\">\n",
       "    <tspan class=\"displacy-word\" fill=\"currentColor\" x=\"1275\">及</tspan>\n",
       "    <tspan class=\"displacy-tag\" dy=\"2em\" fill=\"currentColor\" x=\"1275\">CCONJ</tspan>\n",
       "</text>\n",
       "\n",
       "<text class=\"displacy-token\" fill=\"currentColor\" text-anchor=\"middle\" y=\"484.5\">\n",
       "    <tspan class=\"displacy-word\" fill=\"currentColor\" x=\"1450\">買黃金，</tspan>\n",
       "    <tspan class=\"displacy-tag\" dy=\"2em\" fill=\"currentColor\" x=\"1450\">NOUN</tspan>\n",
       "</text>\n",
       "\n",
       "<text class=\"displacy-token\" fill=\"currentColor\" text-anchor=\"middle\" y=\"484.5\">\n",
       "    <tspan class=\"displacy-word\" fill=\"currentColor\" x=\"1625\">業者</tspan>\n",
       "    <tspan class=\"displacy-tag\" dy=\"2em\" fill=\"currentColor\" x=\"1625\">NOUN</tspan>\n",
       "</text>\n",
       "\n",
       "<text class=\"displacy-token\" fill=\"currentColor\" text-anchor=\"middle\" y=\"484.5\">\n",
       "    <tspan class=\"displacy-word\" fill=\"currentColor\" x=\"1800\">也</tspan>\n",
       "    <tspan class=\"displacy-tag\" dy=\"2em\" fill=\"currentColor\" x=\"1800\">ADV</tspan>\n",
       "</text>\n",
       "\n",
       "<text class=\"displacy-token\" fill=\"currentColor\" text-anchor=\"middle\" y=\"484.5\">\n",
       "    <tspan class=\"displacy-word\" fill=\"currentColor\" x=\"1975\">會</tspan>\n",
       "    <tspan class=\"displacy-tag\" dy=\"2em\" fill=\"currentColor\" x=\"1975\">VERB</tspan>\n",
       "</text>\n",
       "\n",
       "<text class=\"displacy-token\" fill=\"currentColor\" text-anchor=\"middle\" y=\"484.5\">\n",
       "    <tspan class=\"displacy-word\" fill=\"currentColor\" x=\"2150\">推出</tspan>\n",
       "    <tspan class=\"displacy-tag\" dy=\"2em\" fill=\"currentColor\" x=\"2150\">VERB</tspan>\n",
       "</text>\n",
       "\n",
       "<text class=\"displacy-token\" fill=\"currentColor\" text-anchor=\"middle\" y=\"484.5\">\n",
       "    <tspan class=\"displacy-word\" fill=\"currentColor\" x=\"2325\">相關</tspan>\n",
       "    <tspan class=\"displacy-tag\" dy=\"2em\" fill=\"currentColor\" x=\"2325\">NOUN</tspan>\n",
       "</text>\n",
       "\n",
       "<text class=\"displacy-token\" fill=\"currentColor\" text-anchor=\"middle\" y=\"484.5\">\n",
       "    <tspan class=\"displacy-word\" fill=\"currentColor\" x=\"2500\">的</tspan>\n",
       "    <tspan class=\"displacy-tag\" dy=\"2em\" fill=\"currentColor\" x=\"2500\">PART</tspan>\n",
       "</text>\n",
       "\n",
       "<text class=\"displacy-token\" fill=\"currentColor\" text-anchor=\"middle\" y=\"484.5\">\n",
       "    <tspan class=\"displacy-word\" fill=\"currentColor\" x=\"2675\">優惠</tspan>\n",
       "    <tspan class=\"displacy-tag\" dy=\"2em\" fill=\"currentColor\" x=\"2675\">VERB</tspan>\n",
       "</text>\n",
       "\n",
       "<text class=\"displacy-token\" fill=\"currentColor\" text-anchor=\"middle\" y=\"484.5\">\n",
       "    <tspan class=\"displacy-word\" fill=\"currentColor\" x=\"2850\">活動。</tspan>\n",
       "    <tspan class=\"displacy-tag\" dy=\"2em\" fill=\"currentColor\" x=\"2850\">NOUN</tspan>\n",
       "</text>\n",
       "\n",
       "<g class=\"displacy-arrow\">\n",
       "    <path class=\"displacy-arc\" id=\"arrow-abaeed85100146e8b16a5db82b7fa2e6-0-0\" stroke-width=\"2px\" d=\"M70,439.5 C70,264.5 385.0,264.5 385.0,439.5\" fill=\"none\" stroke=\"currentColor\"/>\n",
       "    <text dy=\"1.25em\" style=\"font-size: 0.8em; letter-spacing: 1px\">\n",
       "        <textPath xlink:href=\"#arrow-abaeed85100146e8b16a5db82b7fa2e6-0-0\" class=\"displacy-label\" startOffset=\"50%\" side=\"left\" fill=\"currentColor\" text-anchor=\"middle\">nummod</textPath>\n",
       "    </text>\n",
       "    <path class=\"displacy-arrowhead\" d=\"M70,441.5 L62,429.5 78,429.5\" fill=\"currentColor\"/>\n",
       "</g>\n",
       "\n",
       "<g class=\"displacy-arrow\">\n",
       "    <path class=\"displacy-arc\" id=\"arrow-abaeed85100146e8b16a5db82b7fa2e6-0-1\" stroke-width=\"2px\" d=\"M70,439.5 C70,352.0 205.0,352.0 205.0,439.5\" fill=\"none\" stroke=\"currentColor\"/>\n",
       "    <text dy=\"1.25em\" style=\"font-size: 0.8em; letter-spacing: 1px\">\n",
       "        <textPath xlink:href=\"#arrow-abaeed85100146e8b16a5db82b7fa2e6-0-1\" class=\"displacy-label\" startOffset=\"50%\" side=\"left\" fill=\"currentColor\" text-anchor=\"middle\">mark:clf</textPath>\n",
       "    </text>\n",
       "    <path class=\"displacy-arrowhead\" d=\"M205.0,441.5 L213.0,429.5 197.0,429.5\" fill=\"currentColor\"/>\n",
       "</g>\n",
       "\n",
       "<g class=\"displacy-arrow\">\n",
       "    <path class=\"displacy-arc\" id=\"arrow-abaeed85100146e8b16a5db82b7fa2e6-0-2\" stroke-width=\"2px\" d=\"M420,439.5 C420,264.5 735.0,264.5 735.0,439.5\" fill=\"none\" stroke=\"currentColor\"/>\n",
       "    <text dy=\"1.25em\" style=\"font-size: 0.8em; letter-spacing: 1px\">\n",
       "        <textPath xlink:href=\"#arrow-abaeed85100146e8b16a5db82b7fa2e6-0-2\" class=\"displacy-label\" startOffset=\"50%\" side=\"left\" fill=\"currentColor\" text-anchor=\"middle\">nsubj</textPath>\n",
       "    </text>\n",
       "    <path class=\"displacy-arrowhead\" d=\"M420,441.5 L412,429.5 428,429.5\" fill=\"currentColor\"/>\n",
       "</g>\n",
       "\n",
       "<g class=\"displacy-arrow\">\n",
       "    <path class=\"displacy-arc\" id=\"arrow-abaeed85100146e8b16a5db82b7fa2e6-0-3\" stroke-width=\"2px\" d=\"M595,439.5 C595,352.0 730.0,352.0 730.0,439.5\" fill=\"none\" stroke=\"currentColor\"/>\n",
       "    <text dy=\"1.25em\" style=\"font-size: 0.8em; letter-spacing: 1px\">\n",
       "        <textPath xlink:href=\"#arrow-abaeed85100146e8b16a5db82b7fa2e6-0-3\" class=\"displacy-label\" startOffset=\"50%\" side=\"left\" fill=\"currentColor\" text-anchor=\"middle\">aux:modal</textPath>\n",
       "    </text>\n",
       "    <path class=\"displacy-arrowhead\" d=\"M595,441.5 L587,429.5 603,429.5\" fill=\"currentColor\"/>\n",
       "</g>\n",
       "\n",
       "<g class=\"displacy-arrow\">\n",
       "    <path class=\"displacy-arc\" id=\"arrow-abaeed85100146e8b16a5db82b7fa2e6-0-4\" stroke-width=\"2px\" d=\"M945,439.5 C945,177.0 1440.0,177.0 1440.0,439.5\" fill=\"none\" stroke=\"currentColor\"/>\n",
       "    <text dy=\"1.25em\" style=\"font-size: 0.8em; letter-spacing: 1px\">\n",
       "        <textPath xlink:href=\"#arrow-abaeed85100146e8b16a5db82b7fa2e6-0-4\" class=\"displacy-label\" startOffset=\"50%\" side=\"left\" fill=\"currentColor\" text-anchor=\"middle\">compound:nn</textPath>\n",
       "    </text>\n",
       "    <path class=\"displacy-arrowhead\" d=\"M945,441.5 L937,429.5 953,429.5\" fill=\"currentColor\"/>\n",
       "</g>\n",
       "\n",
       "<g class=\"displacy-arrow\">\n",
       "    <path class=\"displacy-arc\" id=\"arrow-abaeed85100146e8b16a5db82b7fa2e6-0-5\" stroke-width=\"2px\" d=\"M1120,439.5 C1120,264.5 1435.0,264.5 1435.0,439.5\" fill=\"none\" stroke=\"currentColor\"/>\n",
       "    <text dy=\"1.25em\" style=\"font-size: 0.8em; letter-spacing: 1px\">\n",
       "        <textPath xlink:href=\"#arrow-abaeed85100146e8b16a5db82b7fa2e6-0-5\" class=\"displacy-label\" startOffset=\"50%\" side=\"left\" fill=\"currentColor\" text-anchor=\"middle\">conj</textPath>\n",
       "    </text>\n",
       "    <path class=\"displacy-arrowhead\" d=\"M1120,441.5 L1112,429.5 1128,429.5\" fill=\"currentColor\"/>\n",
       "</g>\n",
       "\n",
       "<g class=\"displacy-arrow\">\n",
       "    <path class=\"displacy-arc\" id=\"arrow-abaeed85100146e8b16a5db82b7fa2e6-0-6\" stroke-width=\"2px\" d=\"M1295,439.5 C1295,352.0 1430.0,352.0 1430.0,439.5\" fill=\"none\" stroke=\"currentColor\"/>\n",
       "    <text dy=\"1.25em\" style=\"font-size: 0.8em; letter-spacing: 1px\">\n",
       "        <textPath xlink:href=\"#arrow-abaeed85100146e8b16a5db82b7fa2e6-0-6\" class=\"displacy-label\" startOffset=\"50%\" side=\"left\" fill=\"currentColor\" text-anchor=\"middle\">cc</textPath>\n",
       "    </text>\n",
       "    <path class=\"displacy-arrowhead\" d=\"M1295,441.5 L1287,429.5 1303,429.5\" fill=\"currentColor\"/>\n",
       "</g>\n",
       "\n",
       "<g class=\"displacy-arrow\">\n",
       "    <path class=\"displacy-arc\" id=\"arrow-abaeed85100146e8b16a5db82b7fa2e6-0-7\" stroke-width=\"2px\" d=\"M770,439.5 C770,89.5 1445.0,89.5 1445.0,439.5\" fill=\"none\" stroke=\"currentColor\"/>\n",
       "    <text dy=\"1.25em\" style=\"font-size: 0.8em; letter-spacing: 1px\">\n",
       "        <textPath xlink:href=\"#arrow-abaeed85100146e8b16a5db82b7fa2e6-0-7\" class=\"displacy-label\" startOffset=\"50%\" side=\"left\" fill=\"currentColor\" text-anchor=\"middle\">dobj</textPath>\n",
       "    </text>\n",
       "    <path class=\"displacy-arrowhead\" d=\"M1445.0,441.5 L1453.0,429.5 1437.0,429.5\" fill=\"currentColor\"/>\n",
       "</g>\n",
       "\n",
       "<g class=\"displacy-arrow\">\n",
       "    <path class=\"displacy-arc\" id=\"arrow-abaeed85100146e8b16a5db82b7fa2e6-0-8\" stroke-width=\"2px\" d=\"M1645,439.5 C1645,177.0 2140.0,177.0 2140.0,439.5\" fill=\"none\" stroke=\"currentColor\"/>\n",
       "    <text dy=\"1.25em\" style=\"font-size: 0.8em; letter-spacing: 1px\">\n",
       "        <textPath xlink:href=\"#arrow-abaeed85100146e8b16a5db82b7fa2e6-0-8\" class=\"displacy-label\" startOffset=\"50%\" side=\"left\" fill=\"currentColor\" text-anchor=\"middle\">nsubj</textPath>\n",
       "    </text>\n",
       "    <path class=\"displacy-arrowhead\" d=\"M1645,441.5 L1637,429.5 1653,429.5\" fill=\"currentColor\"/>\n",
       "</g>\n",
       "\n",
       "<g class=\"displacy-arrow\">\n",
       "    <path class=\"displacy-arc\" id=\"arrow-abaeed85100146e8b16a5db82b7fa2e6-0-9\" stroke-width=\"2px\" d=\"M1820,439.5 C1820,264.5 2135.0,264.5 2135.0,439.5\" fill=\"none\" stroke=\"currentColor\"/>\n",
       "    <text dy=\"1.25em\" style=\"font-size: 0.8em; letter-spacing: 1px\">\n",
       "        <textPath xlink:href=\"#arrow-abaeed85100146e8b16a5db82b7fa2e6-0-9\" class=\"displacy-label\" startOffset=\"50%\" side=\"left\" fill=\"currentColor\" text-anchor=\"middle\">advmod</textPath>\n",
       "    </text>\n",
       "    <path class=\"displacy-arrowhead\" d=\"M1820,441.5 L1812,429.5 1828,429.5\" fill=\"currentColor\"/>\n",
       "</g>\n",
       "\n",
       "<g class=\"displacy-arrow\">\n",
       "    <path class=\"displacy-arc\" id=\"arrow-abaeed85100146e8b16a5db82b7fa2e6-0-10\" stroke-width=\"2px\" d=\"M1995,439.5 C1995,352.0 2130.0,352.0 2130.0,439.5\" fill=\"none\" stroke=\"currentColor\"/>\n",
       "    <text dy=\"1.25em\" style=\"font-size: 0.8em; letter-spacing: 1px\">\n",
       "        <textPath xlink:href=\"#arrow-abaeed85100146e8b16a5db82b7fa2e6-0-10\" class=\"displacy-label\" startOffset=\"50%\" side=\"left\" fill=\"currentColor\" text-anchor=\"middle\">advmod</textPath>\n",
       "    </text>\n",
       "    <path class=\"displacy-arrowhead\" d=\"M1995,441.5 L1987,429.5 2003,429.5\" fill=\"currentColor\"/>\n",
       "</g>\n",
       "\n",
       "<g class=\"displacy-arrow\">\n",
       "    <path class=\"displacy-arc\" id=\"arrow-abaeed85100146e8b16a5db82b7fa2e6-0-11\" stroke-width=\"2px\" d=\"M770,439.5 C770,2.0 2150.0,2.0 2150.0,439.5\" fill=\"none\" stroke=\"currentColor\"/>\n",
       "    <text dy=\"1.25em\" style=\"font-size: 0.8em; letter-spacing: 1px\">\n",
       "        <textPath xlink:href=\"#arrow-abaeed85100146e8b16a5db82b7fa2e6-0-11\" class=\"displacy-label\" startOffset=\"50%\" side=\"left\" fill=\"currentColor\" text-anchor=\"middle\">conj</textPath>\n",
       "    </text>\n",
       "    <path class=\"displacy-arrowhead\" d=\"M2150.0,441.5 L2158.0,429.5 2142.0,429.5\" fill=\"currentColor\"/>\n",
       "</g>\n",
       "\n",
       "<g class=\"displacy-arrow\">\n",
       "    <path class=\"displacy-arc\" id=\"arrow-abaeed85100146e8b16a5db82b7fa2e6-0-12\" stroke-width=\"2px\" d=\"M2345,439.5 C2345,177.0 2840.0,177.0 2840.0,439.5\" fill=\"none\" stroke=\"currentColor\"/>\n",
       "    <text dy=\"1.25em\" style=\"font-size: 0.8em; letter-spacing: 1px\">\n",
       "        <textPath xlink:href=\"#arrow-abaeed85100146e8b16a5db82b7fa2e6-0-12\" class=\"displacy-label\" startOffset=\"50%\" side=\"left\" fill=\"currentColor\" text-anchor=\"middle\">amod</textPath>\n",
       "    </text>\n",
       "    <path class=\"displacy-arrowhead\" d=\"M2345,441.5 L2337,429.5 2353,429.5\" fill=\"currentColor\"/>\n",
       "</g>\n",
       "\n",
       "<g class=\"displacy-arrow\">\n",
       "    <path class=\"displacy-arc\" id=\"arrow-abaeed85100146e8b16a5db82b7fa2e6-0-13\" stroke-width=\"2px\" d=\"M2345,439.5 C2345,352.0 2480.0,352.0 2480.0,439.5\" fill=\"none\" stroke=\"currentColor\"/>\n",
       "    <text dy=\"1.25em\" style=\"font-size: 0.8em; letter-spacing: 1px\">\n",
       "        <textPath xlink:href=\"#arrow-abaeed85100146e8b16a5db82b7fa2e6-0-13\" class=\"displacy-label\" startOffset=\"50%\" side=\"left\" fill=\"currentColor\" text-anchor=\"middle\">mark</textPath>\n",
       "    </text>\n",
       "    <path class=\"displacy-arrowhead\" d=\"M2480.0,441.5 L2488.0,429.5 2472.0,429.5\" fill=\"currentColor\"/>\n",
       "</g>\n",
       "\n",
       "<g class=\"displacy-arrow\">\n",
       "    <path class=\"displacy-arc\" id=\"arrow-abaeed85100146e8b16a5db82b7fa2e6-0-14\" stroke-width=\"2px\" d=\"M2695,439.5 C2695,352.0 2830.0,352.0 2830.0,439.5\" fill=\"none\" stroke=\"currentColor\"/>\n",
       "    <text dy=\"1.25em\" style=\"font-size: 0.8em; letter-spacing: 1px\">\n",
       "        <textPath xlink:href=\"#arrow-abaeed85100146e8b16a5db82b7fa2e6-0-14\" class=\"displacy-label\" startOffset=\"50%\" side=\"left\" fill=\"currentColor\" text-anchor=\"middle\">compound:nn</textPath>\n",
       "    </text>\n",
       "    <path class=\"displacy-arrowhead\" d=\"M2695,441.5 L2687,429.5 2703,429.5\" fill=\"currentColor\"/>\n",
       "</g>\n",
       "\n",
       "<g class=\"displacy-arrow\">\n",
       "    <path class=\"displacy-arc\" id=\"arrow-abaeed85100146e8b16a5db82b7fa2e6-0-15\" stroke-width=\"2px\" d=\"M2170,439.5 C2170,89.5 2845.0,89.5 2845.0,439.5\" fill=\"none\" stroke=\"currentColor\"/>\n",
       "    <text dy=\"1.25em\" style=\"font-size: 0.8em; letter-spacing: 1px\">\n",
       "        <textPath xlink:href=\"#arrow-abaeed85100146e8b16a5db82b7fa2e6-0-15\" class=\"displacy-label\" startOffset=\"50%\" side=\"left\" fill=\"currentColor\" text-anchor=\"middle\">dobj</textPath>\n",
       "    </text>\n",
       "    <path class=\"displacy-arrowhead\" d=\"M2845.0,441.5 L2853.0,429.5 2837.0,429.5\" fill=\"currentColor\"/>\n",
       "</g>\n",
       "</svg></span>"
      ],
      "text/plain": [
       "<IPython.core.display.HTML object>"
      ]
     },
     "metadata": {},
     "output_type": "display_data"
    }
   ],
   "source": [
    "#nlp = spacy.load(\"zh_core_web_sm\")\n",
    "nlp = zh_core_web_sm.load()\n",
    "doc = nlp(my_text)\n",
    "displacy.render(doc, style=\"dep\")"
   ]
  },
  {
   "cell_type": "markdown",
   "metadata": {},
   "source": [
    "### Dependency Parsing 相依"
   ]
  },
  {
   "cell_type": "code",
   "execution_count": 11,
   "metadata": {},
   "outputs": [],
   "source": [
    "#nlp = spacy.load(\"zh_core_web_sm\")\n",
    "nlp = zh_core_web_sm.load()\n",
    "doc = nlp(my_text)"
   ]
  },
  {
   "cell_type": "code",
   "execution_count": 12,
   "metadata": {},
   "outputs": [],
   "source": [
    "for chunk in doc.noun_chunks:\n",
    "    print(chunk.text, chunk.root.text, chunk.root.dep_, chunk.root.head.text)"
   ]
  },
  {
   "cell_type": "markdown",
   "metadata": {},
   "source": [
    "### 實體命名辨識"
   ]
  },
  {
   "cell_type": "code",
   "execution_count": 13,
   "metadata": {},
   "outputs": [
    {
     "data": {
      "text/html": [
       "<span class=\"tex2jax_ignore\"><div class=\"entities\" style=\"line-height: 2.5; direction: ltr\">\n",
       "<mark class=\"entity\" style=\"background: #e4e7d2; padding: 0.45em 0.6em; margin: 0 0.25em; line-height: 1; border-radius: 0.35em;\">\n",
       "    三\n",
       "    <span style=\"font-size: 0.8em; font-weight: bold; line-height: 1; border-radius: 0.35em; text-transform: uppercase; vertical-align: middle; margin-left: 0.5rem\">CARDINAL</span>\n",
       "</mark>\n",
       "倍券還可以買公益彩券及買黃金，業者也會推出相關的優惠活動。</div></span>"
      ],
      "text/plain": [
       "<IPython.core.display.HTML object>"
      ]
     },
     "metadata": {},
     "output_type": "display_data"
    }
   ],
   "source": [
    "displacy.render(doc, style=\"ent\")"
   ]
  },
  {
   "cell_type": "code",
   "execution_count": 14,
   "metadata": {},
   "outputs": [],
   "source": [
    "text2 = \"銀河系其實滿是外星人？NASA爆銀河奧秘：大多數都死了\"\n",
    "nlp = zh_core_web_sm.load()\n",
    "doc2 = nlp(text2)"
   ]
  },
  {
   "cell_type": "code",
   "execution_count": 22,
   "metadata": {},
   "outputs": [
    {
     "data": {
      "text/plain": [
       "array([-0.63634807, -0.8887088 , -0.92574394, -1.7071301 , -0.496763  ,\n",
       "        1.5761265 ,  1.5366842 ,  0.12900767,  0.46649396,  0.27424118,\n",
       "       -0.14113975,  1.1698532 , -1.4519327 , -0.0830173 ,  0.35216796,\n",
       "       -0.0504207 , -1.6943597 ,  0.35442355,  0.13266736, -1.4980419 ,\n",
       "        1.4500929 , -0.6035718 , -0.4426472 , -1.5978374 , -0.24330494,\n",
       "        1.0545944 , -0.5360409 , -0.4606626 ,  0.15195915, -0.18831563,\n",
       "        0.16336718,  0.10152902,  0.4343162 ,  0.7590234 , -0.66384864,\n",
       "       -0.38505107, -0.0339113 ,  0.00433468, -1.0226444 ,  0.5668968 ,\n",
       "       -0.74441004,  0.96919554,  0.71742696, -2.2177522 ,  0.6658689 ,\n",
       "        0.7860833 ,  1.7720474 , -1.9204216 ,  0.8962759 , -0.19095331,\n",
       "        0.55216026,  0.03925843, -1.9573104 , -0.986909  ,  1.3416779 ,\n",
       "        0.21960099,  0.71702707, -0.15270023,  0.75464106,  2.1639335 ,\n",
       "       -1.2468837 ,  0.26746774,  1.6536971 , -0.18473059, -1.4031814 ,\n",
       "       -0.34784746,  0.21658638,  0.8310059 , -1.3441432 ,  2.066719  ,\n",
       "        1.0604732 , -0.82301235, -0.5783693 , -0.6138989 , -0.04130393,\n",
       "        1.5936266 ,  1.4306607 , -1.6793332 , -1.0557709 ,  0.68915945,\n",
       "       -1.1351793 ,  1.5226241 , -1.6456127 , -1.3415511 ,  1.9045556 ,\n",
       "       -0.01914198,  1.4528522 ,  1.4183991 ,  1.0642694 , -0.33994746,\n",
       "       -1.3629409 , -1.3033644 ,  0.7640029 ,  0.20187882, -0.77693814,\n",
       "       -0.46816683], dtype=float32)"
      ]
     },
     "execution_count": 22,
     "metadata": {},
     "output_type": "execute_result"
    }
   ],
   "source": [
    "doc2.vector"
   ]
  },
  {
   "cell_type": "code",
   "execution_count": 19,
   "metadata": {},
   "outputs": [
    {
     "name": "stdout",
     "output_type": "stream",
     "text": [
      "銀河, NOUN\n",
      "系, NOUN\n",
      "其, PRON\n",
      "實滿, NOUN\n",
      "是, VERB\n",
      "外星人, NOUN\n",
      "？, PUNCT\n",
      "NASA, PROPN\n",
      "爆銀河, NOUN\n",
      "奧秘, VERB\n",
      "：, PUNCT\n",
      "大多, ADV\n",
      "數, NOUN\n",
      "都, ADV\n",
      "死, VERB\n",
      "了, PART\n"
     ]
    }
   ],
   "source": [
    "for token in doc2:\n",
    "    print('{}, {}'.format(token.text, token.pos_))"
   ]
  },
  {
   "cell_type": "code",
   "execution_count": 25,
   "metadata": {},
   "outputs": [
    {
     "name": "stdout",
     "output_type": "stream",
     "text": [
      "銀河\n",
      "系\n",
      "其\n",
      "實滿\n",
      "是\n",
      "外星人\n",
      "？\n",
      "NASA\n",
      "爆銀河\n",
      "奧秘\n",
      "：\n",
      "大多\n",
      "數\n",
      "都\n",
      "死\n",
      "了\n"
     ]
    }
   ],
   "source": [
    "for token in doc2:\n",
    "    print('{}'.format(token.text))"
   ]
  },
  {
   "cell_type": "code",
   "execution_count": 16,
   "metadata": {},
   "outputs": [
    {
     "name": "stderr",
     "output_type": "stream",
     "text": [
      "/opt/conda/lib/python3.7/site-packages/ipykernel_launcher.py:1: UserWarning: [W007] The model you're using has no word vectors loaded, so the result of the Doc.similarity method will be based on the tagger, parser and NER, which may not give useful similarity judgements. This may happen if you're using one of the small models, e.g. `en_core_web_sm`, which don't ship with word vectors and only use context-sensitive tensors. You can always add your own word vectors, or use one of the larger models instead if available.\n",
      "  \"\"\"Entry point for launching an IPython kernel.\n"
     ]
    },
    {
     "data": {
      "text/plain": [
       "0.820216685344656"
      ]
     },
     "execution_count": 16,
     "metadata": {},
     "output_type": "execute_result"
    }
   ],
   "source": [
    "doc2.similarity(doc)"
   ]
  },
  {
   "cell_type": "code",
   "execution_count": 20,
   "metadata": {
    "collapsed": true,
    "jupyter": {
     "outputs_hidden": true
    }
   },
   "outputs": [
    {
     "data": {
      "text/plain": [
       "['…',\n",
       " '……',\n",
       " ',',\n",
       " ':',\n",
       " ';',\n",
       " '\\\\!',\n",
       " '\\\\?',\n",
       " '¿',\n",
       " '؟',\n",
       " '¡',\n",
       " '\\\\(',\n",
       " '\\\\)',\n",
       " '\\\\[',\n",
       " '\\\\]',\n",
       " '\\\\{',\n",
       " '\\\\}',\n",
       " '<',\n",
       " '>',\n",
       " '_',\n",
       " '#',\n",
       " '\\\\*',\n",
       " '&',\n",
       " '。',\n",
       " '？',\n",
       " '！',\n",
       " '，',\n",
       " '、',\n",
       " '；',\n",
       " '：',\n",
       " '～',\n",
       " '·',\n",
       " '।',\n",
       " '،',\n",
       " '۔',\n",
       " '؛',\n",
       " '٪',\n",
       " '\\\\.\\\\.+',\n",
       " '…',\n",
       " \"\\\\'\",\n",
       " '\"',\n",
       " '”',\n",
       " '“',\n",
       " '`',\n",
       " '‘',\n",
       " '´',\n",
       " '’',\n",
       " '‚',\n",
       " ',',\n",
       " '„',\n",
       " '»',\n",
       " '«',\n",
       " '「',\n",
       " '」',\n",
       " '『',\n",
       " '』',\n",
       " '（',\n",
       " '）',\n",
       " '〔',\n",
       " '〕',\n",
       " '【',\n",
       " '】',\n",
       " '《',\n",
       " '》',\n",
       " '〈',\n",
       " '〉',\n",
       " '[\\\\u00A6\\\\u00A9\\\\u00AE\\\\u00B0\\\\u0482\\\\u058D\\\\u058E\\\\u060E\\\\u060F\\\\u06DE\\\\u06E9\\\\u06FD\\\\u06FE\\\\u07F6\\\\u09FA\\\\u0B70\\\\u0BF3-\\\\u0BF8\\\\u0BFA\\\\u0C7F\\\\u0D4F\\\\u0D79\\\\u0F01-\\\\u0F03\\\\u0F13\\\\u0F15-\\\\u0F17\\\\u0F1A-\\\\u0F1F\\\\u0F34\\\\u0F36\\\\u0F38\\\\u0FBE-\\\\u0FC5\\\\u0FC7-\\\\u0FCC\\\\u0FCE\\\\u0FCF\\\\u0FD5-\\\\u0FD8\\\\u109E\\\\u109F\\\\u1390-\\\\u1399\\\\u1940\\\\u19DE-\\\\u19FF\\\\u1B61-\\\\u1B6A\\\\u1B74-\\\\u1B7C\\\\u2100\\\\u2101\\\\u2103-\\\\u2106\\\\u2108\\\\u2109\\\\u2114\\\\u2116\\\\u2117\\\\u211E-\\\\u2123\\\\u2125\\\\u2127\\\\u2129\\\\u212E\\\\u213A\\\\u213B\\\\u214A\\\\u214C\\\\u214D\\\\u214F\\\\u218A\\\\u218B\\\\u2195-\\\\u2199\\\\u219C-\\\\u219F\\\\u21A1\\\\u21A2\\\\u21A4\\\\u21A5\\\\u21A7-\\\\u21AD\\\\u21AF-\\\\u21CD\\\\u21D0\\\\u21D1\\\\u21D3\\\\u21D5-\\\\u21F3\\\\u2300-\\\\u2307\\\\u230C-\\\\u231F\\\\u2322-\\\\u2328\\\\u232B-\\\\u237B\\\\u237D-\\\\u239A\\\\u23B4-\\\\u23DB\\\\u23E2-\\\\u2426\\\\u2440-\\\\u244A\\\\u249C-\\\\u24E9\\\\u2500-\\\\u25B6\\\\u25B8-\\\\u25C0\\\\u25C2-\\\\u25F7\\\\u2600-\\\\u266E\\\\u2670-\\\\u2767\\\\u2794-\\\\u27BF\\\\u2800-\\\\u28FF\\\\u2B00-\\\\u2B2F\\\\u2B45\\\\u2B46\\\\u2B4D-\\\\u2B73\\\\u2B76-\\\\u2B95\\\\u2B98-\\\\u2BC8\\\\u2BCA-\\\\u2BFE\\\\u2CE5-\\\\u2CEA\\\\u2E80-\\\\u2E99\\\\u2E9B-\\\\u2EF3\\\\u2F00-\\\\u2FD5\\\\u2FF0-\\\\u2FFB\\\\u3004\\\\u3012\\\\u3013\\\\u3020\\\\u3036\\\\u3037\\\\u303E\\\\u303F\\\\u3190\\\\u3191\\\\u3196-\\\\u319F\\\\u31C0-\\\\u31E3\\\\u3200-\\\\u321E\\\\u322A-\\\\u3247\\\\u3250\\\\u3260-\\\\u327F\\\\u328A-\\\\u32B0\\\\u32C0-\\\\u32FE\\\\u3300-\\\\u33FF\\\\u4DC0-\\\\u4DFF\\\\uA490-\\\\uA4C6\\\\uA828-\\\\uA82B\\\\uA836\\\\uA837\\\\uA839\\\\uAA77-\\\\uAA79\\\\uFDFD\\\\uFFE4\\\\uFFE8\\\\uFFED\\\\uFFEE\\\\uFFFC\\\\uFFFD\\\\U00010137-\\\\U0001013F\\\\U00010179-\\\\U00010189\\\\U0001018C-\\\\U0001018E\\\\U00010190-\\\\U0001019B\\\\U000101A0\\\\U000101D0-\\\\U000101FC\\\\U00010877\\\\U00010878\\\\U00010AC8\\\\U0001173F\\\\U00016B3C-\\\\U00016B3F\\\\U00016B45\\\\U0001BC9C\\\\U0001D000-\\\\U0001D0F5\\\\U0001D100-\\\\U0001D126\\\\U0001D129-\\\\U0001D164\\\\U0001D16A-\\\\U0001D16C\\\\U0001D183\\\\U0001D184\\\\U0001D18C-\\\\U0001D1A9\\\\U0001D1AE-\\\\U0001D1E8\\\\U0001D200-\\\\U0001D241\\\\U0001D245\\\\U0001D300-\\\\U0001D356\\\\U0001D800-\\\\U0001D9FF\\\\U0001DA37-\\\\U0001DA3A\\\\U0001DA6D-\\\\U0001DA74\\\\U0001DA76-\\\\U0001DA83\\\\U0001DA85\\\\U0001DA86\\\\U0001ECAC\\\\U0001F000-\\\\U0001F02B\\\\U0001F030-\\\\U0001F093\\\\U0001F0A0-\\\\U0001F0AE\\\\U0001F0B1-\\\\U0001F0BF\\\\U0001F0C1-\\\\U0001F0CF\\\\U0001F0D1-\\\\U0001F0F5\\\\U0001F110-\\\\U0001F16B\\\\U0001F170-\\\\U0001F1AC\\\\U0001F1E6-\\\\U0001F202\\\\U0001F210-\\\\U0001F23B\\\\U0001F240-\\\\U0001F248\\\\U0001F250\\\\U0001F251\\\\U0001F260-\\\\U0001F265\\\\U0001F300-\\\\U0001F3FA\\\\U0001F400-\\\\U0001F6D4\\\\U0001F6E0-\\\\U0001F6EC\\\\U0001F6F0-\\\\U0001F6F9\\\\U0001F700-\\\\U0001F773\\\\U0001F780-\\\\U0001F7D8\\\\U0001F800-\\\\U0001F80B\\\\U0001F810-\\\\U0001F847\\\\U0001F850-\\\\U0001F859\\\\U0001F860-\\\\U0001F887\\\\U0001F890-\\\\U0001F8AD\\\\U0001F900-\\\\U0001F90B\\\\U0001F910-\\\\U0001F93E\\\\U0001F940-\\\\U0001F970\\\\U0001F973-\\\\U0001F976\\\\U0001F97A\\\\U0001F97C-\\\\U0001F9A2\\\\U0001F9B0-\\\\U0001F9B9\\\\U0001F9C0-\\\\U0001F9C2\\\\U0001F9D0-\\\\U0001F9FF\\\\U0001FA60-\\\\U0001FA6D]',\n",
       " \"'s\",\n",
       " \"'S\",\n",
       " '’s',\n",
       " '’S',\n",
       " '—',\n",
       " '–',\n",
       " '(?<=[0-9])\\\\+',\n",
       " '(?<=°[FfCcKk])\\\\.',\n",
       " '(?<=[0-9])(?:\\\\$|£|€|¥|฿|US\\\\$|C\\\\$|A\\\\$|₽|﷼|₴)',\n",
       " '(?<=[0-9])(?:km|km²|km³|m|m²|m³|dm|dm²|dm³|cm|cm²|cm³|mm|mm²|mm³|ha|µm|nm|yd|in|ft|kg|g|mg|µg|t|lb|oz|m/s|km/h|kmh|mph|hPa|Pa|mbar|mb|MB|kb|KB|gb|GB|tb|TB|T|G|M|K|%|км|км²|км³|м|м²|м³|дм|дм²|дм³|см|см²|см³|мм|мм²|мм³|нм|кг|г|мг|м/с|км/ч|кПа|Па|мбар|Кб|КБ|кб|Мб|МБ|мб|Гб|ГБ|гб|Тб|ТБ|тбكم|كم²|كم³|م|م²|م³|سم|سم²|سم³|مم|مم²|مم³|كم|غرام|جرام|جم|كغ|ملغ|كوب|اكواب)',\n",
       " '(?<=[0-9a-z\\\\uFF41-\\\\uFF5A\\\\u00DF-\\\\u00F6\\\\u00F8-\\\\u00FF\\\\u0101\\\\u0103\\\\u0105\\\\u0107\\\\u0109\\\\u010B\\\\u010D\\\\u010F\\\\u0111\\\\u0113\\\\u0115\\\\u0117\\\\u0119\\\\u011B\\\\u011D\\\\u011F\\\\u0121\\\\u0123\\\\u0125\\\\u0127\\\\u0129\\\\u012B\\\\u012D\\\\u012F\\\\u0131\\\\u0133\\\\u0135\\\\u0137\\\\u0138\\\\u013A\\\\u013C\\\\u013E\\\\u0140\\\\u0142\\\\u0144\\\\u0146\\\\u0148\\\\u0149\\\\u014B\\\\u014D\\\\u014F\\\\u0151\\\\u0153\\\\u0155\\\\u0157\\\\u0159\\\\u015B\\\\u015D\\\\u015F\\\\u0161\\\\u0163\\\\u0165\\\\u0167\\\\u0169\\\\u016B\\\\u016D\\\\u016F\\\\u0171\\\\u0173\\\\u0175\\\\u0177\\\\u017A\\\\u017C\\\\u017E\\\\u017F\\\\u0180\\\\u0183\\\\u0185\\\\u0188\\\\u018C\\\\u018D\\\\u0192\\\\u0195\\\\u0199-\\\\u019B\\\\u019E\\\\u01A1\\\\u01A3\\\\u01A5\\\\u01A8\\\\u01AA\\\\u01AB\\\\u01AD\\\\u01B0\\\\u01B4\\\\u01B6\\\\u01B9\\\\u01BA\\\\u01BD-\\\\u01BF\\\\u01C6\\\\u01C9\\\\u01CC\\\\u01CE\\\\u01D0\\\\u01D2\\\\u01D4\\\\u01D6\\\\u01D8\\\\u01DA\\\\u01DC\\\\u01DD\\\\u01DF\\\\u01E1\\\\u01E3\\\\u01E5\\\\u01E7\\\\u01E9\\\\u01EB\\\\u01ED\\\\u01EF\\\\u01F0\\\\u01F3\\\\u01F5\\\\u01F9\\\\u01FB\\\\u01FD\\\\u01FF\\\\u0201\\\\u0203\\\\u0205\\\\u0207\\\\u0209\\\\u020B\\\\u020D\\\\u020F\\\\u0211\\\\u0213\\\\u0215\\\\u0217\\\\u0219\\\\u021B\\\\u021D\\\\u021F\\\\u0221\\\\u0223\\\\u0225\\\\u0227\\\\u0229\\\\u022B\\\\u022D\\\\u022F\\\\u0231\\\\u0233-\\\\u0239\\\\u023C\\\\u023F\\\\u0240\\\\u0242\\\\u0247\\\\u0249\\\\u024B\\\\u024D\\\\u024F\\\\u2C61\\\\u2C65\\\\u2C66\\\\u2C68\\\\u2C6A\\\\u2C6C\\\\u2C71\\\\u2C73\\\\u2C74\\\\u2C76-\\\\u2C7B\\\\uA723\\\\uA725\\\\uA727\\\\uA729\\\\uA72B\\\\uA72D\\\\uA72F-\\\\uA731\\\\uA733\\\\uA735\\\\uA737\\\\uA739\\\\uA73B\\\\uA73D\\\\uA73F\\\\uA741\\\\uA743\\\\uA745\\\\uA747\\\\uA749\\\\uA74B\\\\uA74D\\\\uA74F\\\\uA751\\\\uA753\\\\uA755\\\\uA757\\\\uA759\\\\uA75B\\\\uA75D\\\\uA75F\\\\uA761\\\\uA763\\\\uA765\\\\uA767\\\\uA769\\\\uA76B\\\\uA76D\\\\uA76F\\\\uA771-\\\\uA778\\\\uA77A\\\\uA77C\\\\uA77F\\\\uA781\\\\uA783\\\\uA785\\\\uA787\\\\uA78C\\\\uA78E\\\\uA791\\\\uA793-\\\\uA795\\\\uA797\\\\uA799\\\\uA79B\\\\uA79D\\\\uA79F\\\\uA7A1\\\\uA7A3\\\\uA7A5\\\\uA7A7\\\\uA7A9\\\\uA7AF\\\\uA7B5\\\\uA7B7\\\\uA7B9\\\\uA7FA\\\\uAB30-\\\\uAB5A\\\\uAB60-\\\\uAB64\\\\u0250-\\\\u02AF\\\\u1D00-\\\\u1D25\\\\u1D6B-\\\\u1D77\\\\u1D79-\\\\u1D9A\\\\u1E01\\\\u1E03\\\\u1E05\\\\u1E07\\\\u1E09\\\\u1E0B\\\\u1E0D\\\\u1E0F\\\\u1E11\\\\u1E13\\\\u1E15\\\\u1E17\\\\u1E19\\\\u1E1B\\\\u1E1D\\\\u1E1F\\\\u1E21\\\\u1E23\\\\u1E25\\\\u1E27\\\\u1E29\\\\u1E2B\\\\u1E2D\\\\u1E2F\\\\u1E31\\\\u1E33\\\\u1E35\\\\u1E37\\\\u1E39\\\\u1E3B\\\\u1E3D\\\\u1E3F\\\\u1E41\\\\u1E43\\\\u1E45\\\\u1E47\\\\u1E49\\\\u1E4B\\\\u1E4D\\\\u1E4F\\\\u1E51\\\\u1E53\\\\u1E55\\\\u1E57\\\\u1E59\\\\u1E5B\\\\u1E5D\\\\u1E5F\\\\u1E61\\\\u1E63\\\\u1E65\\\\u1E67\\\\u1E69\\\\u1E6B\\\\u1E6D\\\\u1E6F\\\\u1E71\\\\u1E73\\\\u1E75\\\\u1E77\\\\u1E79\\\\u1E7B\\\\u1E7D\\\\u1E7F\\\\u1E81\\\\u1E83\\\\u1E85\\\\u1E87\\\\u1E89\\\\u1E8B\\\\u1E8D\\\\u1E8F\\\\u1E91\\\\u1E93\\\\u1E95-\\\\u1E9D\\\\u1E9F\\\\u1EA1\\\\u1EA3\\\\u1EA5\\\\u1EA7\\\\u1EA9\\\\u1EAB\\\\u1EAD\\\\u1EAF\\\\u1EB1\\\\u1EB3\\\\u1EB5\\\\u1EB7\\\\u1EB9\\\\u1EBB\\\\u1EBD\\\\u1EBF\\\\u1EC1\\\\u1EC3\\\\u1EC5\\\\u1EC7\\\\u1EC9\\\\u1ECB\\\\u1ECD\\\\u1ECF\\\\u1ED1\\\\u1ED3\\\\u1ED5\\\\u1ED7\\\\u1ED9\\\\u1EDB\\\\u1EDD\\\\u1EDF\\\\u1EE1\\\\u1EE3\\\\u1EE5\\\\u1EE7\\\\u1EE9\\\\u1EEB\\\\u1EED\\\\u1EEF\\\\u1EF1\\\\u1EF3\\\\u1EF5\\\\u1EF7\\\\u1EF9\\\\u1EFB\\\\u1EFD\\\\u1EFFёа-яәөүҗңһα-ωάέίόώήύа-щюяіїєґѓѕјљњќѐѝ\\\\u0980-\\\\u09FF\\\\u0591-\\\\u05F4\\\\uFB1D-\\\\uFB4F\\\\u0620-\\\\u064A\\\\u066E-\\\\u06D5\\\\u06E5-\\\\u06FF\\\\u0750-\\\\u077F\\\\u08A0-\\\\u08BD\\\\uFB50-\\\\uFBB1\\\\uFBD3-\\\\uFD3D\\\\uFD50-\\\\uFDC7\\\\uFDF0-\\\\uFDFB\\\\uFE70-\\\\uFEFC\\\\U0001EE00-\\\\U0001EEBB\\\\u0D80-\\\\u0DFF\\\\u0900-\\\\u097F\\\\u0C80-\\\\u0CFF\\\\u0B80-\\\\u0BFF\\\\u0C00-\\\\u0C7F\\\\uAC00-\\\\uD7AF\\\\u1100-\\\\u11FF\\\\u4E00-\\\\u62FF\\\\u6300-\\\\u77FF\\\\u7800-\\\\u8CFF\\\\u8D00-\\\\u9FFF\\\\u3400-\\\\u4DBF\\\\U00020000-\\\\U000215FF\\\\U00021600-\\\\U000230FF\\\\U00023100-\\\\U000245FF\\\\U00024600-\\\\U000260FF\\\\U00026100-\\\\U000275FF\\\\U00027600-\\\\U000290FF\\\\U00029100-\\\\U0002A6DF\\\\U0002A700-\\\\U0002B73F\\\\U0002B740-\\\\U0002B81F\\\\U0002B820-\\\\U0002CEAF\\\\U0002CEB0-\\\\U0002EBEF\\\\u2E80-\\\\u2EFF\\\\u2F00-\\\\u2FDF\\\\u2FF0-\\\\u2FFF\\\\u3000-\\\\u303F\\\\u31C0-\\\\u31EF\\\\u3200-\\\\u32FF\\\\u3300-\\\\u33FF\\\\uF900-\\\\uFAFF\\\\uFE30-\\\\uFE4F\\\\U0001F200-\\\\U0001F2FF\\\\U0002F800-\\\\U0002FA1F%²\\\\-\\\\+…|……|,|:|;|\\\\!|\\\\?|¿|؟|¡|\\\\(|\\\\)|\\\\[|\\\\]|\\\\{|\\\\}|<|>|_|#|\\\\*|&|。|？|！|，|、|；|：|～|·|।|،|۔|؛|٪(?:\\\\\\'\"”“`‘´’‚,„»«「」『』（）〔〕【】《》〈〉)])\\\\.',\n",
       " '(?<=[A-Z\\\\uFF21-\\\\uFF3A\\\\u00C0-\\\\u00D6\\\\u00D8-\\\\u00DE\\\\u0100\\\\u0102\\\\u0104\\\\u0106\\\\u0108\\\\u010A\\\\u010C\\\\u010E\\\\u0110\\\\u0112\\\\u0114\\\\u0116\\\\u0118\\\\u011A\\\\u011C\\\\u011E\\\\u0120\\\\u0122\\\\u0124\\\\u0126\\\\u0128\\\\u012A\\\\u012C\\\\u012E\\\\u0130\\\\u0132\\\\u0134\\\\u0136\\\\u0139\\\\u013B\\\\u013D\\\\u013F\\\\u0141\\\\u0143\\\\u0145\\\\u0147\\\\u014A\\\\u014C\\\\u014E\\\\u0150\\\\u0152\\\\u0154\\\\u0156\\\\u0158\\\\u015A\\\\u015C\\\\u015E\\\\u0160\\\\u0162\\\\u0164\\\\u0166\\\\u0168\\\\u016A\\\\u016C\\\\u016E\\\\u0170\\\\u0172\\\\u0174\\\\u0176\\\\u0178\\\\u0179\\\\u017B\\\\u017D\\\\u0181\\\\u0182\\\\u0184\\\\u0186\\\\u0187\\\\u0189-\\\\u018B\\\\u018E-\\\\u0191\\\\u0193\\\\u0194\\\\u0196-\\\\u0198\\\\u019C\\\\u019D\\\\u019F\\\\u01A0\\\\u01A2\\\\u01A4\\\\u01A6\\\\u01A7\\\\u01A9\\\\u01AC\\\\u01AE\\\\u01AF\\\\u01B1-\\\\u01B3\\\\u01B5\\\\u01B7\\\\u01B8\\\\u01BC\\\\u01C4\\\\u01C7\\\\u01CA\\\\u01CD\\\\u01CF\\\\u01D1\\\\u01D3\\\\u01D5\\\\u01D7\\\\u01D9\\\\u01DB\\\\u01DE\\\\u01E0\\\\u01E2\\\\u01E4\\\\u01E6\\\\u01E8\\\\u01EA\\\\u01EC\\\\u01EE\\\\u01F1\\\\u01F4\\\\u01F6-\\\\u01F8\\\\u01FA\\\\u01FC\\\\u01FE\\\\u0200\\\\u0202\\\\u0204\\\\u0206\\\\u0208\\\\u020A\\\\u020C\\\\u020E\\\\u0210\\\\u0212\\\\u0214\\\\u0216\\\\u0218\\\\u021A\\\\u021C\\\\u021E\\\\u0220\\\\u0222\\\\u0224\\\\u0226\\\\u0228\\\\u022A\\\\u022C\\\\u022E\\\\u0230\\\\u0232\\\\u023A\\\\u023B\\\\u023D\\\\u023E\\\\u0241\\\\u0243-\\\\u0246\\\\u0248\\\\u024A\\\\u024C\\\\u024E\\\\u2C60\\\\u2C62-\\\\u2C64\\\\u2C67\\\\u2C69\\\\u2C6B\\\\u2C6D-\\\\u2C70\\\\u2C72\\\\u2C75\\\\u2C7E\\\\u2C7F\\\\uA722\\\\uA724\\\\uA726\\\\uA728\\\\uA72A\\\\uA72C\\\\uA72E\\\\uA732\\\\uA734\\\\uA736\\\\uA738\\\\uA73A\\\\uA73C\\\\uA73E\\\\uA740\\\\uA742\\\\uA744\\\\uA746\\\\uA748\\\\uA74A\\\\uA74C\\\\uA74E\\\\uA750\\\\uA752\\\\uA754\\\\uA756\\\\uA758\\\\uA75A\\\\uA75C\\\\uA75E\\\\uA760\\\\uA762\\\\uA764\\\\uA766\\\\uA768\\\\uA76A\\\\uA76C\\\\uA76E\\\\uA779\\\\uA77B\\\\uA77D\\\\uA77E\\\\uA780\\\\uA782\\\\uA784\\\\uA786\\\\uA78B\\\\uA78D\\\\uA790\\\\uA792\\\\uA796\\\\uA798\\\\uA79A\\\\uA79C\\\\uA79E\\\\uA7A0\\\\uA7A2\\\\uA7A4\\\\uA7A6\\\\uA7A8\\\\uA7AA-\\\\uA7AE\\\\uA7B0-\\\\uA7B4\\\\uA7B6\\\\uA7B8\\\\u1E00\\\\u1E02\\\\u1E04\\\\u1E06\\\\u1E08\\\\u1E0A\\\\u1E0C\\\\u1E0E\\\\u1E10\\\\u1E12\\\\u1E14\\\\u1E16\\\\u1E18\\\\u1E1A\\\\u1E1C\\\\u1E1E\\\\u1E20\\\\u1E22\\\\u1E24\\\\u1E26\\\\u1E28\\\\u1E2A\\\\u1E2C\\\\u1E2E\\\\u1E30\\\\u1E32\\\\u1E34\\\\u1E36\\\\u1E38\\\\u1E3A\\\\u1E3C\\\\u1E3E\\\\u1E40\\\\u1E42\\\\u1E44\\\\u1E46\\\\u1E48\\\\u1E4A\\\\u1E4C\\\\u1E4E\\\\u1E50\\\\u1E52\\\\u1E54\\\\u1E56\\\\u1E58\\\\u1E5A\\\\u1E5C\\\\u1E5E\\\\u1E60\\\\u1E62\\\\u1E64\\\\u1E66\\\\u1E68\\\\u1E6A\\\\u1E6C\\\\u1E6E\\\\u1E70\\\\u1E72\\\\u1E74\\\\u1E76\\\\u1E78\\\\u1E7A\\\\u1E7C\\\\u1E7E\\\\u1E80\\\\u1E82\\\\u1E84\\\\u1E86\\\\u1E88\\\\u1E8A\\\\u1E8C\\\\u1E8E\\\\u1E90\\\\u1E92\\\\u1E94\\\\u1E9E\\\\u1EA0\\\\u1EA2\\\\u1EA4\\\\u1EA6\\\\u1EA8\\\\u1EAA\\\\u1EAC\\\\u1EAE\\\\u1EB0\\\\u1EB2\\\\u1EB4\\\\u1EB6\\\\u1EB8\\\\u1EBA\\\\u1EBC\\\\u1EBE\\\\u1EC0\\\\u1EC2\\\\u1EC4\\\\u1EC6\\\\u1EC8\\\\u1ECA\\\\u1ECC\\\\u1ECE\\\\u1ED0\\\\u1ED2\\\\u1ED4\\\\u1ED6\\\\u1ED8\\\\u1EDA\\\\u1EDC\\\\u1EDE\\\\u1EE0\\\\u1EE2\\\\u1EE4\\\\u1EE6\\\\u1EE8\\\\u1EEA\\\\u1EEC\\\\u1EEE\\\\u1EF0\\\\u1EF2\\\\u1EF4\\\\u1EF6\\\\u1EF8\\\\u1EFA\\\\u1EFC\\\\u1EFEЁА-ЯӘӨҮҖҢҺΑ-ΩΆΈΊΌΏΉΎА-ЩЮЯІЇЄҐЃЅЈЉЊЌЀЍ\\\\u0980-\\\\u09FF\\\\u0591-\\\\u05F4\\\\uFB1D-\\\\uFB4F\\\\u0620-\\\\u064A\\\\u066E-\\\\u06D5\\\\u06E5-\\\\u06FF\\\\u0750-\\\\u077F\\\\u08A0-\\\\u08BD\\\\uFB50-\\\\uFBB1\\\\uFBD3-\\\\uFD3D\\\\uFD50-\\\\uFDC7\\\\uFDF0-\\\\uFDFB\\\\uFE70-\\\\uFEFC\\\\U0001EE00-\\\\U0001EEBB\\\\u0D80-\\\\u0DFF\\\\u0900-\\\\u097F\\\\u0C80-\\\\u0CFF\\\\u0B80-\\\\u0BFF\\\\u0C00-\\\\u0C7F\\\\uAC00-\\\\uD7AF\\\\u1100-\\\\u11FF\\\\u4E00-\\\\u62FF\\\\u6300-\\\\u77FF\\\\u7800-\\\\u8CFF\\\\u8D00-\\\\u9FFF\\\\u3400-\\\\u4DBF\\\\U00020000-\\\\U000215FF\\\\U00021600-\\\\U000230FF\\\\U00023100-\\\\U000245FF\\\\U00024600-\\\\U000260FF\\\\U00026100-\\\\U000275FF\\\\U00027600-\\\\U000290FF\\\\U00029100-\\\\U0002A6DF\\\\U0002A700-\\\\U0002B73F\\\\U0002B740-\\\\U0002B81F\\\\U0002B820-\\\\U0002CEAF\\\\U0002CEB0-\\\\U0002EBEF\\\\u2E80-\\\\u2EFF\\\\u2F00-\\\\u2FDF\\\\u2FF0-\\\\u2FFF\\\\u3000-\\\\u303F\\\\u31C0-\\\\u31EF\\\\u3200-\\\\u32FF\\\\u3300-\\\\u33FF\\\\uF900-\\\\uFAFF\\\\uFE30-\\\\uFE4F\\\\U0001F200-\\\\U0001F2FF\\\\U0002F800-\\\\U0002FA1F][A-Z\\\\uFF21-\\\\uFF3A\\\\u00C0-\\\\u00D6\\\\u00D8-\\\\u00DE\\\\u0100\\\\u0102\\\\u0104\\\\u0106\\\\u0108\\\\u010A\\\\u010C\\\\u010E\\\\u0110\\\\u0112\\\\u0114\\\\u0116\\\\u0118\\\\u011A\\\\u011C\\\\u011E\\\\u0120\\\\u0122\\\\u0124\\\\u0126\\\\u0128\\\\u012A\\\\u012C\\\\u012E\\\\u0130\\\\u0132\\\\u0134\\\\u0136\\\\u0139\\\\u013B\\\\u013D\\\\u013F\\\\u0141\\\\u0143\\\\u0145\\\\u0147\\\\u014A\\\\u014C\\\\u014E\\\\u0150\\\\u0152\\\\u0154\\\\u0156\\\\u0158\\\\u015A\\\\u015C\\\\u015E\\\\u0160\\\\u0162\\\\u0164\\\\u0166\\\\u0168\\\\u016A\\\\u016C\\\\u016E\\\\u0170\\\\u0172\\\\u0174\\\\u0176\\\\u0178\\\\u0179\\\\u017B\\\\u017D\\\\u0181\\\\u0182\\\\u0184\\\\u0186\\\\u0187\\\\u0189-\\\\u018B\\\\u018E-\\\\u0191\\\\u0193\\\\u0194\\\\u0196-\\\\u0198\\\\u019C\\\\u019D\\\\u019F\\\\u01A0\\\\u01A2\\\\u01A4\\\\u01A6\\\\u01A7\\\\u01A9\\\\u01AC\\\\u01AE\\\\u01AF\\\\u01B1-\\\\u01B3\\\\u01B5\\\\u01B7\\\\u01B8\\\\u01BC\\\\u01C4\\\\u01C7\\\\u01CA\\\\u01CD\\\\u01CF\\\\u01D1\\\\u01D3\\\\u01D5\\\\u01D7\\\\u01D9\\\\u01DB\\\\u01DE\\\\u01E0\\\\u01E2\\\\u01E4\\\\u01E6\\\\u01E8\\\\u01EA\\\\u01EC\\\\u01EE\\\\u01F1\\\\u01F4\\\\u01F6-\\\\u01F8\\\\u01FA\\\\u01FC\\\\u01FE\\\\u0200\\\\u0202\\\\u0204\\\\u0206\\\\u0208\\\\u020A\\\\u020C\\\\u020E\\\\u0210\\\\u0212\\\\u0214\\\\u0216\\\\u0218\\\\u021A\\\\u021C\\\\u021E\\\\u0220\\\\u0222\\\\u0224\\\\u0226\\\\u0228\\\\u022A\\\\u022C\\\\u022E\\\\u0230\\\\u0232\\\\u023A\\\\u023B\\\\u023D\\\\u023E\\\\u0241\\\\u0243-\\\\u0246\\\\u0248\\\\u024A\\\\u024C\\\\u024E\\\\u2C60\\\\u2C62-\\\\u2C64\\\\u2C67\\\\u2C69\\\\u2C6B\\\\u2C6D-\\\\u2C70\\\\u2C72\\\\u2C75\\\\u2C7E\\\\u2C7F\\\\uA722\\\\uA724\\\\uA726\\\\uA728\\\\uA72A\\\\uA72C\\\\uA72E\\\\uA732\\\\uA734\\\\uA736\\\\uA738\\\\uA73A\\\\uA73C\\\\uA73E\\\\uA740\\\\uA742\\\\uA744\\\\uA746\\\\uA748\\\\uA74A\\\\uA74C\\\\uA74E\\\\uA750\\\\uA752\\\\uA754\\\\uA756\\\\uA758\\\\uA75A\\\\uA75C\\\\uA75E\\\\uA760\\\\uA762\\\\uA764\\\\uA766\\\\uA768\\\\uA76A\\\\uA76C\\\\uA76E\\\\uA779\\\\uA77B\\\\uA77D\\\\uA77E\\\\uA780\\\\uA782\\\\uA784\\\\uA786\\\\uA78B\\\\uA78D\\\\uA790\\\\uA792\\\\uA796\\\\uA798\\\\uA79A\\\\uA79C\\\\uA79E\\\\uA7A0\\\\uA7A2\\\\uA7A4\\\\uA7A6\\\\uA7A8\\\\uA7AA-\\\\uA7AE\\\\uA7B0-\\\\uA7B4\\\\uA7B6\\\\uA7B8\\\\u1E00\\\\u1E02\\\\u1E04\\\\u1E06\\\\u1E08\\\\u1E0A\\\\u1E0C\\\\u1E0E\\\\u1E10\\\\u1E12\\\\u1E14\\\\u1E16\\\\u1E18\\\\u1E1A\\\\u1E1C\\\\u1E1E\\\\u1E20\\\\u1E22\\\\u1E24\\\\u1E26\\\\u1E28\\\\u1E2A\\\\u1E2C\\\\u1E2E\\\\u1E30\\\\u1E32\\\\u1E34\\\\u1E36\\\\u1E38\\\\u1E3A\\\\u1E3C\\\\u1E3E\\\\u1E40\\\\u1E42\\\\u1E44\\\\u1E46\\\\u1E48\\\\u1E4A\\\\u1E4C\\\\u1E4E\\\\u1E50\\\\u1E52\\\\u1E54\\\\u1E56\\\\u1E58\\\\u1E5A\\\\u1E5C\\\\u1E5E\\\\u1E60\\\\u1E62\\\\u1E64\\\\u1E66\\\\u1E68\\\\u1E6A\\\\u1E6C\\\\u1E6E\\\\u1E70\\\\u1E72\\\\u1E74\\\\u1E76\\\\u1E78\\\\u1E7A\\\\u1E7C\\\\u1E7E\\\\u1E80\\\\u1E82\\\\u1E84\\\\u1E86\\\\u1E88\\\\u1E8A\\\\u1E8C\\\\u1E8E\\\\u1E90\\\\u1E92\\\\u1E94\\\\u1E9E\\\\u1EA0\\\\u1EA2\\\\u1EA4\\\\u1EA6\\\\u1EA8\\\\u1EAA\\\\u1EAC\\\\u1EAE\\\\u1EB0\\\\u1EB2\\\\u1EB4\\\\u1EB6\\\\u1EB8\\\\u1EBA\\\\u1EBC\\\\u1EBE\\\\u1EC0\\\\u1EC2\\\\u1EC4\\\\u1EC6\\\\u1EC8\\\\u1ECA\\\\u1ECC\\\\u1ECE\\\\u1ED0\\\\u1ED2\\\\u1ED4\\\\u1ED6\\\\u1ED8\\\\u1EDA\\\\u1EDC\\\\u1EDE\\\\u1EE0\\\\u1EE2\\\\u1EE4\\\\u1EE6\\\\u1EE8\\\\u1EEA\\\\u1EEC\\\\u1EEE\\\\u1EF0\\\\u1EF2\\\\u1EF4\\\\u1EF6\\\\u1EF8\\\\u1EFA\\\\u1EFC\\\\u1EFEЁА-ЯӘӨҮҖҢҺΑ-ΩΆΈΊΌΏΉΎА-ЩЮЯІЇЄҐЃЅЈЉЊЌЀЍ\\\\u0980-\\\\u09FF\\\\u0591-\\\\u05F4\\\\uFB1D-\\\\uFB4F\\\\u0620-\\\\u064A\\\\u066E-\\\\u06D5\\\\u06E5-\\\\u06FF\\\\u0750-\\\\u077F\\\\u08A0-\\\\u08BD\\\\uFB50-\\\\uFBB1\\\\uFBD3-\\\\uFD3D\\\\uFD50-\\\\uFDC7\\\\uFDF0-\\\\uFDFB\\\\uFE70-\\\\uFEFC\\\\U0001EE00-\\\\U0001EEBB\\\\u0D80-\\\\u0DFF\\\\u0900-\\\\u097F\\\\u0C80-\\\\u0CFF\\\\u0B80-\\\\u0BFF\\\\u0C00-\\\\u0C7F\\\\uAC00-\\\\uD7AF\\\\u1100-\\\\u11FF\\\\u4E00-\\\\u62FF\\\\u6300-\\\\u77FF\\\\u7800-\\\\u8CFF\\\\u8D00-\\\\u9FFF\\\\u3400-\\\\u4DBF\\\\U00020000-\\\\U000215FF\\\\U00021600-\\\\U000230FF\\\\U00023100-\\\\U000245FF\\\\U00024600-\\\\U000260FF\\\\U00026100-\\\\U000275FF\\\\U00027600-\\\\U000290FF\\\\U00029100-\\\\U0002A6DF\\\\U0002A700-\\\\U0002B73F\\\\U0002B740-\\\\U0002B81F\\\\U0002B820-\\\\U0002CEAF\\\\U0002CEB0-\\\\U0002EBEF\\\\u2E80-\\\\u2EFF\\\\u2F00-\\\\u2FDF\\\\u2FF0-\\\\u2FFF\\\\u3000-\\\\u303F\\\\u31C0-\\\\u31EF\\\\u3200-\\\\u32FF\\\\u3300-\\\\u33FF\\\\uF900-\\\\uFAFF\\\\uFE30-\\\\uFE4F\\\\U0001F200-\\\\U0001F2FF\\\\U0002F800-\\\\U0002FA1F])\\\\.']"
      ]
     },
     "execution_count": 20,
     "metadata": {},
     "output_type": "execute_result"
    }
   ],
   "source": [
    "suffixes = list(nlp.Defaults.suffixes)\n",
    "suffixes"
   ]
  },
  {
   "cell_type": "code",
   "execution_count": 21,
   "metadata": {
    "collapsed": true,
    "jupyter": {
     "outputs_hidden": true
    }
   },
   "outputs": [
    {
     "name": "stdout",
     "output_type": "stream",
     "text": [
      "{'简而言之', '［①ｆ］', '以至于', '当中', '每逢', '为何', '马上', '孰知', '已矣', '然', '非常', '常', '光', '哗', '论', '是不是', '自后', '至若', '保险', '？', '［①Ｅ］', '对比', '逢', '关于', '非得', '［④ｂ］', '从而', '弗', '～', '｛', '不尽', '总结', '［③⑩］', '不只', '怎', '深入', '随后', '古来', '此时', '这么样', '距', '从宽', '?', '可是', '敢', '等到', '那时', '-', '连连', '难道', '任凭', '％', '冒', '反之亦然', '怪', '［②ｂ］', '以致', '的话', '也就是说', '失去', '［⑩］', '仍旧', '待', '全年', '某些', '何妨', '多', '换言之', '白', '广泛', '不要', '针对', '多么', '附近', '啥', '所以', '总的来看', '为止', '了解', '一一', '三番两次', '［①ｃ］', '相当', '猛然', '互', '好的', '瑟瑟', '以下', '另一个', '不时', '从未', '［②⑥］', '此', '》），', '大张旗鼓', 'Lex', '恰恰', '殆', '譬如', '做到', '＜λ', '︿', '从头', '当前', '［①③］', '哼', '到', '只是', '请勿', '练习', '定', '由是', '腾', '简直', '———', '争取', '将近', '不管怎样', '和', '单单', '喂', '乎', '起初', '诸如', '通常', '之一', '且说', '临到', '怕', '■', '当口儿', '不一', '采取', '是否', '故而', '［⑤ａ］', '确定', '欤', '向使', '显著', '［③Ｆ］', '极端', '啊哈', '_', '看来', '此间', '莫不', '在', '［①②］', '据悉', '粗', '累次', '准备', '不外', '当头', '［①ｇ］', '〈', '每天', '然则', '别说', '大约', '某某', '逐步', '恰恰相反', ')', '方才', '往往', '不日', '受到', '──', '那边', '并不是', '▲', '不光', '召开', '彼时', '不大', '［②ｄ］', '倍感', '全身心', '…………………………………………………③', '比起', '呼啦', '怎么', '极度', '哎哟', '自己', '那般', '!', '＝', '反应', '连日来', '哼唷', '奈', '只', '最后', '迅速', '按时', '敞开儿', '真正', '别人', '咋', '拦腰', '那会儿', '最', '｛－', '即若', '相同', '二话没说', '.一', '究竟', '即', '任', '《', '俺', '固然', '只限', '倍加', '啪达', '就', '进来', '大量', '切不可', '如今', '成年', '那么样', '允许', '限制', '乃至', '尽然', '有的', '这些', '－－', '宁可', '不消', '冲', '因为', '随著', '从中', '历', '何时', '这会儿', '从事', '，也', '据', '正在', '拿', '竟而', '初', '今天', '根本', 'Ｒ．Ｌ．', '不免', '×××', '除此而外', '来自', '现代', '倒不如', '何乐而不为', '尽量', '考虑', '其他', '每当', '亲身', '扩大', '即如', '知道', '谁料', '因而', '：', '这就是说', '何', '果然', '只怕', '此处', '清楚', '或许', '莫如', '归齐', '各个', '尔等', '以免', '应用', '自', '岂', '一样', '我的', '接下来', '怎奈', '直到', '０：２', '屡次', '啷当', '得到', '略微', '设或', '亲自', '运用', '；', '当即', '长期以来', '很多', '立刻', '看样子', '庶乎', '及其', '--', '%', '之前', '嘎登', '另行', '并且', '四', '》', '好', '靠', '如同', '假若', '千万', '不特', '嗡', '遇到', '及至', '//', '……', '彼此', '便', '那样', '但愿', '矣哉', '对待', '奇', '实际', '集中', '起首', '所谓', '甭', '6', '［②ｊ］', '先不先', '啐', '零', '＊', '那个', '既', '呆呆地', '个', '因了', '立时', '每每', '或是', '俺们', '后面', '一', '居然', '乘隙', 'φ', '并', '［②③］', '达到', '似的', '三番五次', '当地', '［②⑤］', '趁热', '且不说', '存在', '经', '［③ｃ］', '同样', '较比', '有效', '1', '十分', '老', '趁着', '那儿', '它是', '）', '［＊］', '这种', '乘势', '是的', '仅', '复杂', '嘻', '保管', '让', '地', '大多数', '哟', '什么', '赶快', '那么', '各式', '倒不如说', '唉', '再则', '认真', '或者', '默默地', 'A', '遵照', '严格', '『', '姑且', '如是', '老老实实', '更加', '互相', '莫不然', '不比', '多亏', '与否', '只要', '）÷（１－', '么', '近年来', '不仅', '凡', '转动', '＋＋', '呵', '起来', '３', '毕竟', '＝［', '愿意', '今年', '何必', '认为', '综上所述', 'Δ', '！', '/', '反映', '而', '基本', '何处', '管', '自从', '局外', '归根到底', '她', '如上所述', '差一点', '诸', '倘若', '三天两头', '⑥', '乃', '多少', '出来', '竟', '至', '其后', 'exp', '表示', '＿', '再次', '不外乎', '赶早不赶晚', '传说', 'μ', '处在', '二来', '打开天窗说亮话', '较', '各地', '哪儿', '来得及', '<', '次第', '并肩', '刚才', '总的说来', '过', '叫做', '［③ｂ］', '看见', '成心', '一些', '也', '⑨', '岂但', '对于', '乘机', '0', '不', '不久', 'ａ］', '尔后', '呜', '突然', '可能', '顷', '末##末', '从小', '隔夜', '从古到今', '越是', '必定', '别管', '直接', '中小', '截至', '齐', '尽', '大体上', '分期', '顺着', '大不了', '到了儿', '不够', '即或', '［③ａ］', '”', '抑或', '作为', '整个', '以上', '方', '莫若', '人', '＝″', '得天独厚', '$', '切勿', '）、', '从重', '任何', '５', '～±', '更为', '保持', '［⑨］', '都', '内', '其次', '从无到有', '余外', '却不', '匆匆', '独', '之类', '乌乎', '乒', '特点', '起', '不尽然', '无宁', '对方', '朝', '以故', '比及', '反过来', '同', '除此之外', '://', '也罢', '｝', '2', '这麽', '最大', '饱', '纯', '［①ｄ］', '纯粹', '年复一年', '光是', '且', '明确', '分别', '本人', '极力', '你是', '後来', '谁人', '至今', '特殊', '7', '譬喻', '大举', '〔', '纵令', '他们', '大批', '｝＞', '.数', '按说', '换句话说', '更进一步', '为什么', '尤其', '＜＜', '为此', '他是', '［①⑤］', '之后', '具有', '为了', '怎样', '}', '不得', '不如', '较之', '不能', '经过', '［⑦］', '′∈', 'γ', '何以', '哪年', '［③①］', '成为', '呸', '较为', '已经', '高兴', '避免', '岂止', '极为', '曾经', '对应', '基于', '您', '每个', '故', '长线', '呜呼', '简言之', '莫', '嘿', '哉', '怎么样', '趁势', '这一来', '他的', '不经意', '满', 'Ⅲ', '平素', '′｜', '单纯', '一起', '上升', '认识', '不得了', '迫于', '如', '开始', '显然', '4', '可', '打从', '两者', '不是', '亦', '元／吨', '决不', '这里', '论说', '由此', '若夫', '及', '［⑤ｂ］', '不管', '虽然', '者', '不巧', '⑧', '甚或', '前面', '不止', '为', '要不', '凡是', '不曾', '非但', '其二', '还是', '上述', '猛然间', '呼哧', '而况', '要不是', '所', '宁愿', '不同', '向着', '大凡', '［④ｅ］', '不成', '说明', '～＋', '㈧', '＠', '除外', '〕〔', '甚且', '不胜', '何苦', '谁知', '最近', '挨门挨户', '从今以后', '顿时', '行动', '正如', '因', '于', '尽可能', '取得', '反手', '然而', '这次', '〕', '万一', '那些', '缕缕', '哪些', '+', '反过来说', '不力', '率尔', '移动', '故此', '得', '眨眼', '穷年累月', '一则通过', '吓', '偶而', '抽冷子', '一切', '】', '能够', '当下', '从此以后', ';', '无法', '必要', '等等', '代替', '不得已', '果真', '从严', '前此', '去', '即刻', '就地', '实现', '致', '犹自', '惯常', '－', '６', '＋ξ', '使用', '范围', '之', '从轻', '这么', '嘛', '一时', '立即', '连日', '既往', '［①ａ］', '理该', '着呢', '唯有', 'ＬＩ', '本身', '咱', '→', '赖以', '各级', '左右', '正值', '［①⑥］', '呕', '急匆匆', '出于', '并排', '｜', '得起', '反之则', '个人', '或则', '按理', '倘然', '哩', '一方面', '并不', '理当', '伟大', '设使', '先后', '喀', '叮咚', '倘使', '大', '要不然', '主要', '等', '［②②］', '快', '使得', '此次', '要求', '可见', '当时', '望', '获得', '日臻', '归根结底', '无论', '鉴于', 'ｎｇ昉', '当', '省得', '一则', '￥', '一直', '乘虚', '③', '孰料', '下面', '相应', '并没有', '下来', '哇', '本着', '比如', '处理', '忽地', '〉', '纵使', '累年', '大抵', '那么些', '不得不', '极大', '切', '［②ｉ］', '该', '庶几', '引起', '尽早', '随时', '::', '何止', '另方面', '出', '喽', '上去', '具体说来', '不怕', '防止', '多多', '难说', '我们', '路经', '难得', '不但', '绝对', '般的', '~~~~', '战斗', '看看', '联系', '＆', '别处', '它们的', '［－', '不然的话', '绝顶', '就是说', '其实', '据称', '需要', '②ｃ', '不拘', '大面儿上', '牢牢', '自身', '连', '这般', '…', '每时每刻', '他人', '真是', '豁然', '尽心尽力', '连同', '毋宁', '．', '由此可见', '动辄', '前进', '合理', '≈', '略为', '有力', '维持', '大多', '趁早', '快要', '到底', '格外', '然后', '喔唷', '这么些', '待到', '加上', '问题', '要是', '（', '切切', '［⑤ｆ］', '切莫', '顷刻之间', '轰然', '被', '朝着', '。', '无', '现在', '=', '一致', 'sup', '能', '难道说', '决定', '如此等等', '最好', '起见', '开外', '周围', '嘘', '吧', '敢情', '彻底', '因此', '弹指之间', '3', '［②Ｂ］', '接著', '［③ｄ］', '一.', '千万千万', '刚巧', '趁', '第', '巴', '４', '公然', '才', 'ｂ］', '·', '总之', '下列', '比方', '＋', '总的来说', '必须', '—', '贼死', '至于', '以及', '呀', '几', '毫无保留地', '重要', '［①Ｃ］', '这点', '曾', '八', '挨家挨户', '”，', '不下', ',', '［①ｈ］', '５：０', '她们', '嗳', '嘿嘿', '不可', '例如', '鄙人', '哦', '［⑤ｅ］', '［⑧］', '二话不说', '从来', '而又', '碰巧', '如前所述', '２', '如常', '注意', '、', 'ｃ］', '这么点儿', '啊', '来看', '漫说', '［①ｅ］', '半', '从早到晚', '当场', '种', '然後', '正是', '替代', '全然', '颇', '不少', '您是', '达旦', '非特', '即便', '忽然', '［①④］', '共', '差不多', '有著', '倒是', '‘', '当儿', '极了', '充分', '吧哒', '并没', '近几年来', '其它', '那末', '仍然', '产生', '虽说', '转变', '把', '［', '不仅仅', '借', '梆', '既然', '反倒', '哎呀', '℃', '一边', '反之', '带', '据此', '临', '充其量', '不然', '不至于', '于是乎', '有关', '容易', '仅仅', '可好', '常言说', '暗自', '具体地说', '于是', '双方', '哪边', '１．', '\"', '臭', '很', '上面', '还有', '部分', '再其次', '有的是', '＄', '加以', '尔尔', '能否', '得了', '凑巧', '@', '云尔', '单', '＇', '.', '那', '我', '再者', '随', '不变', '是以', '及时', '一天', '则', '继而', '再者说', '其中', '均', '9', '相反', '除去', '如果', '几番', '反而', '陈年', '即令', '话说', '前后', '安全', '会', '昂然', '什么样', '举凡', '些', '一番', '趁机', '［②Ｇ］', '六', '下去', '不满', '多多少少', '意思', '起头', '最高', '［①ｉ］', '倘', '＜', '这个', '明显', '挨门逐户', '［③ｇ］', '强调', '奋勇', '或曰', '亲手', '』', '挨着', '它们', '分期分批', '［③ｅ］', '别的', '日渐', '［④ａ］', '反倒是', '应当', '不怎么', '不可开交', '说说', '愤然', '根据', '当真', '过去', '哪样', '从不', '#', '［①Ｄ］', '［①Ａ］', '宣布', '共同', '共总', '甚而', '看上去', '8', '背靠背', '照', '凭', '虽则', '＃', '或', '进去', '相对而言', '何尝', '毫无例外', '１', '对', '立地', '有点', '设若', '为主', '将', '人人', '各位', '只当', '慢说', '不可抗拒', '尽如人意', '罢了', '来不及', '假如', '哈', '几度', '嘎', '③］', '取道', \"'\", '赶', '好在', '也是', '当着', '∈［', '使', '方面', '［②ｆ］', '可以', '］∧′＝［', '借以', '到处', '与其说', '哪个', '人家', '处处', '何况', '啊呀', '常常', '千', '小', '按期', '看到', '独自', '以前', '儿', '日见', '或多或少', '届时', '皆可', '始而', '不断', '一何', '再', '不再', '大致', '形成', '此后', '纵', '方便', '上', '转贴', '进行', '大力', '［②', '企图', '有着', '非独', '啊哟', '要么', '存心', '不妨', '此中', '见', '必', '呐', '何须', '尔', '假使', '九', '［②⑧］', '诚如', '暗地里', '密切', '当庭', '／', '亲口', '↑', '巩固', '决非', '不会', '咚', '首先', '偏偏', '［②ｃ］', '吱', '如何', '本地', '强烈', '类如', '各种', '这时', '像', '此外', '比', '没有', '满足', '另', '彼', '下', '用来', '该当', '［②④', '上下', '凭借', '巨大', '三', '据实', '不由得', '况且', './', '不足', '②', '⑤', '不敢', '敢于', '最後', '不料', '不仅...而且', '到头来', '全体', '又及', '适应', '重大', '帮助', '就是了', '［②ａ］', '依照', '加强', '过于', '呗', '顷刻', '即使', '连声', '④', '继续', '够瞧的', '策略地', '才能', '以至', '5', '自家', '前者', '怎麽', '不常', '常言道', '并无', '促进', '今後', '离', '大事', '掌握', '［④］', '这儿', '以为', '－［＊］－', '而外', '权时', '从优', '照着', '没', '继之', '［①⑦］', '向', '的', '要', '巴巴', '必然', '［②①］', '完全', '怎么办', '不止一次', '原来', '传闻', '甚么', '凝神', '’‘', '心里', '恐怕', '以便', '得出', '动不动', '其一', '哗啦', '到头', '便于', '不迭', '...................', '紧接着', '将要', '迟早', '陡然', '亲眼', '焉', '［②ｇ］', '看', '自打', '岂非', '再说', '毫不', '如上', '率然', '连袂', '行为', '阿', '一旦', '比如说', '给', '喏', '——', '谁', '完成', '＞', '一定', '似乎', '除了', '咱们', '进入', '［①Ｂ］', '更', '为着', '结果', '不亦乐乎', '充其极', '恰逢', '经常', '［①ｏ］', '进而', '乘胜', '任务', '偶尔', '*', '扑通', '全面', '恰巧', '那里', '固', '比照', '谨', '为什麽', '普通', '正巧', '社会主义', '隔日', '啦', '全力', '尽管', '［］', '您们', '在于', '^', '顺', '乃至于', '一转眼', '彻夜', '顶多', '不限', '沿', '嗬', '各自', '不对', '大大', '即将', '七', '不定', '替', '所在', '就此', '伙同', '已', '接连不断', '不独', '联袂', '屡屡', '别', '［⑤］', 'ｆ］', '矣乎', '今', '长话短说', '矣', '立', '己', '老大', '［②ｅ］', '在下', '依', '除却', '常言说得好', '加入', '长此下去', '大略', '极', '坚决', '以来', '兮', '它的', '成年累月', '以后', '适用', '所有', '又', '不起', '一般', '举行', '日益', '［④ｄ］', '具体来说', '一片', '以', '恍然', '不仅仅是', '不过', '绝', '＜Δ', '其', '打', 'В', '多数', '＜φ', '每', '屡次三番', '而已', '起先', '却', '只消', '将才', '各', '来', '大概', '咦', '一来', '略', '诚然', '出去', '来讲', '其余', '介于', '另一方面', '重新', '看起来', '不论', '∪φ∈', '暗中', '开展', '组成', '顷刻间', '什麽', '二', '它', '甚至于', '另外', '呵呵', '用', '相似', '>', '与此同时', '接着', '今后', '如若', '默然', '相信', '这样', '倘或', '分头', '多年来', '还', '依靠', '不已', '......', '×', '概', '某', '之所以', '了', '立马', '恰如', '表明', '有利', '依据', '故意', '个别', '［⑤ｄ］', '据说', '老是', '总而言之', '７', 'sub', '若非', '遵循', '间或', '＝－', '几乎', '－β', '１２％', '叮当', '人民', '变成', '除开', '＞λ', '兼之', '每年', '比较', '沙沙', '尽管如此', '少数', '风雨无阻', '迄', '【', 'ｅ］', '，', '按', '若是', '上来', '那麽', '不惟', '不若', '串行', '怪不得', '“', '一次', '所幸', '叫', '各人', '嗯', '>>', '近', '~', '说来', '同一', '只有', '蛮', '近来', '良好', '具体', '好象', '几经', '宁', '突出', '］', '全都', '方能', '数/', '旁人', '＝☆', '哪里', '若果', '＜±', '广大', '哪怕', '断然', '非徒', '［⑤］］', '严重', '过来', '云云', '归', '」', '自个儿', '放量', '&', '尽心竭力', '据我所知', '`', '同时', '逐渐', '呃', '往', '按照', '先生', '从', '屡', '进步', '里面', ']', '不择手段', '们', '应该', '砰', '大都', '后来', '而后', '［④ｃ］', '交口', '时候', '竟然', '到目前为止', '川流不息', '不必', '略加', '有所', '［①⑨］', '是', '否则', '此地', '许多', '适当', '后者', '基本上', '多年前', '恰似', '有些', '後面', 'φ．', '有时', '之後', '随着', '犹且', '⑩', '有', '相对', '８', '也好', '而是', '一下', '当然', '本', '以期', '勃然', '多次', '而论', '不但...而且', '属于', '除非', '正常', '普遍', '你', '加之', '特别是', '造成', '尽快', '背地里', '日复一日', '不知不觉', '规定', '［③］', '刚', '’', '欢迎', '从速', '|', '刚好', '如期', '咳', '［②⑦］', '则甚', '高低', '挨个', '纵然', '［①⑧］', '理应', '活', '他', '积极', '尚且', '窃', '若', '这边', '通过', '丰富', '多多益善', '嗡嗡', '的确', '以外', '仍', '诸位', '与其', '不了', '而言', '一个', '截然', '甫', '传', '汝', '［①］', '但凡', '但', '.日', '绝非', '还要', 'ＺＸＦＩＴＬ', '藉以', '虽', '但是', '［①①］', '［②⑩］', '这', '全部', '她是', '很少', '看出', '如下', '既是', '(', '不单', '某个', '边', '如此', '一面', '［③ｈ］', '即是说', '哪', '不问', '没奈何', '相等', '［②］', '除此以外', '结合', '莫非', '中间', '借此', '除', '［②ｈ］', '绝不', '我是', '第二', '白白', '以後', '咧', '就要', '９', '出现', '八成', '遭到', '先後', '甚至', 'Ψ', '她的', '就算', '＝｛', '跟', '呢', '人们', '自各儿', '哈哈', '继后', '从此', '坚持', '构成', '五', '别是', '并非', '由于', '极其', '觉得', '⑦', '如其', '目前', '大体', '来说', '而且', '[', '［⑥］', '与', '你的', '精光', '不能不', '专门', '难怪', '毫无', '０', '就是', '另悉', '嘎嘎', '...', '①', '再有', '沿着', '傥然', '哎', '后', '挨次', '主张', '除此', '从古至今', '你们', 'Ａ', '来着', '］［', '哪天', ':', '几时', '吗', '由', '恰好', '着', '必将', '２．３％', '从新', '大家', '既...又', '总是', '＝（', '如次', '宁肯', '因着', '乘', '惟其', '趁便', '有及', '..'}\n"
     ]
    }
   ],
   "source": [
    "print(nlp.Defaults.stop_words)"
   ]
  },
  {
   "cell_type": "code",
   "execution_count": 23,
   "metadata": {},
   "outputs": [],
   "source": [
    "text3 = \"跨年玩很大\"\n",
    "doc3 = nlp(text3)"
   ]
  },
  {
   "cell_type": "code",
   "execution_count": 24,
   "metadata": {},
   "outputs": [
    {
     "data": {
      "text/html": [
       "<span class=\"tex2jax_ignore\"><svg xmlns=\"http://www.w3.org/2000/svg\" xmlns:xlink=\"http://www.w3.org/1999/xlink\" xml:lang=\"zh\" id=\"d164e8dda6e14f8eb2969cd4fcde1b2e-0\" class=\"displacy\" width=\"750\" height=\"312.0\" direction=\"ltr\" style=\"max-width: none; height: 312.0px; color: #000000; background: #ffffff; font-family: Arial; direction: ltr\">\n",
       "<text class=\"displacy-token\" fill=\"currentColor\" text-anchor=\"middle\" y=\"222.0\">\n",
       "    <tspan class=\"displacy-word\" fill=\"currentColor\" x=\"50\">跨年</tspan>\n",
       "    <tspan class=\"displacy-tag\" dy=\"2em\" fill=\"currentColor\" x=\"50\">VERB</tspan>\n",
       "</text>\n",
       "\n",
       "<text class=\"displacy-token\" fill=\"currentColor\" text-anchor=\"middle\" y=\"222.0\">\n",
       "    <tspan class=\"displacy-word\" fill=\"currentColor\" x=\"225\">玩</tspan>\n",
       "    <tspan class=\"displacy-tag\" dy=\"2em\" fill=\"currentColor\" x=\"225\">VERB</tspan>\n",
       "</text>\n",
       "\n",
       "<text class=\"displacy-token\" fill=\"currentColor\" text-anchor=\"middle\" y=\"222.0\">\n",
       "    <tspan class=\"displacy-word\" fill=\"currentColor\" x=\"400\">很</tspan>\n",
       "    <tspan class=\"displacy-tag\" dy=\"2em\" fill=\"currentColor\" x=\"400\">ADV</tspan>\n",
       "</text>\n",
       "\n",
       "<text class=\"displacy-token\" fill=\"currentColor\" text-anchor=\"middle\" y=\"222.0\">\n",
       "    <tspan class=\"displacy-word\" fill=\"currentColor\" x=\"575\">大</tspan>\n",
       "    <tspan class=\"displacy-tag\" dy=\"2em\" fill=\"currentColor\" x=\"575\">VERB</tspan>\n",
       "</text>\n",
       "\n",
       "<g class=\"displacy-arrow\">\n",
       "    <path class=\"displacy-arc\" id=\"arrow-d164e8dda6e14f8eb2969cd4fcde1b2e-0-0\" stroke-width=\"2px\" d=\"M70,177.0 C70,89.5 220.0,89.5 220.0,177.0\" fill=\"none\" stroke=\"currentColor\"/>\n",
       "    <text dy=\"1.25em\" style=\"font-size: 0.8em; letter-spacing: 1px\">\n",
       "        <textPath xlink:href=\"#arrow-d164e8dda6e14f8eb2969cd4fcde1b2e-0-0\" class=\"displacy-label\" startOffset=\"50%\" side=\"left\" fill=\"currentColor\" text-anchor=\"middle\">advmod</textPath>\n",
       "    </text>\n",
       "    <path class=\"displacy-arrowhead\" d=\"M70,179.0 L62,167.0 78,167.0\" fill=\"currentColor\"/>\n",
       "</g>\n",
       "\n",
       "<g class=\"displacy-arrow\">\n",
       "    <path class=\"displacy-arc\" id=\"arrow-d164e8dda6e14f8eb2969cd4fcde1b2e-0-1\" stroke-width=\"2px\" d=\"M245,177.0 C245,2.0 575.0,2.0 575.0,177.0\" fill=\"none\" stroke=\"currentColor\"/>\n",
       "    <text dy=\"1.25em\" style=\"font-size: 0.8em; letter-spacing: 1px\">\n",
       "        <textPath xlink:href=\"#arrow-d164e8dda6e14f8eb2969cd4fcde1b2e-0-1\" class=\"displacy-label\" startOffset=\"50%\" side=\"left\" fill=\"currentColor\" text-anchor=\"middle\">dep</textPath>\n",
       "    </text>\n",
       "    <path class=\"displacy-arrowhead\" d=\"M245,179.0 L237,167.0 253,167.0\" fill=\"currentColor\"/>\n",
       "</g>\n",
       "\n",
       "<g class=\"displacy-arrow\">\n",
       "    <path class=\"displacy-arc\" id=\"arrow-d164e8dda6e14f8eb2969cd4fcde1b2e-0-2\" stroke-width=\"2px\" d=\"M420,177.0 C420,89.5 570.0,89.5 570.0,177.0\" fill=\"none\" stroke=\"currentColor\"/>\n",
       "    <text dy=\"1.25em\" style=\"font-size: 0.8em; letter-spacing: 1px\">\n",
       "        <textPath xlink:href=\"#arrow-d164e8dda6e14f8eb2969cd4fcde1b2e-0-2\" class=\"displacy-label\" startOffset=\"50%\" side=\"left\" fill=\"currentColor\" text-anchor=\"middle\">advmod</textPath>\n",
       "    </text>\n",
       "    <path class=\"displacy-arrowhead\" d=\"M420,179.0 L412,167.0 428,167.0\" fill=\"currentColor\"/>\n",
       "</g>\n",
       "</svg></span>"
      ],
      "text/plain": [
       "<IPython.core.display.HTML object>"
      ]
     },
     "metadata": {},
     "output_type": "display_data"
    }
   ],
   "source": [
    "displacy.render(doc3)"
   ]
  },
  {
   "cell_type": "code",
   "execution_count": null,
   "metadata": {},
   "outputs": [],
   "source": []
  }
 ],
 "metadata": {
  "kernelspec": {
   "display_name": "Python 3",
   "language": "python",
   "name": "python3"
  },
  "language_info": {
   "codemirror_mode": {
    "name": "ipython",
    "version": 3
   },
   "file_extension": ".py",
   "mimetype": "text/x-python",
   "name": "python",
   "nbconvert_exporter": "python",
   "pygments_lexer": "ipython3",
   "version": "3.7.6"
  }
 },
 "nbformat": 4,
 "nbformat_minor": 4
}
