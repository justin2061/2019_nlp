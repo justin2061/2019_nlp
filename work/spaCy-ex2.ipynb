{
 "cells": [
  {
   "cell_type": "markdown",
   "metadata": {},
   "source": [
    "## Install spaCy"
   ]
  },
  {
   "cell_type": "code",
   "execution_count": 1,
   "metadata": {
    "scrolled": true,
    "tags": []
   },
   "outputs": [
    {
     "name": "stdout",
     "output_type": "stream",
     "text": [
      "Collecting spacy\n",
      "  Downloading spacy-3.4.3-cp39-cp39-manylinux_2_17_x86_64.manylinux2014_x86_64.whl (6.5 MB)\n",
      "\u001b[2K     \u001b[90m━━━━━━━━━━━━━━━━━━━━━━━━━━━━━━━━━━━━━━━━\u001b[0m \u001b[32m6.5/6.5 MB\u001b[0m \u001b[31m1.8 MB/s\u001b[0m eta \u001b[36m0:00:00\u001b[0m00:01\u001b[0m00:01\u001b[0m0m\n",
      "\u001b[?25hCollecting pydantic!=1.8,!=1.8.1,<1.11.0,>=1.7.4\n",
      "  Downloading pydantic-1.10.2-cp39-cp39-manylinux_2_17_x86_64.manylinux2014_x86_64.whl (13.2 MB)\n",
      "\u001b[2K     \u001b[90m━━━━━━━━━━━━━━━━━━━━━━━━━━━━━━━━━━━━━━━━\u001b[0m \u001b[32m13.2/13.2 MB\u001b[0m \u001b[31m6.9 MB/s\u001b[0m eta \u001b[36m0:00:00\u001b[0m00:01\u001b[0m00:01\u001b[0m\n",
      "\u001b[?25hCollecting spacy-loggers<2.0.0,>=1.0.0\n",
      "  Downloading spacy_loggers-1.0.3-py3-none-any.whl (9.3 kB)\n",
      "Collecting thinc<8.2.0,>=8.1.0\n",
      "  Downloading thinc-8.1.5-cp39-cp39-manylinux_2_17_x86_64.manylinux2014_x86_64.whl (815 kB)\n",
      "\u001b[2K     \u001b[90m━━━━━━━━━━━━━━━━━━━━━━━━━━━━━━━━━━━━━━━\u001b[0m \u001b[32m815.9/815.9 KB\u001b[0m \u001b[31m6.6 MB/s\u001b[0m eta \u001b[36m0:00:00\u001b[0ma \u001b[36m0:00:01\u001b[0m\n",
      "\u001b[?25hRequirement already satisfied: requests<3.0.0,>=2.13.0 in /opt/conda/lib/python3.9/site-packages (from spacy) (2.27.1)\n",
      "Collecting murmurhash<1.1.0,>=0.28.0\n",
      "  Downloading murmurhash-1.0.9-cp39-cp39-manylinux_2_5_x86_64.manylinux1_x86_64.manylinux_2_17_x86_64.manylinux2014_x86_64.whl (21 kB)\n",
      "Collecting langcodes<4.0.0,>=3.2.0\n",
      "  Downloading langcodes-3.3.0-py3-none-any.whl (181 kB)\n",
      "\u001b[2K     \u001b[90m━━━━━━━━━━━━━━━━━━━━━━━━━━━━━━━━━━━━━━━\u001b[0m \u001b[32m181.6/181.6 KB\u001b[0m \u001b[31m4.3 MB/s\u001b[0m eta \u001b[36m0:00:00\u001b[0ma \u001b[36m0:00:01\u001b[0m\n",
      "\u001b[?25hRequirement already satisfied: packaging>=20.0 in /opt/conda/lib/python3.9/site-packages (from spacy) (21.3)\n",
      "Requirement already satisfied: setuptools in /opt/conda/lib/python3.9/site-packages (from spacy) (59.8.0)\n",
      "Collecting preshed<3.1.0,>=3.0.2\n",
      "  Downloading preshed-3.0.8-cp39-cp39-manylinux_2_5_x86_64.manylinux1_x86_64.manylinux_2_17_x86_64.manylinux2014_x86_64.whl (128 kB)\n",
      "\u001b[2K     \u001b[90m━━━━━━━━━━━━━━━━━━━━━━━━━━━━━━━━━━━━━━━\u001b[0m \u001b[32m128.7/128.7 KB\u001b[0m \u001b[31m2.2 MB/s\u001b[0m eta \u001b[36m0:00:00\u001b[0ma \u001b[36m0:00:01\u001b[0m\n",
      "\u001b[?25hCollecting pathy>=0.3.5\n",
      "  Downloading pathy-0.8.1-py3-none-any.whl (46 kB)\n",
      "\u001b[2K     \u001b[90m━━━━━━━━━━━━━━━━━━━━━━━━━━━━━━━━━━━━━━━━\u001b[0m \u001b[32m46.4/46.4 KB\u001b[0m \u001b[31m11.2 MB/s\u001b[0m eta \u001b[36m0:00:00\u001b[0m\n",
      "\u001b[?25hCollecting cymem<2.1.0,>=2.0.2\n",
      "  Downloading cymem-2.0.7-cp39-cp39-manylinux_2_17_x86_64.manylinux2014_x86_64.whl (35 kB)\n",
      "Collecting catalogue<2.1.0,>=2.0.6\n",
      "  Downloading catalogue-2.0.8-py3-none-any.whl (17 kB)\n",
      "Requirement already satisfied: tqdm<5.0.0,>=4.38.0 in /opt/conda/lib/python3.9/site-packages (from spacy) (4.63.0)\n",
      "Requirement already satisfied: jinja2 in /opt/conda/lib/python3.9/site-packages (from spacy) (3.0.3)\n",
      "Collecting srsly<3.0.0,>=2.4.3\n",
      "  Downloading srsly-2.4.5-cp39-cp39-manylinux_2_17_x86_64.manylinux2014_x86_64.whl (490 kB)\n",
      "\u001b[2K     \u001b[90m━━━━━━━━━━━━━━━━━━━━━━━━━━━━━━━━━━━━━━━\u001b[0m \u001b[32m490.7/490.7 KB\u001b[0m \u001b[31m7.4 MB/s\u001b[0m eta \u001b[36m0:00:00\u001b[0ma \u001b[36m0:00:01\u001b[0m\n",
      "\u001b[?25hCollecting typer<0.8.0,>=0.3.0\n",
      "  Downloading typer-0.7.0-py3-none-any.whl (38 kB)\n",
      "Requirement already satisfied: numpy>=1.15.0 in /opt/conda/lib/python3.9/site-packages (from spacy) (1.19.5)\n",
      "Collecting wasabi<1.1.0,>=0.9.1\n",
      "  Downloading wasabi-0.10.1-py3-none-any.whl (26 kB)\n",
      "Collecting spacy-legacy<3.1.0,>=3.0.10\n",
      "  Downloading spacy_legacy-3.0.10-py2.py3-none-any.whl (21 kB)\n",
      "Requirement already satisfied: pyparsing!=3.0.5,>=2.0.2 in /opt/conda/lib/python3.9/site-packages (from packaging>=20.0->spacy) (3.0.7)\n",
      "Collecting smart-open<6.0.0,>=5.2.1\n",
      "  Downloading smart_open-5.2.1-py3-none-any.whl (58 kB)\n",
      "\u001b[2K     \u001b[90m━━━━━━━━━━━━━━━━━━━━━━━━━━━━━━━━━━━━━━━━\u001b[0m \u001b[32m58.6/58.6 KB\u001b[0m \u001b[31m13.5 MB/s\u001b[0m eta \u001b[36m0:00:00\u001b[0m\n",
      "\u001b[?25hCollecting typing-extensions>=4.1.0\n",
      "  Downloading typing_extensions-4.4.0-py3-none-any.whl (26 kB)\n",
      "Requirement already satisfied: urllib3<1.27,>=1.21.1 in /opt/conda/lib/python3.9/site-packages (from requests<3.0.0,>=2.13.0->spacy) (1.26.8)\n",
      "Requirement already satisfied: idna<4,>=2.5 in /opt/conda/lib/python3.9/site-packages (from requests<3.0.0,>=2.13.0->spacy) (3.3)\n",
      "Requirement already satisfied: certifi>=2017.4.17 in /opt/conda/lib/python3.9/site-packages (from requests<3.0.0,>=2.13.0->spacy) (2021.10.8)\n",
      "Requirement already satisfied: charset-normalizer~=2.0.0 in /opt/conda/lib/python3.9/site-packages (from requests<3.0.0,>=2.13.0->spacy) (2.0.12)\n",
      "Collecting blis<0.8.0,>=0.7.8\n",
      "  Downloading blis-0.7.9-cp39-cp39-manylinux_2_17_x86_64.manylinux2014_x86_64.whl (10.2 MB)\n",
      "\u001b[2K     \u001b[90m━━━━━━━━━━━━━━━━━━━━━━━━━━━━━━━━━━━━━━━━\u001b[0m \u001b[32m10.2/10.2 MB\u001b[0m \u001b[31m7.4 MB/s\u001b[0m eta \u001b[36m0:00:00\u001b[0m00:01\u001b[0m0:01\u001b[0mm\n",
      "\u001b[?25hCollecting confection<1.0.0,>=0.0.1\n",
      "  Downloading confection-0.0.3-py3-none-any.whl (32 kB)\n",
      "Requirement already satisfied: click<9.0.0,>=7.1.1 in /opt/conda/lib/python3.9/site-packages (from typer<0.8.0,>=0.3.0->spacy) (8.0.4)\n",
      "Requirement already satisfied: MarkupSafe>=2.0 in /opt/conda/lib/python3.9/site-packages (from jinja2->spacy) (2.1.0)\n",
      "Installing collected packages: wasabi, cymem, typing-extensions, typer, spacy-loggers, spacy-legacy, smart-open, murmurhash, langcodes, catalogue, blis, srsly, pydantic, preshed, pathy, confection, thinc, spacy\n",
      "  Attempting uninstall: typing-extensions\n",
      "    Found existing installation: typing-extensions 3.7.4.3\n",
      "    Uninstalling typing-extensions-3.7.4.3:\n",
      "      Successfully uninstalled typing-extensions-3.7.4.3\n",
      "  Attempting uninstall: smart-open\n",
      "    Found existing installation: smart-open 6.1.0\n",
      "    Uninstalling smart-open-6.1.0:\n",
      "      Successfully uninstalled smart-open-6.1.0\n",
      "\u001b[31mERROR: pip's dependency resolver does not currently take into account all the packages that are installed. This behaviour is the source of the following dependency conflicts.\n",
      "tensorflow 2.6.2 requires typing-extensions~=3.7.4, but you have typing-extensions 4.4.0 which is incompatible.\u001b[0m\u001b[31m\n",
      "\u001b[0mSuccessfully installed blis-0.7.9 catalogue-2.0.8 confection-0.0.3 cymem-2.0.7 langcodes-3.3.0 murmurhash-1.0.9 pathy-0.8.1 preshed-3.0.8 pydantic-1.10.2 smart-open-5.2.1 spacy-3.4.3 spacy-legacy-3.0.10 spacy-loggers-1.0.3 srsly-2.4.5 thinc-8.1.5 typer-0.7.0 typing-extensions-4.4.0 wasabi-0.10.1\n"
     ]
    }
   ],
   "source": [
    "!pip install -U spacy"
   ]
  },
  {
   "cell_type": "code",
   "execution_count": 2,
   "metadata": {},
   "outputs": [
    {
     "name": "stdout",
     "output_type": "stream",
     "text": [
      "Collecting spacy-lookups-data\n",
      "  Downloading spacy_lookups_data-1.0.3-py2.py3-none-any.whl (98.5 MB)\n",
      "\u001b[2K     \u001b[90m━━━━━━━━━━━━━━━━━━━━━━━━━━━━━━━━━━━━━━━\u001b[0m \u001b[32m98.5/98.5 MB\u001b[0m \u001b[31m796.6 kB/s\u001b[0m eta \u001b[36m0:00:00\u001b[0m00:01\u001b[0m00:01\u001b[0m\n",
      "\u001b[?25hRequirement already satisfied: setuptools in /opt/conda/lib/python3.9/site-packages (from spacy-lookups-data) (59.8.0)\n",
      "Installing collected packages: spacy-lookups-data\n",
      "Successfully installed spacy-lookups-data-1.0.3\n"
     ]
    }
   ],
   "source": [
    "!pip install -U spacy-lookups-data"
   ]
  },
  {
   "cell_type": "code",
   "execution_count": 3,
   "metadata": {
    "scrolled": true,
    "tags": []
   },
   "outputs": [
    {
     "name": "stdout",
     "output_type": "stream",
     "text": [
      "2022-11-18 19:18:38.455858: W tensorflow/stream_executor/platform/default/dso_loader.cc:64] Could not load dynamic library 'libcuda.so.1'; dlerror: libcuda.so.1: cannot open shared object file: No such file or directory\n",
      "2022-11-18 19:18:38.455926: W tensorflow/stream_executor/cuda/cuda_driver.cc:269] failed call to cuInit: UNKNOWN ERROR (303)\n",
      "2022-11-18 19:18:38.455952: I tensorflow/stream_executor/cuda/cuda_diagnostics.cc:156] kernel driver does not appear to be running on this host (jupyter): /proc/driver/nvidia/version does not exist\n",
      "Collecting zh-core-web-sm==3.4.0\n",
      "  Downloading https://github.com/explosion/spacy-models/releases/download/zh_core_web_sm-3.4.0/zh_core_web_sm-3.4.0-py3-none-any.whl (48.4 MB)\n",
      "\u001b[2K     \u001b[90m━━━━━━━━━━━━━━━━━━━━━━━━━━━━━━━━━━━━━━━\u001b[0m \u001b[32m48.4/48.4 MB\u001b[0m \u001b[31m438.8 kB/s\u001b[0m eta \u001b[36m0:00:00\u001b[0m0:01\u001b[0m00:02\u001b[0mm\n",
      "\u001b[?25hCollecting spacy-pkuseg<0.1.0,>=0.0.27\n",
      "  Downloading spacy_pkuseg-0.0.32-cp39-cp39-manylinux_2_17_x86_64.manylinux2014_x86_64.whl (2.4 MB)\n",
      "\u001b[2K     \u001b[90m━━━━━━━━━━━━━━━━━━━━━━━━━━━━━━━━━━━━━━━━\u001b[0m \u001b[32m2.4/2.4 MB\u001b[0m \u001b[31m2.6 MB/s\u001b[0m eta \u001b[36m0:00:00\u001b[0ma \u001b[36m0:00:01\u001b[0m0m\n",
      "\u001b[?25hRequirement already satisfied: spacy<3.5.0,>=3.4.0 in /opt/conda/lib/python3.9/site-packages (from zh-core-web-sm==3.4.0) (3.4.3)\n",
      "Requirement already satisfied: numpy>=1.15.0 in /opt/conda/lib/python3.9/site-packages (from spacy<3.5.0,>=3.4.0->zh-core-web-sm==3.4.0) (1.19.5)\n",
      "Requirement already satisfied: setuptools in /opt/conda/lib/python3.9/site-packages (from spacy<3.5.0,>=3.4.0->zh-core-web-sm==3.4.0) (59.8.0)\n",
      "Requirement already satisfied: cymem<2.1.0,>=2.0.2 in /opt/conda/lib/python3.9/site-packages (from spacy<3.5.0,>=3.4.0->zh-core-web-sm==3.4.0) (2.0.7)\n",
      "Requirement already satisfied: preshed<3.1.0,>=3.0.2 in /opt/conda/lib/python3.9/site-packages (from spacy<3.5.0,>=3.4.0->zh-core-web-sm==3.4.0) (3.0.8)\n",
      "Requirement already satisfied: packaging>=20.0 in /opt/conda/lib/python3.9/site-packages (from spacy<3.5.0,>=3.4.0->zh-core-web-sm==3.4.0) (21.3)\n",
      "Requirement already satisfied: langcodes<4.0.0,>=3.2.0 in /opt/conda/lib/python3.9/site-packages (from spacy<3.5.0,>=3.4.0->zh-core-web-sm==3.4.0) (3.3.0)\n",
      "Requirement already satisfied: requests<3.0.0,>=2.13.0 in /opt/conda/lib/python3.9/site-packages (from spacy<3.5.0,>=3.4.0->zh-core-web-sm==3.4.0) (2.27.1)\n",
      "Requirement already satisfied: spacy-loggers<2.0.0,>=1.0.0 in /opt/conda/lib/python3.9/site-packages (from spacy<3.5.0,>=3.4.0->zh-core-web-sm==3.4.0) (1.0.3)\n",
      "Requirement already satisfied: jinja2 in /opt/conda/lib/python3.9/site-packages (from spacy<3.5.0,>=3.4.0->zh-core-web-sm==3.4.0) (3.0.3)\n",
      "Requirement already satisfied: catalogue<2.1.0,>=2.0.6 in /opt/conda/lib/python3.9/site-packages (from spacy<3.5.0,>=3.4.0->zh-core-web-sm==3.4.0) (2.0.8)\n",
      "Requirement already satisfied: tqdm<5.0.0,>=4.38.0 in /opt/conda/lib/python3.9/site-packages (from spacy<3.5.0,>=3.4.0->zh-core-web-sm==3.4.0) (4.63.0)\n",
      "Requirement already satisfied: wasabi<1.1.0,>=0.9.1 in /opt/conda/lib/python3.9/site-packages (from spacy<3.5.0,>=3.4.0->zh-core-web-sm==3.4.0) (0.10.1)\n",
      "Requirement already satisfied: thinc<8.2.0,>=8.1.0 in /opt/conda/lib/python3.9/site-packages (from spacy<3.5.0,>=3.4.0->zh-core-web-sm==3.4.0) (8.1.5)\n",
      "Requirement already satisfied: srsly<3.0.0,>=2.4.3 in /opt/conda/lib/python3.9/site-packages (from spacy<3.5.0,>=3.4.0->zh-core-web-sm==3.4.0) (2.4.5)\n",
      "Requirement already satisfied: murmurhash<1.1.0,>=0.28.0 in /opt/conda/lib/python3.9/site-packages (from spacy<3.5.0,>=3.4.0->zh-core-web-sm==3.4.0) (1.0.9)\n",
      "Requirement already satisfied: pathy>=0.3.5 in /opt/conda/lib/python3.9/site-packages (from spacy<3.5.0,>=3.4.0->zh-core-web-sm==3.4.0) (0.8.1)\n",
      "Requirement already satisfied: typer<0.8.0,>=0.3.0 in /opt/conda/lib/python3.9/site-packages (from spacy<3.5.0,>=3.4.0->zh-core-web-sm==3.4.0) (0.7.0)\n",
      "Requirement already satisfied: pydantic!=1.8,!=1.8.1,<1.11.0,>=1.7.4 in /opt/conda/lib/python3.9/site-packages (from spacy<3.5.0,>=3.4.0->zh-core-web-sm==3.4.0) (1.10.2)\n",
      "Requirement already satisfied: spacy-legacy<3.1.0,>=3.0.10 in /opt/conda/lib/python3.9/site-packages (from spacy<3.5.0,>=3.4.0->zh-core-web-sm==3.4.0) (3.0.10)\n",
      "Requirement already satisfied: pyparsing!=3.0.5,>=2.0.2 in /opt/conda/lib/python3.9/site-packages (from packaging>=20.0->spacy<3.5.0,>=3.4.0->zh-core-web-sm==3.4.0) (3.0.7)\n",
      "Requirement already satisfied: smart-open<6.0.0,>=5.2.1 in /opt/conda/lib/python3.9/site-packages (from pathy>=0.3.5->spacy<3.5.0,>=3.4.0->zh-core-web-sm==3.4.0) (5.2.1)\n",
      "Requirement already satisfied: typing-extensions>=4.1.0 in /opt/conda/lib/python3.9/site-packages (from pydantic!=1.8,!=1.8.1,<1.11.0,>=1.7.4->spacy<3.5.0,>=3.4.0->zh-core-web-sm==3.4.0) (4.4.0)\n",
      "Requirement already satisfied: charset-normalizer~=2.0.0 in /opt/conda/lib/python3.9/site-packages (from requests<3.0.0,>=2.13.0->spacy<3.5.0,>=3.4.0->zh-core-web-sm==3.4.0) (2.0.12)\n",
      "Requirement already satisfied: idna<4,>=2.5 in /opt/conda/lib/python3.9/site-packages (from requests<3.0.0,>=2.13.0->spacy<3.5.0,>=3.4.0->zh-core-web-sm==3.4.0) (3.3)\n",
      "Requirement already satisfied: urllib3<1.27,>=1.21.1 in /opt/conda/lib/python3.9/site-packages (from requests<3.0.0,>=2.13.0->spacy<3.5.0,>=3.4.0->zh-core-web-sm==3.4.0) (1.26.8)\n",
      "Requirement already satisfied: certifi>=2017.4.17 in /opt/conda/lib/python3.9/site-packages (from requests<3.0.0,>=2.13.0->spacy<3.5.0,>=3.4.0->zh-core-web-sm==3.4.0) (2021.10.8)\n",
      "Requirement already satisfied: confection<1.0.0,>=0.0.1 in /opt/conda/lib/python3.9/site-packages (from thinc<8.2.0,>=8.1.0->spacy<3.5.0,>=3.4.0->zh-core-web-sm==3.4.0) (0.0.3)\n",
      "Requirement already satisfied: blis<0.8.0,>=0.7.8 in /opt/conda/lib/python3.9/site-packages (from thinc<8.2.0,>=8.1.0->spacy<3.5.0,>=3.4.0->zh-core-web-sm==3.4.0) (0.7.9)\n",
      "Requirement already satisfied: click<9.0.0,>=7.1.1 in /opt/conda/lib/python3.9/site-packages (from typer<0.8.0,>=0.3.0->spacy<3.5.0,>=3.4.0->zh-core-web-sm==3.4.0) (8.0.4)\n",
      "Requirement already satisfied: MarkupSafe>=2.0 in /opt/conda/lib/python3.9/site-packages (from jinja2->spacy<3.5.0,>=3.4.0->zh-core-web-sm==3.4.0) (2.1.0)\n",
      "Installing collected packages: spacy-pkuseg, zh-core-web-sm\n",
      "Successfully installed spacy-pkuseg-0.0.32 zh-core-web-sm-3.4.0\n",
      "\u001b[38;5;2m✔ Download and installation successful\u001b[0m\n",
      "You can now load the package via spacy.load('zh_core_web_sm')\n"
     ]
    }
   ],
   "source": [
    "!python -m spacy download zh_core_web_sm"
   ]
  },
  {
   "cell_type": "markdown",
   "metadata": {},
   "source": [
    "### Part-of-speech tagging"
   ]
  },
  {
   "cell_type": "code",
   "execution_count": 4,
   "metadata": {},
   "outputs": [
    {
     "name": "stderr",
     "output_type": "stream",
     "text": [
      "2022-11-18 19:19:30.293138: W tensorflow/stream_executor/platform/default/dso_loader.cc:64] Could not load dynamic library 'libcuda.so.1'; dlerror: libcuda.so.1: cannot open shared object file: No such file or directory\n",
      "2022-11-18 19:19:30.293181: W tensorflow/stream_executor/cuda/cuda_driver.cc:269] failed call to cuInit: UNKNOWN ERROR (303)\n",
      "2022-11-18 19:19:30.293197: I tensorflow/stream_executor/cuda/cuda_diagnostics.cc:156] kernel driver does not appear to be running on this host (jupyter): /proc/driver/nvidia/version does not exist\n"
     ]
    }
   ],
   "source": [
    "import spacy\n",
    "#my_text = \"今年夏天礁溪老爺酒店設計了一系列精彩活動，除了大獲好評的夏日探險季闖關活動，為了吸引民眾振興旅遊市場，更攜手MINI打造夏日暢遊主題房，不但享房型升等「洋式蘭陽平原景觀套房」，入住可免費試駕MINI CooperCountryman運動休旅，預訂平日當季尊榮三天兩夜專案，加購第三晚只需紙本振興三倍券3000元就能再住一晚。\"\n",
    "my_text = \"三倍券還可以買公益彩券及買黃金，業者也會推出相關的優惠活動。\""
   ]
  },
  {
   "cell_type": "code",
   "execution_count": 5,
   "metadata": {},
   "outputs": [],
   "source": [
    "import zh_core_web_sm\n",
    "nlp = zh_core_web_sm.load()"
   ]
  },
  {
   "cell_type": "code",
   "execution_count": 6,
   "metadata": {},
   "outputs": [
    {
     "data": {
      "text/plain": [
       "三倍券還可以買公益彩券及買黃金，業者也會推出相關的優惠活動。"
      ]
     },
     "execution_count": 6,
     "metadata": {},
     "output_type": "execute_result"
    }
   ],
   "source": [
    "#nlp = spacy.load(\"zh_core_web_sm\")\n",
    "doc = nlp(my_text)\n",
    "doc"
   ]
  },
  {
   "cell_type": "code",
   "execution_count": 7,
   "metadata": {
    "scrolled": true
   },
   "outputs": [
    {
     "name": "stdout",
     "output_type": "stream",
     "text": [
      "三\n",
      "倍\n",
      "券還\n",
      "可以\n",
      "買\n",
      "公益\n",
      "彩券\n",
      "及\n",
      "買黃金\n",
      "，\n",
      "業者\n",
      "也\n",
      "會\n",
      "推出\n",
      "相關\n",
      "的\n",
      "優惠\n",
      "活動\n",
      "。\n"
     ]
    }
   ],
   "source": [
    "for token in doc:\n",
    "    print(token.text)"
   ]
  },
  {
   "cell_type": "code",
   "execution_count": 8,
   "metadata": {},
   "outputs": [
    {
     "name": "stdout",
     "output_type": "stream",
     "text": [
      "三  NUM CD nummod x True True\n",
      "倍  NUM M mark:clf x True False\n",
      "券還  NOUN NN nsubj xx True False\n",
      "可以  VERB VV aux:modal xx True True\n",
      "買  VERB VV dep x True False\n",
      "公益  NOUN NN compound:nn xx True False\n",
      "彩券  NOUN NN conj xx True False\n",
      "及  CCONJ CC cc x True True\n",
      "買黃金  NOUN NN dobj xxx True False\n",
      "，  PUNCT PU punct ， False True\n",
      "業者  NOUN NN nsubj xx True False\n",
      "也  ADV AD advmod x True True\n",
      "會  ADV AD advmod x True False\n",
      "推出  VERB VV ROOT xx True False\n",
      "相關  VERB VV acl xx True False\n",
      "的  PART DEC mark x True True\n",
      "優惠  NOUN NN compound:nn xx True False\n",
      "活動  NOUN NN dobj xx True False\n",
      "。  PUNCT PU punct 。 False True\n"
     ]
    }
   ],
   "source": [
    "for token in doc:\n",
    "    print(token.text, token.lemma_, token.pos_, token.tag_, token.dep_, token.shape_, token.is_alpha, token.is_stop)"
   ]
  },
  {
   "cell_type": "markdown",
   "metadata": {},
   "source": [
    "### 視覺化句子中文字的相依"
   ]
  },
  {
   "cell_type": "code",
   "execution_count": 9,
   "metadata": {},
   "outputs": [],
   "source": [
    "from spacy import displacy"
   ]
  },
  {
   "cell_type": "code",
   "execution_count": 10,
   "metadata": {},
   "outputs": [
    {
     "data": {
      "text/html": [
       "<span class=\"tex2jax_ignore\"><svg xmlns=\"http://www.w3.org/2000/svg\" xmlns:xlink=\"http://www.w3.org/1999/xlink\" xml:lang=\"zh\" id=\"a1af35b84fb340be8dcc4e8fd1ddbbaf-0\" class=\"displacy\" width=\"3025\" height=\"574.5\" direction=\"ltr\" style=\"max-width: none; height: 574.5px; color: #000000; background: #ffffff; font-family: Arial; direction: ltr\">\n",
       "<text class=\"displacy-token\" fill=\"currentColor\" text-anchor=\"middle\" y=\"484.5\">\n",
       "    <tspan class=\"displacy-word\" fill=\"currentColor\" x=\"50\">三</tspan>\n",
       "    <tspan class=\"displacy-tag\" dy=\"2em\" fill=\"currentColor\" x=\"50\">NUM</tspan>\n",
       "</text>\n",
       "\n",
       "<text class=\"displacy-token\" fill=\"currentColor\" text-anchor=\"middle\" y=\"484.5\">\n",
       "    <tspan class=\"displacy-word\" fill=\"currentColor\" x=\"225\">倍</tspan>\n",
       "    <tspan class=\"displacy-tag\" dy=\"2em\" fill=\"currentColor\" x=\"225\">NUM</tspan>\n",
       "</text>\n",
       "\n",
       "<text class=\"displacy-token\" fill=\"currentColor\" text-anchor=\"middle\" y=\"484.5\">\n",
       "    <tspan class=\"displacy-word\" fill=\"currentColor\" x=\"400\">券還</tspan>\n",
       "    <tspan class=\"displacy-tag\" dy=\"2em\" fill=\"currentColor\" x=\"400\">NOUN</tspan>\n",
       "</text>\n",
       "\n",
       "<text class=\"displacy-token\" fill=\"currentColor\" text-anchor=\"middle\" y=\"484.5\">\n",
       "    <tspan class=\"displacy-word\" fill=\"currentColor\" x=\"575\">可以</tspan>\n",
       "    <tspan class=\"displacy-tag\" dy=\"2em\" fill=\"currentColor\" x=\"575\">VERB</tspan>\n",
       "</text>\n",
       "\n",
       "<text class=\"displacy-token\" fill=\"currentColor\" text-anchor=\"middle\" y=\"484.5\">\n",
       "    <tspan class=\"displacy-word\" fill=\"currentColor\" x=\"750\">買</tspan>\n",
       "    <tspan class=\"displacy-tag\" dy=\"2em\" fill=\"currentColor\" x=\"750\">VERB</tspan>\n",
       "</text>\n",
       "\n",
       "<text class=\"displacy-token\" fill=\"currentColor\" text-anchor=\"middle\" y=\"484.5\">\n",
       "    <tspan class=\"displacy-word\" fill=\"currentColor\" x=\"925\">公益</tspan>\n",
       "    <tspan class=\"displacy-tag\" dy=\"2em\" fill=\"currentColor\" x=\"925\">NOUN</tspan>\n",
       "</text>\n",
       "\n",
       "<text class=\"displacy-token\" fill=\"currentColor\" text-anchor=\"middle\" y=\"484.5\">\n",
       "    <tspan class=\"displacy-word\" fill=\"currentColor\" x=\"1100\">彩券</tspan>\n",
       "    <tspan class=\"displacy-tag\" dy=\"2em\" fill=\"currentColor\" x=\"1100\">NOUN</tspan>\n",
       "</text>\n",
       "\n",
       "<text class=\"displacy-token\" fill=\"currentColor\" text-anchor=\"middle\" y=\"484.5\">\n",
       "    <tspan class=\"displacy-word\" fill=\"currentColor\" x=\"1275\">及</tspan>\n",
       "    <tspan class=\"displacy-tag\" dy=\"2em\" fill=\"currentColor\" x=\"1275\">CCONJ</tspan>\n",
       "</text>\n",
       "\n",
       "<text class=\"displacy-token\" fill=\"currentColor\" text-anchor=\"middle\" y=\"484.5\">\n",
       "    <tspan class=\"displacy-word\" fill=\"currentColor\" x=\"1450\">買黃金，</tspan>\n",
       "    <tspan class=\"displacy-tag\" dy=\"2em\" fill=\"currentColor\" x=\"1450\">NOUN</tspan>\n",
       "</text>\n",
       "\n",
       "<text class=\"displacy-token\" fill=\"currentColor\" text-anchor=\"middle\" y=\"484.5\">\n",
       "    <tspan class=\"displacy-word\" fill=\"currentColor\" x=\"1625\">業者</tspan>\n",
       "    <tspan class=\"displacy-tag\" dy=\"2em\" fill=\"currentColor\" x=\"1625\">NOUN</tspan>\n",
       "</text>\n",
       "\n",
       "<text class=\"displacy-token\" fill=\"currentColor\" text-anchor=\"middle\" y=\"484.5\">\n",
       "    <tspan class=\"displacy-word\" fill=\"currentColor\" x=\"1800\">也</tspan>\n",
       "    <tspan class=\"displacy-tag\" dy=\"2em\" fill=\"currentColor\" x=\"1800\">ADV</tspan>\n",
       "</text>\n",
       "\n",
       "<text class=\"displacy-token\" fill=\"currentColor\" text-anchor=\"middle\" y=\"484.5\">\n",
       "    <tspan class=\"displacy-word\" fill=\"currentColor\" x=\"1975\">會</tspan>\n",
       "    <tspan class=\"displacy-tag\" dy=\"2em\" fill=\"currentColor\" x=\"1975\">ADV</tspan>\n",
       "</text>\n",
       "\n",
       "<text class=\"displacy-token\" fill=\"currentColor\" text-anchor=\"middle\" y=\"484.5\">\n",
       "    <tspan class=\"displacy-word\" fill=\"currentColor\" x=\"2150\">推出</tspan>\n",
       "    <tspan class=\"displacy-tag\" dy=\"2em\" fill=\"currentColor\" x=\"2150\">VERB</tspan>\n",
       "</text>\n",
       "\n",
       "<text class=\"displacy-token\" fill=\"currentColor\" text-anchor=\"middle\" y=\"484.5\">\n",
       "    <tspan class=\"displacy-word\" fill=\"currentColor\" x=\"2325\">相關</tspan>\n",
       "    <tspan class=\"displacy-tag\" dy=\"2em\" fill=\"currentColor\" x=\"2325\">VERB</tspan>\n",
       "</text>\n",
       "\n",
       "<text class=\"displacy-token\" fill=\"currentColor\" text-anchor=\"middle\" y=\"484.5\">\n",
       "    <tspan class=\"displacy-word\" fill=\"currentColor\" x=\"2500\">的</tspan>\n",
       "    <tspan class=\"displacy-tag\" dy=\"2em\" fill=\"currentColor\" x=\"2500\">PART</tspan>\n",
       "</text>\n",
       "\n",
       "<text class=\"displacy-token\" fill=\"currentColor\" text-anchor=\"middle\" y=\"484.5\">\n",
       "    <tspan class=\"displacy-word\" fill=\"currentColor\" x=\"2675\">優惠</tspan>\n",
       "    <tspan class=\"displacy-tag\" dy=\"2em\" fill=\"currentColor\" x=\"2675\">NOUN</tspan>\n",
       "</text>\n",
       "\n",
       "<text class=\"displacy-token\" fill=\"currentColor\" text-anchor=\"middle\" y=\"484.5\">\n",
       "    <tspan class=\"displacy-word\" fill=\"currentColor\" x=\"2850\">活動。</tspan>\n",
       "    <tspan class=\"displacy-tag\" dy=\"2em\" fill=\"currentColor\" x=\"2850\">NOUN</tspan>\n",
       "</text>\n",
       "\n",
       "<g class=\"displacy-arrow\">\n",
       "    <path class=\"displacy-arc\" id=\"arrow-a1af35b84fb340be8dcc4e8fd1ddbbaf-0-0\" stroke-width=\"2px\" d=\"M70,439.5 C70,264.5 385.0,264.5 385.0,439.5\" fill=\"none\" stroke=\"currentColor\"/>\n",
       "    <text dy=\"1.25em\" style=\"font-size: 0.8em; letter-spacing: 1px\">\n",
       "        <textPath xlink:href=\"#arrow-a1af35b84fb340be8dcc4e8fd1ddbbaf-0-0\" class=\"displacy-label\" startOffset=\"50%\" side=\"left\" fill=\"currentColor\" text-anchor=\"middle\">nummod</textPath>\n",
       "    </text>\n",
       "    <path class=\"displacy-arrowhead\" d=\"M70,441.5 L62,429.5 78,429.5\" fill=\"currentColor\"/>\n",
       "</g>\n",
       "\n",
       "<g class=\"displacy-arrow\">\n",
       "    <path class=\"displacy-arc\" id=\"arrow-a1af35b84fb340be8dcc4e8fd1ddbbaf-0-1\" stroke-width=\"2px\" d=\"M70,439.5 C70,352.0 205.0,352.0 205.0,439.5\" fill=\"none\" stroke=\"currentColor\"/>\n",
       "    <text dy=\"1.25em\" style=\"font-size: 0.8em; letter-spacing: 1px\">\n",
       "        <textPath xlink:href=\"#arrow-a1af35b84fb340be8dcc4e8fd1ddbbaf-0-1\" class=\"displacy-label\" startOffset=\"50%\" side=\"left\" fill=\"currentColor\" text-anchor=\"middle\">mark:clf</textPath>\n",
       "    </text>\n",
       "    <path class=\"displacy-arrowhead\" d=\"M205.0,441.5 L213.0,429.5 197.0,429.5\" fill=\"currentColor\"/>\n",
       "</g>\n",
       "\n",
       "<g class=\"displacy-arrow\">\n",
       "    <path class=\"displacy-arc\" id=\"arrow-a1af35b84fb340be8dcc4e8fd1ddbbaf-0-2\" stroke-width=\"2px\" d=\"M420,439.5 C420,264.5 735.0,264.5 735.0,439.5\" fill=\"none\" stroke=\"currentColor\"/>\n",
       "    <text dy=\"1.25em\" style=\"font-size: 0.8em; letter-spacing: 1px\">\n",
       "        <textPath xlink:href=\"#arrow-a1af35b84fb340be8dcc4e8fd1ddbbaf-0-2\" class=\"displacy-label\" startOffset=\"50%\" side=\"left\" fill=\"currentColor\" text-anchor=\"middle\">nsubj</textPath>\n",
       "    </text>\n",
       "    <path class=\"displacy-arrowhead\" d=\"M420,441.5 L412,429.5 428,429.5\" fill=\"currentColor\"/>\n",
       "</g>\n",
       "\n",
       "<g class=\"displacy-arrow\">\n",
       "    <path class=\"displacy-arc\" id=\"arrow-a1af35b84fb340be8dcc4e8fd1ddbbaf-0-3\" stroke-width=\"2px\" d=\"M595,439.5 C595,352.0 730.0,352.0 730.0,439.5\" fill=\"none\" stroke=\"currentColor\"/>\n",
       "    <text dy=\"1.25em\" style=\"font-size: 0.8em; letter-spacing: 1px\">\n",
       "        <textPath xlink:href=\"#arrow-a1af35b84fb340be8dcc4e8fd1ddbbaf-0-3\" class=\"displacy-label\" startOffset=\"50%\" side=\"left\" fill=\"currentColor\" text-anchor=\"middle\">aux:modal</textPath>\n",
       "    </text>\n",
       "    <path class=\"displacy-arrowhead\" d=\"M595,441.5 L587,429.5 603,429.5\" fill=\"currentColor\"/>\n",
       "</g>\n",
       "\n",
       "<g class=\"displacy-arrow\">\n",
       "    <path class=\"displacy-arc\" id=\"arrow-a1af35b84fb340be8dcc4e8fd1ddbbaf-0-4\" stroke-width=\"2px\" d=\"M770,439.5 C770,2.0 2150.0,2.0 2150.0,439.5\" fill=\"none\" stroke=\"currentColor\"/>\n",
       "    <text dy=\"1.25em\" style=\"font-size: 0.8em; letter-spacing: 1px\">\n",
       "        <textPath xlink:href=\"#arrow-a1af35b84fb340be8dcc4e8fd1ddbbaf-0-4\" class=\"displacy-label\" startOffset=\"50%\" side=\"left\" fill=\"currentColor\" text-anchor=\"middle\">dep</textPath>\n",
       "    </text>\n",
       "    <path class=\"displacy-arrowhead\" d=\"M770,441.5 L762,429.5 778,429.5\" fill=\"currentColor\"/>\n",
       "</g>\n",
       "\n",
       "<g class=\"displacy-arrow\">\n",
       "    <path class=\"displacy-arc\" id=\"arrow-a1af35b84fb340be8dcc4e8fd1ddbbaf-0-5\" stroke-width=\"2px\" d=\"M945,439.5 C945,177.0 1440.0,177.0 1440.0,439.5\" fill=\"none\" stroke=\"currentColor\"/>\n",
       "    <text dy=\"1.25em\" style=\"font-size: 0.8em; letter-spacing: 1px\">\n",
       "        <textPath xlink:href=\"#arrow-a1af35b84fb340be8dcc4e8fd1ddbbaf-0-5\" class=\"displacy-label\" startOffset=\"50%\" side=\"left\" fill=\"currentColor\" text-anchor=\"middle\">compound:nn</textPath>\n",
       "    </text>\n",
       "    <path class=\"displacy-arrowhead\" d=\"M945,441.5 L937,429.5 953,429.5\" fill=\"currentColor\"/>\n",
       "</g>\n",
       "\n",
       "<g class=\"displacy-arrow\">\n",
       "    <path class=\"displacy-arc\" id=\"arrow-a1af35b84fb340be8dcc4e8fd1ddbbaf-0-6\" stroke-width=\"2px\" d=\"M1120,439.5 C1120,264.5 1435.0,264.5 1435.0,439.5\" fill=\"none\" stroke=\"currentColor\"/>\n",
       "    <text dy=\"1.25em\" style=\"font-size: 0.8em; letter-spacing: 1px\">\n",
       "        <textPath xlink:href=\"#arrow-a1af35b84fb340be8dcc4e8fd1ddbbaf-0-6\" class=\"displacy-label\" startOffset=\"50%\" side=\"left\" fill=\"currentColor\" text-anchor=\"middle\">conj</textPath>\n",
       "    </text>\n",
       "    <path class=\"displacy-arrowhead\" d=\"M1120,441.5 L1112,429.5 1128,429.5\" fill=\"currentColor\"/>\n",
       "</g>\n",
       "\n",
       "<g class=\"displacy-arrow\">\n",
       "    <path class=\"displacy-arc\" id=\"arrow-a1af35b84fb340be8dcc4e8fd1ddbbaf-0-7\" stroke-width=\"2px\" d=\"M1295,439.5 C1295,352.0 1430.0,352.0 1430.0,439.5\" fill=\"none\" stroke=\"currentColor\"/>\n",
       "    <text dy=\"1.25em\" style=\"font-size: 0.8em; letter-spacing: 1px\">\n",
       "        <textPath xlink:href=\"#arrow-a1af35b84fb340be8dcc4e8fd1ddbbaf-0-7\" class=\"displacy-label\" startOffset=\"50%\" side=\"left\" fill=\"currentColor\" text-anchor=\"middle\">cc</textPath>\n",
       "    </text>\n",
       "    <path class=\"displacy-arrowhead\" d=\"M1295,441.5 L1287,429.5 1303,429.5\" fill=\"currentColor\"/>\n",
       "</g>\n",
       "\n",
       "<g class=\"displacy-arrow\">\n",
       "    <path class=\"displacy-arc\" id=\"arrow-a1af35b84fb340be8dcc4e8fd1ddbbaf-0-8\" stroke-width=\"2px\" d=\"M770,439.5 C770,89.5 1445.0,89.5 1445.0,439.5\" fill=\"none\" stroke=\"currentColor\"/>\n",
       "    <text dy=\"1.25em\" style=\"font-size: 0.8em; letter-spacing: 1px\">\n",
       "        <textPath xlink:href=\"#arrow-a1af35b84fb340be8dcc4e8fd1ddbbaf-0-8\" class=\"displacy-label\" startOffset=\"50%\" side=\"left\" fill=\"currentColor\" text-anchor=\"middle\">dobj</textPath>\n",
       "    </text>\n",
       "    <path class=\"displacy-arrowhead\" d=\"M1445.0,441.5 L1453.0,429.5 1437.0,429.5\" fill=\"currentColor\"/>\n",
       "</g>\n",
       "\n",
       "<g class=\"displacy-arrow\">\n",
       "    <path class=\"displacy-arc\" id=\"arrow-a1af35b84fb340be8dcc4e8fd1ddbbaf-0-9\" stroke-width=\"2px\" d=\"M1645,439.5 C1645,177.0 2140.0,177.0 2140.0,439.5\" fill=\"none\" stroke=\"currentColor\"/>\n",
       "    <text dy=\"1.25em\" style=\"font-size: 0.8em; letter-spacing: 1px\">\n",
       "        <textPath xlink:href=\"#arrow-a1af35b84fb340be8dcc4e8fd1ddbbaf-0-9\" class=\"displacy-label\" startOffset=\"50%\" side=\"left\" fill=\"currentColor\" text-anchor=\"middle\">nsubj</textPath>\n",
       "    </text>\n",
       "    <path class=\"displacy-arrowhead\" d=\"M1645,441.5 L1637,429.5 1653,429.5\" fill=\"currentColor\"/>\n",
       "</g>\n",
       "\n",
       "<g class=\"displacy-arrow\">\n",
       "    <path class=\"displacy-arc\" id=\"arrow-a1af35b84fb340be8dcc4e8fd1ddbbaf-0-10\" stroke-width=\"2px\" d=\"M1820,439.5 C1820,264.5 2135.0,264.5 2135.0,439.5\" fill=\"none\" stroke=\"currentColor\"/>\n",
       "    <text dy=\"1.25em\" style=\"font-size: 0.8em; letter-spacing: 1px\">\n",
       "        <textPath xlink:href=\"#arrow-a1af35b84fb340be8dcc4e8fd1ddbbaf-0-10\" class=\"displacy-label\" startOffset=\"50%\" side=\"left\" fill=\"currentColor\" text-anchor=\"middle\">advmod</textPath>\n",
       "    </text>\n",
       "    <path class=\"displacy-arrowhead\" d=\"M1820,441.5 L1812,429.5 1828,429.5\" fill=\"currentColor\"/>\n",
       "</g>\n",
       "\n",
       "<g class=\"displacy-arrow\">\n",
       "    <path class=\"displacy-arc\" id=\"arrow-a1af35b84fb340be8dcc4e8fd1ddbbaf-0-11\" stroke-width=\"2px\" d=\"M1995,439.5 C1995,352.0 2130.0,352.0 2130.0,439.5\" fill=\"none\" stroke=\"currentColor\"/>\n",
       "    <text dy=\"1.25em\" style=\"font-size: 0.8em; letter-spacing: 1px\">\n",
       "        <textPath xlink:href=\"#arrow-a1af35b84fb340be8dcc4e8fd1ddbbaf-0-11\" class=\"displacy-label\" startOffset=\"50%\" side=\"left\" fill=\"currentColor\" text-anchor=\"middle\">advmod</textPath>\n",
       "    </text>\n",
       "    <path class=\"displacy-arrowhead\" d=\"M1995,441.5 L1987,429.5 2003,429.5\" fill=\"currentColor\"/>\n",
       "</g>\n",
       "\n",
       "<g class=\"displacy-arrow\">\n",
       "    <path class=\"displacy-arc\" id=\"arrow-a1af35b84fb340be8dcc4e8fd1ddbbaf-0-12\" stroke-width=\"2px\" d=\"M2345,439.5 C2345,264.5 2835.0,264.5 2835.0,439.5\" fill=\"none\" stroke=\"currentColor\"/>\n",
       "    <text dy=\"1.25em\" style=\"font-size: 0.8em; letter-spacing: 1px\">\n",
       "        <textPath xlink:href=\"#arrow-a1af35b84fb340be8dcc4e8fd1ddbbaf-0-12\" class=\"displacy-label\" startOffset=\"50%\" side=\"left\" fill=\"currentColor\" text-anchor=\"middle\">acl</textPath>\n",
       "    </text>\n",
       "    <path class=\"displacy-arrowhead\" d=\"M2345,441.5 L2337,429.5 2353,429.5\" fill=\"currentColor\"/>\n",
       "</g>\n",
       "\n",
       "<g class=\"displacy-arrow\">\n",
       "    <path class=\"displacy-arc\" id=\"arrow-a1af35b84fb340be8dcc4e8fd1ddbbaf-0-13\" stroke-width=\"2px\" d=\"M2345,439.5 C2345,352.0 2480.0,352.0 2480.0,439.5\" fill=\"none\" stroke=\"currentColor\"/>\n",
       "    <text dy=\"1.25em\" style=\"font-size: 0.8em; letter-spacing: 1px\">\n",
       "        <textPath xlink:href=\"#arrow-a1af35b84fb340be8dcc4e8fd1ddbbaf-0-13\" class=\"displacy-label\" startOffset=\"50%\" side=\"left\" fill=\"currentColor\" text-anchor=\"middle\">mark</textPath>\n",
       "    </text>\n",
       "    <path class=\"displacy-arrowhead\" d=\"M2480.0,441.5 L2488.0,429.5 2472.0,429.5\" fill=\"currentColor\"/>\n",
       "</g>\n",
       "\n",
       "<g class=\"displacy-arrow\">\n",
       "    <path class=\"displacy-arc\" id=\"arrow-a1af35b84fb340be8dcc4e8fd1ddbbaf-0-14\" stroke-width=\"2px\" d=\"M2695,439.5 C2695,352.0 2830.0,352.0 2830.0,439.5\" fill=\"none\" stroke=\"currentColor\"/>\n",
       "    <text dy=\"1.25em\" style=\"font-size: 0.8em; letter-spacing: 1px\">\n",
       "        <textPath xlink:href=\"#arrow-a1af35b84fb340be8dcc4e8fd1ddbbaf-0-14\" class=\"displacy-label\" startOffset=\"50%\" side=\"left\" fill=\"currentColor\" text-anchor=\"middle\">compound:nn</textPath>\n",
       "    </text>\n",
       "    <path class=\"displacy-arrowhead\" d=\"M2695,441.5 L2687,429.5 2703,429.5\" fill=\"currentColor\"/>\n",
       "</g>\n",
       "\n",
       "<g class=\"displacy-arrow\">\n",
       "    <path class=\"displacy-arc\" id=\"arrow-a1af35b84fb340be8dcc4e8fd1ddbbaf-0-15\" stroke-width=\"2px\" d=\"M2170,439.5 C2170,177.0 2840.0,177.0 2840.0,439.5\" fill=\"none\" stroke=\"currentColor\"/>\n",
       "    <text dy=\"1.25em\" style=\"font-size: 0.8em; letter-spacing: 1px\">\n",
       "        <textPath xlink:href=\"#arrow-a1af35b84fb340be8dcc4e8fd1ddbbaf-0-15\" class=\"displacy-label\" startOffset=\"50%\" side=\"left\" fill=\"currentColor\" text-anchor=\"middle\">dobj</textPath>\n",
       "    </text>\n",
       "    <path class=\"displacy-arrowhead\" d=\"M2840.0,441.5 L2848.0,429.5 2832.0,429.5\" fill=\"currentColor\"/>\n",
       "</g>\n",
       "</svg></span>"
      ],
      "text/plain": [
       "<IPython.core.display.HTML object>"
      ]
     },
     "metadata": {},
     "output_type": "display_data"
    }
   ],
   "source": [
    "#nlp = spacy.load(\"zh_core_web_sm\")\n",
    "nlp = zh_core_web_sm.load()\n",
    "doc = nlp(my_text)\n",
    "displacy.render(doc, style=\"dep\")"
   ]
  },
  {
   "cell_type": "markdown",
   "metadata": {},
   "source": [
    "### Dependency Parsing 相依"
   ]
  },
  {
   "cell_type": "code",
   "execution_count": 11,
   "metadata": {},
   "outputs": [],
   "source": [
    "#nlp = spacy.load(\"zh_core_web_sm\")\n",
    "nlp = zh_core_web_sm.load()\n",
    "doc = nlp(my_text)"
   ]
  },
  {
   "cell_type": "code",
   "execution_count": 12,
   "metadata": {},
   "outputs": [
    {
     "ename": "NotImplementedError",
     "evalue": "[E894] The 'noun_chunks' syntax iterator is not implemented for language 'zh'.",
     "output_type": "error",
     "traceback": [
      "\u001b[0;31m---------------------------------------------------------------------------\u001b[0m",
      "\u001b[0;31mNotImplementedError\u001b[0m                       Traceback (most recent call last)",
      "Input \u001b[0;32mIn [12]\u001b[0m, in \u001b[0;36m<cell line: 1>\u001b[0;34m()\u001b[0m\n\u001b[0;32m----> 1\u001b[0m \u001b[38;5;28;01mfor\u001b[39;00m chunk \u001b[38;5;129;01min\u001b[39;00m doc\u001b[38;5;241m.\u001b[39mnoun_chunks:\n\u001b[1;32m      2\u001b[0m     \u001b[38;5;28mprint\u001b[39m(chunk\u001b[38;5;241m.\u001b[39mtext, chunk\u001b[38;5;241m.\u001b[39mroot\u001b[38;5;241m.\u001b[39mtext, chunk\u001b[38;5;241m.\u001b[39mroot\u001b[38;5;241m.\u001b[39mdep_, chunk\u001b[38;5;241m.\u001b[39mroot\u001b[38;5;241m.\u001b[39mhead\u001b[38;5;241m.\u001b[39mtext)\n",
      "File \u001b[0;32m/opt/conda/lib/python3.9/site-packages/spacy/tokens/doc.pyx:867\u001b[0m, in \u001b[0;36mnoun_chunks\u001b[0;34m()\u001b[0m\n",
      "\u001b[0;31mNotImplementedError\u001b[0m: [E894] The 'noun_chunks' syntax iterator is not implemented for language 'zh'."
     ]
    }
   ],
   "source": [
    "for chunk in doc.noun_chunks:\n",
    "    print(chunk.text, chunk.root.text, chunk.root.dep_, chunk.root.head.text)"
   ]
  },
  {
   "cell_type": "markdown",
   "metadata": {},
   "source": [
    "### 實體命名辨識"
   ]
  },
  {
   "cell_type": "code",
   "execution_count": 13,
   "metadata": {},
   "outputs": [
    {
     "data": {
      "text/html": [
       "<span class=\"tex2jax_ignore\"><div class=\"entities\" style=\"line-height: 2.5; direction: ltr\">\n",
       "<mark class=\"entity\" style=\"background: #e4e7d2; padding: 0.45em 0.6em; margin: 0 0.25em; line-height: 1; border-radius: 0.35em;\">\n",
       "    三倍\n",
       "    <span style=\"font-size: 0.8em; font-weight: bold; line-height: 1; border-radius: 0.35em; vertical-align: middle; margin-left: 0.5rem\">CARDINAL</span>\n",
       "</mark>\n",
       "\n",
       "<mark class=\"entity\" style=\"background: #aa9cfc; padding: 0.45em 0.6em; margin: 0 0.25em; line-height: 1; border-radius: 0.35em;\">\n",
       "    券還\n",
       "    <span style=\"font-size: 0.8em; font-weight: bold; line-height: 1; border-radius: 0.35em; vertical-align: middle; margin-left: 0.5rem\">PERSON</span>\n",
       "</mark>\n",
       "可以買公益彩券及買黃金，業者也會推出相關的優惠活動。</div></span>"
      ],
      "text/plain": [
       "<IPython.core.display.HTML object>"
      ]
     },
     "metadata": {},
     "output_type": "display_data"
    }
   ],
   "source": [
    "displacy.render(doc, style=\"ent\")"
   ]
  },
  {
   "cell_type": "code",
   "execution_count": 14,
   "metadata": {},
   "outputs": [],
   "source": [
    "text2 = \"銀河系其實滿是外星人？NASA爆銀河奧秘：大多數都死了\"\n",
    "nlp = zh_core_web_sm.load()\n",
    "doc2 = nlp(text2)"
   ]
  },
  {
   "cell_type": "code",
   "execution_count": 15,
   "metadata": {},
   "outputs": [
    {
     "data": {
      "text/plain": [
       "array([ 0.6339514 , -0.51872414, -0.5653417 , -0.26700687,  0.42588463,\n",
       "       -0.51066   ,  0.8292608 ,  0.03255291,  0.32023877, -0.26439568,\n",
       "       -0.5674516 , -0.49172467, -0.0863568 , -0.5034628 , -0.19234611,\n",
       "        0.48244053,  0.92825377,  0.11889382,  0.38130668, -0.00186297,\n",
       "       -0.6718304 ,  0.01935476,  0.00907662, -0.5262381 ,  0.27913693,\n",
       "       -0.16783798,  0.14553338, -0.06019446,  0.02323562,  0.01424533,\n",
       "        0.03549191, -0.5571534 , -0.5947529 ,  0.3116014 , -0.73962826,\n",
       "        0.23463225,  0.35163242,  1.0376458 ,  0.5021697 , -0.18977684,\n",
       "       -0.5140689 , -0.4142892 , -0.23598135, -0.5462851 ,  0.48561305,\n",
       "        0.62225115, -0.19166039,  0.69543415,  0.70856845,  0.04701219,\n",
       "       -0.10275327, -0.42138416,  1.1355671 ,  0.6029179 , -0.45251936,\n",
       "        0.29704472,  0.5205971 , -0.05333252,  0.07150277, -0.14995633,\n",
       "       -0.151259  ,  0.10605454, -0.0472997 ,  0.5578042 , -0.03894498,\n",
       "       -0.63023794,  0.27869272,  0.2072783 , -0.45138758, -0.4114345 ,\n",
       "       -0.1202555 ,  0.6789579 ,  0.10667974, -0.9957201 ,  0.3232129 ,\n",
       "        0.73647755, -0.2890675 , -0.55599594,  0.07858706,  0.16729063,\n",
       "       -0.67508805, -0.12631929,  0.3005469 ,  0.00428961,  0.26600885,\n",
       "        0.2621987 , -0.5680767 ,  0.4613644 , -0.46785343, -0.00867686,\n",
       "       -0.52442634, -0.6947786 , -0.6083047 ,  0.6010171 , -0.15637372,\n",
       "        0.45432538], dtype=float32)"
      ]
     },
     "execution_count": 15,
     "metadata": {},
     "output_type": "execute_result"
    }
   ],
   "source": [
    "doc2.vector"
   ]
  },
  {
   "cell_type": "code",
   "execution_count": 16,
   "metadata": {},
   "outputs": [
    {
     "name": "stdout",
     "output_type": "stream",
     "text": [
      "銀河, NOUN\n",
      "系, NOUN\n",
      "其, PRON\n",
      "實滿, NOUN\n",
      "是, VERB\n",
      "外星人, NOUN\n",
      "？, PUNCT\n",
      "NASA, PROPN\n",
      "爆銀河, NOUN\n",
      "奧秘, VERB\n",
      "：, PUNCT\n",
      "大多, NUM\n",
      "數, NOUN\n",
      "都, ADV\n",
      "死, VERB\n",
      "了, PART\n"
     ]
    }
   ],
   "source": [
    "for token in doc2:\n",
    "    print('{}, {}'.format(token.text, token.pos_))"
   ]
  },
  {
   "cell_type": "code",
   "execution_count": 17,
   "metadata": {},
   "outputs": [
    {
     "name": "stdout",
     "output_type": "stream",
     "text": [
      "銀河\n",
      "系\n",
      "其\n",
      "實滿\n",
      "是\n",
      "外星人\n",
      "？\n",
      "NASA\n",
      "爆銀河\n",
      "奧秘\n",
      "：\n",
      "大多\n",
      "數\n",
      "都\n",
      "死\n",
      "了\n"
     ]
    }
   ],
   "source": [
    "for token in doc2:\n",
    "    print('{}'.format(token.text))"
   ]
  },
  {
   "cell_type": "code",
   "execution_count": 18,
   "metadata": {},
   "outputs": [
    {
     "name": "stderr",
     "output_type": "stream",
     "text": [
      "/tmp/ipykernel_859/1677657563.py:1: UserWarning: [W007] The model you're using has no word vectors loaded, so the result of the Doc.similarity method will be based on the tagger, parser and NER, which may not give useful similarity judgements. This may happen if you're using one of the small models, e.g. `en_core_web_sm`, which don't ship with word vectors and only use context-sensitive tensors. You can always add your own word vectors, or use one of the larger models instead if available.\n",
      "  doc2.similarity(doc)\n"
     ]
    },
    {
     "data": {
      "text/plain": [
       "0.48140300413627746"
      ]
     },
     "execution_count": 18,
     "metadata": {},
     "output_type": "execute_result"
    }
   ],
   "source": [
    "doc2.similarity(doc)"
   ]
  },
  {
   "cell_type": "code",
   "execution_count": 19,
   "metadata": {},
   "outputs": [
    {
     "data": {
      "text/plain": [
       "['…',\n",
       " '……',\n",
       " ',',\n",
       " ':',\n",
       " ';',\n",
       " '\\\\!',\n",
       " '\\\\?',\n",
       " '¿',\n",
       " '؟',\n",
       " '¡',\n",
       " '\\\\(',\n",
       " '\\\\)',\n",
       " '\\\\[',\n",
       " '\\\\]',\n",
       " '\\\\{',\n",
       " '\\\\}',\n",
       " '<',\n",
       " '>',\n",
       " '_',\n",
       " '#',\n",
       " '\\\\*',\n",
       " '&',\n",
       " '。',\n",
       " '？',\n",
       " '！',\n",
       " '，',\n",
       " '、',\n",
       " '；',\n",
       " '：',\n",
       " '～',\n",
       " '·',\n",
       " '।',\n",
       " '،',\n",
       " '۔',\n",
       " '؛',\n",
       " '٪',\n",
       " '\\\\.\\\\.+',\n",
       " '…',\n",
       " \"\\\\'\",\n",
       " '\"',\n",
       " '”',\n",
       " '“',\n",
       " '`',\n",
       " '‘',\n",
       " '´',\n",
       " '’',\n",
       " '‚',\n",
       " ',',\n",
       " '„',\n",
       " '»',\n",
       " '«',\n",
       " '「',\n",
       " '」',\n",
       " '『',\n",
       " '』',\n",
       " '（',\n",
       " '）',\n",
       " '〔',\n",
       " '〕',\n",
       " '【',\n",
       " '】',\n",
       " '《',\n",
       " '》',\n",
       " '〈',\n",
       " '〉',\n",
       " '[\\\\u00A6\\\\u00A9\\\\u00AE\\\\u00B0\\\\u0482\\\\u058D\\\\u058E\\\\u060E\\\\u060F\\\\u06DE\\\\u06E9\\\\u06FD\\\\u06FE\\\\u07F6\\\\u09FA\\\\u0B70\\\\u0BF3-\\\\u0BF8\\\\u0BFA\\\\u0C7F\\\\u0D4F\\\\u0D79\\\\u0F01-\\\\u0F03\\\\u0F13\\\\u0F15-\\\\u0F17\\\\u0F1A-\\\\u0F1F\\\\u0F34\\\\u0F36\\\\u0F38\\\\u0FBE-\\\\u0FC5\\\\u0FC7-\\\\u0FCC\\\\u0FCE\\\\u0FCF\\\\u0FD5-\\\\u0FD8\\\\u109E\\\\u109F\\\\u1390-\\\\u1399\\\\u1940\\\\u19DE-\\\\u19FF\\\\u1B61-\\\\u1B6A\\\\u1B74-\\\\u1B7C\\\\u2100\\\\u2101\\\\u2103-\\\\u2106\\\\u2108\\\\u2109\\\\u2114\\\\u2116\\\\u2117\\\\u211E-\\\\u2123\\\\u2125\\\\u2127\\\\u2129\\\\u212E\\\\u213A\\\\u213B\\\\u214A\\\\u214C\\\\u214D\\\\u214F\\\\u218A\\\\u218B\\\\u2195-\\\\u2199\\\\u219C-\\\\u219F\\\\u21A1\\\\u21A2\\\\u21A4\\\\u21A5\\\\u21A7-\\\\u21AD\\\\u21AF-\\\\u21CD\\\\u21D0\\\\u21D1\\\\u21D3\\\\u21D5-\\\\u21F3\\\\u2300-\\\\u2307\\\\u230C-\\\\u231F\\\\u2322-\\\\u2328\\\\u232B-\\\\u237B\\\\u237D-\\\\u239A\\\\u23B4-\\\\u23DB\\\\u23E2-\\\\u2426\\\\u2440-\\\\u244A\\\\u249C-\\\\u24E9\\\\u2500-\\\\u25B6\\\\u25B8-\\\\u25C0\\\\u25C2-\\\\u25F7\\\\u2600-\\\\u266E\\\\u2670-\\\\u2767\\\\u2794-\\\\u27BF\\\\u2800-\\\\u28FF\\\\u2B00-\\\\u2B2F\\\\u2B45\\\\u2B46\\\\u2B4D-\\\\u2B73\\\\u2B76-\\\\u2B95\\\\u2B98-\\\\u2BC8\\\\u2BCA-\\\\u2BFE\\\\u2CE5-\\\\u2CEA\\\\u2E80-\\\\u2E99\\\\u2E9B-\\\\u2EF3\\\\u2F00-\\\\u2FD5\\\\u2FF0-\\\\u2FFB\\\\u3004\\\\u3012\\\\u3013\\\\u3020\\\\u3036\\\\u3037\\\\u303E\\\\u303F\\\\u3190\\\\u3191\\\\u3196-\\\\u319F\\\\u31C0-\\\\u31E3\\\\u3200-\\\\u321E\\\\u322A-\\\\u3247\\\\u3250\\\\u3260-\\\\u327F\\\\u328A-\\\\u32B0\\\\u32C0-\\\\u32FE\\\\u3300-\\\\u33FF\\\\u4DC0-\\\\u4DFF\\\\uA490-\\\\uA4C6\\\\uA828-\\\\uA82B\\\\uA836\\\\uA837\\\\uA839\\\\uAA77-\\\\uAA79\\\\uFDFD\\\\uFFE4\\\\uFFE8\\\\uFFED\\\\uFFEE\\\\uFFFC\\\\uFFFD\\\\U00010137-\\\\U0001013F\\\\U00010179-\\\\U00010189\\\\U0001018C-\\\\U0001018E\\\\U00010190-\\\\U0001019B\\\\U000101A0\\\\U000101D0-\\\\U000101FC\\\\U00010877\\\\U00010878\\\\U00010AC8\\\\U0001173F\\\\U00016B3C-\\\\U00016B3F\\\\U00016B45\\\\U0001BC9C\\\\U0001D000-\\\\U0001D0F5\\\\U0001D100-\\\\U0001D126\\\\U0001D129-\\\\U0001D164\\\\U0001D16A-\\\\U0001D16C\\\\U0001D183\\\\U0001D184\\\\U0001D18C-\\\\U0001D1A9\\\\U0001D1AE-\\\\U0001D1E8\\\\U0001D200-\\\\U0001D241\\\\U0001D245\\\\U0001D300-\\\\U0001D356\\\\U0001D800-\\\\U0001D9FF\\\\U0001DA37-\\\\U0001DA3A\\\\U0001DA6D-\\\\U0001DA74\\\\U0001DA76-\\\\U0001DA83\\\\U0001DA85\\\\U0001DA86\\\\U0001ECAC\\\\U0001F000-\\\\U0001F02B\\\\U0001F030-\\\\U0001F093\\\\U0001F0A0-\\\\U0001F0AE\\\\U0001F0B1-\\\\U0001F0BF\\\\U0001F0C1-\\\\U0001F0CF\\\\U0001F0D1-\\\\U0001F0F5\\\\U0001F110-\\\\U0001F16B\\\\U0001F170-\\\\U0001F1AC\\\\U0001F1E6-\\\\U0001F202\\\\U0001F210-\\\\U0001F23B\\\\U0001F240-\\\\U0001F248\\\\U0001F250\\\\U0001F251\\\\U0001F260-\\\\U0001F265\\\\U0001F300-\\\\U0001F3FA\\\\U0001F400-\\\\U0001F6D4\\\\U0001F6E0-\\\\U0001F6EC\\\\U0001F6F0-\\\\U0001F6F9\\\\U0001F700-\\\\U0001F773\\\\U0001F780-\\\\U0001F7D8\\\\U0001F800-\\\\U0001F80B\\\\U0001F810-\\\\U0001F847\\\\U0001F850-\\\\U0001F859\\\\U0001F860-\\\\U0001F887\\\\U0001F890-\\\\U0001F8AD\\\\U0001F900-\\\\U0001F90B\\\\U0001F910-\\\\U0001F93E\\\\U0001F940-\\\\U0001F970\\\\U0001F973-\\\\U0001F976\\\\U0001F97A\\\\U0001F97C-\\\\U0001F9A2\\\\U0001F9B0-\\\\U0001F9B9\\\\U0001F9C0-\\\\U0001F9C2\\\\U0001F9D0-\\\\U0001F9FF\\\\U0001FA60-\\\\U0001FA6D]',\n",
       " \"'s\",\n",
       " \"'S\",\n",
       " '’s',\n",
       " '’S',\n",
       " '—',\n",
       " '–',\n",
       " '(?<=[0-9])\\\\+',\n",
       " '(?<=°[FfCcKk])\\\\.',\n",
       " '(?<=[0-9])(?:\\\\$|£|€|¥|฿|US\\\\$|C\\\\$|A\\\\$|₽|﷼|₴|₠|₡|₢|₣|₤|₥|₦|₧|₨|₩|₪|₫|€|₭|₮|₯|₰|₱|₲|₳|₴|₵|₶|₷|₸|₹|₺|₻|₼|₽|₾|₿)',\n",
       " '(?<=[0-9])(?:km|km²|km³|m|m²|m³|dm|dm²|dm³|cm|cm²|cm³|mm|mm²|mm³|ha|µm|nm|yd|in|ft|kg|g|mg|µg|t|lb|oz|m/s|km/h|kmh|mph|hPa|Pa|mbar|mb|MB|kb|KB|gb|GB|tb|TB|T|G|M|K|%|км|км²|км³|м|м²|м³|дм|дм²|дм³|см|см²|см³|мм|мм²|мм³|нм|кг|г|мг|м/с|км/ч|кПа|Па|мбар|Кб|КБ|кб|Мб|МБ|мб|Гб|ГБ|гб|Тб|ТБ|тбكم|كم²|كم³|م|م²|م³|سم|سم²|سم³|مم|مم²|مم³|كم|غرام|جرام|جم|كغ|ملغ|كوب|اكواب)',\n",
       " '(?<=[0-9a-z\\\\uFF41-\\\\uFF5A\\\\u00DF-\\\\u00F6\\\\u00F8-\\\\u00FF\\\\u0101\\\\u0103\\\\u0105\\\\u0107\\\\u0109\\\\u010B\\\\u010D\\\\u010F\\\\u0111\\\\u0113\\\\u0115\\\\u0117\\\\u0119\\\\u011B\\\\u011D\\\\u011F\\\\u0121\\\\u0123\\\\u0125\\\\u0127\\\\u0129\\\\u012B\\\\u012D\\\\u012F\\\\u0131\\\\u0133\\\\u0135\\\\u0137\\\\u0138\\\\u013A\\\\u013C\\\\u013E\\\\u0140\\\\u0142\\\\u0144\\\\u0146\\\\u0148\\\\u0149\\\\u014B\\\\u014D\\\\u014F\\\\u0151\\\\u0153\\\\u0155\\\\u0157\\\\u0159\\\\u015B\\\\u015D\\\\u015F\\\\u0161\\\\u0163\\\\u0165\\\\u0167\\\\u0169\\\\u016B\\\\u016D\\\\u016F\\\\u0171\\\\u0173\\\\u0175\\\\u0177\\\\u017A\\\\u017C\\\\u017E\\\\u017F\\\\u0180\\\\u0183\\\\u0185\\\\u0188\\\\u018C\\\\u018D\\\\u0192\\\\u0195\\\\u0199-\\\\u019B\\\\u019E\\\\u01A1\\\\u01A3\\\\u01A5\\\\u01A8\\\\u01AA\\\\u01AB\\\\u01AD\\\\u01B0\\\\u01B4\\\\u01B6\\\\u01B9\\\\u01BA\\\\u01BD-\\\\u01BF\\\\u01C6\\\\u01C9\\\\u01CC\\\\u01CE\\\\u01D0\\\\u01D2\\\\u01D4\\\\u01D6\\\\u01D8\\\\u01DA\\\\u01DC\\\\u01DD\\\\u01DF\\\\u01E1\\\\u01E3\\\\u01E5\\\\u01E7\\\\u01E9\\\\u01EB\\\\u01ED\\\\u01EF\\\\u01F0\\\\u01F3\\\\u01F5\\\\u01F9\\\\u01FB\\\\u01FD\\\\u01FF\\\\u0201\\\\u0203\\\\u0205\\\\u0207\\\\u0209\\\\u020B\\\\u020D\\\\u020F\\\\u0211\\\\u0213\\\\u0215\\\\u0217\\\\u0219\\\\u021B\\\\u021D\\\\u021F\\\\u0221\\\\u0223\\\\u0225\\\\u0227\\\\u0229\\\\u022B\\\\u022D\\\\u022F\\\\u0231\\\\u0233-\\\\u0239\\\\u023C\\\\u023F\\\\u0240\\\\u0242\\\\u0247\\\\u0249\\\\u024B\\\\u024D\\\\u024F\\\\u2C61\\\\u2C65\\\\u2C66\\\\u2C68\\\\u2C6A\\\\u2C6C\\\\u2C71\\\\u2C73\\\\u2C74\\\\u2C76-\\\\u2C7B\\\\uA723\\\\uA725\\\\uA727\\\\uA729\\\\uA72B\\\\uA72D\\\\uA72F-\\\\uA731\\\\uA733\\\\uA735\\\\uA737\\\\uA739\\\\uA73B\\\\uA73D\\\\uA73F\\\\uA741\\\\uA743\\\\uA745\\\\uA747\\\\uA749\\\\uA74B\\\\uA74D\\\\uA74F\\\\uA751\\\\uA753\\\\uA755\\\\uA757\\\\uA759\\\\uA75B\\\\uA75D\\\\uA75F\\\\uA761\\\\uA763\\\\uA765\\\\uA767\\\\uA769\\\\uA76B\\\\uA76D\\\\uA76F\\\\uA771-\\\\uA778\\\\uA77A\\\\uA77C\\\\uA77F\\\\uA781\\\\uA783\\\\uA785\\\\uA787\\\\uA78C\\\\uA78E\\\\uA791\\\\uA793-\\\\uA795\\\\uA797\\\\uA799\\\\uA79B\\\\uA79D\\\\uA79F\\\\uA7A1\\\\uA7A3\\\\uA7A5\\\\uA7A7\\\\uA7A9\\\\uA7AF\\\\uA7B5\\\\uA7B7\\\\uA7B9\\\\uA7FA\\\\uAB30-\\\\uAB5A\\\\uAB60-\\\\uAB64\\\\u0250-\\\\u02AF\\\\u1D00-\\\\u1D25\\\\u1D6B-\\\\u1D77\\\\u1D79-\\\\u1D9A\\\\u1E01\\\\u1E03\\\\u1E05\\\\u1E07\\\\u1E09\\\\u1E0B\\\\u1E0D\\\\u1E0F\\\\u1E11\\\\u1E13\\\\u1E15\\\\u1E17\\\\u1E19\\\\u1E1B\\\\u1E1D\\\\u1E1F\\\\u1E21\\\\u1E23\\\\u1E25\\\\u1E27\\\\u1E29\\\\u1E2B\\\\u1E2D\\\\u1E2F\\\\u1E31\\\\u1E33\\\\u1E35\\\\u1E37\\\\u1E39\\\\u1E3B\\\\u1E3D\\\\u1E3F\\\\u1E41\\\\u1E43\\\\u1E45\\\\u1E47\\\\u1E49\\\\u1E4B\\\\u1E4D\\\\u1E4F\\\\u1E51\\\\u1E53\\\\u1E55\\\\u1E57\\\\u1E59\\\\u1E5B\\\\u1E5D\\\\u1E5F\\\\u1E61\\\\u1E63\\\\u1E65\\\\u1E67\\\\u1E69\\\\u1E6B\\\\u1E6D\\\\u1E6F\\\\u1E71\\\\u1E73\\\\u1E75\\\\u1E77\\\\u1E79\\\\u1E7B\\\\u1E7D\\\\u1E7F\\\\u1E81\\\\u1E83\\\\u1E85\\\\u1E87\\\\u1E89\\\\u1E8B\\\\u1E8D\\\\u1E8F\\\\u1E91\\\\u1E93\\\\u1E95-\\\\u1E9D\\\\u1E9F\\\\u1EA1\\\\u1EA3\\\\u1EA5\\\\u1EA7\\\\u1EA9\\\\u1EAB\\\\u1EAD\\\\u1EAF\\\\u1EB1\\\\u1EB3\\\\u1EB5\\\\u1EB7\\\\u1EB9\\\\u1EBB\\\\u1EBD\\\\u1EBF\\\\u1EC1\\\\u1EC3\\\\u1EC5\\\\u1EC7\\\\u1EC9\\\\u1ECB\\\\u1ECD\\\\u1ECF\\\\u1ED1\\\\u1ED3\\\\u1ED5\\\\u1ED7\\\\u1ED9\\\\u1EDB\\\\u1EDD\\\\u1EDF\\\\u1EE1\\\\u1EE3\\\\u1EE5\\\\u1EE7\\\\u1EE9\\\\u1EEB\\\\u1EED\\\\u1EEF\\\\u1EF1\\\\u1EF3\\\\u1EF5\\\\u1EF7\\\\u1EF9\\\\u1EFB\\\\u1EFD\\\\u1EFFёа-яәөүҗңһα-ωάέίόώήύа-щюяіїєґѓѕјљњќѐѝ\\\\u1200-\\\\u137F\\\\u0980-\\\\u09FF\\\\u0591-\\\\u05F4\\\\uFB1D-\\\\uFB4F\\\\u0620-\\\\u064A\\\\u066E-\\\\u06D5\\\\u06E5-\\\\u06FF\\\\u0750-\\\\u077F\\\\u08A0-\\\\u08BD\\\\uFB50-\\\\uFBB1\\\\uFBD3-\\\\uFD3D\\\\uFD50-\\\\uFDC7\\\\uFDF0-\\\\uFDFB\\\\uFE70-\\\\uFEFC\\\\U0001EE00-\\\\U0001EEBB\\\\u0D80-\\\\u0DFF\\\\u0900-\\\\u097F\\\\u0C80-\\\\u0CFF\\\\u0B80-\\\\u0BFF\\\\u0C00-\\\\u0C7F\\\\uAC00-\\\\uD7AF\\\\u1100-\\\\u11FF\\\\u3040-\\\\u309F\\\\u30A0-\\\\u30FFー\\\\u4E00-\\\\u62FF\\\\u6300-\\\\u77FF\\\\u7800-\\\\u8CFF\\\\u8D00-\\\\u9FFF\\\\u3400-\\\\u4DBF\\\\U00020000-\\\\U000215FF\\\\U00021600-\\\\U000230FF\\\\U00023100-\\\\U000245FF\\\\U00024600-\\\\U000260FF\\\\U00026100-\\\\U000275FF\\\\U00027600-\\\\U000290FF\\\\U00029100-\\\\U0002A6DF\\\\U0002A700-\\\\U0002B73F\\\\U0002B740-\\\\U0002B81F\\\\U0002B820-\\\\U0002CEAF\\\\U0002CEB0-\\\\U0002EBEF\\\\u2E80-\\\\u2EFF\\\\u2F00-\\\\u2FDF\\\\u2FF0-\\\\u2FFF\\\\u3000-\\\\u303F\\\\u31C0-\\\\u31EF\\\\u3200-\\\\u32FF\\\\u3300-\\\\u33FF\\\\uF900-\\\\uFAFF\\\\uFE30-\\\\uFE4F\\\\U0001F200-\\\\U0001F2FF\\\\U0002F800-\\\\U0002FA1F%²\\\\-\\\\+…|……|,|:|;|\\\\!|\\\\?|¿|؟|¡|\\\\(|\\\\)|\\\\[|\\\\]|\\\\{|\\\\}|<|>|_|#|\\\\*|&|。|？|！|，|、|；|：|～|·|।|،|۔|؛|٪(?:\\\\\\'\"”“`‘´’‚,„»«「」『』（）〔〕【】《》〈〉)])\\\\.',\n",
       " '(?<=[A-Z\\\\uFF21-\\\\uFF3A\\\\u00C0-\\\\u00D6\\\\u00D8-\\\\u00DE\\\\u0100\\\\u0102\\\\u0104\\\\u0106\\\\u0108\\\\u010A\\\\u010C\\\\u010E\\\\u0110\\\\u0112\\\\u0114\\\\u0116\\\\u0118\\\\u011A\\\\u011C\\\\u011E\\\\u0120\\\\u0122\\\\u0124\\\\u0126\\\\u0128\\\\u012A\\\\u012C\\\\u012E\\\\u0130\\\\u0132\\\\u0134\\\\u0136\\\\u0139\\\\u013B\\\\u013D\\\\u013F\\\\u0141\\\\u0143\\\\u0145\\\\u0147\\\\u014A\\\\u014C\\\\u014E\\\\u0150\\\\u0152\\\\u0154\\\\u0156\\\\u0158\\\\u015A\\\\u015C\\\\u015E\\\\u0160\\\\u0162\\\\u0164\\\\u0166\\\\u0168\\\\u016A\\\\u016C\\\\u016E\\\\u0170\\\\u0172\\\\u0174\\\\u0176\\\\u0178\\\\u0179\\\\u017B\\\\u017D\\\\u0181\\\\u0182\\\\u0184\\\\u0186\\\\u0187\\\\u0189-\\\\u018B\\\\u018E-\\\\u0191\\\\u0193\\\\u0194\\\\u0196-\\\\u0198\\\\u019C\\\\u019D\\\\u019F\\\\u01A0\\\\u01A2\\\\u01A4\\\\u01A6\\\\u01A7\\\\u01A9\\\\u01AC\\\\u01AE\\\\u01AF\\\\u01B1-\\\\u01B3\\\\u01B5\\\\u01B7\\\\u01B8\\\\u01BC\\\\u01C4\\\\u01C7\\\\u01CA\\\\u01CD\\\\u01CF\\\\u01D1\\\\u01D3\\\\u01D5\\\\u01D7\\\\u01D9\\\\u01DB\\\\u01DE\\\\u01E0\\\\u01E2\\\\u01E4\\\\u01E6\\\\u01E8\\\\u01EA\\\\u01EC\\\\u01EE\\\\u01F1\\\\u01F4\\\\u01F6-\\\\u01F8\\\\u01FA\\\\u01FC\\\\u01FE\\\\u0200\\\\u0202\\\\u0204\\\\u0206\\\\u0208\\\\u020A\\\\u020C\\\\u020E\\\\u0210\\\\u0212\\\\u0214\\\\u0216\\\\u0218\\\\u021A\\\\u021C\\\\u021E\\\\u0220\\\\u0222\\\\u0224\\\\u0226\\\\u0228\\\\u022A\\\\u022C\\\\u022E\\\\u0230\\\\u0232\\\\u023A\\\\u023B\\\\u023D\\\\u023E\\\\u0241\\\\u0243-\\\\u0246\\\\u0248\\\\u024A\\\\u024C\\\\u024E\\\\u2C60\\\\u2C62-\\\\u2C64\\\\u2C67\\\\u2C69\\\\u2C6B\\\\u2C6D-\\\\u2C70\\\\u2C72\\\\u2C75\\\\u2C7E\\\\u2C7F\\\\uA722\\\\uA724\\\\uA726\\\\uA728\\\\uA72A\\\\uA72C\\\\uA72E\\\\uA732\\\\uA734\\\\uA736\\\\uA738\\\\uA73A\\\\uA73C\\\\uA73E\\\\uA740\\\\uA742\\\\uA744\\\\uA746\\\\uA748\\\\uA74A\\\\uA74C\\\\uA74E\\\\uA750\\\\uA752\\\\uA754\\\\uA756\\\\uA758\\\\uA75A\\\\uA75C\\\\uA75E\\\\uA760\\\\uA762\\\\uA764\\\\uA766\\\\uA768\\\\uA76A\\\\uA76C\\\\uA76E\\\\uA779\\\\uA77B\\\\uA77D\\\\uA77E\\\\uA780\\\\uA782\\\\uA784\\\\uA786\\\\uA78B\\\\uA78D\\\\uA790\\\\uA792\\\\uA796\\\\uA798\\\\uA79A\\\\uA79C\\\\uA79E\\\\uA7A0\\\\uA7A2\\\\uA7A4\\\\uA7A6\\\\uA7A8\\\\uA7AA-\\\\uA7AE\\\\uA7B0-\\\\uA7B4\\\\uA7B6\\\\uA7B8\\\\u1E00\\\\u1E02\\\\u1E04\\\\u1E06\\\\u1E08\\\\u1E0A\\\\u1E0C\\\\u1E0E\\\\u1E10\\\\u1E12\\\\u1E14\\\\u1E16\\\\u1E18\\\\u1E1A\\\\u1E1C\\\\u1E1E\\\\u1E20\\\\u1E22\\\\u1E24\\\\u1E26\\\\u1E28\\\\u1E2A\\\\u1E2C\\\\u1E2E\\\\u1E30\\\\u1E32\\\\u1E34\\\\u1E36\\\\u1E38\\\\u1E3A\\\\u1E3C\\\\u1E3E\\\\u1E40\\\\u1E42\\\\u1E44\\\\u1E46\\\\u1E48\\\\u1E4A\\\\u1E4C\\\\u1E4E\\\\u1E50\\\\u1E52\\\\u1E54\\\\u1E56\\\\u1E58\\\\u1E5A\\\\u1E5C\\\\u1E5E\\\\u1E60\\\\u1E62\\\\u1E64\\\\u1E66\\\\u1E68\\\\u1E6A\\\\u1E6C\\\\u1E6E\\\\u1E70\\\\u1E72\\\\u1E74\\\\u1E76\\\\u1E78\\\\u1E7A\\\\u1E7C\\\\u1E7E\\\\u1E80\\\\u1E82\\\\u1E84\\\\u1E86\\\\u1E88\\\\u1E8A\\\\u1E8C\\\\u1E8E\\\\u1E90\\\\u1E92\\\\u1E94\\\\u1E9E\\\\u1EA0\\\\u1EA2\\\\u1EA4\\\\u1EA6\\\\u1EA8\\\\u1EAA\\\\u1EAC\\\\u1EAE\\\\u1EB0\\\\u1EB2\\\\u1EB4\\\\u1EB6\\\\u1EB8\\\\u1EBA\\\\u1EBC\\\\u1EBE\\\\u1EC0\\\\u1EC2\\\\u1EC4\\\\u1EC6\\\\u1EC8\\\\u1ECA\\\\u1ECC\\\\u1ECE\\\\u1ED0\\\\u1ED2\\\\u1ED4\\\\u1ED6\\\\u1ED8\\\\u1EDA\\\\u1EDC\\\\u1EDE\\\\u1EE0\\\\u1EE2\\\\u1EE4\\\\u1EE6\\\\u1EE8\\\\u1EEA\\\\u1EEC\\\\u1EEE\\\\u1EF0\\\\u1EF2\\\\u1EF4\\\\u1EF6\\\\u1EF8\\\\u1EFA\\\\u1EFC\\\\u1EFEЁА-ЯӘӨҮҖҢҺΑ-ΩΆΈΊΌΏΉΎА-ЩЮЯІЇЄҐЃЅЈЉЊЌЀЍ\\\\u1200-\\\\u137F\\\\u0980-\\\\u09FF\\\\u0591-\\\\u05F4\\\\uFB1D-\\\\uFB4F\\\\u0620-\\\\u064A\\\\u066E-\\\\u06D5\\\\u06E5-\\\\u06FF\\\\u0750-\\\\u077F\\\\u08A0-\\\\u08BD\\\\uFB50-\\\\uFBB1\\\\uFBD3-\\\\uFD3D\\\\uFD50-\\\\uFDC7\\\\uFDF0-\\\\uFDFB\\\\uFE70-\\\\uFEFC\\\\U0001EE00-\\\\U0001EEBB\\\\u0D80-\\\\u0DFF\\\\u0900-\\\\u097F\\\\u0C80-\\\\u0CFF\\\\u0B80-\\\\u0BFF\\\\u0C00-\\\\u0C7F\\\\uAC00-\\\\uD7AF\\\\u1100-\\\\u11FF\\\\u3040-\\\\u309F\\\\u30A0-\\\\u30FFー\\\\u4E00-\\\\u62FF\\\\u6300-\\\\u77FF\\\\u7800-\\\\u8CFF\\\\u8D00-\\\\u9FFF\\\\u3400-\\\\u4DBF\\\\U00020000-\\\\U000215FF\\\\U00021600-\\\\U000230FF\\\\U00023100-\\\\U000245FF\\\\U00024600-\\\\U000260FF\\\\U00026100-\\\\U000275FF\\\\U00027600-\\\\U000290FF\\\\U00029100-\\\\U0002A6DF\\\\U0002A700-\\\\U0002B73F\\\\U0002B740-\\\\U0002B81F\\\\U0002B820-\\\\U0002CEAF\\\\U0002CEB0-\\\\U0002EBEF\\\\u2E80-\\\\u2EFF\\\\u2F00-\\\\u2FDF\\\\u2FF0-\\\\u2FFF\\\\u3000-\\\\u303F\\\\u31C0-\\\\u31EF\\\\u3200-\\\\u32FF\\\\u3300-\\\\u33FF\\\\uF900-\\\\uFAFF\\\\uFE30-\\\\uFE4F\\\\U0001F200-\\\\U0001F2FF\\\\U0002F800-\\\\U0002FA1F][A-Z\\\\uFF21-\\\\uFF3A\\\\u00C0-\\\\u00D6\\\\u00D8-\\\\u00DE\\\\u0100\\\\u0102\\\\u0104\\\\u0106\\\\u0108\\\\u010A\\\\u010C\\\\u010E\\\\u0110\\\\u0112\\\\u0114\\\\u0116\\\\u0118\\\\u011A\\\\u011C\\\\u011E\\\\u0120\\\\u0122\\\\u0124\\\\u0126\\\\u0128\\\\u012A\\\\u012C\\\\u012E\\\\u0130\\\\u0132\\\\u0134\\\\u0136\\\\u0139\\\\u013B\\\\u013D\\\\u013F\\\\u0141\\\\u0143\\\\u0145\\\\u0147\\\\u014A\\\\u014C\\\\u014E\\\\u0150\\\\u0152\\\\u0154\\\\u0156\\\\u0158\\\\u015A\\\\u015C\\\\u015E\\\\u0160\\\\u0162\\\\u0164\\\\u0166\\\\u0168\\\\u016A\\\\u016C\\\\u016E\\\\u0170\\\\u0172\\\\u0174\\\\u0176\\\\u0178\\\\u0179\\\\u017B\\\\u017D\\\\u0181\\\\u0182\\\\u0184\\\\u0186\\\\u0187\\\\u0189-\\\\u018B\\\\u018E-\\\\u0191\\\\u0193\\\\u0194\\\\u0196-\\\\u0198\\\\u019C\\\\u019D\\\\u019F\\\\u01A0\\\\u01A2\\\\u01A4\\\\u01A6\\\\u01A7\\\\u01A9\\\\u01AC\\\\u01AE\\\\u01AF\\\\u01B1-\\\\u01B3\\\\u01B5\\\\u01B7\\\\u01B8\\\\u01BC\\\\u01C4\\\\u01C7\\\\u01CA\\\\u01CD\\\\u01CF\\\\u01D1\\\\u01D3\\\\u01D5\\\\u01D7\\\\u01D9\\\\u01DB\\\\u01DE\\\\u01E0\\\\u01E2\\\\u01E4\\\\u01E6\\\\u01E8\\\\u01EA\\\\u01EC\\\\u01EE\\\\u01F1\\\\u01F4\\\\u01F6-\\\\u01F8\\\\u01FA\\\\u01FC\\\\u01FE\\\\u0200\\\\u0202\\\\u0204\\\\u0206\\\\u0208\\\\u020A\\\\u020C\\\\u020E\\\\u0210\\\\u0212\\\\u0214\\\\u0216\\\\u0218\\\\u021A\\\\u021C\\\\u021E\\\\u0220\\\\u0222\\\\u0224\\\\u0226\\\\u0228\\\\u022A\\\\u022C\\\\u022E\\\\u0230\\\\u0232\\\\u023A\\\\u023B\\\\u023D\\\\u023E\\\\u0241\\\\u0243-\\\\u0246\\\\u0248\\\\u024A\\\\u024C\\\\u024E\\\\u2C60\\\\u2C62-\\\\u2C64\\\\u2C67\\\\u2C69\\\\u2C6B\\\\u2C6D-\\\\u2C70\\\\u2C72\\\\u2C75\\\\u2C7E\\\\u2C7F\\\\uA722\\\\uA724\\\\uA726\\\\uA728\\\\uA72A\\\\uA72C\\\\uA72E\\\\uA732\\\\uA734\\\\uA736\\\\uA738\\\\uA73A\\\\uA73C\\\\uA73E\\\\uA740\\\\uA742\\\\uA744\\\\uA746\\\\uA748\\\\uA74A\\\\uA74C\\\\uA74E\\\\uA750\\\\uA752\\\\uA754\\\\uA756\\\\uA758\\\\uA75A\\\\uA75C\\\\uA75E\\\\uA760\\\\uA762\\\\uA764\\\\uA766\\\\uA768\\\\uA76A\\\\uA76C\\\\uA76E\\\\uA779\\\\uA77B\\\\uA77D\\\\uA77E\\\\uA780\\\\uA782\\\\uA784\\\\uA786\\\\uA78B\\\\uA78D\\\\uA790\\\\uA792\\\\uA796\\\\uA798\\\\uA79A\\\\uA79C\\\\uA79E\\\\uA7A0\\\\uA7A2\\\\uA7A4\\\\uA7A6\\\\uA7A8\\\\uA7AA-\\\\uA7AE\\\\uA7B0-\\\\uA7B4\\\\uA7B6\\\\uA7B8\\\\u1E00\\\\u1E02\\\\u1E04\\\\u1E06\\\\u1E08\\\\u1E0A\\\\u1E0C\\\\u1E0E\\\\u1E10\\\\u1E12\\\\u1E14\\\\u1E16\\\\u1E18\\\\u1E1A\\\\u1E1C\\\\u1E1E\\\\u1E20\\\\u1E22\\\\u1E24\\\\u1E26\\\\u1E28\\\\u1E2A\\\\u1E2C\\\\u1E2E\\\\u1E30\\\\u1E32\\\\u1E34\\\\u1E36\\\\u1E38\\\\u1E3A\\\\u1E3C\\\\u1E3E\\\\u1E40\\\\u1E42\\\\u1E44\\\\u1E46\\\\u1E48\\\\u1E4A\\\\u1E4C\\\\u1E4E\\\\u1E50\\\\u1E52\\\\u1E54\\\\u1E56\\\\u1E58\\\\u1E5A\\\\u1E5C\\\\u1E5E\\\\u1E60\\\\u1E62\\\\u1E64\\\\u1E66\\\\u1E68\\\\u1E6A\\\\u1E6C\\\\u1E6E\\\\u1E70\\\\u1E72\\\\u1E74\\\\u1E76\\\\u1E78\\\\u1E7A\\\\u1E7C\\\\u1E7E\\\\u1E80\\\\u1E82\\\\u1E84\\\\u1E86\\\\u1E88\\\\u1E8A\\\\u1E8C\\\\u1E8E\\\\u1E90\\\\u1E92\\\\u1E94\\\\u1E9E\\\\u1EA0\\\\u1EA2\\\\u1EA4\\\\u1EA6\\\\u1EA8\\\\u1EAA\\\\u1EAC\\\\u1EAE\\\\u1EB0\\\\u1EB2\\\\u1EB4\\\\u1EB6\\\\u1EB8\\\\u1EBA\\\\u1EBC\\\\u1EBE\\\\u1EC0\\\\u1EC2\\\\u1EC4\\\\u1EC6\\\\u1EC8\\\\u1ECA\\\\u1ECC\\\\u1ECE\\\\u1ED0\\\\u1ED2\\\\u1ED4\\\\u1ED6\\\\u1ED8\\\\u1EDA\\\\u1EDC\\\\u1EDE\\\\u1EE0\\\\u1EE2\\\\u1EE4\\\\u1EE6\\\\u1EE8\\\\u1EEA\\\\u1EEC\\\\u1EEE\\\\u1EF0\\\\u1EF2\\\\u1EF4\\\\u1EF6\\\\u1EF8\\\\u1EFA\\\\u1EFC\\\\u1EFEЁА-ЯӘӨҮҖҢҺΑ-ΩΆΈΊΌΏΉΎА-ЩЮЯІЇЄҐЃЅЈЉЊЌЀЍ\\\\u1200-\\\\u137F\\\\u0980-\\\\u09FF\\\\u0591-\\\\u05F4\\\\uFB1D-\\\\uFB4F\\\\u0620-\\\\u064A\\\\u066E-\\\\u06D5\\\\u06E5-\\\\u06FF\\\\u0750-\\\\u077F\\\\u08A0-\\\\u08BD\\\\uFB50-\\\\uFBB1\\\\uFBD3-\\\\uFD3D\\\\uFD50-\\\\uFDC7\\\\uFDF0-\\\\uFDFB\\\\uFE70-\\\\uFEFC\\\\U0001EE00-\\\\U0001EEBB\\\\u0D80-\\\\u0DFF\\\\u0900-\\\\u097F\\\\u0C80-\\\\u0CFF\\\\u0B80-\\\\u0BFF\\\\u0C00-\\\\u0C7F\\\\uAC00-\\\\uD7AF\\\\u1100-\\\\u11FF\\\\u3040-\\\\u309F\\\\u30A0-\\\\u30FFー\\\\u4E00-\\\\u62FF\\\\u6300-\\\\u77FF\\\\u7800-\\\\u8CFF\\\\u8D00-\\\\u9FFF\\\\u3400-\\\\u4DBF\\\\U00020000-\\\\U000215FF\\\\U00021600-\\\\U000230FF\\\\U00023100-\\\\U000245FF\\\\U00024600-\\\\U000260FF\\\\U00026100-\\\\U000275FF\\\\U00027600-\\\\U000290FF\\\\U00029100-\\\\U0002A6DF\\\\U0002A700-\\\\U0002B73F\\\\U0002B740-\\\\U0002B81F\\\\U0002B820-\\\\U0002CEAF\\\\U0002CEB0-\\\\U0002EBEF\\\\u2E80-\\\\u2EFF\\\\u2F00-\\\\u2FDF\\\\u2FF0-\\\\u2FFF\\\\u3000-\\\\u303F\\\\u31C0-\\\\u31EF\\\\u3200-\\\\u32FF\\\\u3300-\\\\u33FF\\\\uF900-\\\\uFAFF\\\\uFE30-\\\\uFE4F\\\\U0001F200-\\\\U0001F2FF\\\\U0002F800-\\\\U0002FA1F])\\\\.']"
      ]
     },
     "execution_count": 19,
     "metadata": {},
     "output_type": "execute_result"
    }
   ],
   "source": [
    "suffixes = list(nlp.Defaults.suffixes)\n",
    "suffixes"
   ]
  },
  {
   "cell_type": "code",
   "execution_count": 20,
   "metadata": {},
   "outputs": [
    {
     "name": "stdout",
     "output_type": "stream",
     "text": [
      "{'抽冷子', '一天', '无', '老老实实', '因此', '然後', '许多', '快', '［③ｂ］', '何尝', '他们', '吧哒', '各自', '不一', '说明', '各式', '切不可', '坚决', '再', '趁早', '彻夜', '方便', '心里', '前此', '严重', '宣布', '几经', '或则', '岂止', '宁可', '③］', 'Lex', '据实', '通常', '高兴', '＿', '￥', '固', 'exp', '哼', '［①⑥］', '总的来看', '假如', '迟早', '］∧′＝［', '任何', '重新', '该当', '起来', '局外', '一个', '为何', '即若', '必然', '有', '居然', '连声', '奋勇', '前面', '）÷（１－', '与此同时', '默然', '旁人', '又', '各个', '大', '|', '那时', '策略地', '较', '此次', '要不然', '>', '不外乎', '背靠背', '不怎么', '也罢', '此中', '隔夜', '［②ｄ］', '大致', '喔唷', '来不及', '按', '既', '除却', '默默地', '每天', '为', '你们', '连日来', '前进', '哪个', '⑦', '末##末', '亲身', '大举', '决不', '尤其', '［④］', '乃至于', '话说', '而已', '［⑩］', '获得', '尔', '归根到底', '＝｛', '莫不', '累年', '照', '这', '常言道', '乌乎', '认真', 'ＺＸＦＩＴＬ', '零', '他', '表明', '别是', '欤', '一直', '8', '最好', '之前', '不光', '每个', '但', '谁', '後面', '［③ｈ］', '何况', '一边', '川流不息', '并不是', '高低', '向着', '元／吨', '》），', '颇', '嘎登', '还是', '呵呵', '另悉', '而论', '今', '这些', '下来', '则', '不亦乐乎', '这么些', '光是', '白白', '嘿嘿', '因而', '并排', '纵', '绝不', '［①Ｂ］', '何', '甭', '－［＊］－', '它们', '啊', '依', '中小', '从早到晚', '不是', '－β', './', '随后', '［', '老', '赖以', '于是乎', '巴', '较为', '以外', '因了', '每当', '《', '藉以', '［⑤ｂ］', '呃', '仅', '然', '此外', '以为', '■', '不断', '不知不觉', '适当', '既...又', '将近', '啷当', '作为', '呐', '顶多', '使得', '以至', '以免', '没奈何', '而又', '快要', '到了儿', '多数', '而外', '朝着', '做到', '各位', '倘若', '理当', '要不', 'Ａ', '上', '乎', '日臻', '过于', '叮当', '隔日', '匆匆', '＜', '穷年累月', '②ｃ', '相应', '一', '全部', '［⑤ａ］', '即使', '较之', '岂但', '致', '］［', '不了', '近', '接连不断', '何妨', '并非', '如次', '半', '既然', '及', '来', 'ｆ］', '敞开儿', '诸', '当着', '几乎', '莫不然', '［②ａ］', '尽心尽力', '基本', '因着', '大多', '亲自', '宁肯', '咳', '再者说', '从事', '恰恰', '严格', '次第', '＝－', '对比', '臭', '千万', '由于', '豁然', '防止', '［②⑥］', '惯常', '［②④', '别人', '传', '得', '根本', '咱', '［①ｄ］', '只限', '或是', '敢情', '掌握', '①', 'γ', '如下', 'sub', '凭', '立刻', '自打', '为着', '成年累月', '马上', '..', '︿', '皆可', '已经', '否则', '看到', '是否', '完全', '刚', '趁势', '赶快', '不尽然', '得起', '总是', '［②ｆ］', '长话短说', '没', '＝（', '加强', '数/', '`', '［②ｇ］', '不能不', '［①⑨］', '尽', '目前', '临', '哟', '是不是', '什麽', '遇到', '［②⑤］', '兮', '说来', '它', '必将', '」', '［③ｃ］', '极了', '即', '[', '由此可见', '结合', '顺', '不能', '设使', '敢于', '『', '倒不如', '任', '据我所知', '依靠', '全体', '种', '大略', '同', '何乐而不为', '怎么样', '１', '--', '不日', '尽然', '使用', '沿着', '不得', '失去', '不得不', '果然', '安全', '处理', '乘胜', '其余', '＜λ', '以来', '刚巧', '的', '可好', '屡次三番', '就是说', '诚如', '有力', '此地', '需要', '∪φ∈', '什么', '顷', '人民', '有时', '简而言之', '别', '坚持', '乃至', '前后', '所以', '打从', '这么', '先後', '乘机', '嘛', '往往', '您是', '不外', '我是', '日复一日', '＋', '不起', '从轻', '何处', '［④ａ］', '八', '单纯', '\"', '难得', '出', '略加', '三天两头', '从古到今', '本身', '良好', '差不多', '·', '不独', '初', '按照', '挨次', '）、', '大抵', '.数', '前者', '非特', '~', '在下', '帮助', '?', '以期', '背地里', '哦', '显然', '实际', '彻底', '全力', '大张旗鼓', '归根结底', '省得', '必要', '意思', '两者', '嘘', '尽管如此', '累次', '后来', '总结', '按理', '综上所述', '［⑤ｆ］', '亲眼', '共总', '极大', '非但', '而况', '唉', '并', '立', '能够', '毕竟', '一旦', '来得及', '砰', '起首', '四', '0', '逐步', '＇', '略为', '］', '似乎', '则甚', '哪样', '或', '集中', '无法', '彼', '上面', '看看', '日益', '请勿', '这种', '自后', '到头', '㈧', '由', '［①Ａ］', '一致', '１２％', '［③］', '这样', '与其说', '恐怕', ')', '像', '权时', '罢了', 'Ψ', '而', '我', '％', '不得已', '且说', '地', 'φ', '反之则', '理应', '别说', '相等', '用来', '何须', '它们的', '他的', '极', '谁人', '俺们', '怎奈', '正巧', '毫无保留地', '结果', '并无', '只消', '傥然', '看', '９', '清楚', '［①⑤］', '即是说', '过', '之後', '共', '相反', '从严', '据称', '相当', '般的', '再次', '谁料', '着呢', '并没', '凑巧', '正如', '如上所述', '各人', '因', '不至于', '-', '怕', '进而', '充分', '｜', '已矣', '尽可能', '偶尔', '某某', '被', '考虑', '从头', '起', '依据', '只要', '联系', '来着', '人人', '不仅仅', 'sup', '具有', '举凡', '竟然', '继之', '好象', '怎麽', '常常', '一转眼', '，也', '传说', '保险', '嗯', '尔等', '［⑦］', '上述', 'φ．', '吱', '牢牢', '人们', '届时', '应该', '进步', '倍加', '特点', '当时', '［①ｃ］', '哪天', '这儿', '尚且', '谨', '如前所述', '这个', '』', '各种', '当地', '反过来', '吓', '它是', '当即', '［＊］', '觉得', '同样', '④', '那末', '格外', '每', '［①③］', '那么', '往', '＜＜', '您们', '就是', '岂', '从宽', '谁知', '要是', '甚么', '当中', '如何', '重大', '大批', '将才', '纵令', '了', '莫如', '按说', '又及', '从重', '为什麽', '突然', '9', '嗡', '各', '关于', '再有', '０：２', '得出', '我们', '毋宁', '如常', '传闻', '风雨无阻', '但凡', '相对而言', '姑且', '部分', '５：０', '这边', '再则', '::', '［①ｈ］', '适应', '今后', '具体', '及其', '不变', '仅仅', \"'\", '虽然', '由此', '▲', '大约', '且', '当真', '竟而', '最', '漫说', '孰料', '甚或', '大体上', '靠', '其', '从中', '后面', '尽如人意', '亦', '接着', '替', '构成', '不少', '［⑤ｄ］', '③', '何以', '屡次', '从来', '假使', '刚才', '如同', '巩固', '此处', '来说', '伙同', '待到', '继后', '～', '孰知', '得天独厚', '对待', '当场', '共同', '双方', '从速', '＃', '近来', '看来', '倘', '据悉', '［③①］', '一时', '［②①］', '何止', '／', '以后', '即令', '难怪', '某些', '社会主义', '直到', '她是', '沙沙', '这么点儿', '几度', '有关', '你是', '什么样', '确定', '经常', '诚然', '能', '上来', '任凭', '［②ｃ］', '＜±', '是以', '重要', '受到', '在', '＄', '当口儿', '＝', '起初', '迅速', '处处', '这点', '运用', '.', '竟', '即或', '另行', '方才', '方能', '多年前', '欢迎', '转贴', '开展', '＋ξ', '从', '便于', '大面儿上', '乘', '那会儿', '二来', '也就是说', '截然', '［①Ｅ］', '切', '从此以后', '极为', '分头', '切莫', '率然', '我的', '串行', '其二', '［①⑦］', '除此之外', '极度', '宁', '正常', '的话', '没有', '应当', '要', 'ａ］', '按时', '反之亦然', '再说', '不满', '...................', '阿', '多', '6', '与', '果真', '略', '平素', '以及', '3', '其他', '不比', '最大', '＞λ', '以故', '周围', '那么些', '哇', '［②ｅ］', '密切', '巨大', '规定', '不特', '矣乎', '进入', '难道说', '然而', '一一', '②', '无论', '主要', '应用', '_', '陈年', '所谓', '分期', '大都', '小', '特殊', '偶而', '开始', '不仅...而且', '不迭', '俺', '立时', '得了', '相对', '很少', '不论', '倍感', '有及', '［③ｅ］', '达到', '∈［', '其一', '真是', '自各儿', '她', '嗳', '嘻', '4', '限制', '么', '进来', '老是', '出来', '首先', '［②②］', '另一方面', '哎呀', '逐渐', '恰似', '惟其', '不惟', '腾', '距', '对应', '咧', '几', '万一', '带', '呜', '你的', '到目前为止', '》', '它的', '［③Ｆ］', '哪里', '之', '并不', '不拘', '…', '［①⑧］', '正值', '不妨', '那儿', '就此', '都', '全然', '到底', '若夫', '哈哈', '单单', '概', '日见', '当然', '可以', '必定', '实现', '不力', '内', '何苦', '怎', '──', '设若', '｛', '些', '全身心', '喏', '［⑤］］', '绝顶', 'Ⅲ', '大量', '虽', '如', '就', '你', '知道', '凭借', '咋', '立即', '满', '那边', '日渐', '起见', '均', '遵照', '己', '逢', '犹自', '上升', '看上去', '非徒', '哎哟', '不止一次', '以致', '来讲', '有着', '中间', '毫无例外', '何时', '要求', '这一来', '那里', '较比', '［②ｈ］', '⑤', '凡', '人家', '自', '而言', '换句话说', '其它', '———', '就要', '打', '〉', '犹且', '莫若', '不同', '本地', '一面', '每时每刻', '形成', '倘或', '一切', '多次', '边', '最後', '得到', '简言之', '呜呼', '常言说得好', '方', '更为', '〕', '后者', '举行', '于是', '一方面', '说说', '=', '认识', '采取', '哎', '况且', '甚至于', '恰如', '本人', '反手', '叫', '［①ｆ］', '二话不说', '一则通过', '绝', '更', '为此', '七', '具体地说', '不仅仅是', '、', '一次', '切切', '取得', '好', '明确', '从新', '比如说', '绝对', '可是', '＆', 'ｎｇ昉', '哩', '】', '虽说', '℃', '究竟', '不大', '一样', '出去', '－', '属于', 'A', '...', '哪边', '嗬', '绝非', '焉', '加入', '碰巧', '敢', '譬如', '而后', '注意', '如期', '抑或', '千', '余外', '有点', '呢', '下面', '广大', '从无到有', '还', '反之', 'Ｒ．Ｌ．', '除非', '［①②］', '．', '一起', '立地', '［④ｅ］', '×', '这麽', '<', '；', '拦腰', '刚好', '更加', '一片', '比起', '类如', '归齐', '一则', '猛然', '自己', '就地', '~~~~', '嘎', '断然', '您', '只怕', '趁', '不管', '呸', '切勿', '://', '显著', '等等', '保持', '不过', '亲手', '［②', '联袂', '深入', '全年', '自家', '暗自', '哈', '与否', '存在', '也', '几番', '当儿', '倘然', '看出', '５', '［①ａ］', '不若', '既是', '屡', '不消', '［②Ｂ］', '光', '准备', '已', '哪儿', '某个', ':', '不对', '是的', '一些', '再其次', '只是', '［①①］', '广泛', '二话没说', '→', '｝', '甚且', '相信', '每每', '巴巴', '［①ｏ］', '允许', '依照', '连连', '呗', '率尔', '以下', '5', '大大', '呼啦', '朝', '大家', '可', '喽', '恰好', '方面', '今年', '喀', '来自', '缕缕', '莫', '沿', '挨个', '怎么', '战斗', '后', '≈', '下列', '若非', '总的说来', '动辄', '某', '［①Ｄ］', '赶', '独自', '尽量', '论说', '啊呀', '伟大', '维持', '单', '趁便', '不如', '进去', '非独', '互', '这里', '连日', '可能', '遭到', '不得了', '所有', '那些', '庶乎', '８', '别处', '之所以', '所在', '古来', '一.', '据此', '猛然间', '近几年来', '如今', '甫', '乃', '相同', '故而', '归', '1', '跟', '如若', '并没有', '若', '不管怎样', '自身', '除此', '不问', '不可抗拒', '恍然', '那麽', '最近', '－－', '们', '从优', '上下', '以上', '差一点', '毫无', '练习', '挨家挨户', '“', '［③ａ］', '［②ｂ］', '自个儿', '【', '纵然', '到处', '啐', '.一', '并且', '*', '冲', '［②⑩］', '［④ｄ］', '唯有', '凝神', '以前', '乘势', '难道', '随著', '⑨', '尽早', '多少', '忽然', '+', '必须', '造成', '哗', '明显', '不尽', '有的', '者', '当头', '#', '出于', '［①］', '长期以来', '顺着', '继续', '具体说来', '反而', '［⑤］', '待', '慢说', '仍然', '［④ｂ］', '时候', '哗啦', '简直', '下去', '第', '便', '这时', '下', '始而', '总的来说', '长线', '不必', '哪年', '叮咚', '。', '‘', '多年来', '甚至', '每年', '咱们', '到', '不然的话', '扑通', '主张', '＜φ', '瑟瑟', '一般', '反过来说', '这么样', '白', '不单', '她们', '与其', '强调', '这会儿', '蛮', '即刻', '争取', '粗', '极力', '......', '不胜', '管', '′∈', '就是了', '个别', '如其', '顿时', '矣哉', '至若', '设或', '将要', '全都', '［②］', '後来', '’', '从此', '略微', 'ｂ］', '以後', '＠', '九', ';', '}', '但是', ']', '不时', '—', '对方', '先不先', '普通', '至今', '认为', '咦', '有的是', '适用', '……', '譬喻', '总之', '…………………………………………………③', '每逢', '转动', '组成', '尽心竭力', '〈', '不可', '不足', '｝＞', '哪些', '［⑧］', '向', '复杂', '［⑨］', '$', '一来', '愤然', '庶几', '完成', '也好', '尔后', '不仅', '先后', '不', '奈', '个', '毫不', '＝″', '三番五次', '不可开交', '经过', '根据', '处在', '如果', '这般', 'ｅ］', '偏偏', '就算', '［①Ｃ］', '非得', '左右', '急匆匆', '通过', '随时', '迫于', '及至', '容易', '啦', '呕', '［②⑦］', '鉴于', '动不动', '本着', '奇', '临到', '同一', '精光', '多么', '专门', '饱', '另', '借此', '随着', '连袂', '个人', '不曾', '只', '其后', '长此下去', '当', '儿', '少数', '成为', '从古至今', '他人', '〕〔', '所幸', '除开', '或多或少', '此时', '固然', '>>', '当下', '要不是', '难说', '(', '倒不如说', '今天', '她的', '曾', '哉', '［①ｅ］', '反倒是', '＞', '普遍', '多多益善', '此', '成心', '［②Ｇ］', '６', '八成', '转变', '尽快', '那个', '不已', '别管', '扩大', '接著', '不止', '但愿', '越是', '先生', '挨门挨户', '任务', '那样', '鄙人', '历', '或者', '愿意', '而且', '以', '啪达', '，', '具体来说', '不成', '各地', '近年来', '比及', '［］', '”，', '2', '然则', '打开天窗说亮话', '基于', '４', '恰逢', '介于', '即便', '故', '极端', '以至于', '使', '为止', '原来', '哪怕', '避免', '或曰', '变成', '因为', '如是', '乒', '从而', '＜Δ', '//', '截至', '轰然', '几时', '［①④］', '暗地里', '顷刻', '×××', '不经意', '到头来', '加上', '怎样', '）', '既往', '继而', '积极', '之类', '三番两次', '为主', '取道', '是', '其中', '有利', '不由得', '能否', '行动', '哼唷', '不定', '呼哧', '照着', '除', '互相', '亲口', '从小', '分别', '纯', '！', '换言之', '向使', '［②③］', '有著', '让', '企图', '最后', '那般', '当前', '其次', '才', '看见', '并肩', '２', '这就是说', '［③⑩］', '特别是', '活', '挨门逐户', '给', '趁着', '针对', '呆呆地', '相似', '反应', '成年', '真正', '陡然', '不常', '离', '′｜', '连', '一下', '（', '另外', '达旦', '——', '”', '怎么办', '直接', '即如', '梆', '凡是', '不敢', '别的', '接下来', '比照', '倘使', '和', '汝', '公然', '此后', '还要', '纵使', '［②ｉ］', '一定', '似的', '窃', '呀', '大体', '［②⑧］', 'В', '对于', '假若', '莫非', '趁热', '不会', '啊哟', '范围', '多多少少', '顷刻间', '＝☆', '大概', '⑥', '开外', '极其', 'Δ', '正在', '云尔', '满足', '总而言之', '挨着', '促进', '只当', '大不了', '现代', '暗中', '除去', '却', '看样子', '十分', '行为', '却不', '殆', '五', '嘿', '将', '故此', '/', '同时', '进行', '曾经', '还有', '丰富', '路经', '三', '借以', '的确', '够瞧的', '他是', '如上', '齐', '会', '：', '第二', '若果', '如此', '遵循', '现在', '倒是', '定', '不怕', '不巧', '大多数', '立马', '比较', '不然', '忽地', '彼此', 'ＬＩ', '把', '论', '起先', '可见', '［④ｃ］', '过来', '＊', '一何', '最高', '该', '之后', '要么', '基本上', '保管', '也是', '六', '独', '无宁', '有所', '必', '嘎嘎', '顷刻之间', '除外', '尽管', '本', '｛－', '除此而外', '放量', '分期分批', '有效', '加之', '喂', '然后', '产生', '去', '怪', 'ｃ］', '？', '’‘', '眨眼', '出现', '至于', '宁愿', '怪不得', '勃然', '于', '对', '此间', '反映', '%', '不够', '多亏', '!', '有些', '问题', '整个', '7', '弗', '那么样', '大力', '连同', '另方面', '里面', '［③ｇ］', '移动', '反倒', '附近', '彼时', '随', '用', '不久', '［①ｇ］', '看起来', '尔尔', '不择手段', '恰恰相反', '或许', '［－', '除此以外', '起头', '之一', '不但...而且', '多多', '替代', '７', '按期', '从今以后', '等到', '不只', '甚而', '故意', '只有', '在于', '２．３％', '加以', '全面', '@', '了解', '召开', '屡屡', '强烈', '乘虚', '所', '大凡', '矣', '咚', '岂非', '充其量', '再者', '决定', '.日', '仍旧', '经', '常言说', '当庭', '即将', '比', '比如', '间或', '另一个', '这次', '由是', '自从', '赶早不赶晚', '仍', '例如', '恰巧', '何必', '很', '［⑤ｅ］', '啊哈', '０', '更进一步', '表示', '１．', '&', '乘隙', '兼之', '迄', '虽则', 'μ', '今後', '及时', '借', '年复一年', '从不', '突出', '若是', '不下', '⑧', '冒', '紧接着', '理该', '呵', '着', '等', '不免', '老大', '决非', '不要', '＝［', '上去', '才能', '［①ｉ］', '＋＋', '那', '吗', '不料', '而是', '合理', '至', '３', '常', '存心', '［②ｊ］', '云云', '叫做', '比方', '据', '哪', '正是', '充其极', '非常', '不再', '弹指之间', '来看', '诸位', '过去', '且不说', '除了', '从未', '嗡嗡', '贼死', '据说', '↑', '好的', '望', '如此等等', '以便', '为了', '二', '啥', '千万千万', '吧', '大事', '不但', '一番', '为什么', ',', '纯粹', '不限', '〔', '拿', '～＋', '［③ｄ］', '见', '引起', '代替', '趁机', '^', '人', '诸如', '⑩', '各级', '昂然', '很多', '其实', '～±', '［⑥］', '交口', '好在'}\n"
     ]
    }
   ],
   "source": [
    "print(nlp.Defaults.stop_words)"
   ]
  },
  {
   "cell_type": "code",
   "execution_count": 21,
   "metadata": {},
   "outputs": [],
   "source": [
    "text3 = \"跨年玩很大\"\n",
    "doc3 = nlp(text3)"
   ]
  },
  {
   "cell_type": "code",
   "execution_count": 22,
   "metadata": {},
   "outputs": [
    {
     "data": {
      "text/html": [
       "<span class=\"tex2jax_ignore\"><svg xmlns=\"http://www.w3.org/2000/svg\" xmlns:xlink=\"http://www.w3.org/1999/xlink\" xml:lang=\"zh\" id=\"984e61e225794522916cec5bcef060cc-0\" class=\"displacy\" width=\"750\" height=\"312.0\" direction=\"ltr\" style=\"max-width: none; height: 312.0px; color: #000000; background: #ffffff; font-family: Arial; direction: ltr\">\n",
       "<text class=\"displacy-token\" fill=\"currentColor\" text-anchor=\"middle\" y=\"222.0\">\n",
       "    <tspan class=\"displacy-word\" fill=\"currentColor\" x=\"50\">跨年</tspan>\n",
       "    <tspan class=\"displacy-tag\" dy=\"2em\" fill=\"currentColor\" x=\"50\">VERB</tspan>\n",
       "</text>\n",
       "\n",
       "<text class=\"displacy-token\" fill=\"currentColor\" text-anchor=\"middle\" y=\"222.0\">\n",
       "    <tspan class=\"displacy-word\" fill=\"currentColor\" x=\"225\">玩</tspan>\n",
       "    <tspan class=\"displacy-tag\" dy=\"2em\" fill=\"currentColor\" x=\"225\">VERB</tspan>\n",
       "</text>\n",
       "\n",
       "<text class=\"displacy-token\" fill=\"currentColor\" text-anchor=\"middle\" y=\"222.0\">\n",
       "    <tspan class=\"displacy-word\" fill=\"currentColor\" x=\"400\">很</tspan>\n",
       "    <tspan class=\"displacy-tag\" dy=\"2em\" fill=\"currentColor\" x=\"400\">ADV</tspan>\n",
       "</text>\n",
       "\n",
       "<text class=\"displacy-token\" fill=\"currentColor\" text-anchor=\"middle\" y=\"222.0\">\n",
       "    <tspan class=\"displacy-word\" fill=\"currentColor\" x=\"575\">大</tspan>\n",
       "    <tspan class=\"displacy-tag\" dy=\"2em\" fill=\"currentColor\" x=\"575\">VERB</tspan>\n",
       "</text>\n",
       "\n",
       "<g class=\"displacy-arrow\">\n",
       "    <path class=\"displacy-arc\" id=\"arrow-984e61e225794522916cec5bcef060cc-0-0\" stroke-width=\"2px\" d=\"M70,177.0 C70,89.5 220.0,89.5 220.0,177.0\" fill=\"none\" stroke=\"currentColor\"/>\n",
       "    <text dy=\"1.25em\" style=\"font-size: 0.8em; letter-spacing: 1px\">\n",
       "        <textPath xlink:href=\"#arrow-984e61e225794522916cec5bcef060cc-0-0\" class=\"displacy-label\" startOffset=\"50%\" side=\"left\" fill=\"currentColor\" text-anchor=\"middle\">advmod</textPath>\n",
       "    </text>\n",
       "    <path class=\"displacy-arrowhead\" d=\"M70,179.0 L62,167.0 78,167.0\" fill=\"currentColor\"/>\n",
       "</g>\n",
       "\n",
       "<g class=\"displacy-arrow\">\n",
       "    <path class=\"displacy-arc\" id=\"arrow-984e61e225794522916cec5bcef060cc-0-1\" stroke-width=\"2px\" d=\"M245,177.0 C245,2.0 575.0,2.0 575.0,177.0\" fill=\"none\" stroke=\"currentColor\"/>\n",
       "    <text dy=\"1.25em\" style=\"font-size: 0.8em; letter-spacing: 1px\">\n",
       "        <textPath xlink:href=\"#arrow-984e61e225794522916cec5bcef060cc-0-1\" class=\"displacy-label\" startOffset=\"50%\" side=\"left\" fill=\"currentColor\" text-anchor=\"middle\">dep</textPath>\n",
       "    </text>\n",
       "    <path class=\"displacy-arrowhead\" d=\"M245,179.0 L237,167.0 253,167.0\" fill=\"currentColor\"/>\n",
       "</g>\n",
       "\n",
       "<g class=\"displacy-arrow\">\n",
       "    <path class=\"displacy-arc\" id=\"arrow-984e61e225794522916cec5bcef060cc-0-2\" stroke-width=\"2px\" d=\"M420,177.0 C420,89.5 570.0,89.5 570.0,177.0\" fill=\"none\" stroke=\"currentColor\"/>\n",
       "    <text dy=\"1.25em\" style=\"font-size: 0.8em; letter-spacing: 1px\">\n",
       "        <textPath xlink:href=\"#arrow-984e61e225794522916cec5bcef060cc-0-2\" class=\"displacy-label\" startOffset=\"50%\" side=\"left\" fill=\"currentColor\" text-anchor=\"middle\">advmod</textPath>\n",
       "    </text>\n",
       "    <path class=\"displacy-arrowhead\" d=\"M420,179.0 L412,167.0 428,167.0\" fill=\"currentColor\"/>\n",
       "</g>\n",
       "</svg></span>"
      ],
      "text/plain": [
       "<IPython.core.display.HTML object>"
      ]
     },
     "metadata": {},
     "output_type": "display_data"
    }
   ],
   "source": [
    "displacy.render(doc3)"
   ]
  },
  {
   "cell_type": "code",
   "execution_count": null,
   "metadata": {},
   "outputs": [],
   "source": []
  }
 ],
 "metadata": {
  "kernelspec": {
   "display_name": "Python 3 (ipykernel)",
   "language": "python",
   "name": "python3"
  },
  "language_info": {
   "codemirror_mode": {
    "name": "ipython",
    "version": 3
   },
   "file_extension": ".py",
   "mimetype": "text/x-python",
   "name": "python",
   "nbconvert_exporter": "python",
   "pygments_lexer": "ipython3",
   "version": "3.9.10"
  }
 },
 "nbformat": 4,
 "nbformat_minor": 4
}
