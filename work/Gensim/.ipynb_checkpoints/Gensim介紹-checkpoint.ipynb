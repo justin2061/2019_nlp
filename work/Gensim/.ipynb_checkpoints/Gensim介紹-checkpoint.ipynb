{
 "cells": [
  {
   "cell_type": "markdown",
   "metadata": {},
   "source": [
    "### 介紹Gensim 中的 Document, Corpora(語料庫), Vectors and Models"
   ]
  },
  {
   "cell_type": "code",
   "execution_count": 1,
   "metadata": {},
   "outputs": [
    {
     "name": "stdout",
     "output_type": "stream",
     "text": [
      "Requirement already satisfied: jieba in /opt/conda/lib/python3.7/site-packages (0.42.1)\n"
     ]
    }
   ],
   "source": [
    "!pip install jieba"
   ]
  },
  {
   "cell_type": "code",
   "execution_count": 17,
   "metadata": {},
   "outputs": [
    {
     "name": "stdout",
     "output_type": "stream",
     "text": [
      "Requirement already satisfied: gensim in /opt/conda/lib/python3.7/site-packages (3.8.3)\n",
      "Requirement already satisfied: scipy>=0.18.1 in /opt/conda/lib/python3.7/site-packages (from gensim) (1.4.1)\n",
      "Requirement already satisfied: numpy>=1.11.3 in /opt/conda/lib/python3.7/site-packages (from gensim) (1.18.5)\n",
      "Requirement already satisfied: six>=1.5.0 in /opt/conda/lib/python3.7/site-packages (from gensim) (1.15.0)\n",
      "Requirement already satisfied: smart-open>=1.8.1 in /opt/conda/lib/python3.7/site-packages (from gensim) (4.0.1)\n"
     ]
    }
   ],
   "source": [
    "!pip install gensim"
   ]
  },
  {
   "cell_type": "code",
   "execution_count": 2,
   "metadata": {},
   "outputs": [],
   "source": [
    "document = \"科技大廠蘋果本週爆出重啟電動車計畫，據稱5年內上市、搭配突破性降低成本、提升續航里程的電池技術，引發市場話題\""
   ]
  },
  {
   "cell_type": "code",
   "execution_count": 3,
   "metadata": {},
   "outputs": [],
   "source": [
    "text_corpus = [\n",
    "    \"兩項最新研究指出，具有2019冠狀病毒疾病（COVID-19）抗體的民眾，再度染疫的可能性相當低。研究人員還發現，抗體保護力能維持6個月，甚至是更久時間。\",\n",
    "    \"由俄國富豪尤里·米爾納注資 1 億美元、已故英國天文物理學家霍金啟動的突破聆聽（Breakthrough Listen）計畫，近日收到了一個有趣的無線電訊號，來自距離太陽最近的另一顆恆星比鄰星。\",\n",
    "    \"科技大廠蘋果本週爆出重啟電動車計畫，據稱5年內上市、搭配突破性降低成本、提升續航里程的電池技術，引發市場話題\",\n",
    "    \"中國監管單位對阿里巴巴集團展開反壟斷調查，使阿里巴巴美國存託憑證（ADR）在週四（24日）創下有史以來最大跌幅。\",\n",
    "    \"日本就有一名高齡95歲的阿嬤相當喜歡用GB遊戲主機玩「俄羅斯方塊」，無奈電子產品終究無法抵抗時間的摧殘而損壞，沒想到阿嬤親筆寫信給任天堂官方後，竟然得到一台全新的遊戲主機，讓網友感動不已。\"\n",
    "]"
   ]
  },
  {
   "cell_type": "code",
   "execution_count": 4,
   "metadata": {},
   "outputs": [],
   "source": [
    "import jieba"
   ]
  },
  {
   "cell_type": "code",
   "execution_count": 5,
   "metadata": {},
   "outputs": [
    {
     "name": "stderr",
     "output_type": "stream",
     "text": [
      "Building prefix dict from the default dictionary ...\n",
      "Loading model from cache /tmp/jieba.cache\n",
      "Loading model cost 0.966 seconds.\n",
      "Prefix dict has been built successfully.\n"
     ]
    }
   ],
   "source": [
    "processed_corpus = []\n",
    "for line in text_corpus:\n",
    "    texts = jieba.lcut(line)\n",
    "    processed_corpus.append(texts)"
   ]
  },
  {
   "cell_type": "code",
   "execution_count": 6,
   "metadata": {
    "collapsed": true,
    "jupyter": {
     "outputs_hidden": true
    }
   },
   "outputs": [
    {
     "data": {
      "text/plain": [
       "[['兩項',\n",
       "  '最新',\n",
       "  '研究',\n",
       "  '指出',\n",
       "  '，',\n",
       "  '具有',\n",
       "  '2019',\n",
       "  '冠狀',\n",
       "  '病毒',\n",
       "  '疾病',\n",
       "  '（',\n",
       "  'COVID',\n",
       "  '-',\n",
       "  '19',\n",
       "  '）',\n",
       "  '抗體',\n",
       "  '的',\n",
       "  '民眾',\n",
       "  '，',\n",
       "  '再度',\n",
       "  '染疫',\n",
       "  '的',\n",
       "  '可能性',\n",
       "  '相當',\n",
       "  '低',\n",
       "  '。',\n",
       "  '研究',\n",
       "  '人員',\n",
       "  '還發現',\n",
       "  '，',\n",
       "  '抗體',\n",
       "  '保護力',\n",
       "  '能維持',\n",
       "  '6',\n",
       "  '個',\n",
       "  '月',\n",
       "  '，',\n",
       "  '甚至',\n",
       "  '是',\n",
       "  '更',\n",
       "  '久',\n",
       "  '時間',\n",
       "  '。'],\n",
       " ['由',\n",
       "  '俄國',\n",
       "  '富豪',\n",
       "  '尤里',\n",
       "  '·',\n",
       "  '米爾納',\n",
       "  '注資',\n",
       "  ' ',\n",
       "  '1',\n",
       "  ' ',\n",
       "  '億',\n",
       "  '美元',\n",
       "  '、',\n",
       "  '已故',\n",
       "  '英國',\n",
       "  '天文',\n",
       "  '物理',\n",
       "  '學家',\n",
       "  '霍金',\n",
       "  '啟動',\n",
       "  '的',\n",
       "  '突破',\n",
       "  '聆',\n",
       "  '聽',\n",
       "  '（',\n",
       "  'Breakthrough',\n",
       "  ' ',\n",
       "  'Listen',\n",
       "  '）',\n",
       "  '計畫',\n",
       "  '，',\n",
       "  '近日',\n",
       "  '收到',\n",
       "  '了',\n",
       "  '一個',\n",
       "  '有趣',\n",
       "  '的',\n",
       "  '無線',\n",
       "  '電訊號',\n",
       "  '，',\n",
       "  '來',\n",
       "  '自距',\n",
       "  '離太陽',\n",
       "  '最近',\n",
       "  '的',\n",
       "  '另',\n",
       "  '一顆',\n",
       "  '恆星',\n",
       "  '比',\n",
       "  '鄰星',\n",
       "  '。'],\n",
       " ['科技',\n",
       "  '大廠',\n",
       "  '蘋果',\n",
       "  '本週',\n",
       "  '爆出',\n",
       "  '重啟',\n",
       "  '電動車',\n",
       "  '計畫',\n",
       "  '，',\n",
       "  '據稱',\n",
       "  '5',\n",
       "  '年',\n",
       "  '內',\n",
       "  '上市',\n",
       "  '、',\n",
       "  '搭配',\n",
       "  '突破性',\n",
       "  '降低成本',\n",
       "  '、',\n",
       "  '提升',\n",
       "  '續航',\n",
       "  '里程',\n",
       "  '的',\n",
       "  '電池',\n",
       "  '技術',\n",
       "  '，',\n",
       "  '引發',\n",
       "  '市場',\n",
       "  '話題'],\n",
       " ['中國',\n",
       "  '監管',\n",
       "  '單位',\n",
       "  '對',\n",
       "  '阿里巴巴',\n",
       "  '集團展',\n",
       "  '開反',\n",
       "  '壟斷',\n",
       "  '調查',\n",
       "  '，',\n",
       "  '使',\n",
       "  '阿里巴巴',\n",
       "  '美國存',\n",
       "  '託',\n",
       "  '憑證',\n",
       "  '（',\n",
       "  'ADR',\n",
       "  '）',\n",
       "  '在',\n",
       "  '週四',\n",
       "  '（',\n",
       "  '24',\n",
       "  '日',\n",
       "  '）',\n",
       "  '創下',\n",
       "  '有史',\n",
       "  '以來',\n",
       "  '最大',\n",
       "  '跌幅',\n",
       "  '。'],\n",
       " ['日本',\n",
       "  '就',\n",
       "  '有',\n",
       "  '一名',\n",
       "  '高齡',\n",
       "  '95',\n",
       "  '歲',\n",
       "  '的',\n",
       "  '阿嬤相',\n",
       "  '當喜',\n",
       "  '歡用',\n",
       "  'GB',\n",
       "  '遊戲',\n",
       "  '主機',\n",
       "  '玩',\n",
       "  '「',\n",
       "  '俄羅斯方塊',\n",
       "  '」',\n",
       "  '，',\n",
       "  '無奈電子',\n",
       "  '產品',\n",
       "  '終究',\n",
       "  '無法',\n",
       "  '抵抗',\n",
       "  '時間',\n",
       "  '的',\n",
       "  '摧殘',\n",
       "  '而',\n",
       "  '損壞',\n",
       "  '，',\n",
       "  '沒',\n",
       "  '想到',\n",
       "  '阿嬤親',\n",
       "  '筆寫',\n",
       "  '信給',\n",
       "  '任天堂',\n",
       "  '官方',\n",
       "  '後',\n",
       "  '，',\n",
       "  '竟然',\n",
       "  '得到',\n",
       "  '一台',\n",
       "  '全新',\n",
       "  '的',\n",
       "  '遊戲',\n",
       "  '主機',\n",
       "  '，',\n",
       "  '讓',\n",
       "  '網友',\n",
       "  '感動',\n",
       "  '不已',\n",
       "  '。']]"
      ]
     },
     "execution_count": 6,
     "metadata": {},
     "output_type": "execute_result"
    }
   ],
   "source": [
    "processed_corpus"
   ]
  },
  {
   "cell_type": "code",
   "execution_count": 7,
   "metadata": {},
   "outputs": [
    {
     "name": "stdout",
     "output_type": "stream",
     "text": [
      "Dictionary(164 unique tokens: ['-', '19', '2019', '6', 'COVID']...)\n"
     ]
    }
   ],
   "source": [
    "from gensim import corpora\n",
    "dictionary = corpora.Dictionary(processed_corpus)\n",
    "print(dictionary)"
   ]
  },
  {
   "cell_type": "code",
   "execution_count": 8,
   "metadata": {},
   "outputs": [],
   "source": [
    "import pprint"
   ]
  },
  {
   "cell_type": "code",
   "execution_count": 9,
   "metadata": {
    "collapsed": true,
    "jupyter": {
     "outputs_hidden": true
    }
   },
   "outputs": [
    {
     "name": "stdout",
     "output_type": "stream",
     "text": [
      "{' ': 36,\n",
      " '-': 0,\n",
      " '1': 37,\n",
      " '19': 1,\n",
      " '2019': 2,\n",
      " '24': 100,\n",
      " '5': 77,\n",
      " '6': 3,\n",
      " '95': 123,\n",
      " 'ADR': 101,\n",
      " 'Breakthrough': 38,\n",
      " 'COVID': 4,\n",
      " 'GB': 124,\n",
      " 'Listen': 39,\n",
      " '·': 40,\n",
      " '、': 41,\n",
      " '。': 5,\n",
      " '「': 125,\n",
      " '」': 126,\n",
      " '一個': 42,\n",
      " '一台': 127,\n",
      " '一名': 128,\n",
      " '一顆': 43,\n",
      " '上市': 78,\n",
      " '不已': 129,\n",
      " '中國': 102,\n",
      " '主機': 130,\n",
      " '久': 6,\n",
      " '了': 44,\n",
      " '人員': 7,\n",
      " '以來': 103,\n",
      " '任天堂': 131,\n",
      " '低': 8,\n",
      " '使': 104,\n",
      " '來': 45,\n",
      " '俄國': 46,\n",
      " '俄羅斯方塊': 132,\n",
      " '保護力': 9,\n",
      " '信給': 133,\n",
      " '個': 10,\n",
      " '億': 47,\n",
      " '內': 79,\n",
      " '全新': 134,\n",
      " '兩項': 11,\n",
      " '具有': 12,\n",
      " '再度': 13,\n",
      " '冠狀': 14,\n",
      " '創下': 105,\n",
      " '另': 48,\n",
      " '可能性': 15,\n",
      " '啟動': 49,\n",
      " '單位': 106,\n",
      " '在': 107,\n",
      " '壟斷': 108,\n",
      " '大廠': 80,\n",
      " '天文': 50,\n",
      " '學家': 51,\n",
      " '官方': 135,\n",
      " '富豪': 52,\n",
      " '對': 109,\n",
      " '尤里': 53,\n",
      " '就': 136,\n",
      " '已故': 54,\n",
      " '市場': 81,\n",
      " '年': 82,\n",
      " '引發': 83,\n",
      " '後': 137,\n",
      " '得到': 138,\n",
      " '恆星': 55,\n",
      " '想到': 139,\n",
      " '感動': 140,\n",
      " '憑證': 110,\n",
      " '技術': 84,\n",
      " '抗體': 16,\n",
      " '抵抗': 141,\n",
      " '指出': 17,\n",
      " '提升': 85,\n",
      " '損壞': 142,\n",
      " '搭配': 86,\n",
      " '摧殘': 143,\n",
      " '據稱': 87,\n",
      " '收到': 56,\n",
      " '日': 111,\n",
      " '日本': 144,\n",
      " '是': 18,\n",
      " '時間': 19,\n",
      " '更': 20,\n",
      " '最大': 112,\n",
      " '最新': 21,\n",
      " '最近': 57,\n",
      " '月': 22,\n",
      " '有': 145,\n",
      " '有史': 113,\n",
      " '有趣': 58,\n",
      " '本週': 88,\n",
      " '染疫': 23,\n",
      " '歡用': 146,\n",
      " '歲': 147,\n",
      " '比': 59,\n",
      " '民眾': 24,\n",
      " '沒': 148,\n",
      " '注資': 60,\n",
      " '無奈電子': 149,\n",
      " '無法': 150,\n",
      " '無線': 61,\n",
      " '爆出': 89,\n",
      " '物理': 62,\n",
      " '玩': 151,\n",
      " '甚至': 25,\n",
      " '產品': 152,\n",
      " '由': 63,\n",
      " '當喜': 153,\n",
      " '疾病': 26,\n",
      " '病毒': 27,\n",
      " '的': 28,\n",
      " '監管': 114,\n",
      " '相當': 29,\n",
      " '研究': 30,\n",
      " '科技': 90,\n",
      " '突破': 64,\n",
      " '突破性': 91,\n",
      " '竟然': 154,\n",
      " '筆寫': 155,\n",
      " '米爾納': 65,\n",
      " '終究': 156,\n",
      " '網友': 157,\n",
      " '續航': 92,\n",
      " '美元': 66,\n",
      " '美國存': 115,\n",
      " '而': 158,\n",
      " '聆': 67,\n",
      " '聽': 68,\n",
      " '能維持': 31,\n",
      " '自距': 69,\n",
      " '英國': 70,\n",
      " '蘋果': 93,\n",
      " '計畫': 71,\n",
      " '託': 116,\n",
      " '話題': 94,\n",
      " '調查': 117,\n",
      " '讓': 159,\n",
      " '跌幅': 118,\n",
      " '近日': 72,\n",
      " '週四': 119,\n",
      " '遊戲': 160,\n",
      " '還發現': 32,\n",
      " '鄰星': 73,\n",
      " '里程': 95,\n",
      " '重啟': 96,\n",
      " '開反': 120,\n",
      " '阿嬤相': 161,\n",
      " '阿嬤親': 162,\n",
      " '阿里巴巴': 121,\n",
      " '降低成本': 97,\n",
      " '集團展': 122,\n",
      " '離太陽': 74,\n",
      " '電動車': 98,\n",
      " '電池': 99,\n",
      " '電訊號': 75,\n",
      " '霍金': 76,\n",
      " '高齡': 163,\n",
      " '（': 33,\n",
      " '）': 34,\n",
      " '，': 35}\n"
     ]
    }
   ],
   "source": [
    "pprint.pprint(dictionary.token2id)"
   ]
  },
  {
   "cell_type": "code",
   "execution_count": 10,
   "metadata": {},
   "outputs": [
    {
     "name": "stdout",
     "output_type": "stream",
     "text": [
      "[(58, 2), (131, 1)]\n"
     ]
    }
   ],
   "source": [
    "new_text = \"任天堂 有趣 有趣\"\n",
    "new_vec = dictionary.doc2bow(new_text.split())\n",
    "print(new_vec)"
   ]
  },
  {
   "cell_type": "code",
   "execution_count": 11,
   "metadata": {},
   "outputs": [
    {
     "name": "stdout",
     "output_type": "stream",
     "text": [
      "[[(131, 1)], [(58, 1)]]\n"
     ]
    }
   ],
   "source": [
    "alist = [\n",
    "    [\"任天堂\"],\n",
    "    [\"有趣\"]\n",
    "]\n",
    "bow_corpus = [dictionary.doc2bow(text) for text in alist ]\n",
    "print(bow_corpus)"
   ]
  },
  {
   "cell_type": "code",
   "execution_count": 12,
   "metadata": {},
   "outputs": [
    {
     "name": "stdout",
     "output_type": "stream",
     "text": [
      "[[(58, 1), (131, 1)], [(58, 1)]]\n"
     ]
    }
   ],
   "source": [
    "alist = [\n",
    "    [\"任天堂\",\"有趣\"],\n",
    "    [\"有趣\"]\n",
    "]\n",
    "bow_corpus = [dictionary.doc2bow(text) for text in alist ]\n",
    "print(bow_corpus)"
   ]
  },
  {
   "cell_type": "markdown",
   "metadata": {},
   "source": [
    "### 每個()中的第一個數字對應於字典中token 的ID，第二個數字對應於此token的計數。"
   ]
  },
  {
   "cell_type": "code",
   "execution_count": 13,
   "metadata": {},
   "outputs": [
    {
     "name": "stdout",
     "output_type": "stream",
     "text": [
      "[[(0, 1), (1, 1), (2, 1), (3, 1), (4, 1), (5, 2), (6, 1), (7, 1), (8, 1), (9, 1), (10, 1), (11, 1), (12, 1), (13, 1), (14, 1), (15, 1), (16, 2), (17, 1), (18, 1), (19, 1), (20, 1), (21, 1), (22, 1), (23, 1), (24, 1), (25, 1), (26, 1), (27, 1), (28, 2), (29, 1), (30, 2), (31, 1), (32, 1), (33, 1), (34, 1), (35, 4)], [(5, 1), (28, 3), (33, 1), (34, 1), (35, 2), (36, 3), (37, 1), (38, 1), (39, 1), (40, 1), (41, 1), (42, 1), (43, 1), (44, 1), (45, 1), (46, 1), (47, 1), (48, 1), (49, 1), (50, 1), (51, 1), (52, 1), (53, 1), (54, 1), (55, 1), (56, 1), (57, 1), (58, 1), (59, 1), (60, 1), (61, 1), (62, 1), (63, 1), (64, 1), (65, 1), (66, 1), (67, 1), (68, 1), (69, 1), (70, 1), (71, 1), (72, 1), (73, 1), (74, 1), (75, 1), (76, 1)], [(28, 1), (35, 2), (41, 2), (71, 1), (77, 1), (78, 1), (79, 1), (80, 1), (81, 1), (82, 1), (83, 1), (84, 1), (85, 1), (86, 1), (87, 1), (88, 1), (89, 1), (90, 1), (91, 1), (92, 1), (93, 1), (94, 1), (95, 1), (96, 1), (97, 1), (98, 1), (99, 1)], [(5, 1), (33, 2), (34, 2), (35, 1), (100, 1), (101, 1), (102, 1), (103, 1), (104, 1), (105, 1), (106, 1), (107, 1), (108, 1), (109, 1), (110, 1), (111, 1), (112, 1), (113, 1), (114, 1), (115, 1), (116, 1), (117, 1), (118, 1), (119, 1), (120, 1), (121, 2), (122, 1)], [(5, 1), (19, 1), (28, 3), (35, 4), (123, 1), (124, 1), (125, 1), (126, 1), (127, 1), (128, 1), (129, 1), (130, 2), (131, 1), (132, 1), (133, 1), (134, 1), (135, 1), (136, 1), (137, 1), (138, 1), (139, 1), (140, 1), (141, 1), (142, 1), (143, 1), (144, 1), (145, 1), (146, 1), (147, 1), (148, 1), (149, 1), (150, 1), (151, 1), (152, 1), (153, 1), (154, 1), (155, 1), (156, 1), (157, 1), (158, 1), (159, 1), (160, 2), (161, 1), (162, 1), (163, 1)]]\n"
     ]
    }
   ],
   "source": [
    "bow_corpus = [dictionary.doc2bow(text) for text in processed_corpus ]\n",
    "print(bow_corpus)"
   ]
  },
  {
   "cell_type": "markdown",
   "metadata": {},
   "source": [
    "## 模型"
   ]
  },
  {
   "cell_type": "code",
   "execution_count": 14,
   "metadata": {},
   "outputs": [],
   "source": [
    "from gensim import models"
   ]
  },
  {
   "cell_type": "code",
   "execution_count": 15,
   "metadata": {},
   "outputs": [
    {
     "data": {
      "text/plain": [
       "<gensim.models.tfidfmodel.TfidfModel at 0x7fc04b836d50>"
      ]
     },
     "execution_count": 15,
     "metadata": {},
     "output_type": "execute_result"
    }
   ],
   "source": [
    "tfidf = models.TfidfModel(bow_corpus)\n",
    "tfidf"
   ]
  },
  {
   "cell_type": "code",
   "execution_count": 16,
   "metadata": {},
   "outputs": [
    {
     "name": "stdout",
     "output_type": "stream",
     "text": [
      "[(58, 0.894427190999916), (131, 0.447213595499958)]\n"
     ]
    }
   ],
   "source": [
    "print(tfidf[dictionary.doc2bow(new_text.split())])"
   ]
  },
  {
   "cell_type": "markdown",
   "metadata": {},
   "source": [
    "### (58, 0.894427190999916) 中，58是token id(58 => 有趣)， 0.894427190999916 是tf-idf權重"
   ]
  },
  {
   "cell_type": "markdown",
   "metadata": {},
   "source": [
    "##### 參考資料 https://radimrehurek.com/gensim/auto_examples/core/run_core_concepts.html"
   ]
  },
  {
   "cell_type": "code",
   "execution_count": null,
   "metadata": {},
   "outputs": [],
   "source": []
  }
 ],
 "metadata": {
  "kernelspec": {
   "display_name": "Python 3",
   "language": "python",
   "name": "python3"
  },
  "language_info": {
   "codemirror_mode": {
    "name": "ipython",
    "version": 3
   },
   "file_extension": ".py",
   "mimetype": "text/x-python",
   "name": "python",
   "nbconvert_exporter": "python",
   "pygments_lexer": "ipython3",
   "version": "3.7.6"
  }
 },
 "nbformat": 4,
 "nbformat_minor": 4
}
