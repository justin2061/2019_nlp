{
 "cells": [
  {
   "cell_type": "code",
   "execution_count": 6,
   "metadata": {},
   "outputs": [
    {
     "name": "stdout",
     "output_type": "stream",
     "text": [
      "Collecting hanziconv\n",
      "\u001b[?25l  Downloading https://files.pythonhosted.org/packages/63/71/b89cb63077fd807fe31cf7c016a06e7e579a289d8a37aa24a30282d02dd2/hanziconv-0.3.2.tar.gz (276kB)\n",
      "\u001b[K     |████████████████████████████████| 286kB 14.8MB/s eta 0:00:01\n",
      "\u001b[?25hBuilding wheels for collected packages: hanziconv\n",
      "  Building wheel for hanziconv (setup.py) ... \u001b[?25ldone\n",
      "\u001b[?25h  Created wheel for hanziconv: filename=hanziconv-0.3.2-py2.py3-none-any.whl size=23215 sha256=dc668141940d9289ebd577c15a49339f1ac63bb9aad44818ec802479e2ef7cc9\n",
      "  Stored in directory: /home/jovyan/.cache/pip/wheels/03/d8/3c/c39898fa9c9ce6e34b0ab4c6604892462d440c743715c94054\n",
      "Successfully built hanziconv\n",
      "Installing collected packages: hanziconv\n",
      "Successfully installed hanziconv-0.3.2\n"
     ]
    }
   ],
   "source": [
    "!pip install hanziconv"
   ]
  },
  {
   "cell_type": "code",
   "execution_count": 6,
   "metadata": {},
   "outputs": [
    {
     "name": "stdout",
     "output_type": "stream",
     "text": [
      "Collecting gensim\n",
      "  Downloading gensim-3.8.3-cp37-cp37m-manylinux1_x86_64.whl (24.2 MB)\n",
      "\u001b[K     |████████████████████████████████| 24.2 MB 10.2 MB/s eta 0:00:01\n",
      "\u001b[?25hCollecting smart-open>=1.8.1\n",
      "  Downloading smart_open-2.1.0.tar.gz (116 kB)\n",
      "\u001b[K     |████████████████████████████████| 116 kB 56.0 MB/s eta 0:00:01\n",
      "\u001b[?25hRequirement already satisfied: scipy>=0.18.1 in /opt/conda/lib/python3.7/site-packages (from gensim) (1.4.1)\n",
      "Requirement already satisfied: six>=1.5.0 in /opt/conda/lib/python3.7/site-packages (from gensim) (1.15.0)\n",
      "Requirement already satisfied: numpy>=1.11.3 in /opt/conda/lib/python3.7/site-packages (from gensim) (1.18.5)\n",
      "Requirement already satisfied: requests in /opt/conda/lib/python3.7/site-packages (from smart-open>=1.8.1->gensim) (2.23.0)\n",
      "Collecting boto\n",
      "  Downloading boto-2.49.0-py2.py3-none-any.whl (1.4 MB)\n",
      "\u001b[K     |████████████████████████████████| 1.4 MB 48.2 MB/s eta 0:00:01\n",
      "\u001b[?25hCollecting boto3\n",
      "  Downloading boto3-1.14.20-py2.py3-none-any.whl (128 kB)\n",
      "\u001b[K     |████████████████████████████████| 128 kB 46.3 MB/s eta 0:00:01\n",
      "\u001b[?25hRequirement already satisfied: certifi>=2017.4.17 in /opt/conda/lib/python3.7/site-packages (from requests->smart-open>=1.8.1->gensim) (2020.4.5.2)\n",
      "Requirement already satisfied: chardet<4,>=3.0.2 in /opt/conda/lib/python3.7/site-packages (from requests->smart-open>=1.8.1->gensim) (3.0.4)\n",
      "Requirement already satisfied: idna<3,>=2.5 in /opt/conda/lib/python3.7/site-packages (from requests->smart-open>=1.8.1->gensim) (2.8)\n",
      "Requirement already satisfied: urllib3!=1.25.0,!=1.25.1,<1.26,>=1.21.1 in /opt/conda/lib/python3.7/site-packages (from requests->smart-open>=1.8.1->gensim) (1.24.3)\n",
      "Collecting botocore<1.18.0,>=1.17.20\n",
      "  Downloading botocore-1.17.20-py2.py3-none-any.whl (6.3 MB)\n",
      "\u001b[K     |████████████████████████████████| 6.3 MB 48.7 MB/s eta 0:00:01\n",
      "\u001b[?25hCollecting jmespath<1.0.0,>=0.7.1\n",
      "  Downloading jmespath-0.10.0-py2.py3-none-any.whl (24 kB)\n",
      "Collecting s3transfer<0.4.0,>=0.3.0\n",
      "  Downloading s3transfer-0.3.3-py2.py3-none-any.whl (69 kB)\n",
      "\u001b[K     |████████████████████████████████| 69 kB 18.6 MB/s eta 0:00:01\n",
      "\u001b[?25hRequirement already satisfied: python-dateutil<3.0.0,>=2.1 in /opt/conda/lib/python3.7/site-packages (from botocore<1.18.0,>=1.17.20->boto3->smart-open>=1.8.1->gensim) (2.8.1)\n",
      "Collecting docutils<0.16,>=0.10\n",
      "  Downloading docutils-0.15.2-py3-none-any.whl (547 kB)\n",
      "\u001b[K     |████████████████████████████████| 547 kB 50.1 MB/s eta 0:00:01\n",
      "\u001b[?25hBuilding wheels for collected packages: smart-open\n",
      "  Building wheel for smart-open (setup.py) ... \u001b[?25ldone\n",
      "\u001b[?25h  Created wheel for smart-open: filename=smart_open-2.1.0-py3-none-any.whl size=110317 sha256=f334e6ce295871c0c441255aba0436b7a50746aaf60830a40f207d77917bbad0\n",
      "  Stored in directory: /home/jovyan/.cache/pip/wheels/56/b5/6d/86dbe4f29d4688e5163a8b8c6b740494310040286fca4dc648\n",
      "Successfully built smart-open\n",
      "Installing collected packages: boto, jmespath, docutils, botocore, s3transfer, boto3, smart-open, gensim\n",
      "Successfully installed boto-2.49.0 boto3-1.14.20 botocore-1.17.20 docutils-0.15.2 gensim-3.8.3 jmespath-0.10.0 s3transfer-0.3.3 smart-open-2.1.0\n"
     ]
    }
   ],
   "source": [
    "!pip install gensim"
   ]
  },
  {
   "cell_type": "code",
   "execution_count": 7,
   "metadata": {},
   "outputs": [
    {
     "name": "stdout",
     "output_type": "stream",
     "text": [
      "Requirement already satisfied: jieba in /opt/conda/lib/python3.7/site-packages (0.42.1)\r\n"
     ]
    }
   ],
   "source": [
    "!pip install jieba"
   ]
  },
  {
   "cell_type": "code",
   "execution_count": 5,
   "metadata": {},
   "outputs": [
    {
     "name": "stdout",
     "output_type": "stream",
     "text": [
      "Collecting smart_open==1.10.0\n",
      "\u001b[?25l  Downloading https://files.pythonhosted.org/packages/6e/14/47cf88d290e4681be35f3b6e8889ba26ed809a0ba14336dc8ae46ffcfda8/smart_open-1.10.0.tar.gz (99kB)\n",
      "\u001b[K     |████████████████████████████████| 102kB 9.6MB/s eta 0:00:01\n",
      "\u001b[?25hRequirement already satisfied: requests in /opt/conda/lib/python3.7/site-packages (from smart_open==1.10.0) (2.22.0)\n",
      "Requirement already satisfied: boto3 in /opt/conda/lib/python3.7/site-packages (from smart_open==1.10.0) (1.13.19)\n",
      "Collecting google-cloud-storage\n",
      "\u001b[?25l  Downloading https://files.pythonhosted.org/packages/07/92/ac0030dbad567ab07f26261dd6a980490df32c7a988b74ad199b3e9ecc09/google_cloud_storage-1.28.1-py2.py3-none-any.whl (80kB)\n",
      "\u001b[K     |████████████████████████████████| 81kB 15.4MB/s eta 0:00:01\n",
      "\u001b[?25hRequirement already satisfied: urllib3!=1.25.0,!=1.25.1,<1.26,>=1.21.1 in /opt/conda/lib/python3.7/site-packages (from requests->smart_open==1.10.0) (1.25.6)\n",
      "Requirement already satisfied: certifi>=2017.4.17 in /opt/conda/lib/python3.7/site-packages (from requests->smart_open==1.10.0) (2019.9.11)\n",
      "Requirement already satisfied: idna<2.9,>=2.5 in /opt/conda/lib/python3.7/site-packages (from requests->smart_open==1.10.0) (2.8)\n",
      "Requirement already satisfied: chardet<3.1.0,>=3.0.2 in /opt/conda/lib/python3.7/site-packages (from requests->smart_open==1.10.0) (3.0.4)\n",
      "Requirement already satisfied: botocore<1.17.0,>=1.16.19 in /opt/conda/lib/python3.7/site-packages (from boto3->smart_open==1.10.0) (1.16.19)\n",
      "Requirement already satisfied: s3transfer<0.4.0,>=0.3.0 in /opt/conda/lib/python3.7/site-packages (from boto3->smart_open==1.10.0) (0.3.3)\n",
      "Requirement already satisfied: jmespath<1.0.0,>=0.7.1 in /opt/conda/lib/python3.7/site-packages (from boto3->smart_open==1.10.0) (0.10.0)\n",
      "Collecting google-cloud-core<2.0dev,>=1.2.0\n",
      "  Downloading https://files.pythonhosted.org/packages/89/3c/8a7531839028c9690e6d14c650521f3bbaf26e53baaeb2784b8c3eb2fb97/google_cloud_core-1.3.0-py2.py3-none-any.whl\n",
      "Collecting google-resumable-media<0.6dev,>=0.5.0\n",
      "  Downloading https://files.pythonhosted.org/packages/35/9e/f73325d0466ce5bdc36333f1aeb2892ead7b76e79bdb5c8b0493961fa098/google_resumable_media-0.5.0-py2.py3-none-any.whl\n",
      "Collecting google-auth<2.0dev,>=1.11.0\n",
      "\u001b[?25l  Downloading https://files.pythonhosted.org/packages/88/8c/d161e4653a574e2299bc7d1cae14f08db74f828febaf30a1b7e216680085/google_auth-1.16.0-py2.py3-none-any.whl (90kB)\n",
      "\u001b[K     |████████████████████████████████| 92kB 22.1MB/s eta 0:00:01\n",
      "\u001b[?25hRequirement already satisfied: docutils<0.16,>=0.10 in /opt/conda/lib/python3.7/site-packages (from botocore<1.17.0,>=1.16.19->boto3->smart_open==1.10.0) (0.15.2)\n",
      "Requirement already satisfied: python-dateutil<3.0.0,>=2.1 in /opt/conda/lib/python3.7/site-packages (from botocore<1.17.0,>=1.16.19->boto3->smart_open==1.10.0) (2.8.1)\n",
      "Collecting google-api-core<2.0.0dev,>=1.16.0\n",
      "\u001b[?25l  Downloading https://files.pythonhosted.org/packages/4c/b9/c0dd70bcdf06a43d1e21f387448e7997e0ce91f10d0fbee359af4cde1571/google_api_core-1.17.0-py2.py3-none-any.whl (70kB)\n",
      "\u001b[K     |████████████████████████████████| 71kB 19.1MB/s eta 0:00:01\n",
      "\u001b[?25hRequirement already satisfied: six in /opt/conda/lib/python3.7/site-packages (from google-resumable-media<0.6dev,>=0.5.0->google-cloud-storage->smart_open==1.10.0) (1.13.0)\n",
      "Requirement already satisfied: setuptools>=40.3.0 in /opt/conda/lib/python3.7/site-packages (from google-auth<2.0dev,>=1.11.0->google-cloud-storage->smart_open==1.10.0) (41.6.0.post20191101)\n",
      "Requirement already satisfied: pyasn1-modules>=0.2.1 in /opt/conda/lib/python3.7/site-packages (from google-auth<2.0dev,>=1.11.0->google-cloud-storage->smart_open==1.10.0) (0.2.7)\n",
      "Requirement already satisfied: rsa<4.1,>=3.1.4 in /opt/conda/lib/python3.7/site-packages (from google-auth<2.0dev,>=1.11.0->google-cloud-storage->smart_open==1.10.0) (4.0)\n",
      "Requirement already satisfied: cachetools<5.0,>=2.0.0 in /opt/conda/lib/python3.7/site-packages (from google-auth<2.0dev,>=1.11.0->google-cloud-storage->smart_open==1.10.0) (3.1.1)\n",
      "Requirement already satisfied: pytz in /opt/conda/lib/python3.7/site-packages (from google-api-core<2.0.0dev,>=1.16.0->google-cloud-core<2.0dev,>=1.2.0->google-cloud-storage->smart_open==1.10.0) (2019.3)\n",
      "Requirement already satisfied: protobuf>=3.4.0 in /opt/conda/lib/python3.7/site-packages (from google-api-core<2.0.0dev,>=1.16.0->google-cloud-core<2.0dev,>=1.2.0->google-cloud-storage->smart_open==1.10.0) (3.9.2)\n",
      "Collecting googleapis-common-protos<2.0dev,>=1.6.0\n",
      "  Downloading https://files.pythonhosted.org/packages/05/46/168fd780f594a4d61122f7f3dc0561686084319ad73b4febbf02ae8b32cf/googleapis-common-protos-1.51.0.tar.gz\n",
      "Requirement already satisfied: pyasn1<0.5.0,>=0.4.6 in /opt/conda/lib/python3.7/site-packages (from pyasn1-modules>=0.2.1->google-auth<2.0dev,>=1.11.0->google-cloud-storage->smart_open==1.10.0) (0.4.7)\n",
      "Building wheels for collected packages: smart-open, googleapis-common-protos\n",
      "  Building wheel for smart-open (setup.py) ... \u001b[?25ldone\n",
      "\u001b[?25h  Created wheel for smart-open: filename=smart_open-1.10.0-cp37-none-any.whl size=90634 sha256=2ab616bcd5e86cd751baa05eeb5bffb55946074599861ca2d95988b5cbaa3b2e\n",
      "  Stored in directory: /home/jovyan/.cache/pip/wheels/f8/00/d4/a6b8b6aa241459103d19e757f96645549dd562d5b5de653f44\n",
      "  Building wheel for googleapis-common-protos (setup.py) ... \u001b[?25ldone\n",
      "\u001b[?25h  Created wheel for googleapis-common-protos: filename=googleapis_common_protos-1.51.0-cp37-none-any.whl size=77593 sha256=cd91e342c7602ef0fcff9642ca3fbb3e6fc44560f964e77e36b823b01bc83cde\n",
      "  Stored in directory: /home/jovyan/.cache/pip/wheels/2c/f9/7f/6eb87e636072bf467e25348bbeb96849333e6a080dca78f706\n",
      "Successfully built smart-open googleapis-common-protos\n",
      "Installing collected packages: google-auth, googleapis-common-protos, google-api-core, google-cloud-core, google-resumable-media, google-cloud-storage, smart-open\n",
      "  Found existing installation: google-auth 1.7.0\n",
      "    Uninstalling google-auth-1.7.0:\n",
      "      Successfully uninstalled google-auth-1.7.0\n",
      "  Found existing installation: smart-open 2.0.0\n",
      "    Uninstalling smart-open-2.0.0:\n",
      "      Successfully uninstalled smart-open-2.0.0\n",
      "Successfully installed google-api-core-1.17.0 google-auth-1.16.0 google-cloud-core-1.3.0 google-cloud-storage-1.28.1 google-resumable-media-0.5.0 googleapis-common-protos-1.51.0 smart-open-1.10.0\n"
     ]
    }
   ],
   "source": [
    "!pip install smart_open==1.10.0"
   ]
  },
  {
   "cell_type": "markdown",
   "metadata": {},
   "source": [
    "## 維基百科下載\n",
    "https://zh.wikipedia.org/wiki/Wikipedia:%E6%95%B0%E6%8D%AE%E5%BA%93%E4%B8%8B%E8%BD%BD"
   ]
  },
  {
   "cell_type": "code",
   "execution_count": 1,
   "metadata": {},
   "outputs": [
    {
     "name": "stdout",
     "output_type": "stream",
     "text": [
      "--2020-07-14 07:49:09--  https://dumps.wikimedia.org/zhwiki/latest/zhwiki-latest-pages-meta-current.xml.bz2\n",
      "Resolving dumps.wikimedia.org (dumps.wikimedia.org)... 208.80.154.7, 2620:0:861:1:208:80:154:7\n",
      "Connecting to dumps.wikimedia.org (dumps.wikimedia.org)|208.80.154.7|:443... connected.\n",
      "HTTP request sent, awaiting response... 200 OK\n",
      "Length: 2755627438 (2.6G) [application/octet-stream]\n",
      "Saving to: ‘zhwiki-latest-pages-meta-current.xml.bz2.2’\n",
      "\n",
      "zhwiki-latest-pages 100%[===================>]   2.57G  4.98MB/s    in 8m 53s  \n",
      "\n",
      "2020-07-14 07:58:03 (4.93 MB/s) - ‘zhwiki-latest-pages-meta-current.xml.bz2.2’ saved [2755627438/2755627438]\n",
      "\n"
     ]
    }
   ],
   "source": [
    "!wget https://dumps.wikimedia.org/zhwiki/latest/zhwiki-latest-pages-meta-current.xml.bz2"
   ]
  },
  {
   "cell_type": "code",
   "execution_count": 3,
   "metadata": {},
   "outputs": [
    {
     "name": "stdout",
     "output_type": "stream",
     "text": [
      "zhwiki-latest-pages-meta-current.xml.bz2\r\n",
      "zhwiki-latest-pages-meta-current.xml.bz2.202001\r\n",
      "zhwiki-latest-pages-meta-current.xml.bz2.202004\r\n"
     ]
    }
   ],
   "source": [
    "!ls *.bz2*"
   ]
  },
  {
   "cell_type": "code",
   "execution_count": 8,
   "metadata": {},
   "outputs": [
    {
     "name": "stdout",
     "output_type": "stream",
     "text": [
      "zhwiki-latest-pages-meta-current.xml.bz2\n"
     ]
    }
   ],
   "source": [
    "wiki_filepath = 'zhwiki-latest-pages-meta-current.xml.bz2'\n",
    "print(wiki_filepath)"
   ]
  },
  {
   "cell_type": "code",
   "execution_count": 9,
   "metadata": {},
   "outputs": [],
   "source": [
    "from gensim.corpora import WikiCorpus\n",
    "import sys"
   ]
  },
  {
   "cell_type": "code",
   "execution_count": 10,
   "metadata": {},
   "outputs": [],
   "source": [
    "wiki_corpus = WikiCorpus(wiki_filepath, dictionary = {})"
   ]
  },
  {
   "cell_type": "code",
   "execution_count": 11,
   "metadata": {},
   "outputs": [
    {
     "data": {
      "text/plain": [
       "<gensim.corpora.wikicorpus.WikiCorpus at 0x7f54ecac5290>"
      ]
     },
     "execution_count": 11,
     "metadata": {},
     "output_type": "execute_result"
    }
   ],
   "source": [
    "wiki_corpus"
   ]
  },
  {
   "cell_type": "code",
   "execution_count": 12,
   "metadata": {},
   "outputs": [
    {
     "name": "stdout",
     "output_type": "stream",
     "text": [
      "['歐幾里得', '西元前三世紀的古希臘數學家', '現在被認為是幾何之父', '此畫為拉斐爾的作品', '雅典學院', '数学', '是利用符号语言研究數量', '结构', '变化以及空间等概念的一門学科', '从某种角度看屬於形式科學的一種', '數學透過抽象化和邏輯推理的使用', '由計數', '計算', '數學家們拓展這些概念', '對數學基本概念的完善', '早在古埃及', '而在古希臘那裡有更為嚴謹的處理', '從那時開始', '數學的發展便持續不斷地小幅進展', '世紀的文藝復興時期', '致使數學的加速发展', '直至今日', '今日', '數學使用在不同的領域中', '包括科學', '工程', '醫學', '經濟學和金融學等', '有時亦會激起新的數學發現', '並導致全新學科的發展', '數學家也研究純數學', '就是數學本身的实质性內容', '而不以任何實際應用為目標', '雖然許多研究以純數學開始', '但其过程中也發現許多應用之处', '詞源', '西方语言中', '數學', '一詞源自於古希臘語的', '其有', '學習', '學問', '科學', '數學研究', '即使在其語源內', '其形容詞', '意思為', '和學習有關的', '用功的', '亦會被用來指', '數學的', '其在英语中表面上的複數形式', '及在法语中的表面複數形式', '可溯至拉丁文的中性複數', '由西塞罗譯自希臘文複數', '此一希臘語被亚里士多德拿來指', '萬物皆數', '的概念', '汉字表示的', '數學', '一詞大約产生于中国宋元時期', '多指象數之學', '但有時也含有今天上的數學意義', '例如', '秦九韶的', '數學九章', '永樂大典', '數書九章', '也被宋代周密所著的', '癸辛雜識', '記爲', '數學大略', '數學通軌', '明代柯尚遷著', '数学钥', '清代杜知耕著', '數學拾遺', '清代丁取忠撰', '直到', '經過中國數學名詞審查委員會研究', '算學', '數學', '兩詞的使用狀況後', '確認以', '數學', '表示今天意義上的數學含義', '历史', '奇普', '印加帝國時所使用的計數工具', '玛雅数字', '數學有着久遠的歷史', '中國古代的六艺之一就有', '數學一詞在西方有希腊语詞源', 'mathematikós', '意思是', '学问的基础', '源于', 'máthema', '科学', '知识', '学问', '時間的長短等抽象的數量關係', '比如时间单位有日', '季節和年等', '算術', '加減乘除', '也自然而然地產生了', '歷史上曾有過許多不同的記數系統', '在最初有歷史記錄的時候', '為了解數字間的關係', '為了測量土地', '以及為了預測天文事件而形成的', '结构', '空间及时间方面的研究', '到了', '世纪', '算术', '微积分的概念也在此時形成', '随着數學轉向形式化', '從古至今', '數學便一直不斷地延展', '且與科學有豐富的相互作用', '兩者的發展都受惠於彼此', '在歷史上有著許多數學發現', '並且直至今日都不斷地有新的發現', '據mikhail', 'sevryuk於', '月的期刊中所說', '數學評論的創刊年份', '現已超過了一百九十萬份', '而且每年還增加超過七萬五千份', '形成', '純數學與應用數學及美學', '牛頓', '微積分的發明者之一', '每當有涉及數量', '結構', '空間及變化等方面的困難問題時', '而這往往也拓展了數學的研究範疇', '一開始', '數學的運用可見於貿易', '土地測量及之後的天文學', '今日', '且數學本身亦給出了許多的問題', '牛頓和莱布尼兹是微積分的發明者', '費曼發明了費曼路徑積分', '這是推理及物理洞察二者的產物', '而今日的弦理論亦引申出新的數學', '一些數學只和生成它的領域有關', '且用來解答此領域的更多問題', '且可以成為一般的數學概念', '即使是', '最純的', '數學通常亦有實際的用途', '此一非比尋常的事實', '年諾貝爾物理獎得主維格納稱為', '如同大多數的研究領域', '主要的分歧為純數學和應用數學', '在應用數學內', '又被分成兩大領域', '並且變成了它們自身的學科', '統計學和電腦科學', '許多數學家談論數學的', '優美', '其內在的美學及美', '簡單', '一般化', '即為美的一種', '另外亦包括巧妙的證明', '又或者是加快計算的數值方法', '如快速傅立葉變換', '高德菲', '哈羅德', '哈代在', '一個數學家的自白', '符號', '語言與精确性', '在現代的符號中', '此一圖像即產生自x', 'cos', 'arccos', 'sin〡', 'arcsin', 'cos〡', '世紀後才被發明出來的', '在此之前', '數學以文字的形式書寫出來', '這種形式會限制了數學的發展', '但初學者卻常對此望而却步', '它被極度的壓縮', '少量的符號包含著大量的訊息', '如同音樂符號一般', '現今的數學符號有明確的語法', '並且有效地對訊息作編碼', '這是其他書寫方式難以做到的', '符号化和形式化使得数学迅速发展', '數學語言亦對初學者而言感到困難', '亦困惱著初學者的', '開放', '等字在數學裡有著特別的意思', '數學術語亦包括如', '同胚', '可積性', '等專有名詞', '數學需要比日常用語更多的精確性', '嚴謹', '但在现实应用中', '定理', '希臘人期許著仔細的論證', '但在牛頓的時代', '所使用的方法則較不嚴謹', '牛頓為了解決問題所做的定義', '今日', '當大量的計算難以被驗證時', '其證明亦很難說是足夠地嚴謹', '公理在傳統的思想中是', '不證自明的真理', '但這種想法是有問題的', '在形式上', '公理只是一串符號', '但依據哥德爾不完備定理', '儘管如此', '在此意義下', '數學作為科學', '卡爾', '弗里德里希', '高斯', '卡爾', '弗里德里希', '高斯稱數學為', '科學的皇后', '在拉丁原文', '以及其德語', '對應於', '科學', '的單字的意思皆為知識', '領域', '而實際上', '科學', '若認為科学是只指物理的世界時', '則數學', '或至少是純數學', '不會是一門科學', '愛因斯坦曾如此描述', '數學定律越和現實有關', '它們越不確定', '若它們越是確定的話', '它們和現實越不會有關', '且因此不是卡爾', '波普爾所定義的科学', '但在', '年代時', '且波普爾推斷', '大部份的數學定律', '如物理及生物學一樣', '是假設演繹的', '比它現在看起來更接近', '然而', '其他的思想家', '如較著名的拉卡托斯', '另一觀點則為某些科學領域', '如理論物理', '是其公理為嘗試著符合現實的數學', '而事實上', '理論物理學家齊曼', 'john', 'ziman', '即認為科學是一種公眾知識', '因此亦包含著數學', '在任何的情況下', '減輕了數學不使用科學方法的缺點', '在史蒂芬', '沃爾夫勒姆', '年的著作', '一種新科學', '中他提出', '數學家對此的態度並不一致', '且因此基本上是個哲學家', '是低估了其美學方面的重要性', '被創造', '如藝術', '或是', '被發現', '如科學', '的爭議', '大学院系划分中常见', '科学和数学系', '實際上', '但在細節上卻會分開', '數學的各領域', '有如反映在中國算盤上的一般', '如上所述', '了解數字間的關係', '測量土地及預測天文事件', '這四種需要大致地與數量', '結構', '空間及變化', '即算術', '代數', '幾何及分析', '等數學上廣泛的子領域相關連著', '除了上述主要的關注之外', '至邏輯', '至集合論', '基礎', '至不同科學的經驗上的數學', '應用數學', '及較近代的至不確定性的嚴格研究', '基礎與哲學', '為了闡明數學基礎', '並研究此一架構的結果', '就數學邏輯本身而言', '現代邏輯被分成遞論', '模型論和證明論', '千禧年大獎難題中的p', 'px', 'px', '數學邏輯', '集合論', '範疇論', '纯粹数学', '数量', '數量的研究起於數', '孿生質數猜想及哥德巴赫猜想', '當數系更進一步發展時', '整數被視為有理數的子集', '而有理數則包含於實數中', '連續的量即是以實數來表示的', '實數則可以被進一步廣義化成複數', '從自然數亦可以推廣到超限數', '它形式化了計數至無限的這一概念', '另一個研究的領域為大小', '阿列夫数', '自然數', '整數', '有理數', '實數', '複數', '結構', '這些物件的結構性質被探討於群', 'zh', 'cn', 'zh', 'tw', '等抽象系統中', '該些物件事實上也就是這樣的系統', '此為代數的領域', '在此有一個很重要的概念', '即廣義化至向量空間的向量', '它於線性代數中被研究', '數量', '結構及空間', '即變化', '纯粹数学', '是研究抽象结构的理论', '结构', '布尔巴基学派认为', '有三种基本的抽象结构', '代数结构', '序结构', '偏序', '全序', '拓扑结构', '邻域', '极限', '连通性', '维数', 'px', 'px', 'px', 'px', '數論', '群論', '圖論', '序理論', '空間', '空間的研究源自於幾何', '尤其是欧几里得几何', '三角學則結合了空間及數', '且包含有著名的勾股定理', '非歐幾里得幾何', '及拓撲學', '數和空間在解析幾何', '結合了數和空間的概念', '亦有著拓撲群的研究', '結合了結構與空間', '李群被用來研究空間', '結構及變化', '在其許多分支中', '並包含有存在已久的龐加萊猜想', '以及有爭議的四色定理', '龐加萊猜想已在', '年确认由俄罗斯数学家格里戈里', '佩雷尔曼證明', '而四色定理已在', '年由凱尼斯', '阿佩爾和沃夫岡', '哈肯用電腦證明', '而從來沒有由人力來驗證過', 'px', 'px', 'px', 'px', 'px', 'px', '幾何', '三角學', '微分幾何', '拓撲學', 'zh', 'cn', '分形', 'zh', 'tw', '碎形', '測度論', '變化', '而微積分更為研究變化的有利工具', '函數诞生於此', '做為描述一變化的量的核心概念', '而複分析則為複數的等價領域', '黎曼猜想', '數學最基本的未決問題之一', '便是以複分析來描述的', '泛函分析注重在函數的', '一般為無限維', '空間上', '而這在微分方程中被研究', 'px', 'px', 'px', 'px', 'px', 'px', '微積分', '向量分析', '微分方程', '動力系統', '混沌理論', '複分析', '離散數學', '這包含有可計算理論', '計算複雜性理論及資訊理論', '這包含現知最有力的模型', '圖靈機', '儘管電腦硬體的快速進步', '最後', '且因此有壓縮及熵等概念', '作為一相對較新的領域', '離散數學有許多基本的未解問題', '其中最有名的為p', 'np問題', '千禧年大獎難題之一', '一般相信此問題的解答是否定的', 'px', 'px', 'px', '組合數學', '計算理論', '密碼學', '圖論', '應用數學', '工商業及其他領域上之現實問題', '應用數學中的一重要領域為統計學', '分析與預測', '大部份的實驗', '而比較覺得是合作團體的一份子', '數值分析研究有什麼計算方法', 'file', 'gravitation', 'space', 'source', 'png', '數學物理', 'file', 'svg', '數學流體力學', 'file', 'composite', 'trapezoidal', 'rule', 'illustration', 'small', 'svg', '數值分析', 'file', 'maximum', 'boxed', 'png', '最佳化', 'file', 'two', 'red', 'dice', 'svg', '概率论', 'file', 'oldfaithful', 'png', '統計學', 'file', 'market', 'data', 'index', 'nya', 'on', 'utc', 'png', '計量金融', 'file', 'arbitrary', 'gametree', 'solved', 'svg', 'zh', 'tw', '賽局理論', 'zh', 'cn', '博弈论', 'file', 'front', 'pareto', 'svg', '數理經濟學', 'file', 'signal', 'transduction', 'pathways', 'zh', 'cn', 'svg', '生物數學', 'file', 'linear', 'programming', 'example', 'graph', 'zh', 'png', '作業研究', 'file', 'simple', 'feedback', 'control', 'loop', 'svg', '控制論', '数学奖项', '菲尔茲奖牌正面', '數學獎通常和其他科學的獎項分開', '數學上最有名的獎為菲爾茲獎', '創立於', '每四年頒獎一次', '創立於', '兩者都頒獎於特定的工作主題', '著名的', '個問題', '稱為希爾伯特的', '個問題', '年由德國數學家大衛', '希爾伯特所提出', '另一新的七個重要問題', '稱為千禧年大獎難題', '發表於', '而當中只有一個問題', '黎曼猜想', '和希爾伯特的問題重複', '菲尔兹奖', '每四年颁奖一次', '颁给有卓越贡献的年轻数学家', '每次最多四人得奖', '得奖者须在该年元旦前未满四十岁', '是年輕數學家可以獲得的最大獎項', '它是据加拿大数学家约翰', '查尔斯', '菲尔兹的要求设立的', '菲尔兹奖被视为', '数学', '界的诺贝尔奖', '沃尔夫奖', '由沃尔夫基金会颁发', '该基金会于', '年在以色列创立', '年开始颁奖', '创始人里卡多', '沃尔夫是外交家', '实业家和慈善家', '阿贝尔奖', '每年颁发一次', '为了纪念', '年挪威著名数学家尼尔斯', '亨利克', '阿贝尔二百周年诞辰', '挪威政府宣布将开始颁发此种奖金', '奖金的数额大致同诺贝尔奖相近', '年挪威政府拨款', '亿挪威克朗作为启动资金', '扩大数学的影响', '参见', '數學哲學', '數學遊戲', '數學家列表', '教育', '算經十書', '數學競賽', '数学题', '註記', '参考书目', 'benson', 'donald', 'the', 'moment', 'of', 'proof', 'mathematical', 'epiphanies', 'oxford', 'university', 'press', 'usa', 'new', 'ed', 'edition', 'december', 'isbn', 'boyer', 'carl', 'history', 'of', 'mathematics', 'wiley', 'edition', 'march', 'isbn', 'concise', 'history', 'of', 'mathematics', 'from', 'the', 'concept', 'of', 'number', 'to', 'contemporary', 'mathematics', 'courant', 'and', 'robbins', 'what', 'is', 'mathematics', 'an', 'elementary', 'approach', 'to', 'ideas', 'and', 'methods', 'oxford', 'university', 'press', 'usa', 'edition', 'july', 'isbn', 'davis', 'philip', 'and', 'hersh', 'reuben', 'the', 'mathematical', 'experience', 'mariner', 'books', 'reprint', 'edition', 'january', 'isbn', 'gentle', 'introduction', 'to', 'the', 'world', 'of', 'mathematics', 'eves', 'howard', 'an', 'introduction', 'to', 'the', 'history', 'of', 'mathematics', 'sixth', 'edition', 'saunders', 'isbn', 'gullberg', 'jan', 'mathematics', 'from', 'the', 'birth', 'of', 'numbers', 'norton', 'company', 'st', 'edition', 'october', 'isbn', 'an', 'encyclopedic', 'overview', 'of', 'mathematics', 'presented', 'in', 'clear', 'simple', 'language', 'hazewinkel', 'michiel', 'ed', '數學百科全書', 'kluwer', 'academic', 'publishers', 'translated', 'and', 'expanded', 'version', 'of', 'soviet', 'mathematics', 'encyclopedia', 'in', 'ten', 'expensive', 'volumes', 'the', 'most', 'complete', 'and', 'authoritative', 'work', 'available', 'also', 'in', 'paperback', 'and', 'on', 'cd', 'rom', 'and', 'online', 'jourdain', 'philip', 'the', 'nature', 'of', 'mathematics', 'in', 'the', 'world', 'of', 'mathematics', 'james', 'newman', 'editor', 'dover', 'isbn', 'kline', 'morris', 'mathematical', 'thought', 'from', 'ancient', 'to', 'modern', 'times', 'oxford', 'university', 'press', 'usa', 'paperback', 'edition', 'march', 'isbn', '牛津英語詞典', 'second', 'edition', 'ed', 'john', 'simpson', 'and', 'edmund', 'weiner', 'clarendon', 'press', 'isbn', 'the', 'oxford', 'dictionary', 'of', 'english', 'etymology', 'reprint', 'isbn', 'pappas', 'theoni', 'the', 'joy', 'of', 'mathematics', 'wide', 'world', 'publishing', 'revised', 'edition', 'june', 'isbn', 'peterson', 'ivars', 'mathematical', 'tourist', 'new', 'and', 'updated', 'snapshots', 'of', 'modern', 'mathematics', 'owl', 'books', 'isbn', '参考网址', 'rusin', 'dave', 'the', 'mathematical', 'atlas', '英文版', '现代数学漫游', 'weisstein', 'eric', 'world', 'of', 'mathematics', '一个在线的数学百科全书', '数学', '另一个在线的数学百科全书', 'mathforge', '一个包含数学', '物理', 'epistemath', '数学知识', '香港科技大学', '数学网', '一个以数学史为主的网站', '怎樣研習純數學', '或統計學', '本科與基礎研究課程參考書目', '数学文化', '主要面向大学生', '大学老师和研究生', '以及中学老师和学生', '数学学习资源', '互联网上数学学习资源和教学视频', '英漢對照數學用語', 'archive', '英漢對照數學用語', 'albany', 'bureau', 'of', 'bilingual', 'education', 'see', 'profile', 'at', 'archive'] \n",
      "\n"
     ]
    }
   ],
   "source": [
    "for text in wiki_corpus.get_texts():\n",
    "    print(\"%s \\n\"%(text))\n",
    "    break"
   ]
  },
  {
   "cell_type": "code",
   "execution_count": 13,
   "metadata": {},
   "outputs": [
    {
     "name": "stdout",
     "output_type": "stream",
     "text": [
      "zhwiki.txt\r\n"
     ]
    }
   ],
   "source": [
    "!ls zhwiki.txt"
   ]
  },
  {
   "cell_type": "code",
   "execution_count": 14,
   "metadata": {},
   "outputs": [
    {
     "name": "stdout",
     "output_type": "stream",
     "text": [
      "350757 zhwiki.txt\r\n"
     ]
    }
   ],
   "source": [
    "!wc -l zhwiki.txt"
   ]
  },
  {
   "cell_type": "code",
   "execution_count": 15,
   "metadata": {},
   "outputs": [],
   "source": [
    "rm zhwiki.txt"
   ]
  },
  {
   "cell_type": "markdown",
   "metadata": {},
   "source": [
    "## 轉成文字檔 txt"
   ]
  },
  {
   "cell_type": "code",
   "execution_count": 16,
   "metadata": {},
   "outputs": [],
   "source": [
    "with open('zhwiki.txt', 'w', encoding='UTF-8') as f:\n",
    "    for text in wiki_corpus.get_texts():\n",
    "        f.write(' '.join(text)+'\\n')"
   ]
  },
  {
   "cell_type": "code",
   "execution_count": 17,
   "metadata": {},
   "outputs": [
    {
     "name": "stdout",
     "output_type": "stream",
     "text": [
      "歐幾里得 西元前三世紀的古希臘數學家 現在被認為是幾何之父 此畫為拉斐爾的作品 雅典學院 数学 是利用符号语言研究數量 结构 变化以及空间等概念的一門学科 从某种角度看屬於形式科學的一種 數學透過抽象化和邏輯推理的使用 由計數 計算 數學家們拓展這些概念 對數學基本概念的完善 早在古埃及 而在古希臘那裡有更為嚴謹的處理 從那時開始 數學的發展便持續不斷地小幅進展 世紀的文藝復興時期 致使數學的加速发展 直至今日 今日 數學使用在不同的領域中 包括科學 工程 醫學 經濟學和金融學等 有時亦會激起新的數學發現 並導致全新學科的發展 數學家也研究純數學 就是數學本身的实质性內容 而不以任何實際應用為目標 雖然許多研究以純數學開始 但其过程中也發現許多應用之处 詞源 西方语言中 數學 一詞源自於古希臘語的 其有 學習 學問 科學 數學研究 即使在其語源內 其形容詞 意思為 和學習有關的 用功的 亦會被用來指 數學的 其在英语中表面上的複數形式 及在法语中的表面複數形式 可溯至拉丁文的中性複數 由西塞罗譯自希臘文複數 此一希臘語被亚里士多德拿來指 萬物皆數 的概念 汉字表示的 數學 一詞大約产生于中国宋元時期 多指象數之學 但有時也含有今天上的數學意義 例如 秦九韶的 數學九章 永樂大典 數書九章 也被宋代周密所著的 癸辛雜識 記爲 數學大略 數學通軌 明代柯尚遷著 数学钥 清代杜知耕著 數學拾遺 清代丁取忠撰 直到 經過中國數學名詞審查委員會研究 算學 數學 兩詞的使用狀況後 確認以 數學 表示今天意義上的數學含義 历史 奇普 印加帝國時所使用的計數工具 玛雅数字 數學有着久遠的歷史 中國古代的六艺之一就有 數學一詞在西方有希腊语詞源 mathematikós 意思是 学问的基础 源于 máthema 科学 知识 学问 時間的長短等抽象的數量關係 比如时间单位有日 季節和年等 算術 加減乘除 也自然而然地產生了 歷史上曾有過許多不同的記數系統 在最初有歷史記錄的時候 為了解數字間的關係 為了測量土地 以及為了預測天文事件而形成的 结构 空间及时间方面的研究 到了 世纪 算术 微积分的概念也在此時形成 随着數學轉向形式化 從古至今 數學便一直不斷地延展 且與科學有豐富的相互作用 兩者的發展都受惠於彼此 在歷史上有著許多數學發現 並且直至今日都不斷地有新的發現 據mikhail sevryuk於 月的期刊中所說 數學評論的創刊年份 現已超過了一百九十萬份 而且每年還增加超過七萬五千份 形成 純數學與應用數學及美學 牛頓 微積分的發明者之一 每當有涉及數量 結構 空間及變化等方面的困難問題時 而這往往也拓展了數學的研究範疇 一開始 數學的運用可見於貿易 土地測量及之後的天文學 今日 且數學本身亦給出了許多的問題 牛頓和莱布尼兹是微積分的發明者 費曼發明了費曼路徑積分 這是推理及物理洞察二者的產物 而今日的弦理論亦引申出新的數學 一些數學只和生成它的領域有關 且用來解答此領域的更多問題 且可以成為一般的數學概念 即使是 最純的 數學通常亦有實際的用途 此一非比尋常的事實 年諾貝爾物理獎得主維格納稱為 如同大多數的研究領域 主要的分歧為純數學和應用數學 在應用數學內 又被分成兩大領域 並且變成了它們自身的學科 統計學和電腦科學 許多數學家談論數學的 優美 其內在的美學及美 簡單 一般化 即為美的一種 另外亦包括巧妙的證明 又或者是加快計算的數值方法 如快速傅立葉變換 高德菲 哈羅德 哈代在 一個數學家的自白 符號 語言與精确性 在現代的符號中 此一圖像即產生自x cos arccos sin〡 arcsin cos〡 世紀後才被發明出來的 在此之前 數學以文字的形式書寫出來 這種形式會限制了數學的發展 但初學者卻常對此望而却步 它被極度的壓縮 少量的符號包含著大量的訊息 如同音樂符號一般 現今的數學符號有明確的語法 並且有效地對訊息作編碼 這是其他書寫方式難以做到的 符号化和形式化使得数学迅速发展 數學語言亦對初學者而言感到困難 亦困惱著初學者的 開放 等字在數學裡有著特別的意思 數學術語亦包括如 同胚 可積性 等專有名詞 數學需要比日常用語更多的精確性 嚴謹 但在现实应用中 定理 希臘人期許著仔細的論證 但在牛頓的時代 所使用的方法則較不嚴謹 牛頓為了解決問題所做的定義 今日 當大量的計算難以被驗證時 其證明亦很難說是足夠地嚴謹 公理在傳統的思想中是 不證自明的真理 但這種想法是有問題的 在形式上 公理只是一串符號 但依據哥德爾不完備定理 儘管如此 在此意義下 數學作為科學 卡爾 弗里德里希 高斯 卡爾 弗里德里希 高斯稱數學為 科學的皇后 在拉丁原文 以及其德語 對應於 科學 的單字的意思皆為知識 領域 而實際上 科學 若認為科学是只指物理的世界時 則數學 或至少是純數學 不會是一門科學 愛因斯坦曾如此描述 數學定律越和現實有關 它們越不確定 若它們越是確定的話 它們和現實越不會有關 且因此不是卡爾 波普爾所定義的科学 但在 年代時 且波普爾推斷 大部份的數學定律 如物理及生物學一樣 是假設演繹的 比它現在看起來更接近 然而 其他的思想家 如較著名的拉卡托斯 另一觀點則為某些科學領域 如理論物理 是其公理為嘗試著符合現實的數學 而事實上 理論物理學家齊曼 john ziman 即認為科學是一種公眾知識 因此亦包含著數學 在任何的情況下 減輕了數學不使用科學方法的缺點 在史蒂芬 沃爾夫勒姆 年的著作 一種新科學 中他提出 數學家對此的態度並不一致 且因此基本上是個哲學家 是低估了其美學方面的重要性 被創造 如藝術 或是 被發現 如科學 的爭議 大学院系划分中常见 科学和数学系 實際上 但在細節上卻會分開 數學的各領域 有如反映在中國算盤上的一般 如上所述 了解數字間的關係 測量土地及預測天文事件 這四種需要大致地與數量 結構 空間及變化 即算術 代數 幾何及分析 等數學上廣泛的子領域相關連著 除了上述主要的關注之外 至邏輯 至集合論 基礎 至不同科學的經驗上的數學 應用數學 及較近代的至不確定性的嚴格研究 基礎與哲學 為了闡明數學基礎 並研究此一架構的結果 就數學邏輯本身而言 現代邏輯被分成遞論 模型論和證明論 千禧年大獎難題中的p px px 數學邏輯 集合論 範疇論 纯粹数学 数量 數量的研究起於數 孿生質數猜想及哥德巴赫猜想 當數系更進一步發展時 整數被視為有理數的子集 而有理數則包含於實數中 連續的量即是以實數來表示的 實數則可以被進一步廣義化成複數 從自然數亦可以推廣到超限數 它形式化了計數至無限的這一概念 另一個研究的領域為大小 阿列夫数 自然數 整數 有理數 實數 複數 結構 這些物件的結構性質被探討於群 zh cn zh tw 等抽象系統中 該些物件事實上也就是這樣的系統 此為代數的領域 在此有一個很重要的概念 即廣義化至向量空間的向量 它於線性代數中被研究 數量 結構及空間 即變化 纯粹数学 是研究抽象结构的理论 结构 布尔巴基学派认为 有三种基本的抽象结构 代数结构 序结构 偏序 全序 拓扑结构 邻域 极限 连通性 维数 px px px px 數論 群論 圖論 序理論 空間 空間的研究源自於幾何 尤其是欧几里得几何 三角學則結合了空間及數 且包含有著名的勾股定理 非歐幾里得幾何 及拓撲學 數和空間在解析幾何 結合了數和空間的概念 亦有著拓撲群的研究 結合了結構與空間 李群被用來研究空間 結構及變化 在其許多分支中 並包含有存在已久的龐加萊猜想 以及有爭議的四色定理 龐加萊猜想已在 年确认由俄罗斯数学家格里戈里 佩雷尔曼證明 而四色定理已在 年由凱尼斯 阿佩爾和沃夫岡 哈肯用電腦證明 而從來沒有由人力來驗證過 px px px px px px 幾何 三角學 微分幾何 拓撲學 zh cn 分形 zh tw 碎形 測度論 變化 而微積分更為研究變化的有利工具 函數诞生於此 做為描述一變化的量的核心概念 而複分析則為複數的等價領域 黎曼猜想 數學最基本的未決問題之一 便是以複分析來描述的 泛函分析注重在函數的 一般為無限維 空間上 而這在微分方程中被研究 px px px px px px 微積分 向量分析 微分方程 動力系統 混沌理論 複分析 離散數學 這包含有可計算理論 計算複雜性理論及資訊理論 這包含現知最有力的模型 圖靈機 儘管電腦硬體的快速進步 最後 且因此有壓縮及熵等概念 作為一相對較新的領域 離散數學有許多基本的未解問題 其中最有名的為p np問題 千禧年大獎難題之一 一般相信此問題的解答是否定的 px px px 組合數學 計算理論 密碼學 圖論 應用數學 工商業及其他領域上之現實問題 應用數學中的一重要領域為統計學 分析與預測 大部份的實驗 而比較覺得是合作團體的一份子 數值分析研究有什麼計算方法 file gravitation space source png 數學物理 file svg 數學流體力學 file composite trapezoidal rule illustration small svg 數值分析 file maximum boxed png 最佳化 file two red dice svg 概率论 file oldfaithful png 統計學 file market data index nya on utc png 計量金融 file arbitrary gametree solved svg zh tw 賽局理論 zh cn 博弈论 file front pareto svg 數理經濟學 file signal transduction pathways zh cn svg 生物數學 file linear programming example graph zh png 作業研究 file simple feedback control loop svg 控制論 数学奖项 菲尔茲奖牌正面 數學獎通常和其他科學的獎項分開 數學上最有名的獎為菲爾茲獎 創立於 每四年頒獎一次 創立於 兩者都頒獎於特定的工作主題 著名的 個問題 稱為希爾伯特的 個問題 年由德國數學家大衛 希爾伯特所提出 另一新的七個重要問題 稱為千禧年大獎難題 發表於 而當中只有一個問題 黎曼猜想 和希爾伯特的問題重複 菲尔兹奖 每四年颁奖一次 颁给有卓越贡献的年轻数学家 每次最多四人得奖 得奖者须在该年元旦前未满四十岁 是年輕數學家可以獲得的最大獎項 它是据加拿大数学家约翰 查尔斯 菲尔兹的要求设立的 菲尔兹奖被视为 数学 界的诺贝尔奖 沃尔夫奖 由沃尔夫基金会颁发 该基金会于 年在以色列创立 年开始颁奖 创始人里卡多 沃尔夫是外交家 实业家和慈善家 阿贝尔奖 每年颁发一次 为了纪念 年挪威著名数学家尼尔斯 亨利克 阿贝尔二百周年诞辰 挪威政府宣布将开始颁发此种奖金 奖金的数额大致同诺贝尔奖相近 年挪威政府拨款 亿挪威克朗作为启动资金 扩大数学的影响 参见 數學哲學 數學遊戲 數學家列表 教育 算經十書 數學競賽 数学题 註記 参考书目 benson donald the moment of proof mathematical epiphanies oxford university press usa new ed edition december isbn boyer carl history of mathematics wiley edition march isbn concise history of mathematics from the concept of number to contemporary mathematics courant and robbins what is mathematics an elementary approach to ideas and methods oxford university press usa edition july isbn davis philip and hersh reuben the mathematical experience mariner books reprint edition january isbn gentle introduction to the world of mathematics eves howard an introduction to the history of mathematics sixth edition saunders isbn gullberg jan mathematics from the birth of numbers norton company st edition october isbn an encyclopedic overview of mathematics presented in clear simple language hazewinkel michiel ed 數學百科全書 kluwer academic publishers translated and expanded version of soviet mathematics encyclopedia in ten expensive volumes the most complete and authoritative work available also in paperback and on cd rom and online jourdain philip the nature of mathematics in the world of mathematics james newman editor dover isbn kline morris mathematical thought from ancient to modern times oxford university press usa paperback edition march isbn 牛津英語詞典 second edition ed john simpson and edmund weiner clarendon press isbn the oxford dictionary of english etymology reprint isbn pappas theoni the joy of mathematics wide world publishing revised edition june isbn peterson ivars mathematical tourist new and updated snapshots of modern mathematics owl books isbn 参考网址 rusin dave the mathematical atlas 英文版 现代数学漫游 weisstein eric world of mathematics 一个在线的数学百科全书 数学 另一个在线的数学百科全书 mathforge 一个包含数学 物理 epistemath 数学知识 香港科技大学 数学网 一个以数学史为主的网站 怎樣研習純數學 或統計學 本科與基礎研究課程參考書目 数学文化 主要面向大学生 大学老师和研究生 以及中学老师和学生 数学学习资源 互联网上数学学习资源和教学视频 英漢對照數學用語 archive 英漢對照數學用語 albany bureau of bilingual education see profile at archive\r\n"
     ]
    }
   ],
   "source": [
    "!head -1 zhwiki.txt"
   ]
  },
  {
   "cell_type": "markdown",
   "metadata": {},
   "source": [
    "## 簡體轉繁體"
   ]
  },
  {
   "cell_type": "code",
   "execution_count": null,
   "metadata": {},
   "outputs": [],
   "source": [
    "from hanziconv import HanziConv\n",
    "zhwiki_file = open('zhwiki.txt', 'r')\n",
    "with open('zhwiki_cht.txt', 'w') as cht:\n",
    "    for line in iter(zhwiki_file):\n",
    "        #print(line)\n",
    "        #print(HanziConv.toTraditional(line))\n",
    "        cht.write(HanziConv.toTraditional(line)+'\\n')\n",
    "    zhwiki_file.close()"
   ]
  },
  {
   "cell_type": "code",
   "execution_count": 3,
   "metadata": {},
   "outputs": [
    {
     "name": "stdout",
     "output_type": "stream",
     "text": [
      "head: cannot open 'zhwiki_cht.txt' for reading: No such file or directory\r\n"
     ]
    }
   ],
   "source": [
    "!head -15 zhwiki_cht.txt"
   ]
  },
  {
   "cell_type": "markdown",
   "metadata": {},
   "source": [
    "### 載入 jieba 函式庫"
   ]
  },
  {
   "cell_type": "code",
   "execution_count": 18,
   "metadata": {},
   "outputs": [],
   "source": [
    "import time\n",
    "import jieba\n",
    "import jieba.posseg as pseg"
   ]
  },
  {
   "cell_type": "markdown",
   "metadata": {},
   "source": [
    "### 載入繁體中文詞庫"
   ]
  },
  {
   "cell_type": "code",
   "execution_count": 19,
   "metadata": {},
   "outputs": [],
   "source": [
    "jieba.set_dictionary('jieba_data/dict.txt.big')"
   ]
  },
  {
   "cell_type": "markdown",
   "metadata": {},
   "source": [
    "## Jieba tokenize"
   ]
  },
  {
   "cell_type": "code",
   "execution_count": 20,
   "metadata": {},
   "outputs": [
    {
     "name": "stderr",
     "output_type": "stream",
     "text": [
      "Building prefix dict from /home/jovyan/work/jieba_data/dict.txt.big ...\n",
      "Dumping model to file cache /tmp/jieba.ud3c40470d3518910bfd0dc86d865fad4.cache\n",
      "Loading model cost 2.026 seconds.\n",
      "Prefix dict has been built successfully.\n"
     ]
    },
    {
     "name": "stdout",
     "output_type": "stream",
     "text": [
      "('歐幾', 0, 2)\n",
      "('歐幾里得', 0, 4)\n",
      "(' ', 4, 5)\n",
      "('西元', 5, 7)\n",
      "('西元前', 5, 8)\n",
      "('三', 8, 9)\n",
      "('世紀', 9, 11)\n",
      "('的', 11, 12)\n",
      "('希臘', 13, 15)\n",
      "('古希臘', 12, 15)\n",
      "('數學', 15, 17)\n",
      "('學家', 16, 18)\n",
      "('數學家', 15, 18)\n",
      "(' ', 18, 19)\n",
      "('現在', 19, 21)\n",
      "('被', 21, 22)\n",
      "('認為', 22, 24)\n",
      "('是', 24, 25)\n",
      "('幾何', 25, 27)\n",
      "('之', 27, 28)\n",
      "('父', 28, 29)\n",
      "(' ', 29, 30)\n",
      "('此畫', 30, 32)\n",
      "('為', 32, 33)\n",
      "('斐爾', 34, 36)\n",
      "('拉斐爾', 33, 36)\n",
      "('的', 36, 37)\n",
      "('作品', 37, 39)\n"
     ]
    },
    {
     "data": {
      "text/plain": [
       "'歐幾 歐幾里得   西元 西元前 三 世紀 的 希臘 古希臘 數學 學家 數學家   現在 被 認為 是 幾何 之 父   此畫 為 斐爾 拉斐爾 的 作品'"
      ]
     },
     "execution_count": 20,
     "metadata": {},
     "output_type": "execute_result"
    }
   ],
   "source": [
    "text = \"歐幾里得 西元前三世紀的古希臘數學家 現在被認為是幾何之父 此畫為拉斐爾的作品\"\n",
    "results = jieba.tokenize(text, mode='search')\n",
    "s = []\n",
    "for tk in results:\n",
    "    print(tk)\n",
    "    s.append(tk[0])\n",
    "new_line = ' '.join(s)\n",
    "new_line"
   ]
  },
  {
   "cell_type": "markdown",
   "metadata": {},
   "source": [
    "## 詞性標註"
   ]
  },
  {
   "cell_type": "code",
   "execution_count": 21,
   "metadata": {},
   "outputs": [
    {
     "name": "stderr",
     "output_type": "stream",
     "text": [
      "Building prefix dict from /home/jovyan/work/jieba_data/dict.txt.big ...\n",
      "Loading model from cache /tmp/jieba.ud3c40470d3518910bfd0dc86d865fad4.cache\n",
      "Loading model cost 1.686 seconds.\n",
      "Prefix dict has been built successfully.\n"
     ]
    },
    {
     "name": "stdout",
     "output_type": "stream",
     "text": [
      "歐幾里得, x\n"
     ]
    },
    {
     "data": {
      "text/plain": [
       "''"
      ]
     },
     "execution_count": 21,
     "metadata": {},
     "output_type": "execute_result"
    }
   ],
   "source": [
    "jieba.set_dictionary('jieba_data/dict.txt.big')\n",
    "#text = \"歐幾里得 西元前三世紀的古希臘數學家 現在被認為是幾何之父 此畫為拉斐爾的作品\"\n",
    "text = \"歐幾里得\"\n",
    "results = pseg.lcut(text)\n",
    "s = []\n",
    "for w, p in results:\n",
    "    print(\"%s, %s\"%(w, p))\n",
    "    if p in ['n', 'nr','ns','nt','nz','nl','ng', 't', 's','vn']:\n",
    "        #print(\"%s, %s\"%(w, p))\n",
    "        s.append(w)\n",
    "new_line = ' '.join(s)\n",
    "new_line"
   ]
  },
  {
   "cell_type": "code",
   "execution_count": 22,
   "metadata": {},
   "outputs": [
    {
     "name": "stdout",
     "output_type": "stream",
     "text": [
      "350757 jieba_segment.txt\r\n"
     ]
    }
   ],
   "source": [
    "!wc -l jieba_segment.txt"
   ]
  },
  {
   "cell_type": "code",
   "execution_count": 23,
   "metadata": {},
   "outputs": [],
   "source": [
    "!rm -f jieba_segment.txt"
   ]
  },
  {
   "cell_type": "markdown",
   "metadata": {},
   "source": [
    "## 斷字詞"
   ]
  },
  {
   "cell_type": "code",
   "execution_count": null,
   "metadata": {},
   "outputs": [],
   "source": [
    "start_time = time.time()\n",
    "#jieba.enable_paddle()\n",
    "jieba.enable_parallel(4)\n",
    "wiki_file = open('zhwiki.txt','r')\n",
    "with open('jieba_segment.txt', 'w') as wiki_seg:\n",
    "    for sentence in iter(wiki_file):\n",
    "        #cut_list = list( jieba.cut(sentence) )\n",
    "        cut_result = list(pseg.cut(sentence, use_paddle=False))\n",
    "        each_line_list = []\n",
    "        for w, p in cut_result:\n",
    "            #print(\"%s: %s\"%(w, p))\n",
    "            #if p in ['n', 'nr','ns','nt','nz','nl','ng', 't', 's','vn']:\n",
    "                #print(\"%s: %s\"%(w, p))\n",
    "                each_line_list.append(w)\n",
    "        new_line = ' '.join(each_line_list)\n",
    "        #print(new_line)\n",
    "        wiki_seg.write(new_line)\n",
    "        #wiki_seg.write(' '.join([ item for item in cut_list if len(item) > 1 ]))\n",
    "    wiki_file.close()\n",
    "print(\"--- spend %s seconds ---\" % (time.time() - start_time))"
   ]
  },
  {
   "cell_type": "code",
   "execution_count": null,
   "metadata": {},
   "outputs": [],
   "source": [
    "!ls jieba_segment.txt"
   ]
  },
  {
   "cell_type": "code",
   "execution_count": null,
   "metadata": {},
   "outputs": [],
   "source": [
    "!head -1 jieba_segment.txt"
   ]
  },
  {
   "cell_type": "code",
   "execution_count": null,
   "metadata": {
    "scrolled": true
   },
   "outputs": [],
   "source": [
    "from gensim.models import word2vec\n",
    "sentences = word2vec.LineSentence(\"jieba_segment.txt\")\n"
   ]
  },
  {
   "cell_type": "code",
   "execution_count": null,
   "metadata": {},
   "outputs": [],
   "source": [
    "#model = word2vec.Word2Vec(sentences, size=100, sg=1, workers=2)\n",
    "model = word2vec.Word2Vec(sentences, size=100)\n",
    "model.save(\"wiki_word2vec.model\")"
   ]
  },
  {
   "cell_type": "code",
   "execution_count": 22,
   "metadata": {},
   "outputs": [
    {
     "data": {
      "text/plain": [
       "<gensim.models.word2vec.Word2Vec at 0x7f4e8e81fa90>"
      ]
     },
     "execution_count": 22,
     "metadata": {},
     "output_type": "execute_result"
    }
   ],
   "source": [
    "model"
   ]
  },
  {
   "cell_type": "code",
   "execution_count": 24,
   "metadata": {},
   "outputs": [
    {
     "data": {
      "text/plain": [
       "214867446"
      ]
     },
     "execution_count": 24,
     "metadata": {},
     "output_type": "execute_result"
    }
   ],
   "source": [
    "model.corpus_total_words"
   ]
  },
  {
   "cell_type": "code",
   "execution_count": 25,
   "metadata": {},
   "outputs": [
    {
     "data": {
      "text/plain": [
       "[('女生', 0.9437961578369141),\n",
       " ('女孩子', 0.710106372833252),\n",
       " ('班上', 0.7062546610832214),\n",
       " ('女同學', 0.699142336845398),\n",
       " ('小學生', 0.6850650310516357),\n",
       " ('男同學', 0.6790840029716492),\n",
       " ('高中生', 0.6783742904663086),\n",
       " ('國中生', 0.6770322322845459),\n",
       " ('女孩', 0.6698188185691833),\n",
       " ('學長', 0.6377293467521667)]"
      ]
     },
     "execution_count": 25,
     "metadata": {},
     "output_type": "execute_result"
    }
   ],
   "source": [
    "model.wv.most_similar(\"男生\")"
   ]
  },
  {
   "cell_type": "code",
   "execution_count": 26,
   "metadata": {},
   "outputs": [
    {
     "name": "stderr",
     "output_type": "stream",
     "text": [
      "/opt/conda/lib/python3.7/site-packages/ipykernel_launcher.py:1: DeprecationWarning: Call to deprecated `similar_by_word` (Method will be removed in 4.0.0, use self.wv.similar_by_word() instead).\n",
      "  \"\"\"Entry point for launching an IPython kernel.\n"
     ]
    },
    {
     "data": {
      "text/plain": [
       "[('夜晚', 0.7285879850387573),\n",
       " ('半夜', 0.6724632382392883),\n",
       " ('早起', 0.6676563024520874),\n",
       " ('睡覺', 0.6673136949539185),\n",
       " ('平常', 0.6633135676383972),\n",
       " ('夜間', 0.660896897315979),\n",
       " ('外出', 0.6466140747070312),\n",
       " ('睡覺時', 0.6431605815887451),\n",
       " ('晚上', 0.6384695768356323),\n",
       " ('每天', 0.6311615705490112)]"
      ]
     },
     "execution_count": 26,
     "metadata": {},
     "output_type": "execute_result"
    }
   ],
   "source": [
    "model.mv.similar_by_word(\"白天\")"
   ]
  },
  {
   "cell_type": "code",
   "execution_count": 28,
   "metadata": {},
   "outputs": [
    {
     "name": "stderr",
     "output_type": "stream",
     "text": [
      "/opt/conda/lib/python3.7/site-packages/ipykernel_launcher.py:1: DeprecationWarning: Call to deprecated `similar_by_word` (Method will be removed in 4.0.0, use self.wv.similar_by_word() instead).\n",
      "  \"\"\"Entry point for launching an IPython kernel.\n"
     ]
    },
    {
     "data": {
      "text/plain": [
       "[('下班', 0.7612128257751465),\n",
       " ('加班', 0.7451024055480957),\n",
       " ('打工', 0.7275468111038208),\n",
       " ('用餐', 0.6835972666740417),\n",
       " ('上學', 0.6719021797180176),\n",
       " ('兼差', 0.6575614213943481),\n",
       " ('過夜', 0.645920991897583),\n",
       " ('搬家', 0.6419762372970581),\n",
       " ('開車', 0.6403521299362183),\n",
       " ('上課', 0.6332148909568787)]"
      ]
     },
     "execution_count": 28,
     "metadata": {},
     "output_type": "execute_result"
    }
   ],
   "source": [
    "model.similar_by_word(\"上班\")"
   ]
  },
  {
   "cell_type": "code",
   "execution_count": 29,
   "metadata": {},
   "outputs": [
    {
     "name": "stderr",
     "output_type": "stream",
     "text": [
      "/opt/conda/lib/python3.7/site-packages/ipykernel_launcher.py:1: DeprecationWarning: Call to deprecated `similarity` (Method will be removed in 4.0.0, use self.wv.similarity() instead).\n",
      "  \"\"\"Entry point for launching an IPython kernel.\n"
     ]
    },
    {
     "data": {
      "text/plain": [
       "0.7612129"
      ]
     },
     "execution_count": 29,
     "metadata": {},
     "output_type": "execute_result"
    }
   ],
   "source": [
    "model.similarity(\"上班\",\"下班\")"
   ]
  },
  {
   "cell_type": "code",
   "execution_count": 31,
   "metadata": {},
   "outputs": [
    {
     "data": {
      "text/plain": [
       "[('老婆', 0.8079464435577393),\n",
       " ('閨密', 0.7044309377670288),\n",
       " ('前男友', 0.6815676689147949),\n",
       " ('阿珍', 0.6717350482940674),\n",
       " ('丈母娘', 0.6692403554916382),\n",
       " ('陳青霞', 0.6648685932159424),\n",
       " ('萱萱', 0.6600079536437988),\n",
       " ('爸爸', 0.6564093828201294),\n",
       " ('男朋友', 0.6548548340797424),\n",
       " ('爸', 0.6512338519096375)]"
      ]
     },
     "execution_count": 31,
     "metadata": {},
     "output_type": "execute_result"
    }
   ],
   "source": [
    "model.wv.most_similar(positive=[\"男生\",\"老公\"], negative=[\"女生\"])"
   ]
  },
  {
   "cell_type": "code",
   "execution_count": null,
   "metadata": {},
   "outputs": [],
   "source": []
  }
 ],
 "metadata": {
  "kernelspec": {
   "display_name": "Python 3",
   "language": "python",
   "name": "python3"
  },
  "language_info": {
   "codemirror_mode": {
    "name": "ipython",
    "version": 3
   },
   "file_extension": ".py",
   "mimetype": "text/x-python",
   "name": "python",
   "nbconvert_exporter": "python",
   "pygments_lexer": "ipython3",
   "version": "3.7.6"
  }
 },
 "nbformat": 4,
 "nbformat_minor": 2
}
