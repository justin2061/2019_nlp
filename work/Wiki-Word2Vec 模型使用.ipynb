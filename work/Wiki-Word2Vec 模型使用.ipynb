{
 "cells": [
  {
   "cell_type": "code",
   "execution_count": 1,
   "metadata": {},
   "outputs": [],
   "source": [
    "from gensim.models import word2vec\n",
    "import sys"
   ]
  },
  {
   "cell_type": "code",
   "execution_count": 2,
   "metadata": {},
   "outputs": [
    {
     "data": {
      "text/plain": [
       "<gensim.models.word2vec.Word2Vec at 0x7f1d1fa38190>"
      ]
     },
     "execution_count": 2,
     "metadata": {},
     "output_type": "execute_result"
    }
   ],
   "source": [
    "model = word2vec.Word2Vec.load(\"wiki_word2vec.model\")\n",
    "model"
   ]
  },
  {
   "cell_type": "code",
   "execution_count": 3,
   "metadata": {},
   "outputs": [
    {
     "data": {
      "text/plain": [
       "214867446"
      ]
     },
     "execution_count": 3,
     "metadata": {},
     "output_type": "execute_result"
    }
   ],
   "source": [
    "model.corpus_total_words"
   ]
  },
  {
   "cell_type": "code",
   "execution_count": 6,
   "metadata": {
    "scrolled": true
   },
   "outputs": [
    {
     "data": {
      "text/plain": [
       "[('臭豆腐', 0.8362692594528198),\n",
       " ('貢丸', 0.8234792947769165),\n",
       " ('滷味', 0.8229329586029053),\n",
       " ('餛飩', 0.8148972988128662),\n",
       " ('鴨肉', 0.8100943565368652),\n",
       " ('豬腳', 0.8083541393280029),\n",
       " ('油飯', 0.798877477645874),\n",
       " ('鵝肉', 0.798133909702301),\n",
       " ('肉羹', 0.7950549125671387),\n",
       " ('粽', 0.7948446273803711)]"
      ]
     },
     "execution_count": 6,
     "metadata": {},
     "output_type": "execute_result"
    }
   ],
   "source": [
    "model.wv.most_similar(\"滷肉飯\")"
   ]
  },
  {
   "cell_type": "code",
   "execution_count": 10,
   "metadata": {},
   "outputs": [
    {
     "name": "stderr",
     "output_type": "stream",
     "text": [
      "/opt/conda/lib/python3.7/site-packages/ipykernel_launcher.py:1: DeprecationWarning: Call to deprecated `most_similar` (Method will be removed in 4.0.0, use self.wv.most_similar() instead).\n",
      "  \"\"\"Entry point for launching an IPython kernel.\n"
     ]
    },
    {
     "data": {
      "text/plain": [
       "[('蔥花', 0.8864730000495911),\n",
       " ('肉丁', 0.8500885963439941),\n",
       " ('水煮蛋', 0.8479346036911011),\n",
       " ('辣椒油', 0.8474477529525757),\n",
       " ('蒜泥', 0.8463096022605896),\n",
       " ('高湯', 0.8454183340072632),\n",
       " ('青瓜', 0.845400333404541),\n",
       " ('胡椒粉', 0.8435465097427368),\n",
       " ('檸檬汁', 0.8429254293441772),\n",
       " ('五香粉', 0.8424439430236816)]"
      ]
     },
     "execution_count": 10,
     "metadata": {},
     "output_type": "execute_result"
    }
   ],
   "source": [
    "model.most_similar(\"肉燥\")"
   ]
  },
  {
   "cell_type": "code",
   "execution_count": null,
   "metadata": {},
   "outputs": [],
   "source": []
  }
 ],
 "metadata": {
  "kernelspec": {
   "display_name": "Python 3",
   "language": "python",
   "name": "python3"
  },
  "language_info": {
   "codemirror_mode": {
    "name": "ipython",
    "version": 3
   },
   "file_extension": ".py",
   "mimetype": "text/x-python",
   "name": "python",
   "nbconvert_exporter": "python",
   "pygments_lexer": "ipython3",
   "version": "3.7.6"
  }
 },
 "nbformat": 4,
 "nbformat_minor": 4
}
