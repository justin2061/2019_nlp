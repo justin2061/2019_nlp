{
 "cells": [
  {
   "cell_type": "code",
   "execution_count": 3,
   "id": "9376f5b8-13db-4aa8-991b-041dd521d1ab",
   "metadata": {},
   "outputs": [],
   "source": [
    "!pip install tensorflow_text>=2.0.0rc0"
   ]
  },
  {
   "cell_type": "markdown",
   "id": "04caebdf-67d6-41d5-b358-8315f823fa1b",
   "metadata": {},
   "source": [
    "### universal-sentence-encoder-multilingual-large\n",
    "#### https://tfhub.dev/google/universal-sentence-encoder-multilingual-large/3"
   ]
  },
  {
   "cell_type": "code",
   "execution_count": 4,
   "id": "6204f883-91e3-45ed-aa95-e76e19579e5f",
   "metadata": {},
   "outputs": [
    {
     "name": "stderr",
     "output_type": "stream",
     "text": [
      "2022-12-26 12:37:09.382654: I tensorflow/core/platform/cpu_feature_guard.cc:193] This TensorFlow binary is optimized with oneAPI Deep Neural Network Library (oneDNN) to use the following CPU instructions in performance-critical operations:  AVX2 AVX512F AVX512_VNNI FMA\n",
      "To enable them in other operations, rebuild TensorFlow with the appropriate compiler flags.\n",
      "2022-12-26 12:37:09.502903: I tensorflow/core/util/port.cc:104] oneDNN custom operations are on. You may see slightly different numerical results due to floating-point round-off errors from different computation orders. To turn them off, set the environment variable `TF_ENABLE_ONEDNN_OPTS=0`.\n",
      "2022-12-26 12:37:09.507369: W tensorflow/compiler/xla/stream_executor/platform/default/dso_loader.cc:64] Could not load dynamic library 'libcudart.so.11.0'; dlerror: libcudart.so.11.0: cannot open shared object file: No such file or directory\n",
      "2022-12-26 12:37:09.507385: I tensorflow/compiler/xla/stream_executor/cuda/cudart_stub.cc:29] Ignore above cudart dlerror if you do not have a GPU set up on your machine.\n",
      "2022-12-26 12:37:10.265362: W tensorflow/compiler/xla/stream_executor/platform/default/dso_loader.cc:64] Could not load dynamic library 'libnvinfer.so.7'; dlerror: libnvinfer.so.7: cannot open shared object file: No such file or directory\n",
      "2022-12-26 12:37:10.265460: W tensorflow/compiler/xla/stream_executor/platform/default/dso_loader.cc:64] Could not load dynamic library 'libnvinfer_plugin.so.7'; dlerror: libnvinfer_plugin.so.7: cannot open shared object file: No such file or directory\n",
      "2022-12-26 12:37:10.265465: W tensorflow/compiler/tf2tensorrt/utils/py_utils.cc:38] TF-TRT Warning: Cannot dlopen some TensorRT libraries. If you would like to use Nvidia GPU with TensorRT, please make sure the missing libraries mentioned above are installed properly.\n"
     ]
    }
   ],
   "source": [
    "import tensorflow_hub as hub"
   ]
  },
  {
   "cell_type": "code",
   "execution_count": 5,
   "id": "39cad416-04d4-456d-ae71-d01e37a24ba4",
   "metadata": {},
   "outputs": [],
   "source": [
    "import numpy as np"
   ]
  },
  {
   "cell_type": "code",
   "execution_count": 6,
   "id": "f767f4e2-85a0-4ea9-b565-76c50d54750f",
   "metadata": {},
   "outputs": [],
   "source": [
    "import tensorflow_text"
   ]
  },
  {
   "cell_type": "code",
   "execution_count": 10,
   "id": "79e19c74-1abf-44a4-8cca-f51ab6c8a9b7",
   "metadata": {},
   "outputs": [],
   "source": [
    "english_sentences = [\"dog\", \"Puppies are nice.\", \"I enjoy taking long walks along the beach with my dog.\"]\n",
    "italian_sentences = [\"cane\", \"I cuccioli sono carini.\", \"Mi piace fare lunghe passeggiate lungo la spiaggia con il mio cane.\"]\n",
    "japanese_sentences = [\"犬\", \"子犬はいいです\", \"私は犬と一緒にビーチを散歩するのが好きです\"]"
   ]
  },
  {
   "cell_type": "code",
   "execution_count": 8,
   "id": "3b075d51-6557-4120-81cb-c5473662452f",
   "metadata": {},
   "outputs": [
    {
     "name": "stderr",
     "output_type": "stream",
     "text": [
      "2022-12-26 12:38:45.253412: W tensorflow/compiler/xla/stream_executor/platform/default/dso_loader.cc:64] Could not load dynamic library 'libcuda.so.1'; dlerror: libcuda.so.1: cannot open shared object file: No such file or directory\n",
      "2022-12-26 12:38:45.253462: W tensorflow/compiler/xla/stream_executor/cuda/cuda_driver.cc:265] failed call to cuInit: UNKNOWN ERROR (303)\n",
      "2022-12-26 12:38:45.253481: I tensorflow/compiler/xla/stream_executor/cuda/cuda_diagnostics.cc:156] kernel driver does not appear to be running on this host (jupyter): /proc/driver/nvidia/version does not exist\n",
      "2022-12-26 12:38:45.253729: I tensorflow/core/platform/cpu_feature_guard.cc:193] This TensorFlow binary is optimized with oneAPI Deep Neural Network Library (oneDNN) to use the following CPU instructions in performance-critical operations:  AVX2 AVX512F AVX512_VNNI FMA\n",
      "To enable them in other operations, rebuild TensorFlow with the appropriate compiler flags.\n"
     ]
    }
   ],
   "source": [
    "embed = hub.load(\"https://tfhub.dev/google/universal-sentence-encoder-multilingual-large/3\")"
   ]
  },
  {
   "cell_type": "code",
   "execution_count": 11,
   "id": "13df095a-2d20-4b9d-8393-6d147289ffdb",
   "metadata": {},
   "outputs": [],
   "source": [
    "# Compute embeddings.\n",
    "en_result = embed(english_sentences)\n",
    "it_result = embed(italian_sentences)\n",
    "ja_result = embed(japanese_sentences)"
   ]
  },
  {
   "cell_type": "code",
   "execution_count": 12,
   "id": "5ad41695-feb5-4a23-a586-e628692295d3",
   "metadata": {},
   "outputs": [
    {
     "name": "stdout",
     "output_type": "stream",
     "text": [
      "en_embed: [[-0.00525213 -0.03831199 -0.00922016 ...  0.02179052  0.0628018\n",
      "  -0.01622538]\n",
      " [-0.02267584 -0.06907188  0.0155087  ...  0.08762302 -0.00076924\n",
      "  -0.05410822]\n",
      " [ 0.01908832  0.0095522  -0.04741289 ...  0.03206479  0.03661668\n",
      "   0.00331059]]\n"
     ]
    }
   ],
   "source": [
    "print(f'en_embed: {en_result}')"
   ]
  },
  {
   "cell_type": "code",
   "execution_count": 13,
   "id": "dc736f9d-8f57-48d3-b7e1-a12e6481932a",
   "metadata": {},
   "outputs": [
    {
     "name": "stdout",
     "output_type": "stream",
     "text": [
      "it_embed: [[ 0.01247474 -0.04704873 -0.01160758 ...  0.00828647  0.05655245\n",
      "  -0.01926565]\n",
      " [-0.00054212 -0.05353344 -0.00509425 ...  0.07581969 -0.02067837\n",
      "  -0.01833748]\n",
      " [ 0.02309691  0.03299274 -0.04502681 ...  0.02603292  0.03097191\n",
      "  -0.00283149]]\n"
     ]
    }
   ],
   "source": [
    "print(f'it_embed: {it_result}')"
   ]
  },
  {
   "cell_type": "code",
   "execution_count": 14,
   "id": "56d27570-b63e-40bd-a938-0d21932603e5",
   "metadata": {},
   "outputs": [
    {
     "name": "stdout",
     "output_type": "stream",
     "text": [
      "ja_embed: [[-0.00919057 -0.03640535 -0.01227085 ...  0.01560686  0.05830854\n",
      "  -0.02128904]\n",
      " [ 0.00100151 -0.06882668 -0.01119195 ...  0.0540498   0.05110748\n",
      "  -0.0214504 ]\n",
      " [-0.01181191 -0.00945445 -0.01870928 ...  0.02406372  0.04460413\n",
      "  -0.02288711]]\n"
     ]
    }
   ],
   "source": [
    "print(f'ja_embed: {ja_result}')"
   ]
  },
  {
   "cell_type": "code",
   "execution_count": 15,
   "id": "54c0eaf2-2ae4-4b9d-889e-467d29edcf21",
   "metadata": {},
   "outputs": [],
   "source": [
    "# Compute similarity matrix. Higher score indicates greater similarity.\n",
    "similarity_matrix_it = np.inner(en_result, it_result)\n",
    "similarity_matrix_ja = np.inner(en_result, ja_result)"
   ]
  },
  {
   "cell_type": "code",
   "execution_count": 16,
   "id": "aa8b6c69-f010-4249-819b-296f80d99e08",
   "metadata": {},
   "outputs": [
    {
     "name": "stdout",
     "output_type": "stream",
     "text": [
      "similarity matrix it: [[0.9696461  0.27347845 0.25536823]\n",
      " [0.3772605  0.89316726 0.2880669 ]\n",
      " [0.24611361 0.23792985 0.9352149 ]]\n"
     ]
    }
   ],
   "source": [
    "print(f'similarity matrix it: {similarity_matrix_it}')"
   ]
  },
  {
   "cell_type": "code",
   "execution_count": 17,
   "id": "ff5958a3-7ade-4241-a568-0ea9f3b79ab2",
   "metadata": {},
   "outputs": [
    {
     "name": "stdout",
     "output_type": "stream",
     "text": [
      "similarity matrix ja: [[0.97994244 0.534173   0.3374966 ]\n",
      " [0.41874045 0.7786119  0.37929755]\n",
      " [0.2599872  0.2999737  0.8583672 ]]\n"
     ]
    }
   ],
   "source": [
    "print(f'similarity matrix ja: {similarity_matrix_ja}')"
   ]
  },
  {
   "cell_type": "code",
   "execution_count": null,
   "id": "1a713b1e-74a6-4deb-a2da-5e3afadfaa12",
   "metadata": {},
   "outputs": [],
   "source": []
  }
 ],
 "metadata": {
  "kernelspec": {
   "display_name": "Python 3 (ipykernel)",
   "language": "python",
   "name": "python3"
  },
  "language_info": {
   "codemirror_mode": {
    "name": "ipython",
    "version": 3
   },
   "file_extension": ".py",
   "mimetype": "text/x-python",
   "name": "python",
   "nbconvert_exporter": "python",
   "pygments_lexer": "ipython3",
   "version": "3.10.8"
  }
 },
 "nbformat": 4,
 "nbformat_minor": 5
}
