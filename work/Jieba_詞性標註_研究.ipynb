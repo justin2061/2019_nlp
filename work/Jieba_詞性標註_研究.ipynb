{
 "cells": [
  {
   "cell_type": "code",
   "execution_count": 2,
   "metadata": {},
   "outputs": [
    {
     "name": "stdout",
     "output_type": "stream",
     "text": [
      "Requirement already satisfied: jieba in /opt/conda/lib/python3.7/site-packages (0.42.1)\r\n"
     ]
    }
   ],
   "source": [
    "!pip install jieba"
   ]
  },
  {
   "cell_type": "code",
   "execution_count": 3,
   "metadata": {},
   "outputs": [],
   "source": [
    "import jieba"
   ]
  },
  {
   "cell_type": "code",
   "execution_count": 4,
   "metadata": {},
   "outputs": [],
   "source": [
    "text = '歐幾里得 西元前三世紀的古希臘數學家 現在被認為是幾何之父'"
   ]
  },
  {
   "cell_type": "code",
   "execution_count": null,
   "metadata": {},
   "outputs": [],
   "source": [
    "text = \"歐幾里得 西元前三世紀的古希臘數學家 現在被認為是幾何之父 此畫為拉斐爾的作品\""
   ]
  },
  {
   "cell_type": "code",
   "execution_count": null,
   "metadata": {},
   "outputs": [],
   "source": [
    "!grep '世紀' jieba_data/dict.txt.big"
   ]
  },
  {
   "cell_type": "code",
   "execution_count": 1,
   "metadata": {},
   "outputs": [
    {
     "name": "stdout",
     "output_type": "stream",
     "text": [
      "/tmp/jieba.ud3c40470d3518910bfd0dc86d865fad4.cache\r\n"
     ]
    }
   ],
   "source": [
    "!ls /tmp/jieba*"
   ]
  },
  {
   "cell_type": "code",
   "execution_count": 5,
   "metadata": {},
   "outputs": [
    {
     "name": "stderr",
     "output_type": "stream",
     "text": [
      "Building prefix dict from the default dictionary ...\n",
      "Dumping model to file cache /tmp/jieba.cache\n",
      "Loading model cost 1.241 seconds.\n",
      "Prefix dict has been built successfully.\n"
     ]
    },
    {
     "name": "stdout",
     "output_type": "stream",
     "text": [
      "歐幾里得, ns\n",
      " , x\n",
      "西元前, t\n",
      "三世, nrt\n",
      "紀, nr\n",
      "的, uj\n",
      "古希臘, ns\n",
      "數學家, n\n",
      " , x\n",
      "現在, t\n",
      "被, p\n",
      "認為, v\n",
      "是, v\n",
      "幾何, r\n",
      "之, u\n",
      "父, n\n"
     ]
    }
   ],
   "source": [
    "from jieba import posseg as pseg\n",
    "for w, p in pseg.lcut(text):\n",
    "    print('%s, %s'%(w,p))"
   ]
  },
  {
   "cell_type": "code",
   "execution_count": 6,
   "metadata": {},
   "outputs": [
    {
     "name": "stdout",
     "output_type": "stream",
     "text": [
      "/tmp/jieba.cache  /tmp/jieba.ud3c40470d3518910bfd0dc86d865fad4.cache\r\n"
     ]
    }
   ],
   "source": [
    "!ls /tmp/jieba*"
   ]
  },
  {
   "cell_type": "code",
   "execution_count": 7,
   "metadata": {},
   "outputs": [],
   "source": [
    "jieba.set_dictionary('jieba_data/dict.txt.big')"
   ]
  },
  {
   "cell_type": "code",
   "execution_count": 8,
   "metadata": {},
   "outputs": [
    {
     "name": "stderr",
     "output_type": "stream",
     "text": [
      "Building prefix dict from /home/jovyan/work/jieba_data/dict.txt.big ...\n",
      "Loading model from cache /tmp/jieba.ud3c40470d3518910bfd0dc86d865fad4.cache\n",
      "Loading model cost 1.634 seconds.\n",
      "Prefix dict has been built successfully.\n"
     ]
    },
    {
     "name": "stdout",
     "output_type": "stream",
     "text": [
      "歐幾里得, x\n",
      " , x\n",
      "西元前, t\n",
      "三, m\n",
      "世紀, x\n",
      "的, uj\n",
      "古希臘, x\n",
      "數學家, x\n",
      " , x\n",
      "現在, x\n",
      "被, p\n",
      "認為, v\n",
      "是, v\n",
      "幾何, x\n",
      "之, u\n",
      "父, n\n"
     ]
    }
   ],
   "source": [
    "from jieba import posseg as pseg\n",
    "for w, p in pseg.lcut(text):\n",
    "    print('%s, %s'%(w,p))"
   ]
  },
  {
   "cell_type": "code",
   "execution_count": 9,
   "metadata": {},
   "outputs": [],
   "source": [
    "!rm -f /tmp/jieba*"
   ]
  },
  {
   "cell_type": "code",
   "execution_count": 11,
   "metadata": {},
   "outputs": [
    {
     "name": "stdout",
     "output_type": "stream",
     "text": [
      "歐幾里得, x\n",
      " , x\n",
      "西元前, t\n",
      "三, m\n",
      "世紀, x\n",
      "的, uj\n",
      "古希臘, x\n",
      "數學家, x\n",
      " , x\n",
      "現在, x\n",
      "被, p\n",
      "認為, v\n",
      "是, v\n",
      "幾何, x\n",
      "之, u\n",
      "父, n\n"
     ]
    }
   ],
   "source": [
    "from jieba import posseg as pseg\n",
    "for w, p in pseg.lcut(text):\n",
    "    print('%s, %s'%(w,p))"
   ]
  },
  {
   "cell_type": "code",
   "execution_count": 12,
   "metadata": {},
   "outputs": [],
   "source": [
    "jieba.initialize()"
   ]
  },
  {
   "cell_type": "code",
   "execution_count": 13,
   "metadata": {},
   "outputs": [
    {
     "name": "stdout",
     "output_type": "stream",
     "text": [
      "歐幾里得, x\n",
      " , x\n",
      "西元前, t\n",
      "三, m\n",
      "世紀, x\n",
      "的, uj\n",
      "古希臘, x\n",
      "數學家, x\n",
      " , x\n",
      "現在, x\n",
      "被, p\n",
      "認為, v\n",
      "是, v\n",
      "幾何, x\n",
      "之, u\n",
      "父, n\n"
     ]
    }
   ],
   "source": [
    "from jieba import posseg as pseg\n",
    "for w, p in pseg.lcut(text):\n",
    "    print('%s, %s'%(w,p))"
   ]
  },
  {
   "cell_type": "code",
   "execution_count": 14,
   "metadata": {},
   "outputs": [],
   "source": [
    "jieba.set_dictionary('jieba_data/dict.txt.small')"
   ]
  },
  {
   "cell_type": "code",
   "execution_count": 15,
   "metadata": {},
   "outputs": [
    {
     "name": "stderr",
     "output_type": "stream",
     "text": [
      "Building prefix dict from /home/jovyan/work/jieba_data/dict.txt.small ...\n",
      "Dumping model to file cache /tmp/jieba.uef266073b0b92108856e52498a23bfbf.cache\n",
      "Loading model cost 0.387 seconds.\n",
      "Prefix dict has been built successfully.\n"
     ]
    },
    {
     "name": "stdout",
     "output_type": "stream",
     "text": [
      "歐幾里得, ns\n",
      " , x\n",
      "西元前, t\n",
      "三世, nrt\n",
      "紀, nr\n",
      "的, uj\n",
      "古希臘, ns\n",
      "數學家, n\n",
      " , x\n",
      "現在, t\n",
      "被, p\n",
      "認為, v\n",
      "是, v\n",
      "幾何, r\n",
      "之, u\n",
      "父, n\n"
     ]
    }
   ],
   "source": [
    "from jieba import posseg as pseg\n",
    "for w, p in pseg.lcut(text):\n",
    "    print('%s, %s'%(w,p))"
   ]
  },
  {
   "cell_type": "code",
   "execution_count": null,
   "metadata": {},
   "outputs": [],
   "source": []
  }
 ],
 "metadata": {
  "kernelspec": {
   "display_name": "Python 3",
   "language": "python",
   "name": "python3"
  },
  "language_info": {
   "codemirror_mode": {
    "name": "ipython",
    "version": 3
   },
   "file_extension": ".py",
   "mimetype": "text/x-python",
   "name": "python",
   "nbconvert_exporter": "python",
   "pygments_lexer": "ipython3",
   "version": "3.7.6"
  }
 },
 "nbformat": 4,
 "nbformat_minor": 4
}
